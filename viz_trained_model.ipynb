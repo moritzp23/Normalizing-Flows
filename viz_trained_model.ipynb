{
 "cells": [
  {
   "cell_type": "code",
   "execution_count": null,
   "id": "9893e1d4-49a9-4e4a-bb50-999deb0597e6",
   "metadata": {
    "tags": []
   },
   "outputs": [],
   "source": [
    "import os\n",
    "os.environ['CUDA_VISIBLE_DEVICES'] = '0'\n",
    "\n",
    "from jax import config\n",
    "config.update(\"jax_enable_x64\", False)"
   ]
  },
  {
   "cell_type": "code",
   "execution_count": null,
   "id": "8fdea1fc-cf82-47b5-ac4e-867a157717b0",
   "metadata": {
    "tags": []
   },
   "outputs": [],
   "source": [
    "import OTF, CNF, RealNVP, DatasetGenerator\n",
    "import numpy as np\n",
    "import pandas as pd\n",
    "import optax\n",
    "import matplotlib.pyplot as plt\n",
    "\n",
    "from jax import jit, grad, value_and_grad, random\n",
    "from flax.training import checkpoints\n",
    "\n",
    "# plotting, move this to seperate notebook\n",
    "from jax import vmap\n",
    "import jax.numpy as jnp\n",
    "from matplotlib import colormaps"
   ]
  },
  {
   "cell_type": "code",
   "execution_count": null,
   "id": "c4dcd6d0-dea5-4b9b-be6a-f65720b02d10",
   "metadata": {},
   "outputs": [],
   "source": []
  },
  {
   "cell_type": "markdown",
   "id": "4be19144-9825-497a-a5aa-357ad5502801",
   "metadata": {},
   "source": [
    "TODO:\n",
    "- beispielplots: dynamics, VFs, Pots, grad(pots)\n",
    "- wohin werden die bereiche im inputspace gemapt\n",
    "\n",
    "Verteidigung: \n",
    "- animation der punkte/ transformation\n",
    "\n",
    "Arbeit:\n",
    "- einfluss der precision\n",
    "- einfluss der schrittweite/anzahl der schritte des ODE solvers"
   ]
  },
  {
   "cell_type": "code",
   "execution_count": null,
   "id": "f5f4cab7-f7d0-4cbe-ada5-554d9e0e5d14",
   "metadata": {},
   "outputs": [],
   "source": []
  },
  {
   "cell_type": "code",
   "execution_count": null,
   "id": "dc83cc40-d17c-4938-8fa7-03a0efd4d8bb",
   "metadata": {},
   "outputs": [],
   "source": []
  },
  {
   "cell_type": "code",
   "execution_count": null,
   "id": "c47086fd-36c3-4959-9be1-75ff673e15a8",
   "metadata": {
    "tags": []
   },
   "outputs": [],
   "source": []
  },
  {
   "cell_type": "markdown",
   "id": "c57f7655-d8c9-46f2-9322-0661c5a4b7d7",
   "metadata": {},
   "source": [
    "# Load Dataset"
   ]
  },
  {
   "cell_type": "code",
   "execution_count": null,
   "id": "745ae281-3790-4e7c-be45-00cc469a7536",
   "metadata": {
    "tags": []
   },
   "outputs": [],
   "source": [
    "PRECISION_PREFIX = 'float32'"
   ]
  },
  {
   "cell_type": "code",
   "execution_count": null,
   "id": "c33e5dff-e56b-4b99-9143-230ee1e9ce01",
   "metadata": {
    "tags": []
   },
   "outputs": [],
   "source": [
    "key = random.PRNGKey(seed=42)"
   ]
  },
  {
   "cell_type": "code",
   "execution_count": null,
   "id": "77541032-0720-4ca5-a7f6-a268297d6348",
   "metadata": {
    "tags": []
   },
   "outputs": [],
   "source": [
    "training_size = 10000\n",
    "validation_size = 10000\n",
    "test_size = 20000"
   ]
  },
  {
   "cell_type": "code",
   "execution_count": null,
   "id": "ed5a42ad-274f-4a4b-bc66-fe98609d3adc",
   "metadata": {
    "tags": []
   },
   "outputs": [],
   "source": [
    "BATCH_SIZE_TR = training_size\n",
    "BATCH_SIZE_VAL_TE = validation_size"
   ]
  },
  {
   "cell_type": "markdown",
   "id": "7fe38e52-ffd9-440f-9577-6694a7f1f062",
   "metadata": {},
   "source": [
    "## TUC Letters s=0"
   ]
  },
  {
   "cell_type": "code",
   "execution_count": null,
   "id": "fe53e0b4-78e6-4afc-83e9-ba0938a86aac",
   "metadata": {
    "tags": []
   },
   "outputs": [],
   "source": [
    "spacing = 0"
   ]
  },
  {
   "cell_type": "code",
   "execution_count": null,
   "id": "922f03c5-94b4-4679-b98f-e08498910d29",
   "metadata": {
    "tags": []
   },
   "outputs": [],
   "source": [
    "train, val, test = DatasetGenerator.make_tuc_letters(\n",
    "    key, \n",
    "    training_size, \n",
    "    validation_size, \n",
    "    test_size, \n",
    "    dtype=PRECISION_PREFIX,\n",
    "    spacing=spacing\n",
    ")\n",
    "normal_sample = random.normal(random.fold_in(key, 42), shape=(validation_size, 2), dtype=PRECISION_PREFIX)"
   ]
  },
  {
   "cell_type": "markdown",
   "id": "b31f53fd-41e2-46c5-a111-839b3b19ed85",
   "metadata": {},
   "source": [
    "## TUC Letters s=40"
   ]
  },
  {
   "cell_type": "code",
   "execution_count": null,
   "id": "9e336940-4291-44cf-bb22-77896e054879",
   "metadata": {
    "tags": []
   },
   "outputs": [],
   "source": [
    "spacing = 40"
   ]
  },
  {
   "cell_type": "code",
   "execution_count": null,
   "id": "8e75674e-1372-4fb7-a3a3-6f9662ace9d0",
   "metadata": {
    "tags": []
   },
   "outputs": [],
   "source": [
    "train, val, test = DatasetGenerator.make_tuc_letters(\n",
    "    key, \n",
    "    training_size, \n",
    "    validation_size, \n",
    "    test_size, \n",
    "    dtype=PRECISION_PREFIX,\n",
    "    spacing=spacing\n",
    ")\n",
    "normal_sample = random.normal(random.fold_in(key, 42), shape=(validation_size, 2), dtype=PRECISION_PREFIX)"
   ]
  },
  {
   "cell_type": "markdown",
   "id": "8abfe1e8-b5d5-4bef-b50d-58745e2d9bc7",
   "metadata": {},
   "source": [
    "## Checkerboards"
   ]
  },
  {
   "cell_type": "code",
   "execution_count": null,
   "id": "ed60e427-5fe1-48bc-a362-3d1d094333fb",
   "metadata": {},
   "outputs": [],
   "source": [
    "train, val, test = DatasetGenerator.make_checkerboard(\n",
    "    key, \n",
    "    training_size, \n",
    "    validation_size, \n",
    "    test_size, \n",
    "    dtype=PRECISION_PREFIX,\n",
    ")\n",
    "normal_sample = random.normal(random.fold_in(key, 42), shape=(validation_size, 2), dtype=PRECISION_PREFIX)"
   ]
  },
  {
   "cell_type": "markdown",
   "id": "bc91ae6e-2ece-4e9b-8b05-1ea84355fdc5",
   "metadata": {},
   "source": [
    "## TUC Logo"
   ]
  },
  {
   "cell_type": "code",
   "execution_count": null,
   "id": "d2d29578-34a0-4fda-8425-eff9bbe6c86b",
   "metadata": {},
   "outputs": [],
   "source": [
    "train, val, test = DatasetGenerator.make_tuc_logo(\n",
    "    key, \n",
    "    training_size, \n",
    "    validation_size, \n",
    "    test_size, \n",
    "    dtype=PRECISION_PREFIX,\n",
    ")\n",
    "normal_sample = random.normal(random.fold_in(key, 42), shape=(validation_size, 2), dtype=PRECISION_PREFIX)"
   ]
  },
  {
   "cell_type": "markdown",
   "id": "d2d1de88-1e13-4b7b-8d6b-b5350a660cca",
   "metadata": {},
   "source": [
    "# Define Model"
   ]
  },
  {
   "cell_type": "markdown",
   "id": "e051ffa5-0815-496f-8f10-75dcac7261d2",
   "metadata": {},
   "source": [
    "## RealNVP"
   ]
  },
  {
   "cell_type": "markdown",
   "id": "d40ad6c7-b600-4768-ba7d-40140a0fe28b",
   "metadata": {},
   "source": [
    "### No L2"
   ]
  },
  {
   "cell_type": "code",
   "execution_count": null,
   "id": "67bf7c0a-4563-48b0-826e-c1aa78718b4a",
   "metadata": {},
   "outputs": [],
   "source": [
    "MODEL = RealNVP.RealNVP(\n",
    "    NVP_net=RealNVP.NVP_l,\n",
    "    num_blocks=32,\n",
    "    key=key,\n",
    "    input_dim=2,\n",
    "    hidden_dim=64,\n",
    "    prior_type='gaussian',\n",
    "    prior_args=None,\n",
    "    use_dropout=False,\n",
    "    dropout_proba=None\n",
    ")\n",
    "LOSS_FUNC = jit(MODEL._loss)\n",
    "VAL_LOSS_FUNC = jit(MODEL.metrics)\n",
    "LOSS_KWARGS = {}\n",
    "VAL_LOSS_KWARGS = {'normal_batch': normal_sample}"
   ]
  },
  {
   "cell_type": "code",
   "execution_count": null,
   "id": "fb696c52-0f2e-405f-907e-5dc92f415f6a",
   "metadata": {},
   "outputs": [],
   "source": [
    "EVAL_SOLVER_STEPS = None"
   ]
  },
  {
   "cell_type": "code",
   "execution_count": null,
   "id": "2106d5e5-5a05-4791-ab3c-a68c72b48975",
   "metadata": {},
   "outputs": [],
   "source": [
    "def eval_val(val_data, params, solver_steps):\n",
    "    return VAL_LOSS_FUNC(params=params, batch=val_data, **VAL_LOSS_KWARGS)"
   ]
  },
  {
   "cell_type": "markdown",
   "id": "a4e909c0-011f-4492-bd17-4a836394d416",
   "metadata": {},
   "source": [
    "### L2"
   ]
  },
  {
   "cell_type": "code",
   "execution_count": null,
   "id": "6b59321e-9fc0-41a4-9b29-d741b661ea42",
   "metadata": {
    "tags": []
   },
   "outputs": [],
   "source": [
    "MODEL = RealNVP.RealNVP(\n",
    "    NVP_net=RealNVP.NVP_l,\n",
    "    num_blocks=32,\n",
    "    key=key,\n",
    "    input_dim=2,\n",
    "    hidden_dim=64,\n",
    "    prior_type='gaussian',\n",
    "    prior_args=None,\n",
    "    use_dropout=False,\n",
    "    dropout_proba=None\n",
    ")\n",
    "LOSS_FUNC = jit(MODEL._loss_l2)\n",
    "VAL_LOSS_FUNC = jit(MODEL.metrics)\n",
    "LOSS_KWARGS = {'alpha': 1e-4}\n",
    "VAL_LOSS_KWARGS = {'normal_batch': normal_sample}"
   ]
  },
  {
   "cell_type": "code",
   "execution_count": null,
   "id": "86221643-6106-4c9e-b1ad-9ba116e707bc",
   "metadata": {
    "tags": []
   },
   "outputs": [],
   "source": [
    "EVAL_SOLVER_STEPS = None"
   ]
  },
  {
   "cell_type": "code",
   "execution_count": null,
   "id": "15e7dea7-644f-45ba-b8d1-62c3f553c07d",
   "metadata": {
    "tags": []
   },
   "outputs": [],
   "source": [
    "def eval_val(val_data, params, solver_steps):\n",
    "    return VAL_LOSS_FUNC(params=params, batch=val_data, **VAL_LOSS_KWARGS)"
   ]
  },
  {
   "cell_type": "markdown",
   "id": "a7aed469-713c-4245-9d64-f1013277dcee",
   "metadata": {},
   "source": [
    "## VCNF"
   ]
  },
  {
   "cell_type": "markdown",
   "id": "56d86c87-8dd0-49c0-b564-160f67faba38",
   "metadata": {},
   "source": [
    "### No L2"
   ]
  },
  {
   "cell_type": "code",
   "execution_count": null,
   "id": "d34f864e-512b-4b30-936c-0fbb0566dcde",
   "metadata": {},
   "outputs": [],
   "source": [
    "MODEL = CNF.CNF(\n",
    "    input_dim=2,\n",
    "    hidden_dim=64,\n",
    "    out_dim=2,\n",
    "    depth=3,\n",
    "    num_blocks=5,\n",
    "    key=key,\n",
    "    f_theta_cls=CNF.f_theta,\n",
    "    exact_logp=True,     \n",
    "    num_steps=20\n",
    ")\n",
    "LOSS_FUNC = jit(MODEL._loss)\n",
    "VAL_LOSS_FUNC = jit(MODEL.metrics)\n",
    "LOSS_KWARGS = {} \n",
    "VAL_LOSS_KWARGS = {'normal_batch': normal_sample}"
   ]
  },
  {
   "cell_type": "code",
   "execution_count": null,
   "id": "fe9950c3-cf43-4212-aab9-1030d839d666",
   "metadata": {},
   "outputs": [],
   "source": [
    "EVAL_SOLVER_STEPS = 40"
   ]
  },
  {
   "cell_type": "code",
   "execution_count": null,
   "id": "3eb25268-a36e-4599-aa2a-cd5f4e275a17",
   "metadata": {},
   "outputs": [],
   "source": [
    "def eval_val(val_data, params, solver_steps):\n",
    "    return VAL_LOSS_FUNC(params=params, batch=val_data, **VAL_LOSS_KWARGS, solver_steps=solver_steps)"
   ]
  },
  {
   "cell_type": "markdown",
   "id": "0aedcba3-3e12-4521-950d-8a121f496293",
   "metadata": {},
   "source": [
    "### L2"
   ]
  },
  {
   "cell_type": "code",
   "execution_count": null,
   "id": "eeb4057c-0bcc-41df-b087-fe0e55afab18",
   "metadata": {
    "tags": []
   },
   "outputs": [],
   "source": [
    "MODEL = CNF.CNF(\n",
    "    input_dim=2,\n",
    "    hidden_dim=64,\n",
    "    out_dim=2,\n",
    "    depth=3,\n",
    "    num_blocks=15,\n",
    "    key=key,\n",
    "    f_theta_cls=CNF.f_theta,\n",
    "    exact_logp=True,     \n",
    "    num_steps=20\n",
    ")\n",
    "LOSS_FUNC = jit(MODEL._loss_l2)\n",
    "VAL_LOSS_FUNC = jit(MODEL.metrics)\n",
    "LOSS_KWARGS = {'alpha': 1e-5}\n",
    "VAL_LOSS_KWARGS = {'normal_batch': normal_sample}"
   ]
  },
  {
   "cell_type": "code",
   "execution_count": null,
   "id": "df0bf3c4-9be6-4929-81a4-f81211fa083e",
   "metadata": {
    "tags": []
   },
   "outputs": [],
   "source": [
    "EVAL_SOLVER_STEPS = 40"
   ]
  },
  {
   "cell_type": "code",
   "execution_count": null,
   "id": "da12becc-9311-4557-a516-cce6d49f30d9",
   "metadata": {
    "tags": []
   },
   "outputs": [],
   "source": [
    "def eval_val(val_data, params, solver_steps):\n",
    "    return VAL_LOSS_FUNC(params=params, batch=val_data, **VAL_LOSS_KWARGS, solver_steps=solver_steps)"
   ]
  },
  {
   "cell_type": "markdown",
   "id": "bb8d3392-fff3-43af-9dde-f345e5e05073",
   "metadata": {},
   "source": [
    "## OTF"
   ]
  },
  {
   "cell_type": "code",
   "execution_count": null,
   "id": "5070d18c-7f2a-4f81-aa44-0d0f8bd939bd",
   "metadata": {},
   "outputs": [],
   "source": [
    "MODEL = OTF.OTF(\n",
    "        input_dim=2, \n",
    "        hidden_dim=64,\n",
    "        resnet_depth=2,\n",
    "        rank=20,\n",
    "        key=key, \n",
    "        phi=OTF.Phi,\n",
    "        alpha1=15.,\n",
    "        alpha2=2.,\n",
    "        num_blocks=10,\n",
    "        t0=0.,\n",
    "        t1=1.,\n",
    "        num_steps=20\n",
    ")\n",
    "LOSS_FUNC = jit(MODEL._loss)\n",
    "VAL_LOSS_FUNC = jit(MODEL.metrics)\n",
    "LOSS_KWARGS = {}\n",
    "VAL_LOSS_KWARGS = {'normal_batch': normal_sample}"
   ]
  },
  {
   "cell_type": "code",
   "execution_count": null,
   "id": "e78c32d3-01c8-4dd1-906c-390226a1276c",
   "metadata": {},
   "outputs": [],
   "source": [
    "EVAL_SOLVER_STEPS = 40"
   ]
  },
  {
   "cell_type": "code",
   "execution_count": null,
   "id": "7ae7e8a1-6bc6-4228-8aa2-4f385e47391a",
   "metadata": {},
   "outputs": [],
   "source": [
    "def eval_val(val_data, params, solver_steps):\n",
    "    return VAL_LOSS_FUNC(params=params, batch=val_data, **VAL_LOSS_KWARGS, solver_steps=solver_steps)"
   ]
  },
  {
   "cell_type": "code",
   "execution_count": null,
   "id": "1388bf24-f7f0-464e-8ed2-35e76e5096e1",
   "metadata": {},
   "outputs": [],
   "source": []
  },
  {
   "cell_type": "markdown",
   "id": "4caf89e9-9fc5-47ef-a466-448d548bb0c0",
   "metadata": {},
   "source": [
    "# Load Params"
   ]
  },
  {
   "cell_type": "code",
   "execution_count": null,
   "id": "500e6c00-5b86-4484-9bb7-5ce542a855cc",
   "metadata": {
    "tags": []
   },
   "outputs": [],
   "source": [
    "#middle = 'OFT_float64_tuc-logo_10pot'\n",
    "# middle = 'CNF_l2_float32_letters-spacing_5VF'\n",
    "# middle = 'RealNVP_l2_float32_tuc-logo_32Bl'\n",
    "middle = 'CNF_l2_float32_tuc-logo_15VF'"
   ]
  },
  {
   "cell_type": "code",
   "execution_count": null,
   "id": "e4956155-e1c1-4f4a-b7f6-4b39a415aedd",
   "metadata": {
    "tags": []
   },
   "outputs": [],
   "source": [
    "params = checkpoints.restore_checkpoint('checkpoints/finalfinal/' + middle + '_params/checkpoint_20000/checkpoint', None)\n",
    "best_params_loss = checkpoints.restore_checkpoint('checkpoints/finalfinal/' + middle + '_bestparams_loss/checkpoint_20000/checkpoint', None)\n",
    "best_params_mmd = checkpoints.restore_checkpoint('checkpoints/finalfinal/' + middle + '.csv_bestparams_mmd/checkpoint_20000/checkpoint', None)"
   ]
  },
  {
   "cell_type": "code",
   "execution_count": null,
   "id": "f12263a3-4208-40fd-8d21-124a086fc662",
   "metadata": {},
   "outputs": [],
   "source": []
  },
  {
   "cell_type": "code",
   "execution_count": null,
   "id": "e2110504-f986-4009-ab20-5e8ea9b46190",
   "metadata": {
    "tags": []
   },
   "outputs": [],
   "source": [
    "train_history = pd.read_csv('CNF_l2_float32_tuc-logo_15VF.csv', sep=',', index_col=0)"
   ]
  },
  {
   "cell_type": "markdown",
   "id": "4395059c-14d4-4896-8f0d-77b10266e5f2",
   "metadata": {},
   "source": [
    "# Plot History"
   ]
  },
  {
   "cell_type": "code",
   "execution_count": null,
   "id": "90c3ec03-855b-4736-b590-3adaf6cd2a65",
   "metadata": {
    "tags": []
   },
   "outputs": [],
   "source": [
    "fig, ax = plt.subplots(1,2,figsize=(16,6))\n",
    "ax[0].plot(train_history['Epoch'][1000:], train_history['Training Loss'][1000:], label='Training')\n",
    "ax[0].plot(train_history['Epoch'][1000:], train_history['Validation Loss'][1000:], label='Validation')\n",
    "ax[0].set_xlabel('Epoch')\n",
    "ax[0].set_ylabel('NLL')\n",
    "ax[0].legend()\n",
    "\n",
    "ax[1].semilogy(train_history['Epoch'], train_history['Validation MMD'])\n",
    "ax[1].set_xlabel('Epoch')\n",
    "ax[1].set_ylabel('Validation MMD');"
   ]
  },
  {
   "cell_type": "markdown",
   "id": "be78c5c6-61b9-40f1-873c-556ea203b011",
   "metadata": {},
   "source": [
    "# Test Metrics"
   ]
  },
  {
   "cell_type": "code",
   "execution_count": null,
   "id": "ce1367a7-1ba5-4a15-85c7-351207503459",
   "metadata": {
    "tags": []
   },
   "outputs": [],
   "source": [
    "best_epoch_mmd = train_history.loc[19999, 'Best Epoch MMD'].astype('int')\n",
    "best_val_mmd = train_history.loc[19999, 'Best Validation MMD']\n",
    "\n",
    "best_epoch_loss = train_history.loc[19999, 'Best Epoch Loss'].astype('int')\n",
    "best_val_loss = train_history.loc[19999, 'Best Validation Loss']"
   ]
  },
  {
   "cell_type": "code",
   "execution_count": null,
   "id": "0993c06e-d13c-4af0-998c-ab9af53bf6a4",
   "metadata": {
    "tags": []
   },
   "outputs": [],
   "source": [
    "print(f'\\nBest Epoch MMD: {best_epoch_mmd} --- Val MMD: {best_val_mmd}')\n",
    "test_loss, test_inv_error, test_mmd = eval_val(test, best_params_mmd, EVAL_SOLVER_STEPS)\n",
    "print(f'Best Model MMD --- Test Loss: {test_loss}, Test Inv Error: {test_inv_error}, Test MMD: {test_mmd}')\n",
    "\n",
    "print(f'\\nBest Epoch Loss: {best_epoch_loss} --- Val Loss: {best_val_loss}')\n",
    "test_loss, test_inv_error, test_mmd = eval_val(test, best_params_loss, EVAL_SOLVER_STEPS)\n",
    "print(f'Best Model Loss --- Test Loss: {test_loss}, Test Inv Error: {test_inv_error}, Test MMD: {test_mmd}')"
   ]
  },
  {
   "cell_type": "code",
   "execution_count": null,
   "id": "d023d9dd-9644-45b1-a113-50be94fe6d5c",
   "metadata": {
    "tags": []
   },
   "outputs": [],
   "source": [
    "best_params_mmd"
   ]
  },
  {
   "cell_type": "code",
   "execution_count": null,
   "id": "5c9743c8-bb1e-4581-afe2-0d4b4f5fb422",
   "metadata": {
    "tags": []
   },
   "outputs": [],
   "source": [
    "len(best_params_loss)"
   ]
  },
  {
   "cell_type": "markdown",
   "id": "3befd3cd-0cb5-41b0-b358-4ee2dc4e8ee0",
   "metadata": {},
   "source": [
    "# Model-specific Plots"
   ]
  },
  {
   "cell_type": "code",
   "execution_count": null,
   "id": "a6a65544-11cc-4182-a402-c61761d9ee86",
   "metadata": {
    "tags": []
   },
   "outputs": [],
   "source": [
    "offset = 0.3\n",
    "plt_params = {\n",
    "    'X_MIN': np.floor(train[:, 0].min() * 10) / 10 - offset,\n",
    "    'X_MAX': np.ceil(train[:, 0].max() * 10) / 10 + offset,\n",
    "    'Y_MIN': np.floor(train[:, 1].min() * 10) / 10 - offset,\n",
    "    'Y_MAX': np.ceil(train[:, 1].max() * 10) / 10 + offset, \n",
    "}"
   ]
  },
  {
   "cell_type": "markdown",
   "id": "c802945a-3a7d-43d5-abac-2797217b5e8a",
   "metadata": {},
   "source": [
    "## RealNVP"
   ]
  },
  {
   "cell_type": "code",
   "execution_count": null,
   "id": "b9d0a792-b1fc-4edd-a34c-5bf7a61518c8",
   "metadata": {
    "tags": []
   },
   "outputs": [],
   "source": [
    "y_best_loss = MODEL.sample(5000, params=best_params_loss)\n",
    "y_best_mmd = MODEL.sample(5000, params=best_params_mmd)"
   ]
  },
  {
   "cell_type": "code",
   "execution_count": null,
   "id": "f5a581b1-34bc-4799-af0a-fb22fbbf07c0",
   "metadata": {
    "tags": []
   },
   "outputs": [],
   "source": [
    "res = 500\n",
    "xx, yy = np.meshgrid(np.linspace(plt_params['X_MIN'], plt_params['X_MAX'], res), \n",
    "                     np.linspace(plt_params['Y_MIN'], plt_params['Y_MAX'], res))\n",
    "xy = np.hstack([e.reshape(-1, 1) for e in [xx, yy]])\n",
    "\n",
    "probs_best_loss = jnp.exp(MODEL.log_pdf_and_preimage(xy, best_params_loss, False))\n",
    "probs_best_mmd = jnp.exp(MODEL.log_pdf_and_preimage(xy, best_params_mmd, False))"
   ]
  },
  {
   "cell_type": "code",
   "execution_count": null,
   "id": "98f52303-d4b4-4252-9e8d-07657df324e6",
   "metadata": {
    "tags": []
   },
   "outputs": [],
   "source": [
    "fig, ax = plt.subplots(2,2, figsize=(16,12))\n",
    "ax[0,0].imshow((probs_best_loss).reshape((res, res)),\n",
    "           origin='lower', extent=(plt_params['X_MIN'], plt_params['X_MAX'], \n",
    "                                   plt_params['Y_MIN'], plt_params['Y_MAX']), aspect='auto')\n",
    "ax[1,0].scatter(*y_best_loss.T, s=0.1)\n",
    "ax[1,0].set_xlim((plt_params['X_MIN'], plt_params['X_MAX']))\n",
    "ax[1,0].set_ylim((plt_params['Y_MIN'], plt_params['Y_MAX']))\n",
    "\n",
    "ax[0,1].imshow((probs_best_mmd).reshape((res, res)),\n",
    "           origin='lower', extent=(plt_params['X_MIN'], plt_params['X_MAX'], \n",
    "                                   plt_params['Y_MIN'], plt_params['Y_MAX']), aspect='auto')\n",
    "ax[1,1].scatter(*y_best_mmd.T, s=0.1)\n",
    "ax[1,1].set_xlim((plt_params['X_MIN'], plt_params['X_MAX']))\n",
    "ax[1,1].set_ylim((plt_params['Y_MIN'], plt_params['Y_MAX']));"
   ]
  },
  {
   "cell_type": "code",
   "execution_count": null,
   "id": "4f831d4d-89bb-46b6-9f5c-81966bfdb0c9",
   "metadata": {},
   "outputs": [],
   "source": []
  },
  {
   "cell_type": "code",
   "execution_count": null,
   "id": "620e4847-208d-4f87-a04f-99993e6cd9bc",
   "metadata": {},
   "outputs": [],
   "source": [
    "sample_steps = MODEL.sample_stepwise(5000, params=best_params_loss)"
   ]
  },
  {
   "cell_type": "code",
   "execution_count": null,
   "id": "5f1b1fe6-14f1-49e3-9828-fbbe501b6eb8",
   "metadata": {},
   "outputs": [],
   "source": [
    "fig, ax = plt.subplots(3,3, figsize=(12,12))\n",
    "\n",
    "for i in range(0, 9):   \n",
    "    row, col = i // 3, i % 3\n",
    "    \n",
    "    if i > 3:\n",
    "        ax[row, col].set_title(f'Output of the {i}th flow')\n",
    "    \n",
    "    ax[row, col].scatter(*sample_steps[i].T, s=0.5)\n",
    "    ax[row, col].xaxis.set_tick_params(labelbottom=False)\n",
    "    ax[row, col].yaxis.set_tick_params(labelleft=False)\n",
    "    ax[row, col].set_xticks([])\n",
    "    ax[row, col].set_yticks([])\n",
    "    ax[row, col].set_xlim((-3,3))\n",
    "    ax[row, col].set_ylim((-3,3))\n",
    "\n",
    "ax[0, 0].set_title(f'Samples from Base Distibution (Gaussian)')\n",
    "ax[0, 1].set_title(f'Output of the 1st flow')\n",
    "ax[0, 2].set_title(f'Output of the 2nd flow')\n",
    "ax[1, 0].set_title(f'Output of the 3rd flow')\n",
    "    \n",
    "plt.tight_layout()\n",
    "#plt.savefig(\"realnvp8_ex.png\")"
   ]
  },
  {
   "cell_type": "code",
   "execution_count": null,
   "id": "24391853-afa8-4866-8292-7a7899de2d6a",
   "metadata": {},
   "outputs": [],
   "source": []
  },
  {
   "cell_type": "code",
   "execution_count": null,
   "id": "18167e18-23f0-46d2-ba8b-c73d2c601985",
   "metadata": {},
   "outputs": [],
   "source": []
  },
  {
   "cell_type": "markdown",
   "id": "f9f5f6ef-6e07-4cda-8153-72d8c10a0fc3",
   "metadata": {},
   "source": [
    "## V-CNF"
   ]
  },
  {
   "cell_type": "code",
   "execution_count": null,
   "id": "c48141ac-3228-4195-8fcb-68630c5ce46f",
   "metadata": {
    "tags": []
   },
   "outputs": [],
   "source": [
    "y_best_loss = MODEL.sample(5000, EVAL_SOLVER_STEPS, params=best_params_loss)\n",
    "y_best_mmd = MODEL.sample(5000, EVAL_SOLVER_STEPS, params=best_params_mmd)"
   ]
  },
  {
   "cell_type": "code",
   "execution_count": null,
   "id": "eed9a086-8945-4f49-a079-957563bf6f7f",
   "metadata": {
    "tags": []
   },
   "outputs": [],
   "source": [
    "res = 500\n",
    "xx, yy = np.meshgrid(np.linspace(plt_params['X_MIN'], plt_params['X_MAX'], res), \n",
    "                     np.linspace(plt_params['Y_MIN'], plt_params['Y_MAX'], res))\n",
    "xy = np.hstack([e.reshape(-1, 1) for e in [xx, yy]])\n",
    "\n",
    "probs_best_loss = jnp.exp(\n",
    "    vmap(MODEL.log_pdf_and_preimage, (0, None, None, None), 0)(xy, EVAL_SOLVER_STEPS, best_params_loss, False)\n",
    ")\n",
    "probs_best_mmd = jnp.exp(\n",
    "    vmap(MODEL.log_pdf_and_preimage, (0, None, None, None), 0)(xy, EVAL_SOLVER_STEPS, best_params_mmd, False)\n",
    ")"
   ]
  },
  {
   "cell_type": "code",
   "execution_count": null,
   "id": "453f3d47-6762-4f83-a870-677e7c79570f",
   "metadata": {
    "tags": []
   },
   "outputs": [],
   "source": [
    "fig, ax = plt.subplots(1,2, figsize=(20,6))\n",
    "density_nll = ax[0].imshow((probs_best_loss).reshape((res, res)),\n",
    "           origin='lower', extent=(plt_params['X_MIN'], plt_params['X_MAX'], \n",
    "                                   plt_params['Y_MIN'], plt_params['Y_MAX']), aspect='auto')\n",
    "density_mmd = ax[1].imshow((probs_best_mmd).reshape((res, res)),\n",
    "           origin='lower', extent=(plt_params['X_MIN'], plt_params['X_MAX'], \n",
    "                                   plt_params['Y_MIN'], plt_params['Y_MAX']), aspect='auto')\n",
    "fig.colorbar(mappable=density_nll)\n",
    "fig.colorbar(mappable=density_mmd)\n",
    "plt.tight_layout();"
   ]
  },
  {
   "cell_type": "code",
   "execution_count": null,
   "id": "364ab622-169d-46a5-83ae-3132acf62e6e",
   "metadata": {
    "tags": []
   },
   "outputs": [],
   "source": [
    "fig2, ax2 = plt.subplots(1,2, figsize=(20,6))\n",
    "ax2[0].scatter(*y_best_loss.T, s=0.1)\n",
    "ax2[0].set_xlim((plt_params['X_MIN'], plt_params['X_MAX']))\n",
    "ax2[0].set_ylim((plt_params['Y_MIN'], plt_params['Y_MAX']))\n",
    "ax2[1].scatter(*y_best_mmd.T, s=0.1)\n",
    "ax2[1].set_xlim((plt_params['X_MIN'], plt_params['X_MAX']))\n",
    "ax2[1].set_ylim((plt_params['Y_MIN'], plt_params['Y_MAX']));"
   ]
  },
  {
   "cell_type": "code",
   "execution_count": null,
   "id": "b8604f41-6ecf-4bd0-8781-a376084d8719",
   "metadata": {},
   "outputs": [],
   "source": []
  },
  {
   "cell_type": "code",
   "execution_count": null,
   "id": "f0f80223-9c87-4c61-bc3c-2a5316f9d67f",
   "metadata": {},
   "outputs": [],
   "source": []
  },
  {
   "cell_type": "code",
   "execution_count": null,
   "id": "6d562301-58b2-41cf-be32-22a10b03d1ae",
   "metadata": {},
   "outputs": [],
   "source": []
  },
  {
   "cell_type": "code",
   "execution_count": null,
   "id": "6eb54707-3aba-47e7-8c3d-19512a2a21fa",
   "metadata": {},
   "outputs": [],
   "source": []
  },
  {
   "cell_type": "code",
   "execution_count": null,
   "id": "ff6e1e3d-df2b-4857-9c1e-957a271abc15",
   "metadata": {},
   "outputs": [],
   "source": []
  },
  {
   "cell_type": "code",
   "execution_count": null,
   "id": "b2ee6f0d-9ecf-469e-955e-399b73480c28",
   "metadata": {},
   "outputs": [],
   "source": []
  },
  {
   "cell_type": "markdown",
   "id": "7abf5bb4-536b-4d01-9772-11800a9d9c1c",
   "metadata": {},
   "source": [
    "### VFs"
   ]
  },
  {
   "cell_type": "code",
   "execution_count": null,
   "id": "b5903bb9-16a8-46cb-903f-5a43b9a9ce38",
   "metadata": {
    "tags": []
   },
   "outputs": [],
   "source": [
    "best_params = best_params_loss"
   ]
  },
  {
   "cell_type": "code",
   "execution_count": null,
   "id": "618de635-681c-422d-84cb-43d4bcb0b6f3",
   "metadata": {},
   "outputs": [],
   "source": [
    "cmap = colormaps['tab20']  #('hsv') #('nipy_spectral')\n",
    "max_colors = 20\n",
    "colors = [cmap(color_number / max_colors) for color_number in range(max_colors)]"
   ]
  },
  {
   "cell_type": "code",
   "execution_count": null,
   "id": "8d0d13c3-97e0-4163-9d8d-fd730fcecc90",
   "metadata": {
    "tags": []
   },
   "outputs": [],
   "source": [
    "stepwise_sample = MODEL.sample_with_steps(2000, EVAL_SOLVER_STEPS, params=best_params)\n",
    "stepwise_sample_interm = MODEL.sample_with_steps(20, EVAL_SOLVER_STEPS, params=best_params, intermed_y=True)\n",
    "\n",
    "res = 30\n",
    "xx, yy = np.meshgrid(np.linspace(-3, 3, res), \n",
    "                     np.linspace(-3, 3, res))\n",
    "xy = np.hstack([e.reshape(-1, 1) for e in [xx, yy]])\n",
    "\n",
    "n_vf = len(MODEL.funcs)\n",
    "\n",
    "dxdy = [MODEL.dt0 * MODEL.funcs[i].apply(best_params[i], t=MODEL.t0 + (MODEL.t1 - MODEL.t0)/ n_vf * i, y=xy) \n",
    "        for i in range(n_vf)]\n"
   ]
  },
  {
   "cell_type": "code",
   "execution_count": null,
   "id": "25dc543c-c5f0-4d68-8ba8-3c901b3c7bf1",
   "metadata": {
    "tags": []
   },
   "outputs": [],
   "source": [
    "fig3, ax3 = plt.subplots(2,3,figsize=(16,10))\n",
    "\n",
    "for i in range(6):\n",
    "    row = i // 3\n",
    "    col = i % 3\n",
    "    ax3[row, col].scatter(*stepwise_sample[i].T, s=0.2)\n",
    "\n",
    "    if i > 0:\n",
    "        ax3[row, col].set_title(f'Transformed by VF {i}')\n",
    "        for j_sample in range(20):\n",
    "            x,y = stepwise_sample_interm[i][j_sample].T\n",
    "            ax3[row, col].quiver(x[:-1], y[:-1], x[1:]-x[:-1], y[1:]-y[:-1], \n",
    "                                scale_units='xy',\n",
    "                                angles='xy', \n",
    "                                scale=1., \n",
    "                                color=colors[j_sample])\n",
    "        \n",
    "ax3[0, 0].set_title(f'Base Distribution')\n",
    "ax3[0, 0].scatter(*stepwise_sample_interm[0].T, c=colors)\n",
    "plt.tight_layout()\n",
    "plt.setp(ax3, xlim=(-3,3), ylim=(-3,3));"
   ]
  },
  {
   "cell_type": "markdown",
   "id": "0d153a14-792f-4059-ba82-dcd9bef1086a",
   "metadata": {},
   "source": [
    "Fuer 1 VF (L2, NLL stopping) sieht man wieso das mitunter nicht so eine sinnvoll darstellung ist. Starke explizite zeitabhaengigkeit"
   ]
  },
  {
   "cell_type": "code",
   "execution_count": null,
   "id": "52de90d0-c74f-4978-af70-791d207b1a53",
   "metadata": {
    "tags": []
   },
   "outputs": [],
   "source": [
    "len(dxdy)"
   ]
  },
  {
   "cell_type": "code",
   "execution_count": null,
   "id": "90a02726-804c-4643-8cbb-74a67eb7e16b",
   "metadata": {
    "tags": []
   },
   "outputs": [],
   "source": [
    "fig4, ax4 = plt.subplots(2,3,figsize=(16,10))\n",
    "\n",
    "for i in range(5):\n",
    "    row = i // 3\n",
    "    col = i % 3\n",
    "    ax4[row, col].quiver(*xy.T,*dxdy[i].T)\n",
    "    ax4[row, col].set_title(f' VF {i+1}')\n",
    "        \n",
    "fig4.delaxes(ax4[1, 2])\n",
    "plt.tight_layout()\n",
    "plt.setp(ax, xlim=(-3,3), ylim=(-3,3));\n",
    "\n",
    "'''\n",
    "for j_sample in range(20):\n",
    "    x,y = stepwise_sample_interm[1][j_sample].T\n",
    "    ax4[0, 0].quiver(x[:-1], y[:-1], x[1:]-x[:-1], y[1:]-y[:-1], \n",
    "                        scale_units='xy',\n",
    "                        angles='xy', \n",
    "                        scale=1., \n",
    "                        color=colors[j_sample])''';"
   ]
  },
  {
   "cell_type": "code",
   "execution_count": null,
   "id": "6a994158-ce65-4639-8663-bd413d12354c",
   "metadata": {},
   "outputs": [],
   "source": []
  },
  {
   "cell_type": "code",
   "execution_count": null,
   "id": "5436f2b5-3876-4f58-b678-e72bed3441e4",
   "metadata": {},
   "outputs": [],
   "source": []
  },
  {
   "cell_type": "code",
   "execution_count": null,
   "id": "7c811333-d385-4340-99e9-f597d9b54c72",
   "metadata": {},
   "outputs": [],
   "source": []
  },
  {
   "cell_type": "code",
   "execution_count": null,
   "id": "8f7dd0be-920e-4d1e-bbf7-e45fa2ac9a03",
   "metadata": {},
   "outputs": [],
   "source": []
  },
  {
   "cell_type": "code",
   "execution_count": null,
   "id": "bea959f9-1582-4b25-b71c-3ec643848852",
   "metadata": {},
   "outputs": [],
   "source": []
  },
  {
   "cell_type": "markdown",
   "id": "d05b6868-d00d-4834-9e27-00fc16b8cecd",
   "metadata": {},
   "source": [
    "## OTF"
   ]
  },
  {
   "cell_type": "code",
   "execution_count": null,
   "id": "5b4c17ce-3caf-44bb-b12e-b4e48bdf9d44",
   "metadata": {
    "tags": []
   },
   "outputs": [],
   "source": [
    "y_best_loss = MODEL.sample(5000,EVAL_SOLVER_STEPS,  params=best_params_loss)\n",
    "y_best_mmd = MODEL.sample(5000, EVAL_SOLVER_STEPS, params=best_params_mmd)"
   ]
  },
  {
   "cell_type": "code",
   "execution_count": null,
   "id": "ff3864ec-6181-4c01-8832-c8ded67c8f60",
   "metadata": {
    "tags": []
   },
   "outputs": [],
   "source": [
    "res = 500\n",
    "xx, yy = np.meshgrid(np.linspace(plt_params['X_MIN'], plt_params['X_MAX'], res), \n",
    "                     np.linspace(plt_params['Y_MIN'], plt_params['Y_MAX'], res))\n",
    "xy = np.hstack([e.reshape(-1, 1) for e in [xx, yy]])\n",
    "\n",
    "probs_best_loss = jnp.exp(\n",
    "    -vmap(MODEL.log_pdf_and_preimage, (0, None, None, None), 0)(xy, EVAL_SOLVER_STEPS, best_params_loss, False)[0]\n",
    ")\n",
    "probs_best_mmd = jnp.exp(\n",
    "    -vmap(MODEL.log_pdf_and_preimage, (0, None, None, None), 0)(xy, EVAL_SOLVER_STEPS, best_params_mmd, False)[0]\n",
    ")"
   ]
  },
  {
   "cell_type": "code",
   "execution_count": null,
   "id": "0dc81f92-f499-4e4f-afa1-90d19e3e0cb2",
   "metadata": {
    "tags": []
   },
   "outputs": [],
   "source": [
    "# 64b 10pot plot ansehen"
   ]
  },
  {
   "cell_type": "code",
   "execution_count": null,
   "id": "10071945-6ecb-498c-8a93-f86fad4d2307",
   "metadata": {
    "tags": []
   },
   "outputs": [],
   "source": [
    "fig, ax = plt.subplots(1,2, figsize=(20,6))\n",
    "density_nll = ax[0].imshow((probs_best_loss).reshape((res, res)),\n",
    "           origin='lower', extent=(plt_params['X_MIN'], plt_params['X_MAX'], \n",
    "                                   plt_params['Y_MIN'], plt_params['Y_MAX']), aspect='auto')\n",
    "density_mmd = ax[1].imshow((probs_best_mmd).reshape((res, res)),\n",
    "           origin='lower', extent=(plt_params['X_MIN'], plt_params['X_MAX'], \n",
    "                                   plt_params['Y_MIN'], plt_params['Y_MAX']), aspect='auto')\n",
    "fig.colorbar(mappable=density_nll)\n",
    "fig.colorbar(mappable=density_mmd)\n",
    "plt.tight_layout();"
   ]
  },
  {
   "cell_type": "code",
   "execution_count": null,
   "id": "85f0040b-8d90-4247-9ddc-9758bc116587",
   "metadata": {
    "tags": []
   },
   "outputs": [],
   "source": [
    "fig, ax = plt.subplots(1,2, figsize=(20,6))\n",
    "density_nll = ax[0].imshow((probs_best_loss).reshape((res, res)),\n",
    "           origin='lower', extent=(plt_params['X_MIN'], plt_params['X_MAX'], \n",
    "                                   plt_params['Y_MIN'], plt_params['Y_MAX']), aspect='auto')\n",
    "density_mmd = ax[1].imshow((probs_best_mmd).reshape((res, res)),\n",
    "           origin='lower', extent=(plt_params['X_MIN'], plt_params['X_MAX'], \n",
    "                                   plt_params['Y_MIN'], plt_params['Y_MAX']), aspect='auto')\n",
    "fig.colorbar(mappable=density_nll)\n",
    "fig.colorbar(mappable=density_mmd)\n",
    "plt.tight_layout();"
   ]
  },
  {
   "cell_type": "code",
   "execution_count": null,
   "id": "e1a5b0ab-33e7-41c9-a8ba-a9f870fd1611",
   "metadata": {
    "tags": []
   },
   "outputs": [],
   "source": [
    "fig2, ax2 = plt.subplots(1,2, figsize=(20,6))\n",
    "ax2[0].scatter(*y_best_loss.T, s=0.1)\n",
    "ax2[0].set_xlim((plt_params['X_MIN'], plt_params['X_MAX']))\n",
    "ax2[0].set_ylim((plt_params['Y_MIN'], plt_params['Y_MAX']))\n",
    "ax2[1].scatter(*y_best_mmd.T, s=0.1)\n",
    "ax2[1].set_xlim((plt_params['X_MIN'], plt_params['X_MAX']))\n",
    "ax2[1].set_ylim((plt_params['Y_MIN'], plt_params['Y_MAX']));"
   ]
  },
  {
   "cell_type": "code",
   "execution_count": null,
   "id": "ba8f01dd-ae11-4f7b-a358-e75f5597cfba",
   "metadata": {},
   "outputs": [],
   "source": []
  },
  {
   "cell_type": "code",
   "execution_count": null,
   "id": "406ca6f9-0881-41eb-bdf3-7dded680917d",
   "metadata": {},
   "outputs": [],
   "source": [
    "best_params = best_params_loss"
   ]
  },
  {
   "cell_type": "code",
   "execution_count": null,
   "id": "61d84467-0531-4ba8-9682-3357ef5a00cb",
   "metadata": {},
   "outputs": [],
   "source": [
    "cmap = colormaps['tab20']  #('hsv') #('nipy_spectral')\n",
    "max_colors = 20\n",
    "colors = [cmap(color_number / max_colors) for color_number in range(max_colors)]"
   ]
  },
  {
   "cell_type": "code",
   "execution_count": null,
   "id": "b4d71645-07bb-484c-89cb-2903e00f1f34",
   "metadata": {
    "tags": []
   },
   "outputs": [],
   "source": [
    "stepwise_sample = MODEL.sample_with_steps(1000, EVAL_SOLVER_STEPS, params=best_params)\n",
    "stepwise_sample_interm = MODEL.sample_with_steps(20, EVAL_SOLVER_STEPS, params=best_params, intermed_y=True)\n",
    "\n",
    "res = 30\n",
    "xx, yy = np.meshgrid(np.linspace(-3, 3, res), \n",
    "                     np.linspace(-3, 3, res))\n",
    "xy = np.hstack([e.reshape(-1, 1) for e in [xx, yy]])\n",
    "\n",
    "n_pot = len(MODEL.funcs)\n",
    "\n",
    "dxdy = [-MODEL.dt0 * vmap(MODEL.forward_dynamics, (None, 0, None), 0)(MODEL.t1 - (MODEL.t1 - MODEL.t0) / n_pot * i, \n",
    "                                                                      xy, \n",
    "                                                                      (MODEL.funcs[i], best_params[i])) for i in range(len(MODEL.funcs))]"
   ]
  },
  {
   "cell_type": "code",
   "execution_count": null,
   "id": "4161e6aa-dc0d-4f67-9d53-b558ee87868e",
   "metadata": {
    "tags": []
   },
   "outputs": [],
   "source": [
    "fig3, ax3 = plt.subplots(2,3,figsize=(16,10))\n",
    "for i in range(6):\n",
    "    row = i // 3\n",
    "    col = i % 3\n",
    "    ax3[row, col].scatter(*stepwise_sample[i].T, s=0.2)\n",
    "\n",
    "    if i > 0:\n",
    "        ax3[row, col].set_title(f' VF {i}')\n",
    "        for j_sample in range(20):\n",
    "            x,y = stepwise_sample_interm[i][j_sample].T\n",
    "            ax3[row, col].quiver(x[:-1], y[:-1], x[1:]-x[:-1], y[1:]-y[:-1], \n",
    "                                scale_units='xy',\n",
    "                                angles='xy', \n",
    "                                scale=1., \n",
    "                                color=colors[j_sample])\n",
    "        \n",
    "ax3[0, 0].set_title(f'Base Distribution')\n",
    "ax3[0, 0].scatter(*stepwise_sample_interm[0].T, c=colors)\n",
    "#fig3.delaxes(ax3[1, 0])\n",
    "plt.tight_layout()\n",
    "plt.setp(ax3, xlim=(-3,3), ylim=(-3,3));"
   ]
  },
  {
   "cell_type": "code",
   "execution_count": null,
   "id": "406fe757-5cb1-4e59-8979-9d8ad6089ac2",
   "metadata": {},
   "outputs": [],
   "source": []
  },
  {
   "cell_type": "code",
   "execution_count": null,
   "id": "aab52c2e-e2fd-4d59-81db-429f39840409",
   "metadata": {
    "tags": []
   },
   "outputs": [],
   "source": [
    "fig4, ax4 = plt.subplots(1,3,figsize=(18,6))\n",
    "\n",
    "for i in range(3):\n",
    "    row = i // 3\n",
    "    col = i % 3\n",
    "    #ax4[row, col].quiver(*xy.T,*dxdy[i].T)\n",
    "    #ax4[row, col].set_title(fr'$-\\nabla \\Phi_{i}$')\n",
    "    ax4[col].quiver(*xy.T,*dxdy[i].T)\n",
    "    ax4[col].set_title(fr'$-\\nabla \\Phi_{i}$')\n",
    "        \\\n",
    "#fig4.delaxes(ax4[1, 2])\n",
    "plt.tight_layout()\n",
    "plt.setp(ax, xlim=(-3,3), ylim=(-3,3));"
   ]
  },
  {
   "cell_type": "code",
   "execution_count": null,
   "id": "414b0dd1-0a5a-49ce-838f-a0d38ad03fa4",
   "metadata": {},
   "outputs": [],
   "source": []
  },
  {
   "cell_type": "code",
   "execution_count": null,
   "id": "524f16a8-7b6c-4403-a5d9-731b3e3f23ed",
   "metadata": {},
   "outputs": [],
   "source": []
  },
  {
   "cell_type": "code",
   "execution_count": null,
   "id": "c65d916e-df66-44bd-ae4d-f5e6036a3970",
   "metadata": {
    "tags": []
   },
   "outputs": [],
   "source": [
    "npot = 3\n",
    "res = 500\n",
    "xx, yy = np.meshgrid(np.linspace(-3, 3, res), \n",
    "                     np.linspace(-3, 3, res))\n",
    "xy = np.hstack([e.reshape(-1, 1) for e in [xx, yy]])\n",
    "\n",
    "fig5, ax5 = plt.subplots(3, npot,figsize=(6 * npot,6 * 3))\n",
    "\n",
    "for i in range(npot):\n",
    "    t_start = MODEL.t1 * (npot - i) / npot\n",
    "    s = jnp.vstack((xy.T, t_start * jnp.ones(len(xy)))).T\n",
    "    E = -vmap(MODEL.funcs[i].apply, (None, 0), 0)(best_params[i], s)\n",
    "    ax5[0, i].contourf(xx, yy, E.reshape((res,res)), levels=30, cmap='coolwarm')\n",
    "    ax5[0, i].set_title(fr'$T={t_start:.2f}$')\n",
    "    \n",
    "    \n",
    "    delta = MODEL.t1 / npot\n",
    "    s = jnp.vstack((xy.T, (t_start - delta / 3) * jnp.ones(len(xy)))).T\n",
    "    E = -vmap(MODEL.funcs[i].apply, (None, 0), 0)(best_params[i], s)\n",
    "    ax5[1, i].contourf(xx, yy, E.reshape((res,res)), levels=30, cmap='coolwarm')\n",
    "    ax5[1, i].set_title(fr'$T={(t_start - delta / 3):.2f}$')\n",
    "    \n",
    "    s = jnp.vstack((xy.T, (t_start - 2 * delta / 3) * jnp.ones(len(xy)))).T\n",
    "    E = -vmap(MODEL.funcs[i].apply, (None, 0), 0)(best_params[i], s)\n",
    "    ax5[2, i].contourf(xx, yy, E.reshape((res,res)), levels=30, cmap='coolwarm')\n",
    "    ax5[2, i].set_title(fr'$T={(t_start - 2 * delta / 3):.2f}$')\n",
    "    \n",
    "plt.tight_layout()"
   ]
  },
  {
   "cell_type": "code",
   "execution_count": null,
   "id": "460f787c-9a26-4dce-ab29-11e534e1bc6d",
   "metadata": {},
   "outputs": [],
   "source": []
  },
  {
   "cell_type": "code",
   "execution_count": null,
   "id": "e37682f6-a425-43e1-a162-0ed9eb4e5703",
   "metadata": {},
   "outputs": [],
   "source": []
  },
  {
   "cell_type": "code",
   "execution_count": null,
   "id": "dc258344-6c46-4351-9c71-1e02da62c53d",
   "metadata": {},
   "outputs": [],
   "source": []
  },
  {
   "cell_type": "code",
   "execution_count": null,
   "id": "14f87876-cf14-46b0-9994-e2b799aea002",
   "metadata": {
    "tags": []
   },
   "outputs": [],
   "source": [
    "plt.scatter(*train.T)\n",
    "plt.vlines(x=-0.7, ymin=-2, ymax=2)\n",
    "plt.vlines(x=0.6, ymin=-2, ymax=2)"
   ]
  },
  {
   "cell_type": "code",
   "execution_count": null,
   "id": "835caba9-cb8e-461e-90f2-3d5b73936869",
   "metadata": {
    "tags": []
   },
   "outputs": [],
   "source": [
    "labels = (train[:, 0] >= -0.7).astype(int)"
   ]
  },
  {
   "cell_type": "code",
   "execution_count": null,
   "id": "8516608f-f6c3-44fc-b055-158fcb43869b",
   "metadata": {},
   "outputs": [],
   "source": [
    "labels += (train[:, 0] >= 0.6).astype(int)"
   ]
  },
  {
   "cell_type": "code",
   "execution_count": null,
   "id": "b96c2fb7-eb2b-4226-a1a2-c96d1ac304bb",
   "metadata": {},
   "outputs": [],
   "source": [
    "plt.scatter(*train.T, c=labels)"
   ]
  },
  {
   "cell_type": "code",
   "execution_count": null,
   "id": "6d464a1c-dc44-44b8-bd1c-e7940270b039",
   "metadata": {
    "tags": []
   },
   "outputs": [],
   "source": [
    "_, _, _, preimg = vmap(MODEL.log_pdf_and_preimage, (0, None, None, None), 0)(train, EVAL_SOLVER_STEPS, best_params, True)"
   ]
  },
  {
   "cell_type": "code",
   "execution_count": null,
   "id": "0ad56e3c-e27b-473c-9c94-d1af1ed99283",
   "metadata": {
    "tags": []
   },
   "outputs": [],
   "source": [
    "plt.scatter(*preimg.T, c=labels)"
   ]
  },
  {
   "cell_type": "code",
   "execution_count": null,
   "id": "1d575a70-1fe6-4326-9ba3-a5ea8dc33fe6",
   "metadata": {},
   "outputs": [],
   "source": []
  },
  {
   "cell_type": "code",
   "execution_count": null,
   "id": "20f58d0b-7b62-4b29-87ff-98a702a8a4cf",
   "metadata": {},
   "outputs": [],
   "source": []
  },
  {
   "cell_type": "code",
   "execution_count": null,
   "id": "19a294d1-b139-4989-a79a-2c844a86f884",
   "metadata": {},
   "outputs": [],
   "source": []
  },
  {
   "cell_type": "markdown",
   "id": "7b68616a-d7f1-4026-93fe-74c4d8e6ae06",
   "metadata": {},
   "source": [
    "## Plot Logo"
   ]
  },
  {
   "cell_type": "code",
   "execution_count": null,
   "id": "5b2af621-55f4-47ae-bb06-657fa3bbd810",
   "metadata": {
    "tags": []
   },
   "outputs": [],
   "source": [
    "import matplotlib as mpl\n",
    "from matplotlib.colors import LinearSegmentedColormap, ListedColormap"
   ]
  },
  {
   "cell_type": "code",
   "execution_count": null,
   "id": "6a3ac7e3-d920-4bb4-9fae-a2e950350fa1",
   "metadata": {
    "tags": []
   },
   "outputs": [],
   "source": [
    "values = [1, 30, 40]\n",
    "colors = [(255, 255, 255), (1, 93, 77), (0, 93, 77)]\n",
    "norm = plt.Normalize(min(values), max(values))\n",
    "cmap = LinearSegmentedColormap.from_list(\n",
    "       'logo', [(norm(value), tuple(np.array(color) / 255)) for value, color in zip(values, colors)])"
   ]
  },
  {
   "cell_type": "code",
   "execution_count": null,
   "id": "8b5aed95-7e60-4e43-8918-d69d18c455ff",
   "metadata": {
    "tags": []
   },
   "outputs": [],
   "source": [
    "fig, ax = plt.subplots(1,1, figsize=(16,12))\n",
    "density_nll = ax.imshow((probs_best_loss).reshape((res, res)),\n",
    "           origin='lower', extent=(plt_params['X_MIN'], plt_params['X_MAX'], \n",
    "                                   plt_params['Y_MIN'], plt_params['Y_MAX']), \n",
    "                        aspect='auto',\n",
    "                       cmap=cmap)\n",
    "plt.axis('off')\n",
    "fig.savefig(\"logo_flow_tight.png\", bbox_inches='tight')"
   ]
  },
  {
   "cell_type": "code",
   "execution_count": null,
   "id": "5ccdf56b-09f8-460f-baca-5c409ab45c53",
   "metadata": {},
   "outputs": [],
   "source": []
  },
  {
   "cell_type": "code",
   "execution_count": null,
   "id": "713edae1-8fdb-4992-92fa-d402aba09c1a",
   "metadata": {},
   "outputs": [],
   "source": []
  },
  {
   "cell_type": "code",
   "execution_count": null,
   "id": "8d1ed1c8-cbbb-41e9-b880-7b12c8cf3e54",
   "metadata": {
    "tags": []
   },
   "outputs": [],
   "source": [
    "import matplotlib as mpl\n",
    "from matplotlib.colors import LinearSegmentedColormap, ListedColormap"
   ]
  },
  {
   "cell_type": "code",
   "execution_count": null,
   "id": "1254aef1-7e14-4193-97e0-10ce9e70c5ed",
   "metadata": {
    "tags": []
   },
   "outputs": [],
   "source": [
    "values = [1, 30, 40]\n",
    "colors = [(255, 255, 255), (1, 0, 0), (0, 0, 0)]\n",
    "norm = plt.Normalize(min(values), max(values))\n",
    "cmap = LinearSegmentedColormap.from_list(\n",
    "       'logo', [(norm(value), tuple(np.array(color) / 255)) for value, color in zip(values, colors)])"
   ]
  },
  {
   "cell_type": "code",
   "execution_count": null,
   "id": "ab7889a9-ae5d-4192-8754-3bd014a33692",
   "metadata": {
    "tags": []
   },
   "outputs": [],
   "source": [
    "fig, ax = plt.subplots(1,1, figsize=(16,12))\n",
    "density_nll = ax.imshow((probs_best_loss).reshape((res, res)),\n",
    "           origin='lower', extent=(plt_params['X_MIN'], plt_params['X_MAX'], \n",
    "                                   plt_params['Y_MIN'], plt_params['Y_MAX']), \n",
    "                        aspect='auto',\n",
    "                       cmap=cmap)\n",
    "plt.axis('off')\n",
    "fig.savefig(\"logo_flow_tight_black.png\", bbox_inches='tight')"
   ]
  },
  {
   "cell_type": "code",
   "execution_count": null,
   "id": "0588a734-f163-432d-b9d3-46e55162b441",
   "metadata": {},
   "outputs": [],
   "source": []
  },
  {
   "cell_type": "code",
   "execution_count": null,
   "id": "55cb0384-c4d4-48a8-90ff-839030c0f39f",
   "metadata": {},
   "outputs": [],
   "source": []
  },
  {
   "cell_type": "code",
   "execution_count": null,
   "id": "4bb90138-55df-43e0-91b3-54458bc89fab",
   "metadata": {
    "tags": []
   },
   "outputs": [],
   "source": [
    "normal = random.normal(key, shape=(10000,2))\n",
    "transformed = test[random.choice(key, a=jnp.arange(len(test)), shape=(10000,), replace=False)]"
   ]
  },
  {
   "cell_type": "code",
   "execution_count": null,
   "id": "4b797822-82cc-41a2-b5b3-8512208c84c8",
   "metadata": {
    "tags": []
   },
   "outputs": [],
   "source": [
    "plt.rcParams['axes.labelsize'] = 15\n",
    "plt.rcParams['axes.titlesize'] = 18\n",
    "plt.rcParams['xtick.labelsize']= 15\n",
    "plt.rcParams['ytick.labelsize']= 15"
   ]
  },
  {
   "cell_type": "code",
   "execution_count": null,
   "id": "b7f60a66-142d-4769-b6eb-ebedc37bacce",
   "metadata": {
    "tags": []
   },
   "outputs": [],
   "source": [
    "fig, ax = plt.subplots(1,2,figsize=(18,6))\n",
    "ax[0].scatter(*transformed.T, s=3.)\n",
    "ax[0].set_xlim((plt_params['X_MIN'], plt_params['X_MAX']))\n",
    "ax[0].set_ylim((plt_params['Y_MIN'], plt_params['Y_MAX']))\n",
    "ax[0].set_title(r'Samples from $X$')\n",
    "plt.setp(ax[0], xlabel='$x_1$ component', ylabel='$x_2$ component')\n",
    "\n",
    "ax[1].scatter(*normal.T, s=3.)\n",
    "ax[1].set_title(r'Samples from $Z$')\n",
    "ax[1].set_xlim((-4.2,4.2))\n",
    "ax[1].set_ylim((-4.2,4.2))\n",
    "plt.setp(ax[1], xlabel='$z_1$ component', ylabel='$z_2$ component')\n",
    "plt.tight_layout(w_pad=15)"
   ]
  },
  {
   "cell_type": "code",
   "execution_count": null,
   "id": "b62622f2-073f-45ce-a30b-7ab63f4f4ae6",
   "metadata": {
    "tags": []
   },
   "outputs": [],
   "source": [
    "fig.savefig('transformation.png', bbox_inches='tight')"
   ]
  },
  {
   "cell_type": "code",
   "execution_count": null,
   "id": "40a7c064-84e5-450b-8f43-84af8cfb708a",
   "metadata": {},
   "outputs": [],
   "source": []
  },
  {
   "cell_type": "code",
   "execution_count": null,
   "id": "47e40ff6-2abb-4d94-b4fb-2a89acb5d952",
   "metadata": {
    "tags": []
   },
   "outputs": [],
   "source": [
    "plt.scatter(*normal.T, s=3.)"
   ]
  },
  {
   "cell_type": "code",
   "execution_count": null,
   "id": "02c6c9ae-0518-463c-bea8-16830fa4e797",
   "metadata": {
    "tags": []
   },
   "outputs": [],
   "source": [
    "len(transformed)"
   ]
  },
  {
   "cell_type": "code",
   "execution_count": null,
   "id": "f9ad414a-1bc7-4509-9c65-332700a9ddd2",
   "metadata": {
    "tags": []
   },
   "outputs": [],
   "source": [
    "plt.scatter(*transformed.T, s=3.)"
   ]
  },
  {
   "cell_type": "code",
   "execution_count": null,
   "id": "775dc977-9548-44c2-95b0-5a750a3323bc",
   "metadata": {},
   "outputs": [],
   "source": []
  }
 ],
 "metadata": {
  "kernelspec": {
   "display_name": "Python 3 (ipykernel)",
   "language": "python",
   "name": "python3"
  },
  "language_info": {
   "codemirror_mode": {
    "name": "ipython",
    "version": 3
   },
   "file_extension": ".py",
   "mimetype": "text/x-python",
   "name": "python",
   "nbconvert_exporter": "python",
   "pygments_lexer": "ipython3",
   "version": "3.9.16"
  },
  "toc-autonumbering": true
 },
 "nbformat": 4,
 "nbformat_minor": 5
}
