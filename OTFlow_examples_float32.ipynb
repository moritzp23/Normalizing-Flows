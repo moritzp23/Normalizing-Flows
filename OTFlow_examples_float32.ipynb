{
 "cells": [
  {
   "cell_type": "markdown",
   "id": "0cff2a3d-3474-4a20-b438-5a50fe9a08f1",
   "metadata": {
    "tags": []
   },
   "source": [
    "Single Precision"
   ]
  },
  {
   "cell_type": "code",
   "execution_count": null,
   "id": "579880db-e868-434d-a452-298e784817b3",
   "metadata": {
    "tags": []
   },
   "outputs": [],
   "source": [
    "import os\n",
    "os.environ['CUDA_VISIBLE_DEVICES'] = '1'\n",
    "\n",
    "from jax import config\n",
    "config.update(\"jax_enable_x64\", False)"
   ]
  },
  {
   "cell_type": "code",
   "execution_count": null,
   "id": "eaafbe9c-8263-48ef-838f-a1b3423b2183",
   "metadata": {
    "tags": []
   },
   "outputs": [],
   "source": [
    "import OTF, DatasetGenerator\n",
    "import numpy as np\n",
    "import pandas as pd\n",
    "import optax\n",
    "import matplotlib.pyplot as plt\n",
    "\n",
    "from jax import jit, grad, value_and_grad, random\n",
    "from flax.training import checkpoints\n",
    "\n",
    "# plotting, move this to seperate notebook\n",
    "from jax import vmap\n",
    "import jax.numpy as jnp\n",
    "from matplotlib import colormaps"
   ]
  },
  {
   "cell_type": "code",
   "execution_count": null,
   "id": "f8dd735f-ebbe-422f-b5d7-843eb9c6f68b",
   "metadata": {
    "tags": []
   },
   "outputs": [],
   "source": [
    "@jit\n",
    "def step(opt_state, params, batch, solver_steps):\n",
    "    # from optax doc: https://optax.readthedocs.io/en/latest/gradient_accumulation.html\n",
    "    loss, grads = value_and_grad(LOSS_FUNC)(params, batch, **LOSS_KWARGS, solver_steps=solver_steps)\n",
    "    updates, opt_state = gradient_transform.update(grads, opt_state, params=params) \n",
    "    params = optax.apply_updates(params, updates)\n",
    "    return opt_state, params, loss"
   ]
  },
  {
   "cell_type": "code",
   "execution_count": null,
   "id": "4672e577-bcd4-4721-b1aa-a0f44bb996c9",
   "metadata": {
    "tags": []
   },
   "outputs": [],
   "source": [
    "def eval_val(val_data, params, solver_steps):\n",
    "    return VAL_LOSS_FUNC(params=params, batch=val_data, **VAL_LOSS_KWARGS, solver_steps=solver_steps)"
   ]
  },
  {
   "cell_type": "code",
   "execution_count": null,
   "id": "5b5c4a5e-75b1-4045-b42d-2612e8e580ed",
   "metadata": {
    "tags": []
   },
   "outputs": [],
   "source": [
    "def train_step(train_data, opt_state, params, solver_steps):\n",
    "    opt_state, params, loss = step(opt_state, params, batch=train_data, solver_steps=solver_steps)\n",
    "    return opt_state, params, loss"
   ]
  },
  {
   "cell_type": "code",
   "execution_count": null,
   "id": "7866d3e5-f44a-453a-afcd-a5efee00a61c",
   "metadata": {
    "tags": []
   },
   "outputs": [],
   "source": [
    "MODEL_PREFIX = 'OFT'\n",
    "PRECISION_PREFIX = 'float32'"
   ]
  },
  {
   "cell_type": "code",
   "execution_count": null,
   "id": "533a2183-622c-43a8-84c6-df90b7a52451",
   "metadata": {},
   "outputs": [],
   "source": [
    "SOLVER_STEPS = 20\n",
    "EVAL_SOLVER_STEPS = 20"
   ]
  },
  {
   "cell_type": "code",
   "execution_count": null,
   "id": "c42637de-99af-4728-a1d7-8459b66710fd",
   "metadata": {},
   "outputs": [],
   "source": []
  },
  {
   "cell_type": "code",
   "execution_count": null,
   "id": "21de9151-b901-4ac5-a13f-0e105f212ffb",
   "metadata": {},
   "outputs": [],
   "source": [
    "def run(train_re, params, opt_state, data_key):\n",
    "    train_losses  = []\n",
    "    val_losses, val_inv_errors, val_mmds = [], [], []\n",
    "    best_val_mmd, best_epoch_mmd, best_params_mmd = np.inf, None, None\n",
    "    best_val_loss, best_epoch_loss, best_params_loss = np.inf, None, None\n",
    "    \n",
    "    if report_as_csv:\n",
    "        report_df = pd.DataFrame({'Epoch': [], \n",
    "                                  'Training Loss': [], \n",
    "                                  'Validation Loss': [], \n",
    "                                  'Validation Inverse Error': [],\n",
    "                                  'Validation MMD': [],\n",
    "                                  'Best Epoch Loss': [], \n",
    "                                  'Best Epoch MMD': [], \n",
    "                                  'Best Validation Loss': [],\n",
    "                                  'Best Validation MMD': [],})\n",
    "\n",
    "    for epoch in range(1, EPOCHS + 1):\n",
    "        opt_state, params, train_loss = train_step(train_re, opt_state, params, SOLVER_STEPS)    \n",
    "        train_losses.append(train_loss)\n",
    "\n",
    "        val_loss, val_inv_error, val_mmd  = eval_val(val, params, EVAL_SOLVER_STEPS)\n",
    "        print(f'Epoch {epoch} --- Train Loss: {np.mean(train_loss)}, Val Loss: {val_loss}, Val Inv Error: {val_inv_error}, Val MMD: {val_mmd}')\n",
    "        val_losses.append(val_loss)\n",
    "        val_inv_errors.append(val_inv_error)\n",
    "        val_mmds.append(val_mmd)\n",
    "\n",
    "        if epoch >= 5:\n",
    "            val_loss_rolling = np.mean(val_losses[epoch-5:])    \n",
    "            if val_loss_rolling < best_val_loss:\n",
    "                best_epoch_loss, best_params_loss, best_val_loss = epoch, params, val_loss\n",
    "                \n",
    "            val_mmd_rolling = np.mean(val_mmds[epoch-5:])    \n",
    "            if val_mmd_rolling < best_val_mmd:\n",
    "                best_epoch_mmd, best_params_mmd, best_val_mmd = epoch, params, val_mmd        \n",
    "        \n",
    "\n",
    "        # resample training data\n",
    "        if epoch % 25 == 0:    \n",
    "            data_key = random.fold_in(data_key, epoch)\n",
    "            train_re = TRAIN_GENERATOR(data_key, training_size, dtype=PRECISION_PREFIX, **TRAIN_GEN_KWARGS)      \n",
    "\n",
    "        if report_as_csv:    \n",
    "            report_df.loc[epoch - 1] = [epoch, train_loss,\n",
    "                                        val_loss, val_inv_error, val_mmd, \n",
    "                                        best_epoch_loss, best_epoch_mmd, best_val_loss, best_val_mmd]\n",
    "            if epoch % 10 == 0: \n",
    "                report_df.to_csv(report_filename)\n",
    "\n",
    "\n",
    "    print(f'\\nBest Epoch MMD: {best_epoch_mmd} --- Val MMD: {best_val_mmd}')\n",
    "    test_loss, test_inv_error, test_mmd = eval_val(test, best_params_mmd, EVAL_SOLVER_STEPS)\n",
    "    print(f'Best Model MMD --- Test Loss: {test_loss}, Test Inv Error: {test_inv_error}, Test MMD: {test_mmd}')\n",
    "    \n",
    "    print(f'\\nBest Epoch Loss: {best_epoch_loss} --- Val Loss: {best_val_loss}')\n",
    "    test_loss, test_inv_error, test_mmd = eval_val(test, best_params_loss, EVAL_SOLVER_STEPS)\n",
    "    print(f'Best Model Loss --- Test Loss: {test_loss}, Test Inv Error: {test_inv_error}, Test MMD: {test_mmd}')\n",
    "    \n",
    "    ret = (train_losses, val_losses, val_mmds, val_inv_errors, \n",
    "           best_epoch_mmd, best_val_mmd, best_params_mmd, \n",
    "           best_epoch_loss, best_val_loss, best_params_loss, params)\n",
    "\n",
    "    return ret"
   ]
  },
  {
   "cell_type": "markdown",
   "id": "ab76525a-316a-4991-8f33-6ffbb753ddc5",
   "metadata": {
    "tags": []
   },
   "source": [
    "# TUC Letters (no Spacing)"
   ]
  },
  {
   "cell_type": "code",
   "execution_count": null,
   "id": "cbedc769-2c51-40fa-b72a-495518c864c8",
   "metadata": {
    "tags": []
   },
   "outputs": [],
   "source": [
    "key = random.PRNGKey(seed=42)"
   ]
  },
  {
   "cell_type": "code",
   "execution_count": null,
   "id": "fd1d109f-799d-474b-82ad-117b3eec49e2",
   "metadata": {
    "tags": []
   },
   "outputs": [],
   "source": [
    "training_size = 10000\n",
    "validation_size = 10000\n",
    "test_size = 20000\n",
    "spacing = 0"
   ]
  },
  {
   "cell_type": "code",
   "execution_count": null,
   "id": "6b58e937-6a61-4a63-b876-a41b7e94eaa3",
   "metadata": {
    "tags": []
   },
   "outputs": [],
   "source": [
    "BATCH_SIZE_TR = training_size\n",
    "BATCH_SIZE_VAL_TE = validation_size"
   ]
  },
  {
   "cell_type": "code",
   "execution_count": null,
   "id": "84d49390-e0bf-42f1-ad2e-cb9711269098",
   "metadata": {
    "tags": []
   },
   "outputs": [],
   "source": [
    "train, val, test = DatasetGenerator.make_tuc_letters(\n",
    "    key, \n",
    "    training_size, \n",
    "    validation_size, \n",
    "    test_size, \n",
    "    dtype=PRECISION_PREFIX,\n",
    "    spacing=spacing\n",
    ")\n",
    "normal_sample = random.normal(random.fold_in(key, 42), shape=(validation_size, 2), dtype=PRECISION_PREFIX)"
   ]
  },
  {
   "cell_type": "code",
   "execution_count": null,
   "id": "a0b53ad7-21bf-443f-ad9d-b2c55ea9bf6b",
   "metadata": {},
   "outputs": [],
   "source": [
    "DATASET_PREFIX = 'letters-nospacing'"
   ]
  },
  {
   "cell_type": "code",
   "execution_count": null,
   "id": "ff1b624d-bbc8-4952-b849-5709bfb06f57",
   "metadata": {},
   "outputs": [],
   "source": [
    "TRAIN_GENERATOR = DatasetGenerator.make_tuc_letters_tr\n",
    "TRAIN_GEN_KWARGS = {'spacing': spacing}"
   ]
  },
  {
   "cell_type": "markdown",
   "id": "4a42e544-f2f8-4ca8-95d5-d87f5f2ee0e2",
   "metadata": {},
   "source": [
    "## 1 Potential"
   ]
  },
  {
   "cell_type": "code",
   "execution_count": null,
   "id": "450d067a-7e69-4c0c-9497-08ce53818f6e",
   "metadata": {
    "tags": []
   },
   "outputs": [],
   "source": [
    "NPOT_PREFIX = '1pot'"
   ]
  },
  {
   "cell_type": "code",
   "execution_count": null,
   "id": "f1012ef7-769b-451c-9b98-d7305f4d6b52",
   "metadata": {
    "tags": []
   },
   "outputs": [],
   "source": [
    "key = random.PRNGKey(42)\n",
    "data_key, key = random.split(key, 2)"
   ]
  },
  {
   "cell_type": "code",
   "execution_count": null,
   "id": "fbb65b5b-e082-4886-b435-729713b320ed",
   "metadata": {
    "tags": []
   },
   "outputs": [],
   "source": [
    "EPOCHS = 20000\n",
    "MODEL = OTF.OTF(\n",
    "        input_dim=2, \n",
    "        hidden_dim=32,\n",
    "        resnet_depth=2,\n",
    "        rank=10,\n",
    "        key=key, \n",
    "        phi=OTF.Phi,\n",
    "        alpha1=15.,\n",
    "        alpha2=2.,\n",
    "        num_blocks=1,\n",
    "        t0=0.,\n",
    "        t1=1.,\n",
    "        num_steps=20\n",
    ")\n",
    "LOSS_FUNC = jit(MODEL._loss)\n",
    "VAL_LOSS_FUNC = jit(MODEL.metrics)\n",
    "LOSS_KWARGS = {}\n",
    "VAL_LOSS_KWARGS = {'normal_batch': normal_sample}"
   ]
  },
  {
   "cell_type": "code",
   "execution_count": null,
   "id": "b3c4084e-454d-4aa9-a2cc-36302350ce2a",
   "metadata": {
    "tags": []
   },
   "outputs": [],
   "source": [
    "# Exponential decay of the learning rate.\n",
    "scheduler = optax.exponential_decay(\n",
    "    init_value=5e-2, \n",
    "    transition_steps=1000,\n",
    "    transition_begin=0,\n",
    "    decay_rate=0.6)\n",
    "\n",
    "gradient_transform = optax.chain(\n",
    "    optax.scale_by_adam(),              # Use the updates from adam.\n",
    "    optax.scale_by_schedule(scheduler), # Adapt LR\n",
    "    optax.scale(-1.0)                   # Scale updates by -1 since optax.apply_updates \n",
    "                                        # is additive and we want to descend on the loss.\n",
    ")"
   ]
  },
  {
   "cell_type": "code",
   "execution_count": null,
   "id": "425432a9-d279-4208-a0b0-e0ef481d3413",
   "metadata": {
    "tags": []
   },
   "outputs": [],
   "source": [
    "params = MODEL.params\n",
    "opt_state = gradient_transform.init(params)"
   ]
  },
  {
   "cell_type": "code",
   "execution_count": null,
   "id": "a6151e42-28f1-4061-a573-6f52065273ec",
   "metadata": {
    "tags": []
   },
   "outputs": [],
   "source": [
    "report_as_csv = True\n",
    "report_filename = '_'.join([MODEL_PREFIX, PRECISION_PREFIX, DATASET_PREFIX, NPOT_PREFIX]) + '.csv'"
   ]
  },
  {
   "cell_type": "code",
   "execution_count": null,
   "id": "361e2ac9-0961-4438-beb9-7365d8ae083d",
   "metadata": {
    "tags": []
   },
   "outputs": [],
   "source": [
    "ret = run(train, params, opt_state, data_key)\n",
    "(train_losses, val_losses, val_mmds, val_inv_errors, \n",
    " best_epoch_mmd, best_val_mmd, best_params_mmd, \n",
    " best_epoch_loss, best_val_loss, best_params_loss, params) = ret"
   ]
  },
  {
   "cell_type": "code",
   "execution_count": null,
   "id": "102380ea-1c59-4184-8251-9c8d83615365",
   "metadata": {
    "tags": []
   },
   "outputs": [],
   "source": [
    "print(f'\\nBest Epoch MMD: {best_epoch_mmd} --- Val MMD: {best_val_mmd}')\n",
    "test_loss, test_inv_error, test_mmd = eval_val(test, best_params_mmd, EVAL_SOLVER_STEPS)\n",
    "print(f'Best Model MMD --- Test Loss: {test_loss}, Test Inv Error: {test_inv_error}, Test MMD: {test_mmd}')\n",
    "\n",
    "print(f'\\nBest Epoch Loss: {best_epoch_loss} --- Val Loss: {best_val_loss}')\n",
    "test_loss, test_inv_error, test_mmd = eval_val(test, best_params_loss, EVAL_SOLVER_STEPS)\n",
    "print(f'Best Model Loss --- Test Loss: {test_loss}, Test Inv Error: {test_inv_error}, Test MMD: {test_mmd}')"
   ]
  },
  {
   "cell_type": "code",
   "execution_count": null,
   "id": "7465811c-54bb-4307-ad6f-5c93835fefe8",
   "metadata": {
    "tags": []
   },
   "outputs": [],
   "source": [
    "fig, ax = plt.subplots(1, 2, figsize=(16,6))\n",
    "ax[0].semilogy(train_losses, label='train loss')\n",
    "ax[0].semilogy(val_losses, label='validation loss')\n",
    "ax[1].semilogy(train_losses[1000:], label='train loss')\n",
    "ax[1].semilogy(val_losses[1000:], label='validation loss')\n",
    "plt.legend()"
   ]
  },
  {
   "cell_type": "code",
   "execution_count": null,
   "id": "652fc82a-d6a3-4505-80cd-c370d32cb724",
   "metadata": {},
   "outputs": [],
   "source": []
  },
  {
   "cell_type": "code",
   "execution_count": null,
   "id": "9d995d5e-c6de-4c14-a97a-d8d34a7d4b04",
   "metadata": {
    "tags": []
   },
   "outputs": [],
   "source": [
    "filestr = '_'.join([MODEL_PREFIX, PRECISION_PREFIX, DATASET_PREFIX, NPOT_PREFIX])\n",
    "checkpoints.save_checkpoint(\n",
    "    ckpt_dir=f'checkpoints/finalfinal/{filestr}_params',  \n",
    "    target=params,  \n",
    "    overwrite=True,   \n",
    "    step=20000\n",
    ")"
   ]
  },
  {
   "cell_type": "code",
   "execution_count": null,
   "id": "2fa43b89-0bd8-4b57-ac05-bd82a749b63f",
   "metadata": {},
   "outputs": [],
   "source": [
    "checkpoints.save_checkpoint(\n",
    "    ckpt_dir=f'checkpoints/finalfinal/{filestr}_bestparams_loss',  \n",
    "    target=best_params_loss,  \n",
    "    overwrite=True,   \n",
    "    step=20000\n",
    ")"
   ]
  },
  {
   "cell_type": "code",
   "execution_count": null,
   "id": "64764cbe-0350-4baf-80b6-b571e837a57f",
   "metadata": {},
   "outputs": [],
   "source": [
    "checkpoints.save_checkpoint(\n",
    "    ckpt_dir=f'checkpoints/finalfinal/{filestr}_bestparams_mmd',  \n",
    "    target=best_params_mmd,  \n",
    "    overwrite=True,   \n",
    "    step=20000\n",
    ")"
   ]
  },
  {
   "cell_type": "code",
   "execution_count": null,
   "id": "d285ab11-79e8-41d0-9537-1ef34bd49a19",
   "metadata": {},
   "outputs": [],
   "source": []
  },
  {
   "cell_type": "markdown",
   "id": "a2b95e79-58c1-4fff-96ef-934cdf4ebf19",
   "metadata": {},
   "source": [
    "## 3 Potential"
   ]
  },
  {
   "cell_type": "code",
   "execution_count": null,
   "id": "197f5cd8-1179-448b-8120-7c221c5d6f96",
   "metadata": {
    "tags": []
   },
   "outputs": [],
   "source": [
    "NPOT_PREFIX = '3pot'"
   ]
  },
  {
   "cell_type": "code",
   "execution_count": null,
   "id": "54ce27a8-92f1-4f81-beab-048d226095c7",
   "metadata": {
    "tags": []
   },
   "outputs": [],
   "source": [
    "key = random.PRNGKey(42)\n",
    "data_key, key = random.split(key, 2)"
   ]
  },
  {
   "cell_type": "code",
   "execution_count": null,
   "id": "7719138a-1de5-44b0-8de8-9535ce0e0c9e",
   "metadata": {
    "tags": []
   },
   "outputs": [],
   "source": [
    "EPOCHS = 20000\n",
    "MODEL = OTF.OTF(\n",
    "        input_dim=2, \n",
    "        hidden_dim=32,\n",
    "        resnet_depth=2,\n",
    "        rank=10,\n",
    "        key=key, \n",
    "        phi=OTF.Phi,\n",
    "        alpha1=15.,\n",
    "        alpha2=2.,\n",
    "        num_blocks=3,\n",
    "        t0=0.,\n",
    "        t1=1.,\n",
    "        num_steps=20\n",
    ")\n",
    "LOSS_FUNC = jit(MODEL._loss)\n",
    "VAL_LOSS_FUNC = jit(MODEL.metrics)\n",
    "LOSS_KWARGS = {}\n",
    "VAL_LOSS_KWARGS = {'normal_batch': normal_sample}"
   ]
  },
  {
   "cell_type": "code",
   "execution_count": null,
   "id": "06c7ca2d-0d38-47f3-bf77-963642125c4c",
   "metadata": {
    "tags": []
   },
   "outputs": [],
   "source": [
    "# Exponential decay of the learning rate.\n",
    "scheduler = optax.exponential_decay(\n",
    "    init_value=5e-2, \n",
    "    transition_steps=1000,\n",
    "    transition_begin=0,\n",
    "    decay_rate=0.6)\n",
    "\n",
    "gradient_transform = optax.chain(\n",
    "    optax.scale_by_adam(),              # Use the updates from adam.\n",
    "    optax.scale_by_schedule(scheduler), # Adapt LR\n",
    "    optax.scale(-1.0)                   # Scale updates by -1 since optax.apply_updates \n",
    "                                        # is additive and we want to descend on the loss.\n",
    ")"
   ]
  },
  {
   "cell_type": "code",
   "execution_count": null,
   "id": "cffd55f2-c4e6-43fe-8da3-5e11b339df79",
   "metadata": {
    "tags": []
   },
   "outputs": [],
   "source": [
    "params = MODEL.params\n",
    "opt_state = gradient_transform.init(params)"
   ]
  },
  {
   "cell_type": "code",
   "execution_count": null,
   "id": "57ace697-0b8a-425a-a156-07ecc674f995",
   "metadata": {
    "tags": []
   },
   "outputs": [],
   "source": [
    "report_as_csv = True\n",
    "report_filename = '_'.join([MODEL_PREFIX, PRECISION_PREFIX, DATASET_PREFIX, NPOT_PREFIX]) + '.csv'"
   ]
  },
  {
   "cell_type": "code",
   "execution_count": null,
   "id": "7856d68f-a598-4080-b5db-9f498bfb7abf",
   "metadata": {
    "tags": []
   },
   "outputs": [],
   "source": [
    "ret = run(train, params, opt_state, data_key)\n",
    "(train_losses, val_losses, val_mmds, val_inv_errors, \n",
    " best_epoch_mmd, best_val_mmd, best_params_mmd, \n",
    " best_epoch_loss, best_val_loss, best_params_loss, params) = ret"
   ]
  },
  {
   "cell_type": "code",
   "execution_count": null,
   "id": "c0c50b4b-e97a-4e0d-bb86-538cb299bb7b",
   "metadata": {
    "tags": []
   },
   "outputs": [],
   "source": [
    "print(f'\\nBest Epoch MMD: {best_epoch_mmd} --- Val MMD: {best_val_mmd}')\n",
    "test_loss, test_inv_error, test_mmd = eval_val(test, best_params_mmd, EVAL_SOLVER_STEPS)\n",
    "print(f'Best Model MMD --- Test Loss: {test_loss}, Test Inv Error: {test_inv_error}, Test MMD: {test_mmd}')\n",
    "\n",
    "print(f'\\nBest Epoch Loss: {best_epoch_loss} --- Val Loss: {best_val_loss}')\n",
    "test_loss, test_inv_error, test_mmd = eval_val(test, best_params_loss, EVAL_SOLVER_STEPS)\n",
    "print(f'Best Model Loss --- Test Loss: {test_loss}, Test Inv Error: {test_inv_error}, Test MMD: {test_mmd}')"
   ]
  },
  {
   "cell_type": "code",
   "execution_count": null,
   "id": "79c4af0f-cbad-4bc2-acd0-99a00447c074",
   "metadata": {
    "tags": []
   },
   "outputs": [],
   "source": [
    "fig, ax = plt.subplots(1, 2, figsize=(16,6))\n",
    "ax[0].semilogy(train_losses, label='train loss')\n",
    "ax[0].semilogy(val_losses, label='validation loss')\n",
    "ax[1].semilogy(train_losses[1000:], label='train loss')\n",
    "ax[1].semilogy(val_losses[1000:], label='validation loss')\n",
    "plt.legend()"
   ]
  },
  {
   "cell_type": "code",
   "execution_count": null,
   "id": "6bfa199c-671d-4f3b-8c70-b255379ead42",
   "metadata": {},
   "outputs": [],
   "source": []
  },
  {
   "cell_type": "code",
   "execution_count": null,
   "id": "fd5e4463-9da1-4999-ae44-e1f0ff7cbdfb",
   "metadata": {},
   "outputs": [],
   "source": []
  },
  {
   "cell_type": "code",
   "execution_count": null,
   "id": "99fbb13d-7de9-485a-bc75-11b6fbe7644d",
   "metadata": {},
   "outputs": [],
   "source": []
  },
  {
   "cell_type": "code",
   "execution_count": null,
   "id": "184943a2-bc26-4982-97b2-7464439e84a7",
   "metadata": {},
   "outputs": [],
   "source": []
  },
  {
   "cell_type": "code",
   "execution_count": null,
   "id": "3e9096d3-f8a6-4c1e-821b-90048f46f80f",
   "metadata": {},
   "outputs": [],
   "source": []
  },
  {
   "cell_type": "code",
   "execution_count": null,
   "id": "24a9fac4-6767-4d32-9b0f-328c25969b9c",
   "metadata": {
    "tags": []
   },
   "outputs": [],
   "source": [
    "filestr = '_'.join([MODEL_PREFIX, PRECISION_PREFIX, DATASET_PREFIX, NPOT_PREFIX])\n",
    "checkpoints.save_checkpoint(\n",
    "    ckpt_dir=f'checkpoints/finalfinal/{filestr}_params',  \n",
    "    target=params,  \n",
    "    overwrite=True,   \n",
    "    step=20000\n",
    ")"
   ]
  },
  {
   "cell_type": "code",
   "execution_count": null,
   "id": "303e4ee5-107a-4613-8263-38e9b61397da",
   "metadata": {},
   "outputs": [],
   "source": [
    "checkpoints.save_checkpoint(\n",
    "    ckpt_dir=f'checkpoints/finalfinal/{filestr}_bestparams_loss',  \n",
    "    target=best_params_loss,  \n",
    "    overwrite=True,   \n",
    "    step=20000\n",
    ")"
   ]
  },
  {
   "cell_type": "code",
   "execution_count": null,
   "id": "63736809-949d-47de-8611-c6c92698aaa5",
   "metadata": {},
   "outputs": [],
   "source": [
    "checkpoints.save_checkpoint(\n",
    "    ckpt_dir=f'checkpoints/finalfinal/{filestr}_bestparams_mmd',  \n",
    "    target=best_params_mmd,  \n",
    "    overwrite=True,   \n",
    "    step=20000\n",
    ")"
   ]
  },
  {
   "cell_type": "code",
   "execution_count": null,
   "id": "badb45f7-9846-46ba-a1e2-09aa90393dc3",
   "metadata": {},
   "outputs": [],
   "source": []
  },
  {
   "cell_type": "markdown",
   "id": "2f143edd-76cd-47de-84b2-ed9805e98440",
   "metadata": {},
   "source": [
    "## 5 Potential"
   ]
  },
  {
   "cell_type": "code",
   "execution_count": null,
   "id": "db337d62-c8f0-4219-bf5d-72ce9754fa1d",
   "metadata": {
    "tags": []
   },
   "outputs": [],
   "source": [
    "NPOT_PREFIX = '5pot'"
   ]
  },
  {
   "cell_type": "code",
   "execution_count": null,
   "id": "93eebc32-0fcf-4b2f-8f0b-4a6290c421c0",
   "metadata": {
    "tags": []
   },
   "outputs": [],
   "source": [
    "key = random.PRNGKey(42)\n",
    "data_key, key = random.split(key, 2)"
   ]
  },
  {
   "cell_type": "code",
   "execution_count": null,
   "id": "3c7a6166-2984-46eb-9a2a-7522fd033fc8",
   "metadata": {
    "tags": []
   },
   "outputs": [],
   "source": [
    "EPOCHS = 20000\n",
    "MODEL = OTF.OTF(\n",
    "        input_dim=2, \n",
    "        hidden_dim=32,\n",
    "        resnet_depth=2,\n",
    "        rank=10,\n",
    "        key=key, \n",
    "        phi=OTF.Phi,\n",
    "        alpha1=15.,\n",
    "        alpha2=2.,\n",
    "        num_blocks=5,\n",
    "        t0=0.,\n",
    "        t1=1.,\n",
    "        num_steps=20\n",
    ")\n",
    "LOSS_FUNC = jit(MODEL._loss)\n",
    "VAL_LOSS_FUNC = jit(MODEL.metrics)\n",
    "LOSS_KWARGS = {}\n",
    "VAL_LOSS_KWARGS = {'normal_batch': normal_sample}"
   ]
  },
  {
   "cell_type": "code",
   "execution_count": null,
   "id": "a0e4ccf6-630c-4df7-8838-8cb47b971208",
   "metadata": {
    "tags": []
   },
   "outputs": [],
   "source": [
    "# Exponential decay of the learning rate.\n",
    "scheduler = optax.exponential_decay(\n",
    "    init_value=5e-2, \n",
    "    transition_steps=1000,\n",
    "    transition_begin=0,\n",
    "    decay_rate=0.6)\n",
    "\n",
    "gradient_transform = optax.chain(\n",
    "    optax.scale_by_adam(),              # Use the updates from adam.\n",
    "    optax.scale_by_schedule(scheduler), # Adapt LR\n",
    "    optax.scale(-1.0)                   # Scale updates by -1 since optax.apply_updates \n",
    "                                        # is additive and we want to descend on the loss.\n",
    ")"
   ]
  },
  {
   "cell_type": "code",
   "execution_count": null,
   "id": "c004f25f-a1b6-4a38-a634-05a8f1a3785f",
   "metadata": {
    "tags": []
   },
   "outputs": [],
   "source": [
    "params = MODEL.params\n",
    "opt_state = gradient_transform.init(params)"
   ]
  },
  {
   "cell_type": "code",
   "execution_count": null,
   "id": "9e8199cf-c80e-4666-a175-6fa057d9c87d",
   "metadata": {
    "tags": []
   },
   "outputs": [],
   "source": [
    "report_as_csv = True\n",
    "report_filename = '_'.join([MODEL_PREFIX, PRECISION_PREFIX, DATASET_PREFIX, NPOT_PREFIX]) + '.csv'"
   ]
  },
  {
   "cell_type": "code",
   "execution_count": null,
   "id": "b7f519f3-4f59-4edf-9a8b-93a080364846",
   "metadata": {
    "tags": []
   },
   "outputs": [],
   "source": [
    "ret = run(train, params, opt_state, data_key)\n",
    "(train_losses, val_losses, val_mmds, val_inv_errors, \n",
    " best_epoch_mmd, best_val_mmd, best_params_mmd, \n",
    " best_epoch_loss, best_val_loss, best_params_loss, params) = ret"
   ]
  },
  {
   "cell_type": "code",
   "execution_count": null,
   "id": "38c9cdb2-4e0b-40a2-b393-75afe8814599",
   "metadata": {
    "tags": []
   },
   "outputs": [],
   "source": [
    "print(f'\\nBest Epoch MMD: {best_epoch_mmd} --- Val MMD: {best_val_mmd}')\n",
    "test_loss, test_inv_error, test_mmd = eval_val(test, best_params_mmd, EVAL_SOLVER_STEPS)\n",
    "print(f'Best Model MMD --- Test Loss: {test_loss}, Test Inv Error: {test_inv_error}, Test MMD: {test_mmd}')\n",
    "\n",
    "print(f'\\nBest Epoch Loss: {best_epoch_loss} --- Val Loss: {best_val_loss}')\n",
    "test_loss, test_inv_error, test_mmd = eval_val(test, best_params_loss, EVAL_SOLVER_STEPS)\n",
    "print(f'Best Model Loss --- Test Loss: {test_loss}, Test Inv Error: {test_inv_error}, Test MMD: {test_mmd}')"
   ]
  },
  {
   "cell_type": "code",
   "execution_count": null,
   "id": "35c41320-e337-47b7-abb4-2a52e35d28e7",
   "metadata": {
    "tags": []
   },
   "outputs": [],
   "source": [
    "fig, ax = plt.subplots(1, 2, figsize=(16,6))\n",
    "ax[0].semilogy(train_losses, label='train loss')\n",
    "ax[0].semilogy(val_losses, label='validation loss')\n",
    "ax[1].semilogy(train_losses[1000:], label='train loss')\n",
    "ax[1].semilogy(val_losses[1000:], label='validation loss')\n",
    "plt.legend()"
   ]
  },
  {
   "cell_type": "code",
   "execution_count": null,
   "id": "c418fc54-36f4-414d-89ee-1c1fe3fe38aa",
   "metadata": {},
   "outputs": [],
   "source": []
  },
  {
   "cell_type": "code",
   "execution_count": null,
   "id": "e7a3d1d1-efa1-41d0-9cf7-dc08844f2e1f",
   "metadata": {
    "tags": []
   },
   "outputs": [],
   "source": [
    "filestr = '_'.join([MODEL_PREFIX, PRECISION_PREFIX, DATASET_PREFIX, NPOT_PREFIX])\n",
    "checkpoints.save_checkpoint(\n",
    "    ckpt_dir=f'checkpoints/finalfinal/{filestr}_params',  \n",
    "    target=params,  \n",
    "    overwrite=True,   \n",
    "    step=20000\n",
    ")"
   ]
  },
  {
   "cell_type": "code",
   "execution_count": null,
   "id": "1f07a34c-9b39-4b07-9d5d-c65a7b5c0e54",
   "metadata": {},
   "outputs": [],
   "source": [
    "checkpoints.save_checkpoint(\n",
    "    ckpt_dir=f'checkpoints/finalfinal/{filestr}_bestparams_loss',  \n",
    "    target=best_params_loss,  \n",
    "    overwrite=True,   \n",
    "    step=20000\n",
    ")"
   ]
  },
  {
   "cell_type": "code",
   "execution_count": null,
   "id": "6d2f86ef-481f-49be-b571-d8ada761ab47",
   "metadata": {},
   "outputs": [],
   "source": [
    "checkpoints.save_checkpoint(\n",
    "    ckpt_dir=f'checkpoints/finalfinal/{filestr}_bestparams_mmd',  \n",
    "    target=best_params_mmd,  \n",
    "    overwrite=True,   \n",
    "    step=20000\n",
    ")"
   ]
  },
  {
   "cell_type": "markdown",
   "id": "0914c205-bcbb-4f04-aa5d-070a6615a40c",
   "metadata": {},
   "source": [
    "# TUC Letters (with Spacing)"
   ]
  },
  {
   "cell_type": "code",
   "execution_count": null,
   "id": "99013396-97a8-420b-ada9-5322ae103488",
   "metadata": {
    "tags": []
   },
   "outputs": [],
   "source": [
    "key = random.PRNGKey(seed=42)"
   ]
  },
  {
   "cell_type": "code",
   "execution_count": null,
   "id": "d8ae05b9-3a2e-490a-83c8-322aa905992a",
   "metadata": {
    "tags": []
   },
   "outputs": [],
   "source": [
    "training_size = 10000\n",
    "validation_size = 10000\n",
    "test_size = 20000\n",
    "spacing = 40"
   ]
  },
  {
   "cell_type": "code",
   "execution_count": null,
   "id": "4f4c429c-00aa-409c-bb09-38416013d5a5",
   "metadata": {
    "tags": []
   },
   "outputs": [],
   "source": [
    "BATCH_SIZE_TR = training_size\n",
    "BATCH_SIZE_VAL_TE = validation_size"
   ]
  },
  {
   "cell_type": "code",
   "execution_count": null,
   "id": "b0284f7e-5996-4d83-84ff-139bbe170edb",
   "metadata": {
    "tags": []
   },
   "outputs": [],
   "source": [
    "train, val, test = DatasetGenerator.make_tuc_letters(\n",
    "    key, \n",
    "    training_size, \n",
    "    validation_size, \n",
    "    test_size, \n",
    "    dtype=PRECISION_PREFIX,\n",
    "    spacing=spacing\n",
    ")\n",
    "normal_sample = random.normal(random.fold_in(key, 42), shape=(validation_size, 2), dtype=PRECISION_PREFIX)"
   ]
  },
  {
   "cell_type": "code",
   "execution_count": null,
   "id": "48356c5b-6514-4650-9974-5b3e783b4bdd",
   "metadata": {},
   "outputs": [],
   "source": [
    "DATASET_PREFIX = 'letters-spacing'"
   ]
  },
  {
   "cell_type": "code",
   "execution_count": null,
   "id": "15722d6f-0b62-4f46-ab30-da3f9f07aeb2",
   "metadata": {},
   "outputs": [],
   "source": [
    "TRAIN_GENERATOR = DatasetGenerator.make_tuc_letters_tr\n",
    "TRAIN_GEN_KWARGS = {'spacing': spacing}"
   ]
  },
  {
   "cell_type": "markdown",
   "id": "3e809a1e-8116-4cab-9b06-a530f42d87df",
   "metadata": {},
   "source": [
    "## 1 Potential"
   ]
  },
  {
   "cell_type": "code",
   "execution_count": null,
   "id": "cb845e3b-43e1-46f4-8e23-6ee4841b62ba",
   "metadata": {
    "tags": []
   },
   "outputs": [],
   "source": [
    "NPOT_PREFIX = '1pot'"
   ]
  },
  {
   "cell_type": "code",
   "execution_count": null,
   "id": "fadc2ea4-2f3f-43f6-b9aa-365c82c5e558",
   "metadata": {
    "tags": []
   },
   "outputs": [],
   "source": [
    "key = random.PRNGKey(42)\n",
    "data_key, key = random.split(key, 2)"
   ]
  },
  {
   "cell_type": "code",
   "execution_count": null,
   "id": "888c59ab-1653-481f-bc3f-4b270811647e",
   "metadata": {
    "tags": []
   },
   "outputs": [],
   "source": [
    "EPOCHS = 20000\n",
    "MODEL = OTF.OTF(\n",
    "        input_dim=2, \n",
    "        hidden_dim=32,\n",
    "        resnet_depth=2,\n",
    "        rank=10,\n",
    "        key=key, \n",
    "        phi=OTF.Phi,\n",
    "        alpha1=15.,\n",
    "        alpha2=2.,\n",
    "        num_blocks=1,\n",
    "        t0=0.,\n",
    "        t1=1.,\n",
    "        num_steps=20\n",
    ")\n",
    "LOSS_FUNC = jit(MODEL._loss)\n",
    "VAL_LOSS_FUNC = jit(MODEL.metrics)\n",
    "LOSS_KWARGS = {} \n",
    "VAL_LOSS_KWARGS = {'normal_batch': normal_sample}"
   ]
  },
  {
   "cell_type": "code",
   "execution_count": null,
   "id": "4f85cb95-4a8e-4ed8-ac93-229c548842c9",
   "metadata": {
    "tags": []
   },
   "outputs": [],
   "source": [
    "# Exponential decay of the learning rate.\n",
    "scheduler = optax.exponential_decay(\n",
    "    init_value=5e-2, \n",
    "    transition_steps=1000,\n",
    "    transition_begin=0,\n",
    "    decay_rate=0.6)\n",
    "\n",
    "gradient_transform = optax.chain(\n",
    "    optax.scale_by_adam(),              # Use the updates from adam.\n",
    "    optax.scale_by_schedule(scheduler), # Adapt LR\n",
    "    optax.scale(-1.0)                   # Scale updates by -1 since optax.apply_updates \n",
    "                                        # is additive and we want to descend on the loss.\n",
    ")"
   ]
  },
  {
   "cell_type": "code",
   "execution_count": null,
   "id": "4aab918c-a06b-491e-9090-dab5ce95bd42",
   "metadata": {
    "tags": []
   },
   "outputs": [],
   "source": [
    "params = MODEL.params\n",
    "opt_state = gradient_transform.init(params)"
   ]
  },
  {
   "cell_type": "code",
   "execution_count": null,
   "id": "b8e5ac2c-892c-416e-998e-f466d74f353b",
   "metadata": {
    "tags": []
   },
   "outputs": [],
   "source": [
    "report_as_csv = True\n",
    "report_filename = '_'.join([MODEL_PREFIX, PRECISION_PREFIX, DATASET_PREFIX, NPOT_PREFIX]) + '.csv'"
   ]
  },
  {
   "cell_type": "code",
   "execution_count": null,
   "id": "d88bd9dd-0d88-49f9-bafc-58b318325731",
   "metadata": {
    "tags": []
   },
   "outputs": [],
   "source": [
    "ret = run(train, params, opt_state, data_key)\n",
    "(train_losses, val_losses, val_mmds, val_inv_errors, \n",
    " best_epoch_mmd, best_val_mmd, best_params_mmd, \n",
    " best_epoch_loss, best_val_loss, best_params_loss, params) = ret"
   ]
  },
  {
   "cell_type": "code",
   "execution_count": null,
   "id": "89c11bc1-a771-4059-ab88-8b810c61b4aa",
   "metadata": {
    "tags": []
   },
   "outputs": [],
   "source": [
    "print(f'\\nBest Epoch MMD: {best_epoch_mmd} --- Val MMD: {best_val_mmd}')\n",
    "test_loss, test_inv_error, test_mmd = eval_val(test, best_params_mmd, EVAL_SOLVER_STEPS)\n",
    "print(f'Best Model MMD --- Test Loss: {test_loss}, Test Inv Error: {test_inv_error}, Test MMD: {test_mmd}')\n",
    "\n",
    "print(f'\\nBest Epoch Loss: {best_epoch_loss} --- Val Loss: {best_val_loss}')\n",
    "test_loss, test_inv_error, test_mmd = eval_val(test, best_params_loss, EVAL_SOLVER_STEPS)\n",
    "print(f'Best Model Loss --- Test Loss: {test_loss}, Test Inv Error: {test_inv_error}, Test MMD: {test_mmd}')"
   ]
  },
  {
   "cell_type": "code",
   "execution_count": null,
   "id": "16939540-2502-482b-8a3a-5beec57eabe0",
   "metadata": {
    "tags": []
   },
   "outputs": [],
   "source": [
    "fig, ax = plt.subplots(1, 2, figsize=(16,6))\n",
    "ax[0].semilogy(train_losses, label='train loss')\n",
    "ax[0].semilogy(val_losses, label='validation loss')\n",
    "ax[1].semilogy(train_losses[1000:], label='train loss')\n",
    "ax[1].semilogy(val_losses[1000:], label='validation loss')\n",
    "plt.legend()"
   ]
  },
  {
   "cell_type": "code",
   "execution_count": null,
   "id": "0a951c87-57af-420c-bda3-e9589365e137",
   "metadata": {},
   "outputs": [],
   "source": []
  },
  {
   "cell_type": "code",
   "execution_count": null,
   "id": "77babdd4-a9df-4e56-ab77-d5a7a511f1f5",
   "metadata": {
    "tags": []
   },
   "outputs": [],
   "source": [
    "filestr = '_'.join([MODEL_PREFIX, PRECISION_PREFIX, DATASET_PREFIX, NPOT_PREFIX])\n",
    "checkpoints.save_checkpoint(\n",
    "    ckpt_dir=f'checkpoints/finalfinal/{filestr}_params',  \n",
    "    target=params,  \n",
    "    overwrite=True,   \n",
    "    step=20000\n",
    ")"
   ]
  },
  {
   "cell_type": "code",
   "execution_count": null,
   "id": "fc7cbd6c-03b0-4210-a68a-2e9f6e44be6f",
   "metadata": {},
   "outputs": [],
   "source": [
    "checkpoints.save_checkpoint(\n",
    "    ckpt_dir=f'checkpoints/finalfinal/{filestr}_bestparams_loss',  \n",
    "    target=best_params_loss,  \n",
    "    overwrite=True,   \n",
    "    step=20000\n",
    ")"
   ]
  },
  {
   "cell_type": "code",
   "execution_count": null,
   "id": "f3d758a3-1078-4ca8-afa3-4eb8652af238",
   "metadata": {},
   "outputs": [],
   "source": [
    "checkpoints.save_checkpoint(\n",
    "    ckpt_dir=f'checkpoints/finalfinal/{filestr}_bestparams_mmd',  \n",
    "    target=best_params_mmd,  \n",
    "    overwrite=True,   \n",
    "    step=20000\n",
    ")"
   ]
  },
  {
   "cell_type": "code",
   "execution_count": null,
   "id": "4b7ac4ea-517c-428b-984f-c9c6b840c8a5",
   "metadata": {},
   "outputs": [],
   "source": []
  },
  {
   "cell_type": "markdown",
   "id": "2802c3d2-6ef4-469a-a3f2-6ee682201579",
   "metadata": {},
   "source": [
    "## 3 Potential"
   ]
  },
  {
   "cell_type": "code",
   "execution_count": null,
   "id": "bb204fa3-0111-40c9-894a-5aab3b6c89fe",
   "metadata": {
    "tags": []
   },
   "outputs": [],
   "source": [
    "NPOT_PREFIX = '3pot'"
   ]
  },
  {
   "cell_type": "code",
   "execution_count": null,
   "id": "472b8115-57a8-4ae0-97b3-9e9fda1165dc",
   "metadata": {
    "tags": []
   },
   "outputs": [],
   "source": [
    "key = random.PRNGKey(42)\n",
    "data_key, key = random.split(key, 2)"
   ]
  },
  {
   "cell_type": "code",
   "execution_count": null,
   "id": "d86313bc-a8ff-420e-88d6-d25ef69d6c37",
   "metadata": {
    "tags": []
   },
   "outputs": [],
   "source": [
    "EPOCHS = 20000\n",
    "MODEL = OTF.OTF(\n",
    "        input_dim=2, \n",
    "        hidden_dim=32,\n",
    "        resnet_depth=2,\n",
    "        rank=10,\n",
    "        key=key, \n",
    "        phi=OTF.Phi,\n",
    "        alpha1=15.,\n",
    "        alpha2=2.,\n",
    "        num_blocks=3,\n",
    "        t0=0.,\n",
    "        t1=1.,\n",
    "        num_steps=20\n",
    ")\n",
    "LOSS_FUNC = jit(MODEL._loss)\n",
    "VAL_LOSS_FUNC = jit(MODEL.metrics)\n",
    "LOSS_KWARGS = {} \n",
    "VAL_LOSS_KWARGS = {'normal_batch': normal_sample}"
   ]
  },
  {
   "cell_type": "code",
   "execution_count": null,
   "id": "ef564105-49cc-4ea8-a121-0fff5a2370b7",
   "metadata": {
    "tags": []
   },
   "outputs": [],
   "source": [
    "# Exponential decay of the learning rate.\n",
    "scheduler = optax.exponential_decay(\n",
    "    init_value=5e-2, \n",
    "    transition_steps=1000,\n",
    "    transition_begin=0,\n",
    "    decay_rate=0.6)\n",
    "\n",
    "gradient_transform = optax.chain(\n",
    "    optax.scale_by_adam(),              # Use the updates from adam.\n",
    "    optax.scale_by_schedule(scheduler), # Adapt LR\n",
    "    optax.scale(-1.0)                   # Scale updates by -1 since optax.apply_updates \n",
    "                                        # is additive and we want to descend on the loss.\n",
    ")"
   ]
  },
  {
   "cell_type": "code",
   "execution_count": null,
   "id": "09d155ab-4310-4f5b-8f57-40c0bc73e9a6",
   "metadata": {
    "tags": []
   },
   "outputs": [],
   "source": [
    "params = MODEL.params\n",
    "opt_state = gradient_transform.init(params)"
   ]
  },
  {
   "cell_type": "code",
   "execution_count": null,
   "id": "3d6b5b5c-88b7-4cf7-b1ad-a20faf1ce046",
   "metadata": {
    "tags": []
   },
   "outputs": [],
   "source": [
    "report_as_csv = True\n",
    "report_filename = '_'.join([MODEL_PREFIX, PRECISION_PREFIX, DATASET_PREFIX, NPOT_PREFIX]) + '.csv'"
   ]
  },
  {
   "cell_type": "code",
   "execution_count": null,
   "id": "6a42a8ff-18fd-4e81-aa9c-fd95b2e590bb",
   "metadata": {
    "tags": []
   },
   "outputs": [],
   "source": [
    "ret = run(train, params, opt_state, data_key)\n",
    "(train_losses, val_losses, val_mmds, val_inv_errors, \n",
    " best_epoch_mmd, best_val_mmd, best_params_mmd, \n",
    " best_epoch_loss, best_val_loss, best_params_loss, params) = ret"
   ]
  },
  {
   "cell_type": "code",
   "execution_count": null,
   "id": "a3f231d0-cec2-4b24-bce0-33f10169fe3e",
   "metadata": {
    "tags": []
   },
   "outputs": [],
   "source": [
    "print(f'\\nBest Epoch MMD: {best_epoch_mmd} --- Val MMD: {best_val_mmd}')\n",
    "test_loss, test_inv_error, test_mmd = eval_val(test, best_params_mmd, EVAL_SOLVER_STEPS)\n",
    "print(f'Best Model MMD --- Test Loss: {test_loss}, Test Inv Error: {test_inv_error}, Test MMD: {test_mmd}')\n",
    "\n",
    "print(f'\\nBest Epoch Loss: {best_epoch_loss} --- Val Loss: {best_val_loss}')\n",
    "test_loss, test_inv_error, test_mmd = eval_val(test, best_params_loss, EVAL_SOLVER_STEPS)\n",
    "print(f'Best Model Loss --- Test Loss: {test_loss}, Test Inv Error: {test_inv_error}, Test MMD: {test_mmd}')"
   ]
  },
  {
   "cell_type": "code",
   "execution_count": null,
   "id": "21393fdf-bda6-4e2f-8ae2-81d013b1fca1",
   "metadata": {
    "tags": []
   },
   "outputs": [],
   "source": [
    "fig, ax = plt.subplots(1, 2, figsize=(16,6))\n",
    "ax[0].semilogy(train_losses, label='train loss')\n",
    "ax[0].semilogy(val_losses, label='validation loss')\n",
    "ax[1].semilogy(train_losses[1000:], label='train loss')\n",
    "ax[1].semilogy(val_losses[1000:], label='validation loss')\n",
    "plt.legend()"
   ]
  },
  {
   "cell_type": "code",
   "execution_count": null,
   "id": "ebb32d9d-a0ae-4874-b7c4-9691b6e6a942",
   "metadata": {},
   "outputs": [],
   "source": []
  },
  {
   "cell_type": "code",
   "execution_count": null,
   "id": "567be9f9-6020-4ed8-96bd-dd55b49f12f3",
   "metadata": {
    "tags": []
   },
   "outputs": [],
   "source": [
    "filestr = '_'.join([MODEL_PREFIX, PRECISION_PREFIX, DATASET_PREFIX, NPOT_PREFIX])\n",
    "checkpoints.save_checkpoint(\n",
    "    ckpt_dir=f'checkpoints/finalfinal/{filestr}_params',  \n",
    "    target=params,  \n",
    "    overwrite=True,   \n",
    "    step=20000\n",
    ")"
   ]
  },
  {
   "cell_type": "code",
   "execution_count": null,
   "id": "bd5c55c4-f717-47fa-ae12-5cd1be0b0783",
   "metadata": {},
   "outputs": [],
   "source": [
    "checkpoints.save_checkpoint(\n",
    "    ckpt_dir=f'checkpoints/finalfinal/{filestr}_bestparams_loss',  \n",
    "    target=best_params_loss,  \n",
    "    overwrite=True,   \n",
    "    step=20000\n",
    ")"
   ]
  },
  {
   "cell_type": "code",
   "execution_count": null,
   "id": "40334eb0-132e-484c-a48b-73124aaafc1e",
   "metadata": {},
   "outputs": [],
   "source": [
    "checkpoints.save_checkpoint(\n",
    "    ckpt_dir=f'checkpoints/finalfinal/{filestr}_bestparams_mmd',  \n",
    "    target=best_params_mmd,  \n",
    "    overwrite=True,   \n",
    "    step=20000\n",
    ")"
   ]
  },
  {
   "cell_type": "code",
   "execution_count": null,
   "id": "e4b6e8c0-6897-43db-a373-ddd4c9aa7a12",
   "metadata": {},
   "outputs": [],
   "source": []
  },
  {
   "cell_type": "markdown",
   "id": "6a0c2107-2b4f-4ea4-ba82-29ebcd6e9bfc",
   "metadata": {},
   "source": [
    "## 5 Potential"
   ]
  },
  {
   "cell_type": "code",
   "execution_count": null,
   "id": "d9829ba7-ab01-475f-b548-58fc02f30758",
   "metadata": {
    "tags": []
   },
   "outputs": [],
   "source": [
    "NPOT_PREFIX = '5pot'"
   ]
  },
  {
   "cell_type": "code",
   "execution_count": null,
   "id": "b21c872b-1b63-40aa-97b4-7ae42c05f090",
   "metadata": {
    "tags": []
   },
   "outputs": [],
   "source": [
    "key = random.PRNGKey(42)\n",
    "data_key, key = random.split(key, 2)"
   ]
  },
  {
   "cell_type": "code",
   "execution_count": null,
   "id": "a33800dd-cb32-4ff0-b8c2-eb79b3cf078f",
   "metadata": {
    "tags": []
   },
   "outputs": [],
   "source": [
    "EPOCHS = 20000\n",
    "MODEL = OTF.OTF(\n",
    "        input_dim=2, \n",
    "        hidden_dim=32,\n",
    "        resnet_depth=2,\n",
    "        rank=10,\n",
    "        key=key, \n",
    "        phi=OTF.Phi,\n",
    "        alpha1=15.,\n",
    "        alpha2=2.,\n",
    "        num_blocks=5,\n",
    "        t0=0.,\n",
    "        t1=1.,\n",
    "        num_steps=20\n",
    ")\n",
    "LOSS_FUNC = jit(MODEL._loss)\n",
    "VAL_LOSS_FUNC = jit(MODEL.metrics)\n",
    "LOSS_KWARGS = {} \n",
    "VAL_LOSS_KWARGS = {'normal_batch': normal_sample} "
   ]
  },
  {
   "cell_type": "code",
   "execution_count": null,
   "id": "7c8ffcb3-f128-483c-bd24-d1089e540e66",
   "metadata": {
    "tags": []
   },
   "outputs": [],
   "source": [
    "# Exponential decay of the learning rate.\n",
    "scheduler = optax.exponential_decay(\n",
    "    init_value=5e-2, \n",
    "    transition_steps=1000,\n",
    "    transition_begin=0,\n",
    "    decay_rate=0.6)\n",
    "\n",
    "gradient_transform = optax.chain(\n",
    "    optax.scale_by_adam(),              # Use the updates from adam.\n",
    "    optax.scale_by_schedule(scheduler), # Adapt LR\n",
    "    optax.scale(-1.0)                   # Scale updates by -1 since optax.apply_updates \n",
    "                                        # is additive and we want to descend on the loss.\n",
    ")"
   ]
  },
  {
   "cell_type": "code",
   "execution_count": null,
   "id": "9717ab01-42e3-4a57-b270-6094d824fc59",
   "metadata": {
    "tags": []
   },
   "outputs": [],
   "source": [
    "params = MODEL.params\n",
    "opt_state = gradient_transform.init(params)"
   ]
  },
  {
   "cell_type": "code",
   "execution_count": null,
   "id": "425a8f27-b40f-48bc-b6dd-d19732d4b3d2",
   "metadata": {
    "tags": []
   },
   "outputs": [],
   "source": [
    "report_as_csv = True\n",
    "report_filename = '_'.join([MODEL_PREFIX, PRECISION_PREFIX, DATASET_PREFIX, NPOT_PREFIX]) + '.csv'"
   ]
  },
  {
   "cell_type": "code",
   "execution_count": null,
   "id": "52c3c1a4-49fd-4fe9-8911-e989b3bd5909",
   "metadata": {
    "tags": []
   },
   "outputs": [],
   "source": [
    "ret = run(train, params, opt_state, data_key)\n",
    "(train_losses, val_losses, val_mmds, val_inv_errors, \n",
    " best_epoch_mmd, best_val_mmd, best_params_mmd, \n",
    " best_epoch_loss, best_val_loss, best_params_loss, params) = ret"
   ]
  },
  {
   "cell_type": "code",
   "execution_count": null,
   "id": "9bd14036-a268-4983-8838-55c48d647ac6",
   "metadata": {
    "tags": []
   },
   "outputs": [],
   "source": [
    "print(f'\\nBest Epoch MMD: {best_epoch_mmd} --- Val MMD: {best_val_mmd}')\n",
    "test_loss, test_inv_error, test_mmd = eval_val(test, best_params_mmd, EVAL_SOLVER_STEPS)\n",
    "print(f'Best Model MMD --- Test Loss: {test_loss}, Test Inv Error: {test_inv_error}, Test MMD: {test_mmd}')\n",
    "\n",
    "print(f'\\nBest Epoch Loss: {best_epoch_loss} --- Val Loss: {best_val_loss}')\n",
    "test_loss, test_inv_error, test_mmd = eval_val(test, best_params_loss, EVAL_SOLVER_STEPS)\n",
    "print(f'Best Model Loss --- Test Loss: {test_loss}, Test Inv Error: {test_inv_error}, Test MMD: {test_mmd}')"
   ]
  },
  {
   "cell_type": "code",
   "execution_count": null,
   "id": "3891b696-5a27-4a72-862d-7fad13789354",
   "metadata": {
    "tags": []
   },
   "outputs": [],
   "source": [
    "fig, ax = plt.subplots(1, 2, figsize=(16,6))\n",
    "ax[0].semilogy(train_losses, label='train loss')\n",
    "ax[0].semilogy(val_losses, label='validation loss')\n",
    "ax[1].semilogy(train_losses[1000:], label='train loss')\n",
    "ax[1].semilogy(val_losses[1000:], label='validation loss')\n",
    "plt.legend()"
   ]
  },
  {
   "cell_type": "code",
   "execution_count": null,
   "id": "8cb4b0d9-2db4-4f9d-9e5d-16e4656e540c",
   "metadata": {},
   "outputs": [],
   "source": []
  },
  {
   "cell_type": "code",
   "execution_count": null,
   "id": "647d7d6c-18d6-431f-86d3-c5347429bcef",
   "metadata": {
    "tags": []
   },
   "outputs": [],
   "source": [
    "filestr = '_'.join([MODEL_PREFIX, PRECISION_PREFIX, DATASET_PREFIX, NPOT_PREFIX])\n",
    "checkpoints.save_checkpoint(\n",
    "    ckpt_dir=f'checkpoints/finalfinal/{filestr}_params',  \n",
    "    target=params,  \n",
    "    overwrite=True,   \n",
    "    step=20000\n",
    ")"
   ]
  },
  {
   "cell_type": "code",
   "execution_count": null,
   "id": "252daad6-f8f3-4f5e-adef-714cb4a03e17",
   "metadata": {},
   "outputs": [],
   "source": [
    "checkpoints.save_checkpoint(\n",
    "    ckpt_dir=f'checkpoints/finalfinal/{filestr}_bestparams_loss',  \n",
    "    target=best_params_loss,  \n",
    "    overwrite=True,   \n",
    "    step=20000\n",
    ")"
   ]
  },
  {
   "cell_type": "code",
   "execution_count": null,
   "id": "c429a6ca-0380-4b07-a044-e7d891ad5828",
   "metadata": {},
   "outputs": [],
   "source": [
    "checkpoints.save_checkpoint(\n",
    "    ckpt_dir=f'checkpoints/finalfinal/{filestr}_bestparams_mmd',  \n",
    "    target=best_params_mmd,  \n",
    "    overwrite=True,   \n",
    "    step=20000\n",
    ")"
   ]
  },
  {
   "cell_type": "markdown",
   "id": "89d3432e-3533-4056-a1bd-54f73c0cbdd0",
   "metadata": {},
   "source": [
    "# Checkerboard"
   ]
  },
  {
   "cell_type": "code",
   "execution_count": null,
   "id": "54e49cd8-6383-4bf5-a37f-79fdd43d8d57",
   "metadata": {
    "tags": []
   },
   "outputs": [],
   "source": [
    "key = random.PRNGKey(seed=42)"
   ]
  },
  {
   "cell_type": "code",
   "execution_count": null,
   "id": "b0bf9be4-65e2-4d0d-9792-40c7a2377ca5",
   "metadata": {
    "tags": []
   },
   "outputs": [],
   "source": [
    "training_size = 10000\n",
    "validation_size = 10000\n",
    "test_size = 20000"
   ]
  },
  {
   "cell_type": "code",
   "execution_count": null,
   "id": "a2ae5a0d-0a66-43e9-8096-dc86f3965f33",
   "metadata": {
    "tags": []
   },
   "outputs": [],
   "source": [
    "BATCH_SIZE_TR = training_size\n",
    "BATCH_SIZE_VAL_TE = validation_size"
   ]
  },
  {
   "cell_type": "code",
   "execution_count": null,
   "id": "5ac0559c-1813-441e-813f-f877a4f88158",
   "metadata": {
    "tags": []
   },
   "outputs": [],
   "source": [
    "train, val, test = DatasetGenerator.make_checkerboard(\n",
    "    key, \n",
    "    training_size, \n",
    "    validation_size, \n",
    "    test_size, \n",
    "    dtype=PRECISION_PREFIX,\n",
    ")\n",
    "normal_sample = random.normal(random.fold_in(key, 42), shape=(validation_size, 2), dtype=PRECISION_PREFIX)"
   ]
  },
  {
   "cell_type": "code",
   "execution_count": null,
   "id": "f0cbb88a-9136-46a4-a976-74e8581a16a0",
   "metadata": {},
   "outputs": [],
   "source": [
    "DATASET_PREFIX = 'checkerboards'"
   ]
  },
  {
   "cell_type": "code",
   "execution_count": null,
   "id": "b641d199-417b-40a9-96f9-5b49685b5c37",
   "metadata": {},
   "outputs": [],
   "source": [
    "TRAIN_GENERATOR = DatasetGenerator.make_checkerboard_tr\n",
    "TRAIN_GEN_KWARGS = {}"
   ]
  },
  {
   "cell_type": "markdown",
   "id": "038b3bba-e652-472c-b7df-7fff690582b4",
   "metadata": {},
   "source": [
    "## 1 Potential"
   ]
  },
  {
   "cell_type": "code",
   "execution_count": null,
   "id": "5cb95edd-2cab-4dd3-960d-f1242dc706e8",
   "metadata": {
    "tags": []
   },
   "outputs": [],
   "source": [
    "NPOT_PREFIX = '1pot'"
   ]
  },
  {
   "cell_type": "code",
   "execution_count": null,
   "id": "cc69251d-bcd3-4508-be60-d9fa3f03017c",
   "metadata": {
    "tags": []
   },
   "outputs": [],
   "source": [
    "key = random.PRNGKey(42)\n",
    "data_key, key = random.split(key, 2)"
   ]
  },
  {
   "cell_type": "code",
   "execution_count": null,
   "id": "3838d221-5e6f-411d-ac69-66f477e145f5",
   "metadata": {
    "tags": []
   },
   "outputs": [],
   "source": [
    "EPOCHS = 20000\n",
    "MODEL = OTF.OTF(\n",
    "        input_dim=2, \n",
    "        hidden_dim=32,\n",
    "        resnet_depth=2,\n",
    "        rank=10,\n",
    "        key=key, \n",
    "        phi=OTF.Phi,\n",
    "        alpha1=15.,\n",
    "        alpha2=2.,\n",
    "        num_blocks=1,\n",
    "        t0=0.,\n",
    "        t1=1.,\n",
    "        num_steps=20\n",
    ")\n",
    "LOSS_FUNC = jit(MODEL._loss)\n",
    "VAL_LOSS_FUNC = jit(MODEL.metrics)\n",
    "LOSS_KWARGS = {} \n",
    "VAL_LOSS_KWARGS = {'normal_batch': normal_sample}"
   ]
  },
  {
   "cell_type": "code",
   "execution_count": null,
   "id": "6ae9a0e3-8509-447c-bf50-769ffa1af8be",
   "metadata": {
    "tags": []
   },
   "outputs": [],
   "source": [
    "# Exponential decay of the learning rate.\n",
    "scheduler = optax.exponential_decay(\n",
    "    init_value=5e-2, \n",
    "    transition_steps=1000,\n",
    "    transition_begin=0,\n",
    "    decay_rate=0.6)\n",
    "\n",
    "gradient_transform = optax.chain(\n",
    "    optax.scale_by_adam(),              # Use the updates from adam.\n",
    "    optax.scale_by_schedule(scheduler), # Adapt LR\n",
    "    optax.scale(-1.0)                   # Scale updates by -1 since optax.apply_updates \n",
    "                                        # is additive and we want to descend on the loss.\n",
    ")"
   ]
  },
  {
   "cell_type": "code",
   "execution_count": null,
   "id": "6b647ebd-3211-4ff3-a5bf-74d8ab9953c4",
   "metadata": {
    "tags": []
   },
   "outputs": [],
   "source": [
    "params = MODEL.params\n",
    "opt_state = gradient_transform.init(params)"
   ]
  },
  {
   "cell_type": "code",
   "execution_count": null,
   "id": "b9fbeef0-ea0d-4279-9ba7-17fa167c1aa2",
   "metadata": {
    "tags": []
   },
   "outputs": [],
   "source": [
    "report_as_csv = True\n",
    "report_filename = '_'.join([MODEL_PREFIX, PRECISION_PREFIX, DATASET_PREFIX, NPOT_PREFIX]) + '.csv'"
   ]
  },
  {
   "cell_type": "code",
   "execution_count": null,
   "id": "2ae619e7-0447-4dcc-8fa9-890c20c0ad1a",
   "metadata": {
    "tags": []
   },
   "outputs": [],
   "source": [
    "ret = run(train, params, opt_state, data_key)\n",
    "(train_losses, val_losses, val_mmds, val_inv_errors, \n",
    " best_epoch_mmd, best_val_mmd, best_params_mmd, \n",
    " best_epoch_loss, best_val_loss, best_params_loss, params) = ret"
   ]
  },
  {
   "cell_type": "code",
   "execution_count": null,
   "id": "391bd5da-4b4d-43fd-8d65-c8480f93ceb1",
   "metadata": {
    "tags": []
   },
   "outputs": [],
   "source": [
    "print(f'\\nBest Epoch MMD: {best_epoch_mmd} --- Val MMD: {best_val_mmd}')\n",
    "test_loss, test_inv_error, test_mmd = eval_val(test, best_params_mmd, EVAL_SOLVER_STEPS)\n",
    "print(f'Best Model MMD --- Test Loss: {test_loss}, Test Inv Error: {test_inv_error}, Test MMD: {test_mmd}')\n",
    "\n",
    "print(f'\\nBest Epoch Loss: {best_epoch_loss} --- Val Loss: {best_val_loss}')\n",
    "test_loss, test_inv_error, test_mmd = eval_val(test, best_params_loss, EVAL_SOLVER_STEPS)\n",
    "print(f'Best Model Loss --- Test Loss: {test_loss}, Test Inv Error: {test_inv_error}, Test MMD: {test_mmd}')"
   ]
  },
  {
   "cell_type": "code",
   "execution_count": null,
   "id": "51f2e13d-8656-45b8-9caa-607c848edb80",
   "metadata": {
    "tags": []
   },
   "outputs": [],
   "source": [
    "fig, ax = plt.subplots(1, 2, figsize=(16,6))\n",
    "ax[0].semilogy(train_losses, label='train loss')\n",
    "ax[0].semilogy(val_losses, label='validation loss')\n",
    "ax[1].semilogy(train_losses[1000:], label='train loss')\n",
    "ax[1].semilogy(val_losses[1000:], label='validation loss')\n",
    "plt.legend()"
   ]
  },
  {
   "cell_type": "code",
   "execution_count": null,
   "id": "8cd86533-a8b2-425c-95c4-8d410314645b",
   "metadata": {},
   "outputs": [],
   "source": []
  },
  {
   "cell_type": "code",
   "execution_count": null,
   "id": "bb798fbe-01b2-4cc7-8fd8-6d1b9505a0c0",
   "metadata": {
    "tags": []
   },
   "outputs": [],
   "source": [
    "filestr = '_'.join([MODEL_PREFIX, PRECISION_PREFIX, DATASET_PREFIX, NPOT_PREFIX])\n",
    "checkpoints.save_checkpoint(\n",
    "    ckpt_dir=f'checkpoints/finalfinal/{filestr}_params',  \n",
    "    target=params,  \n",
    "    overwrite=True,   \n",
    "    step=20000\n",
    ")"
   ]
  },
  {
   "cell_type": "code",
   "execution_count": null,
   "id": "6578f3eb-7374-4d1e-8f29-131862f37cd0",
   "metadata": {},
   "outputs": [],
   "source": [
    "checkpoints.save_checkpoint(\n",
    "    ckpt_dir=f'checkpoints/finalfinal/{filestr}_bestparams_loss',  \n",
    "    target=best_params_loss,  \n",
    "    overwrite=True,   \n",
    "    step=20000\n",
    ")"
   ]
  },
  {
   "cell_type": "code",
   "execution_count": null,
   "id": "bc9795f2-fc71-4761-a6f8-bfaf56057a2a",
   "metadata": {},
   "outputs": [],
   "source": [
    "checkpoints.save_checkpoint(\n",
    "    ckpt_dir=f'checkpoints/finalfinal/{filestr}_bestparams_mmd',  \n",
    "    target=best_params_mmd,  \n",
    "    overwrite=True,   \n",
    "    step=20000\n",
    ")"
   ]
  },
  {
   "cell_type": "code",
   "execution_count": null,
   "id": "4475fb72-b3b1-48c9-9685-48d9e23274cf",
   "metadata": {},
   "outputs": [],
   "source": []
  },
  {
   "cell_type": "markdown",
   "id": "0d0a37e8-0473-492f-92f4-e071907fafd0",
   "metadata": {},
   "source": [
    "## 3 Potential"
   ]
  },
  {
   "cell_type": "code",
   "execution_count": null,
   "id": "8679e37a-ad08-460c-b2d8-9e201df2571d",
   "metadata": {
    "tags": []
   },
   "outputs": [],
   "source": [
    "NPOT_PREFIX = '3pot'"
   ]
  },
  {
   "cell_type": "code",
   "execution_count": null,
   "id": "28a4c0e3-fac4-498d-b8e5-ef8fbc5a33ea",
   "metadata": {
    "tags": []
   },
   "outputs": [],
   "source": [
    "key = random.PRNGKey(42)\n",
    "data_key, key = random.split(key, 2)"
   ]
  },
  {
   "cell_type": "code",
   "execution_count": null,
   "id": "ed88a115-d569-41ad-ad46-2d5a039e4eb5",
   "metadata": {
    "tags": []
   },
   "outputs": [],
   "source": [
    "EPOCHS = 20000\n",
    "MODEL = OTF.OTF(\n",
    "        input_dim=2, \n",
    "        hidden_dim=32,\n",
    "        resnet_depth=2,\n",
    "        rank=10,\n",
    "        key=key, \n",
    "        phi=OTF.Phi,\n",
    "        alpha1=15.,\n",
    "        alpha2=2.,\n",
    "        num_blocks=3,\n",
    "        t0=0.,\n",
    "        t1=1.,\n",
    "        num_steps=20\n",
    ")\n",
    "LOSS_FUNC = jit(MODEL._loss)\n",
    "VAL_LOSS_FUNC = jit(MODEL.metrics)\n",
    "LOSS_KWARGS = {} \n",
    "VAL_LOSS_KWARGS = {'normal_batch': normal_sample}"
   ]
  },
  {
   "cell_type": "code",
   "execution_count": null,
   "id": "beb8c306-5d15-4dfe-a9bf-52864d2d6b07",
   "metadata": {
    "tags": []
   },
   "outputs": [],
   "source": [
    "# Exponential decay of the learning rate.\n",
    "scheduler = optax.exponential_decay(\n",
    "    init_value=5e-2, \n",
    "    transition_steps=1000,\n",
    "    transition_begin=0,\n",
    "    decay_rate=0.6)\n",
    "\n",
    "gradient_transform = optax.chain(\n",
    "    optax.scale_by_adam(),              # Use the updates from adam.\n",
    "    optax.scale_by_schedule(scheduler), # Adapt LR\n",
    "    optax.scale(-1.0)                   # Scale updates by -1 since optax.apply_updates \n",
    "                                        # is additive and we want to descend on the loss.\n",
    ")"
   ]
  },
  {
   "cell_type": "code",
   "execution_count": null,
   "id": "de70fd30-b39a-4613-8903-4c87c86de73d",
   "metadata": {
    "tags": []
   },
   "outputs": [],
   "source": [
    "params = MODEL.params\n",
    "opt_state = gradient_transform.init(params)"
   ]
  },
  {
   "cell_type": "code",
   "execution_count": null,
   "id": "43a102da-780f-42f0-8f41-d282315e86f8",
   "metadata": {
    "tags": []
   },
   "outputs": [],
   "source": [
    "report_as_csv = True\n",
    "report_filename = '_'.join([MODEL_PREFIX, PRECISION_PREFIX, DATASET_PREFIX, NPOT_PREFIX]) + '.csv'"
   ]
  },
  {
   "cell_type": "code",
   "execution_count": null,
   "id": "3145d874-5cae-4c20-bc9c-f40213389655",
   "metadata": {
    "tags": []
   },
   "outputs": [],
   "source": [
    "ret = run(train, params, opt_state, data_key)\n",
    "(train_losses, val_losses, val_mmds, val_inv_errors, \n",
    " best_epoch_mmd, best_val_mmd, best_params_mmd, \n",
    " best_epoch_loss, best_val_loss, best_params_loss, params) = ret"
   ]
  },
  {
   "cell_type": "code",
   "execution_count": null,
   "id": "31eac573-f4c8-4f52-b17a-04232335444f",
   "metadata": {
    "tags": []
   },
   "outputs": [],
   "source": [
    "print(f'\\nBest Epoch MMD: {best_epoch_mmd} --- Val MMD: {best_val_mmd}')\n",
    "test_loss, test_inv_error, test_mmd = eval_val(test, best_params_mmd, EVAL_SOLVER_STEPS)\n",
    "print(f'Best Model MMD --- Test Loss: {test_loss}, Test Inv Error: {test_inv_error}, Test MMD: {test_mmd}')\n",
    "\n",
    "print(f'\\nBest Epoch Loss: {best_epoch_loss} --- Val Loss: {best_val_loss}')\n",
    "test_loss, test_inv_error, test_mmd = eval_val(test, best_params_loss, EVAL_SOLVER_STEPS)\n",
    "print(f'Best Model Loss --- Test Loss: {test_loss}, Test Inv Error: {test_inv_error}, Test MMD: {test_mmd}')"
   ]
  },
  {
   "cell_type": "code",
   "execution_count": null,
   "id": "db11aa69-d3e2-4373-9809-c8f9a16b75ae",
   "metadata": {
    "tags": []
   },
   "outputs": [],
   "source": [
    "fig, ax = plt.subplots(1, 2, figsize=(16,6))\n",
    "ax[0].semilogy(train_losses, label='train loss')\n",
    "ax[0].semilogy(val_losses, label='validation loss')\n",
    "ax[1].semilogy(train_losses[1000:], label='train loss')\n",
    "ax[1].semilogy(val_losses[1000:], label='validation loss')\n",
    "plt.legend()"
   ]
  },
  {
   "cell_type": "code",
   "execution_count": null,
   "id": "c0a3530f-1b45-48dc-bbbe-92425ce1fbfe",
   "metadata": {},
   "outputs": [],
   "source": []
  },
  {
   "cell_type": "code",
   "execution_count": null,
   "id": "e2fc7180-3ce5-4656-8859-7d5442ef00c9",
   "metadata": {
    "tags": []
   },
   "outputs": [],
   "source": [
    "filestr = '_'.join([MODEL_PREFIX, PRECISION_PREFIX, DATASET_PREFIX, NPOT_PREFIX])\n",
    "checkpoints.save_checkpoint(\n",
    "    ckpt_dir=f'checkpoints/finalfinal/{filestr}_params',  \n",
    "    target=params,  \n",
    "    overwrite=True,   \n",
    "    step=20000\n",
    ")"
   ]
  },
  {
   "cell_type": "code",
   "execution_count": null,
   "id": "019246dc-4f6c-45e2-8dba-6c9550b35c07",
   "metadata": {},
   "outputs": [],
   "source": [
    "checkpoints.save_checkpoint(\n",
    "    ckpt_dir=f'checkpoints/finalfinal/{filestr}_bestparams_loss',  \n",
    "    target=best_params_loss,  \n",
    "    overwrite=True,   \n",
    "    step=20000\n",
    ")"
   ]
  },
  {
   "cell_type": "code",
   "execution_count": null,
   "id": "32798974-84d2-4759-ae58-b4913517a9a5",
   "metadata": {},
   "outputs": [],
   "source": [
    "checkpoints.save_checkpoint(\n",
    "    ckpt_dir=f'checkpoints/finalfinal/{filestr}_bestparams_mmd',  \n",
    "    target=best_params_mmd,  \n",
    "    overwrite=True,   \n",
    "    step=20000\n",
    ")"
   ]
  },
  {
   "cell_type": "code",
   "execution_count": null,
   "id": "f0c8dcf5-f183-4486-84d3-f191d1614b44",
   "metadata": {},
   "outputs": [],
   "source": []
  },
  {
   "cell_type": "markdown",
   "id": "ccc36bc9-b3b5-4335-a204-88cc9ad11a44",
   "metadata": {},
   "source": [
    "## 5 Potential"
   ]
  },
  {
   "cell_type": "code",
   "execution_count": null,
   "id": "6fdcdf65-e593-4c75-9171-4801ea822f83",
   "metadata": {
    "tags": []
   },
   "outputs": [],
   "source": [
    "NPOT_PREFIX = '5pot'"
   ]
  },
  {
   "cell_type": "code",
   "execution_count": null,
   "id": "2faa43f5-7260-4d3a-9581-2c3c7f41c5b7",
   "metadata": {
    "tags": []
   },
   "outputs": [],
   "source": [
    "key = random.PRNGKey(42)\n",
    "data_key, key = random.split(key, 2)"
   ]
  },
  {
   "cell_type": "code",
   "execution_count": null,
   "id": "c6409938-70cf-4b88-83c5-10562cb6abf2",
   "metadata": {
    "tags": []
   },
   "outputs": [],
   "source": [
    "EPOCHS = 20000\n",
    "MODEL = OTF.OTF(\n",
    "        input_dim=2, \n",
    "        hidden_dim=32,\n",
    "        resnet_depth=2,\n",
    "        rank=10,\n",
    "        key=key, \n",
    "        phi=OTF.Phi,\n",
    "        alpha1=15.,\n",
    "        alpha2=2.,\n",
    "        num_blocks=5,\n",
    "        t0=0.,\n",
    "        t1=1.,\n",
    "        num_steps=20\n",
    ")\n",
    "LOSS_FUNC = jit(MODEL._loss)\n",
    "VAL_LOSS_FUNC = jit(MODEL.metrics)\n",
    "LOSS_KWARGS = {} \n",
    "VAL_LOSS_KWARGS = {'normal_batch': normal_sample} "
   ]
  },
  {
   "cell_type": "code",
   "execution_count": null,
   "id": "73f80ebf-30a6-49d0-9d18-e4d386983e46",
   "metadata": {
    "tags": []
   },
   "outputs": [],
   "source": [
    "# Exponential decay of the learning rate.\n",
    "scheduler = optax.exponential_decay(\n",
    "    init_value=5e-2, \n",
    "    transition_steps=1000,\n",
    "    transition_begin=0,\n",
    "    decay_rate=0.6)\n",
    "\n",
    "gradient_transform = optax.chain(\n",
    "    optax.scale_by_adam(),              # Use the updates from adam.\n",
    "    optax.scale_by_schedule(scheduler), # Adapt LR\n",
    "    optax.scale(-1.0)                   # Scale updates by -1 since optax.apply_updates \n",
    "                                        # is additive and we want to descend on the loss.\n",
    ")"
   ]
  },
  {
   "cell_type": "code",
   "execution_count": null,
   "id": "27623b4b-e821-49b9-a895-eab384b68519",
   "metadata": {
    "tags": []
   },
   "outputs": [],
   "source": [
    "params = MODEL.params\n",
    "opt_state = gradient_transform.init(params)"
   ]
  },
  {
   "cell_type": "code",
   "execution_count": null,
   "id": "6a552680-7a31-4c40-a126-0e11d5634a36",
   "metadata": {
    "tags": []
   },
   "outputs": [],
   "source": [
    "report_as_csv = True\n",
    "report_filename = '_'.join([MODEL_PREFIX, PRECISION_PREFIX, DATASET_PREFIX, NPOT_PREFIX]) + '.csv'"
   ]
  },
  {
   "cell_type": "code",
   "execution_count": null,
   "id": "113eec1e-dc3b-43cd-b5fb-b7d083d143b8",
   "metadata": {
    "tags": []
   },
   "outputs": [],
   "source": [
    "ret = run(train, params, opt_state, data_key)\n",
    "(train_losses, val_losses, val_mmds, val_inv_errors, \n",
    " best_epoch_mmd, best_val_mmd, best_params_mmd, \n",
    " best_epoch_loss, best_val_loss, best_params_loss, params) = ret"
   ]
  },
  {
   "cell_type": "code",
   "execution_count": null,
   "id": "02f89688-4704-440f-800e-bf6a78cdc1d3",
   "metadata": {
    "tags": []
   },
   "outputs": [],
   "source": [
    "print(f'\\nBest Epoch MMD: {best_epoch_mmd} --- Val MMD: {best_val_mmd}')\n",
    "test_loss, test_inv_error, test_mmd = eval_val(test, best_params_mmd, EVAL_SOLVER_STEPS)\n",
    "print(f'Best Model MMD --- Test Loss: {test_loss}, Test Inv Error: {test_inv_error}, Test MMD: {test_mmd}')\n",
    "\n",
    "print(f'\\nBest Epoch Loss: {best_epoch_loss} --- Val Loss: {best_val_loss}')\n",
    "test_loss, test_inv_error, test_mmd = eval_val(test, best_params_loss, EVAL_SOLVER_STEPS)\n",
    "print(f'Best Model Loss --- Test Loss: {test_loss}, Test Inv Error: {test_inv_error}, Test MMD: {test_mmd}')"
   ]
  },
  {
   "cell_type": "code",
   "execution_count": null,
   "id": "97a78db8-b11c-41fa-8556-e590aac32007",
   "metadata": {
    "tags": []
   },
   "outputs": [],
   "source": [
    "fig, ax = plt.subplots(1, 2, figsize=(16,6))\n",
    "ax[0].semilogy(train_losses, label='train loss')\n",
    "ax[0].semilogy(val_losses, label='validation loss')\n",
    "ax[1].semilogy(train_losses[1000:], label='train loss')\n",
    "ax[1].semilogy(val_losses[1000:], label='validation loss')\n",
    "plt.legend()"
   ]
  },
  {
   "cell_type": "code",
   "execution_count": null,
   "id": "34278869-626e-48d1-80a1-b3b8fddf13db",
   "metadata": {},
   "outputs": [],
   "source": []
  },
  {
   "cell_type": "code",
   "execution_count": null,
   "id": "b913259e-f2b2-4273-b460-3d6dfda03a21",
   "metadata": {
    "tags": []
   },
   "outputs": [],
   "source": [
    "filestr = '_'.join([MODEL_PREFIX, PRECISION_PREFIX, DATASET_PREFIX, NPOT_PREFIX])\n",
    "checkpoints.save_checkpoint(\n",
    "    ckpt_dir=f'checkpoints/finalfinal/{filestr}_params',  \n",
    "    target=params,  \n",
    "    overwrite=True,   \n",
    "    step=20000\n",
    ")"
   ]
  },
  {
   "cell_type": "code",
   "execution_count": null,
   "id": "c52e26a5-c009-4d19-a578-a7d32d18ce26",
   "metadata": {},
   "outputs": [],
   "source": [
    "checkpoints.save_checkpoint(\n",
    "    ckpt_dir=f'checkpoints/finalfinal/{filestr}_bestparams_loss',  \n",
    "    target=best_params_loss,  \n",
    "    overwrite=True,   \n",
    "    step=20000\n",
    ")"
   ]
  },
  {
   "cell_type": "code",
   "execution_count": null,
   "id": "d6d4d855-b8c3-48f6-8f65-0d9dba383b5e",
   "metadata": {},
   "outputs": [],
   "source": [
    "checkpoints.save_checkpoint(\n",
    "    ckpt_dir=f'checkpoints/finalfinal/{filestr}_bestparams_mmd',  \n",
    "    target=best_params_mmd,  \n",
    "    overwrite=True,   \n",
    "    step=20000\n",
    ")"
   ]
  },
  {
   "cell_type": "markdown",
   "id": "db02fc6d-0be2-414f-b767-012cde270636",
   "metadata": {
    "tags": []
   },
   "source": [
    "# TUC Logo"
   ]
  },
  {
   "cell_type": "code",
   "execution_count": null,
   "id": "7d1c1ad9-27e6-4556-9fff-e17ace0d2d1d",
   "metadata": {
    "tags": []
   },
   "outputs": [],
   "source": [
    "key = random.PRNGKey(seed=42)"
   ]
  },
  {
   "cell_type": "code",
   "execution_count": null,
   "id": "aa3ab1a0-3617-45a2-8133-e538037081aa",
   "metadata": {
    "tags": []
   },
   "outputs": [],
   "source": [
    "training_size = 10000\n",
    "validation_size = 10000\n",
    "test_size = 20000\n",
    "spacing = 40"
   ]
  },
  {
   "cell_type": "code",
   "execution_count": null,
   "id": "fb71b5e1-f643-4460-8136-6f2d64718a71",
   "metadata": {
    "tags": []
   },
   "outputs": [],
   "source": [
    "BATCH_SIZE_TR = training_size\n",
    "BATCH_SIZE_VAL_TE = validation_size"
   ]
  },
  {
   "cell_type": "code",
   "execution_count": null,
   "id": "4f773bf8-123f-4e38-8463-21a4e1cd49bf",
   "metadata": {
    "tags": []
   },
   "outputs": [],
   "source": [
    "train, val, test = DatasetGenerator.make_tuc_logo(\n",
    "    key, \n",
    "    training_size, \n",
    "    validation_size, \n",
    "    test_size, \n",
    "    dtype=PRECISION_PREFIX,\n",
    ")\n",
    "normal_sample = random.normal(random.fold_in(key, 42), shape=(validation_size, 2), dtype=PRECISION_PREFIX)"
   ]
  },
  {
   "cell_type": "code",
   "execution_count": null,
   "id": "ef6914c7-2928-4147-a162-53e7097f761a",
   "metadata": {},
   "outputs": [],
   "source": [
    "DATASET_PREFIX = 'tuc-logo'"
   ]
  },
  {
   "cell_type": "code",
   "execution_count": null,
   "id": "8d62aec8-d223-4906-9e8f-aea2a34048a9",
   "metadata": {},
   "outputs": [],
   "source": [
    "TRAIN_GENERATOR = DatasetGenerator.make_tuc_logo_tr\n",
    "TRAIN_GEN_KWARGS = {}"
   ]
  },
  {
   "cell_type": "markdown",
   "id": "e01ed7a4-0a59-472c-a9f7-df68f322a3d8",
   "metadata": {},
   "source": [
    "## 1 Potential"
   ]
  },
  {
   "cell_type": "code",
   "execution_count": null,
   "id": "913d7942-1e79-4a96-b503-f4e5025f8b02",
   "metadata": {
    "tags": []
   },
   "outputs": [],
   "source": [
    "NPOT_PREFIX = '1pot'"
   ]
  },
  {
   "cell_type": "code",
   "execution_count": null,
   "id": "272fe474-33a5-4678-82a7-79c8d81b6b46",
   "metadata": {
    "tags": []
   },
   "outputs": [],
   "source": [
    "key = random.PRNGKey(42)\n",
    "data_key, key = random.split(key, 2)"
   ]
  },
  {
   "cell_type": "code",
   "execution_count": null,
   "id": "7f2361d1-8810-4162-8649-7d2d35b1f8b3",
   "metadata": {
    "tags": []
   },
   "outputs": [],
   "source": [
    "EPOCHS = 20000\n",
    "MODEL = OTF.OTF(\n",
    "        input_dim=2, \n",
    "        hidden_dim=64,\n",
    "        resnet_depth=2,\n",
    "        rank=20,\n",
    "        key=key, \n",
    "        phi=OTF.Phi,\n",
    "        alpha1=15.,\n",
    "        alpha2=2.,\n",
    "        num_blocks=1,\n",
    "        t0=0.,\n",
    "        t1=1.,\n",
    "        num_steps=20\n",
    ")\n",
    "LOSS_FUNC = jit(MODEL._loss)\n",
    "VAL_LOSS_FUNC = jit(MODEL.metrics)\n",
    "LOSS_KWARGS = {} \n",
    "VAL_LOSS_KWARGS = {'normal_batch': normal_sample}"
   ]
  },
  {
   "cell_type": "code",
   "execution_count": null,
   "id": "f3de7cc9-6684-4706-928c-b29013654ccf",
   "metadata": {
    "tags": []
   },
   "outputs": [],
   "source": [
    "# Exponential decay of the learning rate.\n",
    "scheduler = optax.exponential_decay(\n",
    "    init_value=5e-2, \n",
    "    transition_steps=1000,\n",
    "    transition_begin=0,\n",
    "    decay_rate=0.6)\n",
    "\n",
    "gradient_transform = optax.chain(\n",
    "    optax.scale_by_adam(),              # Use the updates from adam.\n",
    "    optax.scale_by_schedule(scheduler), # Adapt LR\n",
    "    optax.scale(-1.0)                   # Scale updates by -1 since optax.apply_updates \n",
    "                                        # is additive and we want to descend on the loss.\n",
    ")"
   ]
  },
  {
   "cell_type": "code",
   "execution_count": null,
   "id": "cb1914ec-6f85-4abb-8a15-5f7e40312427",
   "metadata": {
    "tags": []
   },
   "outputs": [],
   "source": [
    "params = MODEL.params\n",
    "opt_state = gradient_transform.init(params)"
   ]
  },
  {
   "cell_type": "code",
   "execution_count": null,
   "id": "1d44cf1a-5d5e-4fef-a612-9e6fad713efa",
   "metadata": {
    "tags": []
   },
   "outputs": [],
   "source": [
    "report_as_csv = True\n",
    "report_filename = '_'.join([MODEL_PREFIX, PRECISION_PREFIX, DATASET_PREFIX, NPOT_PREFIX]) + '.csv'"
   ]
  },
  {
   "cell_type": "code",
   "execution_count": null,
   "id": "1a488204-4470-4ba9-996a-92d46122abb3",
   "metadata": {
    "tags": []
   },
   "outputs": [],
   "source": [
    "ret = run(train, params, opt_state, data_key)\n",
    "(train_losses, val_losses, val_mmds, val_inv_errors, \n",
    " best_epoch_mmd, best_val_mmd, best_params_mmd, \n",
    " best_epoch_loss, best_val_loss, best_params_loss, params) = ret"
   ]
  },
  {
   "cell_type": "code",
   "execution_count": null,
   "id": "866392cb-a35f-4212-9a19-f92efa4602d1",
   "metadata": {
    "tags": []
   },
   "outputs": [],
   "source": [
    "print(f'\\nBest Epoch MMD: {best_epoch_mmd} --- Val MMD: {best_val_mmd}')\n",
    "test_loss, test_inv_error, test_mmd = eval_val(test, best_params_mmd, EVAL_SOLVER_STEPS)\n",
    "print(f'Best Model MMD --- Test Loss: {test_loss}, Test Inv Error: {test_inv_error}, Test MMD: {test_mmd}')\n",
    "\n",
    "print(f'\\nBest Epoch Loss: {best_epoch_loss} --- Val Loss: {best_val_loss}')\n",
    "test_loss, test_inv_error, test_mmd = eval_val(test, best_params_loss, EVAL_SOLVER_STEPS)\n",
    "print(f'Best Model Loss --- Test Loss: {test_loss}, Test Inv Error: {test_inv_error}, Test MMD: {test_mmd}')"
   ]
  },
  {
   "cell_type": "code",
   "execution_count": null,
   "id": "db53e178-a7b2-451e-b3d5-cc1570521a88",
   "metadata": {
    "tags": []
   },
   "outputs": [],
   "source": [
    "fig, ax = plt.subplots(1, 2, figsize=(16,6))\n",
    "ax[0].semilogy(train_losses, label='train loss')\n",
    "ax[0].semilogy(val_losses, label='validation loss')\n",
    "ax[1].semilogy(train_losses[1000:], label='train loss')\n",
    "ax[1].semilogy(val_losses[1000:], label='validation loss')\n",
    "plt.legend()"
   ]
  },
  {
   "cell_type": "code",
   "execution_count": null,
   "id": "f41d4003-33bd-4c6f-8fcc-18d8a4ca1b1c",
   "metadata": {},
   "outputs": [],
   "source": []
  },
  {
   "cell_type": "code",
   "execution_count": null,
   "id": "a0d96ef1-8964-4f6c-b7cd-45ae1737ea49",
   "metadata": {
    "tags": []
   },
   "outputs": [],
   "source": [
    "filestr = '_'.join([MODEL_PREFIX, PRECISION_PREFIX, DATASET_PREFIX, NPOT_PREFIX])\n",
    "checkpoints.save_checkpoint(\n",
    "    ckpt_dir=f'checkpoints/finalfinal/{filestr}_params',  \n",
    "    target=params,  \n",
    "    overwrite=True,   \n",
    "    step=20000\n",
    ")"
   ]
  },
  {
   "cell_type": "code",
   "execution_count": null,
   "id": "6d4038e0-3678-4676-b811-d1c9439c193c",
   "metadata": {},
   "outputs": [],
   "source": [
    "checkpoints.save_checkpoint(\n",
    "    ckpt_dir=f'checkpoints/finalfinal/{filestr}_bestparams_loss',  \n",
    "    target=best_params_loss,  \n",
    "    overwrite=True,   \n",
    "    step=20000\n",
    ")"
   ]
  },
  {
   "cell_type": "code",
   "execution_count": null,
   "id": "13373a68-0180-45e7-ae10-f03e147e0091",
   "metadata": {},
   "outputs": [],
   "source": [
    "checkpoints.save_checkpoint(\n",
    "    ckpt_dir=f'checkpoints/finalfinal/{filestr}_bestparams_mmd',  \n",
    "    target=best_params_mmd,  \n",
    "    overwrite=True,   \n",
    "    step=20000\n",
    ")"
   ]
  },
  {
   "cell_type": "code",
   "execution_count": null,
   "id": "68a656e9-f327-4fa0-a325-ad6c69f1cb64",
   "metadata": {},
   "outputs": [],
   "source": []
  },
  {
   "cell_type": "markdown",
   "id": "ec7d57a0-ada4-439e-8d6a-3597a8cc5fc9",
   "metadata": {},
   "source": [
    "## 3 Potential"
   ]
  },
  {
   "cell_type": "code",
   "execution_count": null,
   "id": "9b4b4e05-7297-4030-99c9-ae4c75c6d49b",
   "metadata": {
    "tags": []
   },
   "outputs": [],
   "source": [
    "NPOT_PREFIX = '3pot'"
   ]
  },
  {
   "cell_type": "code",
   "execution_count": null,
   "id": "d587a1cd-df8b-4b88-b169-f9811fd064ea",
   "metadata": {
    "tags": []
   },
   "outputs": [],
   "source": [
    "key = random.PRNGKey(42)\n",
    "data_key, key = random.split(key, 2)"
   ]
  },
  {
   "cell_type": "code",
   "execution_count": null,
   "id": "de80fd3a-23b4-4bd9-ba4d-48ec8e50536d",
   "metadata": {
    "tags": []
   },
   "outputs": [],
   "source": [
    "EPOCHS = 20000\n",
    "MODEL = OTF.OTF(\n",
    "        input_dim=2, \n",
    "        hidden_dim=64,\n",
    "        resnet_depth=2,\n",
    "        rank=20,\n",
    "        key=key, \n",
    "        phi=OTF.Phi,\n",
    "        alpha1=15.,\n",
    "        alpha2=2.,\n",
    "        num_blocks=3,\n",
    "        t0=0.,\n",
    "        t1=1.,\n",
    "        num_steps=20\n",
    ")\n",
    "LOSS_FUNC = jit(MODEL._loss)\n",
    "VAL_LOSS_FUNC = jit(MODEL.metrics)\n",
    "LOSS_KWARGS = {}\n",
    "VAL_LOSS_KWARGS = {'normal_batch': normal_sample}"
   ]
  },
  {
   "cell_type": "code",
   "execution_count": null,
   "id": "9a29fe17-ac05-4c70-b3f2-bb2565e6d505",
   "metadata": {
    "tags": []
   },
   "outputs": [],
   "source": [
    "# Exponential decay of the learning rate.\n",
    "scheduler = optax.exponential_decay(\n",
    "    init_value=5e-2, \n",
    "    transition_steps=1000,\n",
    "    transition_begin=0,\n",
    "    decay_rate=0.6)\n",
    "\n",
    "gradient_transform = optax.chain(\n",
    "    optax.scale_by_adam(),              # Use the updates from adam.\n",
    "    optax.scale_by_schedule(scheduler), # Adapt LR\n",
    "    optax.scale(-1.0)                   # Scale updates by -1 since optax.apply_updates \n",
    "                                        # is additive and we want to descend on the loss.\n",
    ")"
   ]
  },
  {
   "cell_type": "code",
   "execution_count": null,
   "id": "34400bc2-4296-4140-b4d7-06d14c582a24",
   "metadata": {
    "tags": []
   },
   "outputs": [],
   "source": [
    "params = MODEL.params\n",
    "opt_state = gradient_transform.init(params)"
   ]
  },
  {
   "cell_type": "code",
   "execution_count": null,
   "id": "e97e2933-86df-42fb-96a1-8f2411d3a029",
   "metadata": {
    "tags": []
   },
   "outputs": [],
   "source": [
    "report_as_csv = True\n",
    "report_filename = '_'.join([MODEL_PREFIX, PRECISION_PREFIX, DATASET_PREFIX, NPOT_PREFIX]) + '.csv'"
   ]
  },
  {
   "cell_type": "code",
   "execution_count": null,
   "id": "cf5353ba-5d2d-40ca-8486-42bd1f48e787",
   "metadata": {
    "tags": []
   },
   "outputs": [],
   "source": [
    "ret = run(train, params, opt_state, data_key)\n",
    "(train_losses, val_losses, val_mmds, val_inv_errors, \n",
    " best_epoch_mmd, best_val_mmd, best_params_mmd, \n",
    " best_epoch_loss, best_val_loss, best_params_loss, params) = ret"
   ]
  },
  {
   "cell_type": "code",
   "execution_count": null,
   "id": "f7e04498-46e2-427d-94b4-2e4dcdcf48c4",
   "metadata": {
    "tags": []
   },
   "outputs": [],
   "source": [
    "print(f'\\nBest Epoch MMD: {best_epoch_mmd} --- Val MMD: {best_val_mmd}')\n",
    "test_loss, test_inv_error, test_mmd = eval_val(test, best_params_mmd, EVAL_SOLVER_STEPS)\n",
    "print(f'Best Model MMD --- Test Loss: {test_loss}, Test Inv Error: {test_inv_error}, Test MMD: {test_mmd}')\n",
    "\n",
    "print(f'\\nBest Epoch Loss: {best_epoch_loss} --- Val Loss: {best_val_loss}')\n",
    "test_loss, test_inv_error, test_mmd = eval_val(test, best_params_loss, EVAL_SOLVER_STEPS)\n",
    "print(f'Best Model Loss --- Test Loss: {test_loss}, Test Inv Error: {test_inv_error}, Test MMD: {test_mmd}')"
   ]
  },
  {
   "cell_type": "code",
   "execution_count": null,
   "id": "554c3987-c0d7-4c45-9703-737d955ae0f2",
   "metadata": {
    "tags": []
   },
   "outputs": [],
   "source": [
    "fig, ax = plt.subplots(1, 2, figsize=(16,6))\n",
    "ax[0].semilogy(train_losses, label='train loss')\n",
    "ax[0].semilogy(val_losses, label='validation loss')\n",
    "ax[1].semilogy(train_losses[1000:], label='train loss')\n",
    "ax[1].semilogy(val_losses[1000:], label='validation loss')\n",
    "plt.legend()"
   ]
  },
  {
   "cell_type": "code",
   "execution_count": null,
   "id": "36cc40b9-ad14-410c-a2c5-a0a81588718e",
   "metadata": {},
   "outputs": [],
   "source": []
  },
  {
   "cell_type": "code",
   "execution_count": null,
   "id": "a2e82705-2651-4f55-b0fd-c47ec72e6b48",
   "metadata": {
    "tags": []
   },
   "outputs": [],
   "source": [
    "filestr = '_'.join([MODEL_PREFIX, PRECISION_PREFIX, DATASET_PREFIX, NPOT_PREFIX])\n",
    "checkpoints.save_checkpoint(\n",
    "    ckpt_dir=f'checkpoints/finalfinal/{filestr}_params',  \n",
    "    target=params,  \n",
    "    overwrite=True,   \n",
    "    step=20000\n",
    ")"
   ]
  },
  {
   "cell_type": "code",
   "execution_count": null,
   "id": "462da635-17b7-4224-ab98-b01f82311330",
   "metadata": {},
   "outputs": [],
   "source": [
    "checkpoints.save_checkpoint(\n",
    "    ckpt_dir=f'checkpoints/finalfinal/{filestr}_bestparams_loss',  \n",
    "    target=best_params_loss,  \n",
    "    overwrite=True,   \n",
    "    step=20000\n",
    ")"
   ]
  },
  {
   "cell_type": "code",
   "execution_count": null,
   "id": "fccbcade-a871-4155-bf9d-e98f81a60252",
   "metadata": {},
   "outputs": [],
   "source": [
    "checkpoints.save_checkpoint(\n",
    "    ckpt_dir=f'checkpoints/finalfinal/{filestr}_bestparams_mmd',  \n",
    "    target=best_params_mmd,  \n",
    "    overwrite=True,   \n",
    "    step=20000\n",
    ")"
   ]
  },
  {
   "cell_type": "code",
   "execution_count": null,
   "id": "1d5cbd6e-c965-40fb-afbc-1825ad7b8856",
   "metadata": {},
   "outputs": [],
   "source": []
  },
  {
   "cell_type": "markdown",
   "id": "c8054257-a78c-4dc6-8eda-c3a317b415ca",
   "metadata": {},
   "source": [
    "## 5 Potential"
   ]
  },
  {
   "cell_type": "code",
   "execution_count": null,
   "id": "53cb156c-cdfc-4f39-9431-19f8683e03ce",
   "metadata": {
    "tags": []
   },
   "outputs": [],
   "source": [
    "NPOT_PREFIX = '5pot'"
   ]
  },
  {
   "cell_type": "code",
   "execution_count": null,
   "id": "4d7a28ee-9d81-45b1-8b73-07ff3dffb372",
   "metadata": {
    "tags": []
   },
   "outputs": [],
   "source": [
    "key = random.PRNGKey(42)\n",
    "data_key, key = random.split(key, 2)"
   ]
  },
  {
   "cell_type": "code",
   "execution_count": null,
   "id": "489cdc80-340f-462c-86d0-5e49f19fa28d",
   "metadata": {
    "tags": []
   },
   "outputs": [],
   "source": [
    "EPOCHS = 20000\n",
    "MODEL = OTF.OTF(\n",
    "        input_dim=2, \n",
    "        hidden_dim=64,\n",
    "        resnet_depth=2,\n",
    "        rank=20,\n",
    "        key=key, \n",
    "        phi=OTF.Phi,\n",
    "        alpha1=15.,\n",
    "        alpha2=2.,\n",
    "        num_blocks=5,\n",
    "        t0=0.,\n",
    "        t1=1.,\n",
    "        num_steps=20\n",
    ")\n",
    "LOSS_FUNC = jit(MODEL._loss)\n",
    "VAL_LOSS_FUNC = jit(MODEL.metrics)\n",
    "LOSS_KWARGS = {} \n",
    "VAL_LOSS_KWARGS = {'normal_batch': normal_sample}"
   ]
  },
  {
   "cell_type": "code",
   "execution_count": null,
   "id": "d9af4cec-a1e5-4319-bc2f-e402a293c0e8",
   "metadata": {
    "tags": []
   },
   "outputs": [],
   "source": [
    "# Exponential decay of the learning rate.\n",
    "scheduler = optax.exponential_decay(\n",
    "    init_value=5e-2, \n",
    "    transition_steps=1000,\n",
    "    transition_begin=0,\n",
    "    decay_rate=0.6)\n",
    "\n",
    "gradient_transform = optax.chain(\n",
    "    optax.scale_by_adam(),              # Use the updates from adam.\n",
    "    optax.scale_by_schedule(scheduler), # Adapt LR\n",
    "    optax.scale(-1.0)                   # Scale updates by -1 since optax.apply_updates \n",
    "                                        # is additive and we want to descend on the loss.\n",
    ")"
   ]
  },
  {
   "cell_type": "code",
   "execution_count": null,
   "id": "5d546f47-2116-40ef-98c3-f4800ef8199d",
   "metadata": {
    "tags": []
   },
   "outputs": [],
   "source": [
    "params = MODEL.params\n",
    "opt_state = gradient_transform.init(params)"
   ]
  },
  {
   "cell_type": "code",
   "execution_count": null,
   "id": "5740eecf-96c4-48c1-8485-1bbc663b3abe",
   "metadata": {
    "tags": []
   },
   "outputs": [],
   "source": [
    "report_as_csv = True\n",
    "report_filename = '_'.join([MODEL_PREFIX, PRECISION_PREFIX, DATASET_PREFIX, NPOT_PREFIX]) + '.csv'"
   ]
  },
  {
   "cell_type": "code",
   "execution_count": null,
   "id": "ce4ecefc-1184-46f7-a953-6b6b94d59820",
   "metadata": {
    "tags": []
   },
   "outputs": [],
   "source": [
    "ret = run(train, params, opt_state, data_key)\n",
    "(train_losses, val_losses, val_mmds, val_inv_errors, \n",
    " best_epoch_mmd, best_val_mmd, best_params_mmd, \n",
    " best_epoch_loss, best_val_loss, best_params_loss, params) = ret"
   ]
  },
  {
   "cell_type": "code",
   "execution_count": null,
   "id": "b5d4c83e-bd1e-468a-afc5-0359c073964b",
   "metadata": {
    "tags": []
   },
   "outputs": [],
   "source": [
    "print(f'\\nBest Epoch MMD: {best_epoch_mmd} --- Val MMD: {best_val_mmd}')\n",
    "test_loss, test_inv_error, test_mmd = eval_val(test, best_params_mmd, EVAL_SOLVER_STEPS)\n",
    "print(f'Best Model MMD --- Test Loss: {test_loss}, Test Inv Error: {test_inv_error}, Test MMD: {test_mmd}')\n",
    "\n",
    "print(f'\\nBest Epoch Loss: {best_epoch_loss} --- Val Loss: {best_val_loss}')\n",
    "test_loss, test_inv_error, test_mmd = eval_val(test, best_params_loss, EVAL_SOLVER_STEPS)\n",
    "print(f'Best Model Loss --- Test Loss: {test_loss}, Test Inv Error: {test_inv_error}, Test MMD: {test_mmd}')"
   ]
  },
  {
   "cell_type": "code",
   "execution_count": null,
   "id": "71533ab8-c778-43b2-b1a7-084af2036035",
   "metadata": {
    "tags": []
   },
   "outputs": [],
   "source": [
    "fig, ax = plt.subplots(1, 2, figsize=(16,6))\n",
    "ax[0].semilogy(train_losses, label='train loss')\n",
    "ax[0].semilogy(val_losses, label='validation loss')\n",
    "ax[1].semilogy(train_losses[1000:], label='train loss')\n",
    "ax[1].semilogy(val_losses[1000:], label='validation loss')\n",
    "plt.legend()"
   ]
  },
  {
   "cell_type": "code",
   "execution_count": null,
   "id": "77a28f02-2f49-4bae-a8ed-79298ac207b3",
   "metadata": {},
   "outputs": [],
   "source": []
  },
  {
   "cell_type": "code",
   "execution_count": null,
   "id": "569264fe-4434-43e8-9a5f-af6e25136a89",
   "metadata": {
    "tags": []
   },
   "outputs": [],
   "source": [
    "filestr = '_'.join([MODEL_PREFIX, PRECISION_PREFIX, DATASET_PREFIX, NPOT_PREFIX])\n",
    "checkpoints.save_checkpoint(\n",
    "    ckpt_dir=f'checkpoints/finalfinal/{filestr}_params',  \n",
    "    target=params,  \n",
    "    overwrite=True,   \n",
    "    step=20000\n",
    ")"
   ]
  },
  {
   "cell_type": "code",
   "execution_count": null,
   "id": "697a7721-f880-4e33-b79e-429ffaead34d",
   "metadata": {},
   "outputs": [],
   "source": [
    "checkpoints.save_checkpoint(\n",
    "    ckpt_dir=f'checkpoints/finalfinal/{filestr}_bestparams_loss',  \n",
    "    target=best_params_loss,  \n",
    "    overwrite=True,   \n",
    "    step=20000\n",
    ")"
   ]
  },
  {
   "cell_type": "code",
   "execution_count": null,
   "id": "b5916b1a-2163-4c66-ab66-2d37624255a8",
   "metadata": {},
   "outputs": [],
   "source": [
    "checkpoints.save_checkpoint(\n",
    "    ckpt_dir=f'checkpoints/finalfinal/{filestr}_bestparams_mmd',  \n",
    "    target=best_params_mmd,  \n",
    "    overwrite=True,   \n",
    "    step=20000\n",
    ")"
   ]
  },
  {
   "cell_type": "code",
   "execution_count": null,
   "id": "95dd0f9b-6f61-493a-8f0e-e4d41762d4a2",
   "metadata": {},
   "outputs": [],
   "source": []
  },
  {
   "cell_type": "markdown",
   "id": "7c9fd2c4-9963-4b4e-92dc-97289dd03a56",
   "metadata": {},
   "source": [
    "## 10 Potential"
   ]
  },
  {
   "cell_type": "code",
   "execution_count": null,
   "id": "1dea5276-584d-4548-9171-44477c4aab0d",
   "metadata": {
    "tags": []
   },
   "outputs": [],
   "source": [
    "NPOT_PREFIX = '10pot'"
   ]
  },
  {
   "cell_type": "code",
   "execution_count": null,
   "id": "4f1069c7-e034-4d03-b2a5-0604b5880162",
   "metadata": {
    "tags": []
   },
   "outputs": [],
   "source": [
    "key = random.PRNGKey(42)\n",
    "data_key, key = random.split(key, 2)"
   ]
  },
  {
   "cell_type": "code",
   "execution_count": null,
   "id": "38e43054-3f39-467c-b908-401791ae80f6",
   "metadata": {
    "tags": []
   },
   "outputs": [],
   "source": [
    "EPOCHS = 20000\n",
    "MODEL = OTF.OTF(\n",
    "        input_dim=2, \n",
    "        hidden_dim=64,\n",
    "        resnet_depth=2,\n",
    "        rank=20,\n",
    "        key=key, \n",
    "        phi=OTF.Phi,\n",
    "        alpha1=15.,\n",
    "        alpha2=2.,\n",
    "        num_blocks=10,\n",
    "        t0=0.,\n",
    "        t1=1.,\n",
    "        num_steps=20\n",
    ")\n",
    "LOSS_FUNC = jit(MODEL._loss)\n",
    "VAL_LOSS_FUNC = jit(MODEL.metrics)\n",
    "LOSS_KWARGS = {} \n",
    "VAL_LOSS_KWARGS = {'normal_batch': normal_sample}"
   ]
  },
  {
   "cell_type": "code",
   "execution_count": null,
   "id": "98887395-95dd-47bb-a2db-30fffe7dfde6",
   "metadata": {
    "tags": []
   },
   "outputs": [],
   "source": [
    "# Exponential decay of the learning rate.\n",
    "scheduler = optax.exponential_decay(\n",
    "    init_value=5e-2, \n",
    "    transition_steps=1000,\n",
    "    transition_begin=0,\n",
    "    decay_rate=0.6)\n",
    "\n",
    "gradient_transform = optax.chain(\n",
    "    optax.scale_by_adam(),              # Use the updates from adam.\n",
    "    optax.scale_by_schedule(scheduler), # Adapt LR\n",
    "    optax.scale(-1.0)                   # Scale updates by -1 since optax.apply_updates \n",
    "                                        # is additive and we want to descend on the loss.\n",
    ")"
   ]
  },
  {
   "cell_type": "code",
   "execution_count": null,
   "id": "5a06fa49-7f51-45be-8192-51ed2629cfd3",
   "metadata": {
    "tags": []
   },
   "outputs": [],
   "source": [
    "params = MODEL.params\n",
    "opt_state = gradient_transform.init(params)"
   ]
  },
  {
   "cell_type": "code",
   "execution_count": null,
   "id": "1b020f28-3f29-44f0-9b5c-b8caa7c8550f",
   "metadata": {
    "tags": []
   },
   "outputs": [],
   "source": [
    "report_as_csv = True\n",
    "report_filename = '_'.join([MODEL_PREFIX, PRECISION_PREFIX, DATASET_PREFIX, NPOT_PREFIX]) + '.csv'"
   ]
  },
  {
   "cell_type": "code",
   "execution_count": null,
   "id": "7bf35504-7e7f-46cc-aade-9718459d8cb8",
   "metadata": {
    "tags": []
   },
   "outputs": [],
   "source": [
    "ret = run(train, params, opt_state, data_key)\n",
    "(train_losses, val_losses, val_mmds, val_inv_errors, \n",
    " best_epoch_mmd, best_val_mmd, best_params_mmd, \n",
    " best_epoch_loss, best_val_loss, best_params_loss, params) = ret"
   ]
  },
  {
   "cell_type": "code",
   "execution_count": null,
   "id": "6406f918-94b6-4109-bae0-ac3b0a19ce20",
   "metadata": {
    "tags": []
   },
   "outputs": [],
   "source": [
    "print(f'\\nBest Epoch MMD: {best_epoch_mmd} --- Val MMD: {best_val_mmd}')\n",
    "test_loss, test_inv_error, test_mmd = eval_val(test, best_params_mmd, EVAL_SOLVER_STEPS)\n",
    "print(f'Best Model MMD --- Test Loss: {test_loss}, Test Inv Error: {test_inv_error}, Test MMD: {test_mmd}')\n",
    "\n",
    "print(f'\\nBest Epoch Loss: {best_epoch_loss} --- Val Loss: {best_val_loss}')\n",
    "test_loss, test_inv_error, test_mmd = eval_val(test, best_params_loss, EVAL_SOLVER_STEPS)\n",
    "print(f'Best Model Loss --- Test Loss: {test_loss}, Test Inv Error: {test_inv_error}, Test MMD: {test_mmd}')"
   ]
  },
  {
   "cell_type": "code",
   "execution_count": null,
   "id": "51399da1-43a7-433e-9728-626087f67379",
   "metadata": {
    "tags": []
   },
   "outputs": [],
   "source": [
    "fig, ax = plt.subplots(1, 2, figsize=(16,6))\n",
    "ax[0].semilogy(train_losses, label='train loss')\n",
    "ax[0].semilogy(val_losses, label='validation loss')\n",
    "ax[1].semilogy(train_losses[1000:], label='train loss')\n",
    "ax[1].semilogy(val_losses[1000:], label='validation loss')\n",
    "plt.legend()"
   ]
  },
  {
   "cell_type": "code",
   "execution_count": null,
   "id": "bd00ffc5-6918-4bb9-9d19-96a5831b46ad",
   "metadata": {},
   "outputs": [],
   "source": []
  },
  {
   "cell_type": "code",
   "execution_count": null,
   "id": "43598da3-af07-46ee-89c4-0b921344c366",
   "metadata": {
    "tags": []
   },
   "outputs": [],
   "source": [
    "filestr = '_'.join([MODEL_PREFIX, PRECISION_PREFIX, DATASET_PREFIX, NPOT_PREFIX])\n",
    "checkpoints.save_checkpoint(\n",
    "    ckpt_dir=f'checkpoints/finalfinal/{filestr}_params',  \n",
    "    target=params,  \n",
    "    overwrite=True,   \n",
    "    step=20000\n",
    ")"
   ]
  },
  {
   "cell_type": "code",
   "execution_count": null,
   "id": "b5b3e87a-0daf-4f53-9b49-33c32bb49d1e",
   "metadata": {},
   "outputs": [],
   "source": [
    "checkpoints.save_checkpoint(\n",
    "    ckpt_dir=f'checkpoints/finalfinal/{filestr}_bestparams_loss',  \n",
    "    target=best_params_loss,  \n",
    "    overwrite=True,   \n",
    "    step=20000\n",
    ")"
   ]
  },
  {
   "cell_type": "code",
   "execution_count": null,
   "id": "7281f2be-c0e5-430d-a459-9a228b233d93",
   "metadata": {},
   "outputs": [],
   "source": [
    "checkpoints.save_checkpoint(\n",
    "    ckpt_dir=f'checkpoints/finalfinal/{filestr}_bestparams_mmd',  \n",
    "    target=best_params_mmd,  \n",
    "    overwrite=True,   \n",
    "    step=20000\n",
    ")"
   ]
  },
  {
   "cell_type": "markdown",
   "id": "ca47f2d4-9cd6-42d4-bab7-54a1f02ff33e",
   "metadata": {},
   "source": []
  },
  {
   "cell_type": "code",
   "execution_count": null,
   "id": "a4b16c65-cf3a-44a7-af31-14a7ebdd1edd",
   "metadata": {},
   "outputs": [],
   "source": []
  }
 ],
 "metadata": {
  "kernelspec": {
   "display_name": "Python 3 (ipykernel)",
   "language": "python",
   "name": "python3"
  },
  "language_info": {
   "codemirror_mode": {
    "name": "ipython",
    "version": 3
   },
   "file_extension": ".py",
   "mimetype": "text/x-python",
   "name": "python",
   "nbconvert_exporter": "python",
   "pygments_lexer": "ipython3",
   "version": "3.9.16"
  },
  "toc-autonumbering": true
 },
 "nbformat": 4,
 "nbformat_minor": 5
}
