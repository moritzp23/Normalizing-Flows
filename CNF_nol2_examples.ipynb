{
 "cells": [
  {
   "cell_type": "markdown",
   "id": "f5166698-a00a-4025-8e8b-07338e514e5e",
   "metadata": {
    "tags": []
   },
   "source": [
    "# Single Precision"
   ]
  },
  {
   "cell_type": "code",
   "execution_count": null,
   "id": "0aae6b3d-c06b-4558-92cf-ef1a41a14053",
   "metadata": {
    "tags": []
   },
   "outputs": [],
   "source": [
    "import os\n",
    "os.environ['CUDA_VISIBLE_DEVICES'] = '3'"
   ]
  },
  {
   "cell_type": "code",
   "execution_count": null,
   "id": "4ef3c69e-fe30-4e42-814c-ba747d0b1a9d",
   "metadata": {
    "tags": []
   },
   "outputs": [],
   "source": [
    "import CNF, DatasetGenerator\n",
    "import numpy as np\n",
    "import pandas as pd\n",
    "import optax\n",
    "import matplotlib.pyplot as plt\n",
    "\n",
    "from jax import jit, grad, value_and_grad, random\n",
    "from flax.training import checkpoints\n",
    "\n",
    "# plotting, move this to seperate notebook\n",
    "from jax import vmap\n",
    "import jax.numpy as jnp\n",
    "from matplotlib import colormaps"
   ]
  },
  {
   "cell_type": "code",
   "execution_count": null,
   "id": "83051e1a-2636-448f-8139-cd73e03a8ecb",
   "metadata": {
    "tags": []
   },
   "outputs": [],
   "source": [
    "@jit\n",
    "def step(opt_state, params, batch, solver_steps):\n",
    "    # from optax doc: https://optax.readthedocs.io/en/latest/gradient_accumulation.html\n",
    "    loss, grads = value_and_grad(LOSS_FUNC)(params, batch, **LOSS_KWARGS, solver_steps=solver_steps)\n",
    "    updates, opt_state = gradient_transform.update(grads, opt_state, params=params) \n",
    "    params = optax.apply_updates(params, updates)\n",
    "    return opt_state, params, loss"
   ]
  },
  {
   "cell_type": "code",
   "execution_count": null,
   "id": "a5dddc9b-b7f2-469b-a736-1d20b326b25d",
   "metadata": {
    "tags": []
   },
   "outputs": [],
   "source": [
    "def eval_val(val_data, params, solver_steps):\n",
    "    return VAL_LOSS_FUNC(params=params, batch=val_data, **VAL_LOSS_KWARGS, solver_steps=solver_steps)"
   ]
  },
  {
   "cell_type": "code",
   "execution_count": null,
   "id": "a77a00fc-ecdf-4405-982a-f276692e33a9",
   "metadata": {
    "tags": []
   },
   "outputs": [],
   "source": [
    "def train_step(train_data, opt_state, params, solver_steps):\n",
    "    opt_state, params, loss = step(opt_state, params, batch=train_data, solver_steps=solver_steps)\n",
    "    return opt_state, params, loss"
   ]
  },
  {
   "cell_type": "code",
   "execution_count": null,
   "id": "1b22491b-dd47-4584-9c1c-09e8b2b38245",
   "metadata": {
    "tags": []
   },
   "outputs": [],
   "source": [
    "MODEL_PREFIX = 'CNF_nol2'\n",
    "PRECISION_PREFIX = 'float32'"
   ]
  },
  {
   "cell_type": "code",
   "execution_count": null,
   "id": "00b829d9-447a-44f2-aef8-a9dadbd3527d",
   "metadata": {},
   "outputs": [],
   "source": [
    "SOLVER_STEPS = 20\n",
    "EVAL_SOLVER_STEPS = 20"
   ]
  },
  {
   "cell_type": "code",
   "execution_count": null,
   "id": "7f3f7391-acec-4bd5-80cf-e7b8ce4b1efb",
   "metadata": {},
   "outputs": [],
   "source": []
  },
  {
   "cell_type": "code",
   "execution_count": null,
   "id": "f9541a94-117e-4eeb-9eca-255c614c0474",
   "metadata": {},
   "outputs": [],
   "source": [
    "def run(train_re, params, opt_state, data_key):\n",
    "    train_losses  = []\n",
    "    val_losses, val_inv_errors, val_mmds = [], [], []\n",
    "    best_val_mmd, best_epoch_mmd, best_params_mmd = np.inf, None, None\n",
    "    best_val_loss, best_epoch_loss, best_params_loss = np.inf, None, None\n",
    "    \n",
    "    if report_as_csv:\n",
    "        report_df = pd.DataFrame({'Epoch': [], \n",
    "                                  'Training Loss': [], \n",
    "                                  'Validation Loss': [], \n",
    "                                  'Validation Inverse Error': [],\n",
    "                                  'Validation MMD': [],\n",
    "                                  'Best Epoch Loss': [], \n",
    "                                  'Best Epoch MMD': [], \n",
    "                                  'Best Validation Loss': [],\n",
    "                                  'Best Validation MMD': [],})\n",
    "\n",
    "    for epoch in range(1, EPOCHS + 1):\n",
    "        opt_state, params, train_loss = train_step(train_re, opt_state, params, SOLVER_STEPS)    \n",
    "        train_losses.append(train_loss)\n",
    "\n",
    "        val_loss, val_inv_error, val_mmd  = eval_val(val, params, EVAL_SOLVER_STEPS)\n",
    "        print(f'Epoch {epoch} --- Train Loss: {np.mean(train_loss)}, Val Loss: {val_loss}, Val Inv Error: {val_inv_error}, Val MMD: {val_mmd}')\n",
    "        val_losses.append(val_loss)\n",
    "        val_inv_errors.append(val_inv_error)\n",
    "        val_mmds.append(val_mmd)\n",
    "\n",
    "        if epoch >= 5:\n",
    "            val_loss_rolling = np.mean(val_losses[epoch-5:])    \n",
    "            if val_loss_rolling < best_val_loss:\n",
    "                best_epoch_loss, best_params_loss, best_val_loss = epoch, params, val_loss\n",
    "                \n",
    "            val_mmd_rolling = np.mean(val_mmds[epoch-5:])    \n",
    "            if val_mmd_rolling < best_val_mmd:\n",
    "                best_epoch_mmd, best_params_mmd, best_val_mmd = epoch, params, val_mmd        \n",
    "        \n",
    "\n",
    "        # resample training data\n",
    "        if epoch % 25 == 0:    \n",
    "            data_key = random.fold_in(data_key, epoch)\n",
    "            train_re = TRAIN_GENERATOR(data_key, training_size, dtype=PRECISION_PREFIX, **TRAIN_GEN_KWARGS)      \n",
    "\n",
    "        if report_as_csv:    \n",
    "            report_df.loc[epoch - 1] = [epoch, train_loss,\n",
    "                                        val_loss, val_inv_error, val_mmd, \n",
    "                                        best_epoch_loss, best_epoch_mmd, best_val_loss, best_val_mmd]\n",
    "            if epoch % 10 == 0: \n",
    "                report_df.to_csv(report_filename)\n",
    "\n",
    "\n",
    "    print(f'\\nBest Epoch MMD: {best_epoch_mmd} --- Val MMD: {best_val_mmd}')\n",
    "    test_loss, test_inv_error, test_mmd = eval_val(test, best_params_mmd, EVAL_SOLVER_STEPS)\n",
    "    print(f'Best Model MMD --- Test Loss: {test_loss}, Test Inv Error: {test_inv_error}, Test MMD: {test_mmd}')\n",
    "    \n",
    "    print(f'\\nBest Epoch Loss: {best_epoch_loss} --- Val Loss: {best_val_loss}')\n",
    "    test_loss, test_inv_error, test_mmd = eval_val(test, best_params_loss, EVAL_SOLVER_STEPS)\n",
    "    print(f'Best Model Loss --- Test Loss: {test_loss}, Test Inv Error: {test_inv_error}, Test MMD: {test_mmd}')\n",
    "    \n",
    "    ret = (train_losses, val_losses, val_mmds, val_inv_errors, \n",
    "           best_epoch_mmd, best_val_mmd, best_params_mmd, \n",
    "           best_epoch_loss, best_val_loss, best_params_loss, params)\n",
    "\n",
    "    return ret"
   ]
  },
  {
   "cell_type": "markdown",
   "id": "249831ae-fef5-4cd0-bc9f-dd10df906e89",
   "metadata": {
    "tags": []
   },
   "source": [
    "## TUC Letters (no Spacing)"
   ]
  },
  {
   "cell_type": "code",
   "execution_count": null,
   "id": "9c80bd9b-2cc5-4863-9212-c3321f3bdfd7",
   "metadata": {
    "tags": []
   },
   "outputs": [],
   "source": [
    "key = random.PRNGKey(seed=42)"
   ]
  },
  {
   "cell_type": "code",
   "execution_count": null,
   "id": "1beec887-3bbc-474b-a8ed-71bdbe14c8bf",
   "metadata": {
    "tags": []
   },
   "outputs": [],
   "source": [
    "training_size = 10000\n",
    "validation_size = 10000\n",
    "test_size = 20000\n",
    "spacing = 0"
   ]
  },
  {
   "cell_type": "code",
   "execution_count": null,
   "id": "48350e26-055c-4db9-9d01-b434fc1d875d",
   "metadata": {
    "tags": []
   },
   "outputs": [],
   "source": [
    "BATCH_SIZE_TR = training_size\n",
    "BATCH_SIZE_VAL_TE = validation_size"
   ]
  },
  {
   "cell_type": "code",
   "execution_count": null,
   "id": "f51c2839-260d-4f82-89c0-205e003d3b6c",
   "metadata": {
    "tags": []
   },
   "outputs": [],
   "source": [
    "train, val, test = DatasetGenerator.make_tuc_letters(\n",
    "    key, \n",
    "    training_size, \n",
    "    validation_size, \n",
    "    test_size, \n",
    "    dtype=PRECISION_PREFIX,\n",
    "    spacing=spacing\n",
    ")\n",
    "normal_sample = random.normal(random.fold_in(key, 42), shape=(validation_size, 2), dtype=PRECISION_PREFIX)"
   ]
  },
  {
   "cell_type": "code",
   "execution_count": null,
   "id": "5cdd23fc-867e-4b39-83c9-b424e978bb88",
   "metadata": {},
   "outputs": [],
   "source": [
    "DATASET_PREFIX = 'letters-nospacing'"
   ]
  },
  {
   "cell_type": "code",
   "execution_count": null,
   "id": "611eaaff-fad3-4e9b-bcaa-46509fcdf6cd",
   "metadata": {},
   "outputs": [],
   "source": [
    "TRAIN_GENERATOR = DatasetGenerator.make_tuc_letters_tr\n",
    "TRAIN_GEN_KWARGS = {'spacing': spacing}"
   ]
  },
  {
   "cell_type": "markdown",
   "id": "fde61ad5-eb17-4500-a433-aac8256e08d2",
   "metadata": {},
   "source": [
    "### 1 VF"
   ]
  },
  {
   "cell_type": "code",
   "execution_count": null,
   "id": "a1085619-1147-482e-9d2c-ce65e3244e74",
   "metadata": {
    "tags": []
   },
   "outputs": [],
   "source": [
    "NPOT_PREFIX = '1VF'"
   ]
  },
  {
   "cell_type": "code",
   "execution_count": null,
   "id": "d1f85f3e-b924-4bc3-826b-3acffcb3f619",
   "metadata": {
    "tags": []
   },
   "outputs": [],
   "source": [
    "key = random.PRNGKey(42)\n",
    "data_key, key = random.split(key, 2)"
   ]
  },
  {
   "cell_type": "code",
   "execution_count": null,
   "id": "9e7a68bb-cd6a-4e06-8960-140b89f03bef",
   "metadata": {
    "tags": []
   },
   "outputs": [],
   "source": [
    "EPOCHS = 20000\n",
    "MODEL = CNF.CNF(\n",
    "    input_dim=2,\n",
    "    hidden_dim=32,\n",
    "    out_dim=2,\n",
    "    depth=3,\n",
    "    num_blocks=1,\n",
    "    key=key,\n",
    "    f_theta_cls=CNF.f_theta,\n",
    "    exact_logp=True,     \n",
    "    num_steps=20,\n",
    ")\n",
    "LOSS_FUNC = jit(MODEL._loss)\n",
    "VAL_LOSS_FUNC = jit(MODEL.metrics)\n",
    "LOSS_KWARGS = {} \n",
    "VAL_LOSS_KWARGS = {'normal_batch': normal_sample}"
   ]
  },
  {
   "cell_type": "code",
   "execution_count": null,
   "id": "3b96383c-b2ff-4930-9edf-a15f951e606e",
   "metadata": {
    "tags": []
   },
   "outputs": [],
   "source": [
    "# Exponential decay of the learning rate.\n",
    "scheduler = optax.exponential_decay(\n",
    "    init_value=2e-2, \n",
    "    transition_steps=1000,\n",
    "    transition_begin=0,\n",
    "    decay_rate=0.6)\n",
    "\n",
    "gradient_transform = optax.chain(\n",
    "    optax.scale_by_adam(),              # Use the updates from adam.\n",
    "    optax.scale_by_schedule(scheduler), # Adapt LR\n",
    "    optax.scale(-1.0)                   # Scale updates by -1 since optax.apply_updates \n",
    "                                        # is additive and we want to descend on the loss.\n",
    ")"
   ]
  },
  {
   "cell_type": "code",
   "execution_count": null,
   "id": "fbdb41f0-d885-4bee-8ba3-6d63553883cf",
   "metadata": {
    "tags": []
   },
   "outputs": [],
   "source": [
    "params = MODEL.params\n",
    "opt_state = gradient_transform.init(params)"
   ]
  },
  {
   "cell_type": "code",
   "execution_count": null,
   "id": "c5138521-53fb-4d71-bd88-a32d80106155",
   "metadata": {
    "tags": []
   },
   "outputs": [],
   "source": [
    "report_as_csv = True\n",
    "report_filename =  '_'.join([MODEL_PREFIX, PRECISION_PREFIX, DATASET_PREFIX, NPOT_PREFIX]) + '.csv'"
   ]
  },
  {
   "cell_type": "code",
   "execution_count": null,
   "id": "5499fc8d-1ff1-445c-a0e4-8da30be84a4c",
   "metadata": {
    "tags": []
   },
   "outputs": [],
   "source": [
    "ret = run(train, params, opt_state, data_key)\n",
    "(train_losses, val_losses, val_mmds, val_inv_errors, \n",
    " best_epoch_mmd, best_val_mmd, best_params_mmd, \n",
    " best_epoch_loss, best_val_loss, best_params_loss, params) = ret"
   ]
  },
  {
   "cell_type": "code",
   "execution_count": null,
   "id": "b4d96e3c-da30-4ba0-81e7-5a014be7711e",
   "metadata": {
    "tags": []
   },
   "outputs": [],
   "source": [
    "print(f'\\nBest Epoch MMD: {best_epoch_mmd} --- Val MMD: {best_val_mmd}')\n",
    "test_loss, test_inv_error, test_mmd = eval_val(test, best_params_mmd, EVAL_SOLVER_STEPS)\n",
    "print(f'Best Model MMD --- Test Loss: {test_loss}, Test Inv Error: {test_inv_error}, Test MMD: {test_mmd}')\n",
    "\n",
    "print(f'\\nBest Epoch Loss: {best_epoch_loss} --- Val Loss: {best_val_loss}')\n",
    "test_loss, test_inv_error, test_mmd = eval_val(test, best_params_loss, EVAL_SOLVER_STEPS)\n",
    "print(f'Best Model Loss --- Test Loss: {test_loss}, Test Inv Error: {test_inv_error}, Test MMD: {test_mmd}')"
   ]
  },
  {
   "cell_type": "code",
   "execution_count": null,
   "id": "51b0d161-e84c-4a7c-a8e3-80a3f7211489",
   "metadata": {
    "tags": []
   },
   "outputs": [],
   "source": [
    "fig, ax = plt.subplots(1, 2, figsize=(16,6))\n",
    "ax[0].semilogy(train_losses, label='train loss')\n",
    "ax[0].semilogy(val_losses, label='validation loss')\n",
    "ax[1].semilogy(train_losses[1000:], label='train loss')\n",
    "ax[1].semilogy(val_losses[1000:], label='validation loss')\n",
    "plt.legend()"
   ]
  },
  {
   "cell_type": "code",
   "execution_count": null,
   "id": "c0d8d20b-f114-4e02-82e6-1682608fefa5",
   "metadata": {},
   "outputs": [],
   "source": []
  },
  {
   "cell_type": "code",
   "execution_count": null,
   "id": "4902498a-db12-4825-b11e-4e9cf1d1fd7f",
   "metadata": {
    "tags": []
   },
   "outputs": [],
   "source": [
    "filestr = '_'.join([MODEL_PREFIX, PRECISION_PREFIX, DATASET_PREFIX, NPOT_PREFIX])\n",
    "checkpoints.save_checkpoint(\n",
    "    ckpt_dir=f'checkpoints/finalfinal/{filestr}_params',  \n",
    "    target=params,  \n",
    "    overwrite=True,   \n",
    "    step=20000\n",
    ")"
   ]
  },
  {
   "cell_type": "code",
   "execution_count": null,
   "id": "beef2142-b86a-451e-bc1f-c4db44229271",
   "metadata": {},
   "outputs": [],
   "source": [
    "checkpoints.save_checkpoint(\n",
    "    ckpt_dir=f'checkpoints/finalfinal/{filestr}_bestparams_loss',  \n",
    "    target=best_params_loss,  \n",
    "    overwrite=True,   \n",
    "    step=20000\n",
    ")"
   ]
  },
  {
   "cell_type": "code",
   "execution_count": null,
   "id": "4828b815-11cb-4684-8d42-6341b3af7894",
   "metadata": {},
   "outputs": [],
   "source": [
    "checkpoints.save_checkpoint(\n",
    "    ckpt_dir=f'checkpoints/finalfinal/{filestr}_bestparams_mmd',  \n",
    "    target=best_params_mmd,  \n",
    "    overwrite=True,   \n",
    "    step=20000\n",
    ")"
   ]
  },
  {
   "cell_type": "code",
   "execution_count": null,
   "id": "691712a3-0105-4082-ba65-585731ae01e7",
   "metadata": {},
   "outputs": [],
   "source": []
  },
  {
   "cell_type": "markdown",
   "id": "0fb92bfc-661c-481a-a41b-684434f13247",
   "metadata": {},
   "source": [
    "### 3 VF"
   ]
  },
  {
   "cell_type": "code",
   "execution_count": null,
   "id": "63e59c43-a0a4-4b88-b4fd-f5fad9f4067a",
   "metadata": {
    "tags": []
   },
   "outputs": [],
   "source": [
    "NPOT_PREFIX = '3VF'"
   ]
  },
  {
   "cell_type": "code",
   "execution_count": null,
   "id": "5bdf9ba9-9b38-4b72-b718-a0cc3bb6b5f2",
   "metadata": {
    "tags": []
   },
   "outputs": [],
   "source": [
    "key = random.PRNGKey(42)\n",
    "data_key, key = random.split(key, 2)"
   ]
  },
  {
   "cell_type": "code",
   "execution_count": null,
   "id": "5fa60258-1ab8-4693-9072-c117cf01df10",
   "metadata": {
    "tags": []
   },
   "outputs": [],
   "source": [
    "EPOCHS = 20000\n",
    "MODEL = CNF.CNF(\n",
    "    input_dim=2,\n",
    "    hidden_dim=32,\n",
    "    out_dim=2,\n",
    "    depth=3,\n",
    "    num_blocks=3,\n",
    "    key=key,\n",
    "    f_theta_cls=CNF.f_theta,\n",
    "    exact_logp=True,     num_steps=20\n",
    ")\n",
    "LOSS_FUNC = jit(MODEL._loss)\n",
    "VAL_LOSS_FUNC = jit(MODEL.metrics)\n",
    "LOSS_KWARGS = {} \n",
    "VAL_LOSS_KWARGS = {'normal_batch': normal_sample}"
   ]
  },
  {
   "cell_type": "code",
   "execution_count": null,
   "id": "172cad72-fc54-4a00-a3a1-f63977c6112a",
   "metadata": {
    "tags": []
   },
   "outputs": [],
   "source": [
    "# Exponential decay of the learning rate.\n",
    "scheduler = optax.exponential_decay(\n",
    "    init_value=2e-2, \n",
    "    transition_steps=1000,\n",
    "    transition_begin=0,\n",
    "    decay_rate=0.6)\n",
    "\n",
    "gradient_transform = optax.chain(\n",
    "    optax.scale_by_adam(),              # Use the updates from adam.\n",
    "    optax.scale_by_schedule(scheduler), # Adapt LR\n",
    "    optax.scale(-1.0)                   # Scale updates by -1 since optax.apply_updates \n",
    "                                        # is additive and we want to descend on the loss.\n",
    ")"
   ]
  },
  {
   "cell_type": "code",
   "execution_count": null,
   "id": "f6d0115a-f8ce-4589-8132-ff35a63d53e1",
   "metadata": {
    "tags": []
   },
   "outputs": [],
   "source": [
    "params = MODEL.params\n",
    "opt_state = gradient_transform.init(params)"
   ]
  },
  {
   "cell_type": "code",
   "execution_count": null,
   "id": "43c610ef-5ce4-43bb-9b69-69ba0ac173e6",
   "metadata": {
    "tags": []
   },
   "outputs": [],
   "source": [
    "report_as_csv = True\n",
    "report_filename =  '_'.join([MODEL_PREFIX, PRECISION_PREFIX, DATASET_PREFIX, NPOT_PREFIX]) + '.csv'"
   ]
  },
  {
   "cell_type": "code",
   "execution_count": null,
   "id": "f36b0c42-5929-4330-b5dd-1483ae64b815",
   "metadata": {
    "tags": []
   },
   "outputs": [],
   "source": [
    "ret = run(train, params, opt_state, data_key)\n",
    "(train_losses, val_losses, val_mmds, val_inv_errors, \n",
    " best_epoch_mmd, best_val_mmd, best_params_mmd, \n",
    " best_epoch_loss, best_val_loss, best_params_loss, params) = ret"
   ]
  },
  {
   "cell_type": "code",
   "execution_count": null,
   "id": "27f376ce-b29f-41e3-88f5-3dc1d20bbc01",
   "metadata": {
    "tags": []
   },
   "outputs": [],
   "source": [
    "print(f'\\nBest Epoch MMD: {best_epoch_mmd} --- Val MMD: {best_val_mmd}')\n",
    "test_loss, test_inv_error, test_mmd = eval_val(test, best_params_mmd, EVAL_SOLVER_STEPS)\n",
    "print(f'Best Model MMD --- Test Loss: {test_loss}, Test Inv Error: {test_inv_error}, Test MMD: {test_mmd}')\n",
    "\n",
    "print(f'\\nBest Epoch Loss: {best_epoch_loss} --- Val Loss: {best_val_loss}')\n",
    "test_loss, test_inv_error, test_mmd = eval_val(test, best_params_loss, EVAL_SOLVER_STEPS)\n",
    "print(f'Best Model Loss --- Test Loss: {test_loss}, Test Inv Error: {test_inv_error}, Test MMD: {test_mmd}')"
   ]
  },
  {
   "cell_type": "code",
   "execution_count": null,
   "id": "b58d8300-bbac-47af-8aca-f3c43baf0415",
   "metadata": {
    "tags": []
   },
   "outputs": [],
   "source": [
    "fig, ax = plt.subplots(1, 2, figsize=(16,6))\n",
    "ax[0].semilogy(train_losses, label='train loss')\n",
    "ax[0].semilogy(val_losses, label='validation loss')\n",
    "ax[1].semilogy(train_losses[1000:], label='train loss')\n",
    "ax[1].semilogy(val_losses[1000:], label='validation loss')\n",
    "plt.legend()"
   ]
  },
  {
   "cell_type": "code",
   "execution_count": null,
   "id": "c3262fe0-d262-4530-a00a-151f7411899a",
   "metadata": {},
   "outputs": [],
   "source": []
  },
  {
   "cell_type": "code",
   "execution_count": null,
   "id": "7c01ac4e-842b-4b72-9951-672e28622a69",
   "metadata": {
    "tags": []
   },
   "outputs": [],
   "source": [
    "filestr = '_'.join([MODEL_PREFIX, PRECISION_PREFIX, DATASET_PREFIX, NPOT_PREFIX])\n",
    "checkpoints.save_checkpoint(\n",
    "    ckpt_dir=f'checkpoints/finalfinal/{filestr}_params',  \n",
    "    target=params,  \n",
    "    overwrite=True,   \n",
    "    step=20000\n",
    ")"
   ]
  },
  {
   "cell_type": "code",
   "execution_count": null,
   "id": "7d935fa4-1cda-41ea-9237-12b04dd95766",
   "metadata": {
    "tags": []
   },
   "outputs": [],
   "source": [
    "checkpoints.save_checkpoint(\n",
    "    ckpt_dir=f'checkpoints/finalfinal/target={filestr}_bestparams_loss',  \n",
    "    target=best_params_loss,  \n",
    "    overwrite=True,   \n",
    "    step=20000\n",
    ")"
   ]
  },
  {
   "cell_type": "code",
   "execution_count": null,
   "id": "77da15ae-bcb4-44ec-962f-68183b988e02",
   "metadata": {},
   "outputs": [],
   "source": [
    "checkpoints.save_checkpoint(\n",
    "    ckpt_dir=f'checkpoints/finalfinal/{filestr}_bestparams_mmd',  \n",
    "    target=best_params_mmd,  \n",
    "    overwrite=True,   \n",
    "    step=20000\n",
    ")"
   ]
  },
  {
   "cell_type": "code",
   "execution_count": null,
   "id": "527fa33a-525e-42eb-9ca5-77b09a9a1dc4",
   "metadata": {},
   "outputs": [],
   "source": []
  },
  {
   "cell_type": "markdown",
   "id": "f7d8624c-d21a-45d1-9e06-7823927d1de0",
   "metadata": {},
   "source": [
    "### 5 VF"
   ]
  },
  {
   "cell_type": "code",
   "execution_count": null,
   "id": "6c55e6ee-3a6d-409b-a97b-9fe95aaddfe6",
   "metadata": {
    "tags": []
   },
   "outputs": [],
   "source": [
    "NPOT_PREFIX = '5VF'"
   ]
  },
  {
   "cell_type": "code",
   "execution_count": null,
   "id": "50b7b8f1-3b9d-4690-92a0-4b549dd8a052",
   "metadata": {
    "tags": []
   },
   "outputs": [],
   "source": [
    "key = random.PRNGKey(42)\n",
    "data_key, key = random.split(key, 2)"
   ]
  },
  {
   "cell_type": "code",
   "execution_count": null,
   "id": "b48923c8-6738-4a22-89ea-48241fac732e",
   "metadata": {
    "tags": []
   },
   "outputs": [],
   "source": [
    "EPOCHS = 20000\n",
    "MODEL = CNF.CNF(\n",
    "    input_dim=2,\n",
    "    hidden_dim=32,\n",
    "    out_dim=2,\n",
    "    depth=3,\n",
    "    num_blocks=5,\n",
    "    key=key,\n",
    "    f_theta_cls=CNF.f_theta,\n",
    "    exact_logp=True,     num_steps=20\n",
    ")\n",
    "LOSS_FUNC = jit(MODEL._loss)\n",
    "VAL_LOSS_FUNC = jit(MODEL.metrics)\n",
    "LOSS_KWARGS = {} \n",
    "VAL_LOSS_KWARGS = {'normal_batch': normal_sample}"
   ]
  },
  {
   "cell_type": "code",
   "execution_count": null,
   "id": "3b410c2e-6f95-41fe-a162-d5a4021db082",
   "metadata": {
    "tags": []
   },
   "outputs": [],
   "source": [
    "# Exponential decay of the learning rate.\n",
    "scheduler = optax.exponential_decay(\n",
    "    init_value=2e-2, \n",
    "    transition_steps=1000,\n",
    "    transition_begin=0,\n",
    "    decay_rate=0.6)\n",
    "\n",
    "gradient_transform = optax.chain(\n",
    "    optax.scale_by_adam(),              # Use the updates from adam.\n",
    "    optax.scale_by_schedule(scheduler), # Adapt LR\n",
    "    optax.scale(-1.0)                   # Scale updates by -1 since optax.apply_updates \n",
    "                                        # is additive and we want to descend on the loss.\n",
    ")"
   ]
  },
  {
   "cell_type": "code",
   "execution_count": null,
   "id": "cc947b35-6d44-45f4-a11b-b355bb6a5655",
   "metadata": {
    "tags": []
   },
   "outputs": [],
   "source": [
    "params = MODEL.params\n",
    "opt_state = gradient_transform.init(params)"
   ]
  },
  {
   "cell_type": "code",
   "execution_count": null,
   "id": "c79fcfca-b850-478e-8f73-59d9a62a8297",
   "metadata": {
    "tags": []
   },
   "outputs": [],
   "source": [
    "report_as_csv = True\n",
    "report_filename =  '_'.join([MODEL_PREFIX, PRECISION_PREFIX, DATASET_PREFIX, NPOT_PREFIX]) + '.csv'"
   ]
  },
  {
   "cell_type": "code",
   "execution_count": null,
   "id": "00fd16a7-fc2a-4a80-b418-a6194e1d398c",
   "metadata": {
    "tags": []
   },
   "outputs": [],
   "source": [
    "ret = run(train, params, opt_state, data_key)\n",
    "(train_losses, val_losses, val_mmds, val_inv_errors, \n",
    " best_epoch_mmd, best_val_mmd, best_params_mmd, \n",
    " best_epoch_loss, best_val_loss, best_params_loss, params) = ret"
   ]
  },
  {
   "cell_type": "code",
   "execution_count": null,
   "id": "552fa975-6565-4b1d-b3e0-56c5272acf34",
   "metadata": {
    "tags": []
   },
   "outputs": [],
   "source": [
    "print(f'\\nBest Epoch MMD: {best_epoch_mmd} --- Val MMD: {best_val_mmd}')\n",
    "test_loss, test_inv_error, test_mmd = eval_val(test, best_params_mmd, EVAL_SOLVER_STEPS)\n",
    "print(f'Best Model MMD --- Test Loss: {test_loss}, Test Inv Error: {test_inv_error}, Test MMD: {test_mmd}')\n",
    "\n",
    "print(f'\\nBest Epoch Loss: {best_epoch_loss} --- Val Loss: {best_val_loss}')\n",
    "test_loss, test_inv_error, test_mmd = eval_val(test, best_params_loss, EVAL_SOLVER_STEPS)\n",
    "print(f'Best Model Loss --- Test Loss: {test_loss}, Test Inv Error: {test_inv_error}, Test MMD: {test_mmd}')"
   ]
  },
  {
   "cell_type": "code",
   "execution_count": null,
   "id": "01e5c61c-cbf4-4176-b946-8e38f88e64e7",
   "metadata": {
    "tags": []
   },
   "outputs": [],
   "source": [
    "fig, ax = plt.subplots(1, 2, figsize=(16,6))\n",
    "ax[0].semilogy(train_losses, label='train loss')\n",
    "ax[0].semilogy(val_losses, label='validation loss')\n",
    "ax[1].semilogy(train_losses[1000:], label='train loss')\n",
    "ax[1].semilogy(val_losses[1000:], label='validation loss')\n",
    "plt.legend()"
   ]
  },
  {
   "cell_type": "code",
   "execution_count": null,
   "id": "7be1bb94-0f04-44c3-a464-81d2a7921172",
   "metadata": {},
   "outputs": [],
   "source": []
  },
  {
   "cell_type": "code",
   "execution_count": null,
   "id": "646a7172-bb9d-4bee-b632-f98e927ea782",
   "metadata": {
    "tags": []
   },
   "outputs": [],
   "source": [
    "filestr = '_'.join([MODEL_PREFIX, PRECISION_PREFIX, DATASET_PREFIX, NPOT_PREFIX])\n",
    "checkpoints.save_checkpoint(\n",
    "    ckpt_dir=f'checkpoints/finalfinal/{filestr}_params',  \n",
    "    target=params,  \n",
    "    overwrite=True,   \n",
    "    step=20000\n",
    ")"
   ]
  },
  {
   "cell_type": "code",
   "execution_count": null,
   "id": "0994ec55-2220-46ab-a2ea-5618d78a74df",
   "metadata": {
    "tags": []
   },
   "outputs": [],
   "source": [
    "checkpoints.save_checkpoint(\n",
    "    ckpt_dir=f'checkpoints/finalfinal/target={filestr}_bestparams_loss',  \n",
    "    target=best_params_loss,  \n",
    "    overwrite=True,   \n",
    "    step=20000\n",
    ")"
   ]
  },
  {
   "cell_type": "code",
   "execution_count": null,
   "id": "996b19b7-321b-4b3d-9d8a-c8eb1a65cecb",
   "metadata": {},
   "outputs": [],
   "source": [
    "checkpoints.save_checkpoint(\n",
    "    ckpt_dir=f'checkpoints/finalfinal/{filestr}_bestparams_mmd',  \n",
    "    target=best_params_mmd,  \n",
    "    overwrite=True,   \n",
    "    step=20000\n",
    ")"
   ]
  },
  {
   "cell_type": "markdown",
   "id": "c7e814a4-f9ac-4a90-99ea-43512d4201ff",
   "metadata": {},
   "source": [
    "## TUC Letters (with Spacing)"
   ]
  },
  {
   "cell_type": "code",
   "execution_count": null,
   "id": "617a0765-136d-417e-ad1a-0e96e4a5fa0a",
   "metadata": {
    "tags": []
   },
   "outputs": [],
   "source": [
    "key = random.PRNGKey(seed=42)"
   ]
  },
  {
   "cell_type": "code",
   "execution_count": null,
   "id": "46d11ec7-6c29-4332-99df-8269b57abd1f",
   "metadata": {
    "tags": []
   },
   "outputs": [],
   "source": [
    "training_size = 10000\n",
    "validation_size = 10000\n",
    "test_size = 20000\n",
    "spacing = 40"
   ]
  },
  {
   "cell_type": "code",
   "execution_count": null,
   "id": "590a1cc1-33b6-49e3-b098-d581c2a2cbf8",
   "metadata": {
    "tags": []
   },
   "outputs": [],
   "source": [
    "BATCH_SIZE_TR = training_size\n",
    "BATCH_SIZE_VAL_TE = validation_size"
   ]
  },
  {
   "cell_type": "code",
   "execution_count": null,
   "id": "888ac871-d636-40ff-bd75-d0b7f1f902b4",
   "metadata": {
    "tags": []
   },
   "outputs": [],
   "source": [
    "train, val, test = DatasetGenerator.make_tuc_letters(\n",
    "    key, \n",
    "    training_size, \n",
    "    validation_size, \n",
    "    test_size, \n",
    "    dtype=PRECISION_PREFIX,\n",
    "    spacing=spacing\n",
    ")\n",
    "normal_sample = random.normal(random.fold_in(key, 42), shape=(validation_size, 2), dtype=PRECISION_PREFIX)"
   ]
  },
  {
   "cell_type": "code",
   "execution_count": null,
   "id": "02390ae1-8e7a-4681-8b84-3924e063e93f",
   "metadata": {},
   "outputs": [],
   "source": [
    "DATASET_PREFIX = 'letters-spacing'"
   ]
  },
  {
   "cell_type": "code",
   "execution_count": null,
   "id": "521101df-54e9-4202-acac-ac38fbc63f52",
   "metadata": {},
   "outputs": [],
   "source": [
    "TRAIN_GENERATOR = DatasetGenerator.make_tuc_letters_tr\n",
    "TRAIN_GEN_KWARGS = {'spacing': spacing}"
   ]
  },
  {
   "cell_type": "markdown",
   "id": "edc0ddea-20ca-4511-8002-60d8ec375c02",
   "metadata": {},
   "source": [
    "### 1 VF"
   ]
  },
  {
   "cell_type": "code",
   "execution_count": null,
   "id": "d79e666c-eb55-41e3-be92-d89b703a8a23",
   "metadata": {
    "tags": []
   },
   "outputs": [],
   "source": [
    "NPOT_PREFIX = '1VF'"
   ]
  },
  {
   "cell_type": "code",
   "execution_count": null,
   "id": "d723f4b3-a63c-4937-b502-b33eb4e2195f",
   "metadata": {
    "tags": []
   },
   "outputs": [],
   "source": [
    "key = random.PRNGKey(42)\n",
    "data_key, key = random.split(key, 2)"
   ]
  },
  {
   "cell_type": "code",
   "execution_count": null,
   "id": "a1d854cd-7b71-456d-95f0-a6f55994a626",
   "metadata": {
    "tags": []
   },
   "outputs": [],
   "source": [
    "EPOCHS = 20000\n",
    "MODEL = CNF.CNF(\n",
    "    input_dim=2,\n",
    "    hidden_dim=32,\n",
    "    out_dim=2,\n",
    "    depth=3,\n",
    "    num_blocks=1,\n",
    "    key=key,\n",
    "    f_theta_cls=CNF.f_theta,\n",
    "    exact_logp=True,     num_steps=20\n",
    ")\n",
    "LOSS_FUNC = jit(MODEL._loss)\n",
    "VAL_LOSS_FUNC = jit(MODEL.metrics)\n",
    "LOSS_KWARGS = {} \n",
    "VAL_LOSS_KWARGS = {'normal_batch': normal_sample}"
   ]
  },
  {
   "cell_type": "code",
   "execution_count": null,
   "id": "ce85a7ac-daff-4848-ba26-acb798563898",
   "metadata": {
    "tags": []
   },
   "outputs": [],
   "source": [
    "# Exponential decay of the learning rate.\n",
    "scheduler = optax.exponential_decay(\n",
    "    init_value=2e-2, \n",
    "    transition_steps=1000,\n",
    "    transition_begin=0,\n",
    "    decay_rate=0.6)\n",
    "\n",
    "gradient_transform = optax.chain(\n",
    "    optax.scale_by_adam(),              # Use the updates from adam.\n",
    "    optax.scale_by_schedule(scheduler), # Adapt LR\n",
    "    optax.scale(-1.0)                   # Scale updates by -1 since optax.apply_updates \n",
    "                                        # is additive and we want to descend on the loss.\n",
    ")"
   ]
  },
  {
   "cell_type": "code",
   "execution_count": null,
   "id": "2be2e2d5-70a7-4b08-9fb0-9c45d286fece",
   "metadata": {
    "tags": []
   },
   "outputs": [],
   "source": [
    "params = MODEL.params\n",
    "opt_state = gradient_transform.init(params)"
   ]
  },
  {
   "cell_type": "code",
   "execution_count": null,
   "id": "91e745a8-805a-4204-ab14-7bd0a2bc16aa",
   "metadata": {
    "tags": []
   },
   "outputs": [],
   "source": [
    "report_as_csv = True\n",
    "report_filename =  '_'.join([MODEL_PREFIX, PRECISION_PREFIX, DATASET_PREFIX, NPOT_PREFIX]) + '.csv'"
   ]
  },
  {
   "cell_type": "code",
   "execution_count": null,
   "id": "69a238f3-9051-4fd9-92ab-d479d2f56bec",
   "metadata": {
    "tags": []
   },
   "outputs": [],
   "source": [
    "ret = run(train, params, opt_state, data_key)\n",
    "(train_losses, val_losses, val_mmds, val_inv_errors, \n",
    " best_epoch_mmd, best_val_mmd, best_params_mmd, \n",
    " best_epoch_loss, best_val_loss, best_params_loss, params) = ret"
   ]
  },
  {
   "cell_type": "code",
   "execution_count": null,
   "id": "a8130fca-4ebd-4ab2-991c-c216d1bcb488",
   "metadata": {
    "tags": []
   },
   "outputs": [],
   "source": [
    "print(f'\\nBest Epoch MMD: {best_epoch_mmd} --- Val MMD: {best_val_mmd}')\n",
    "test_loss, test_inv_error, test_mmd = eval_val(test, best_params_mmd, EVAL_SOLVER_STEPS)\n",
    "print(f'Best Model MMD --- Test Loss: {test_loss}, Test Inv Error: {test_inv_error}, Test MMD: {test_mmd}')\n",
    "\n",
    "print(f'\\nBest Epoch Loss: {best_epoch_loss} --- Val Loss: {best_val_loss}')\n",
    "test_loss, test_inv_error, test_mmd = eval_val(test, best_params_loss, EVAL_SOLVER_STEPS)\n",
    "print(f'Best Model Loss --- Test Loss: {test_loss}, Test Inv Error: {test_inv_error}, Test MMD: {test_mmd}')"
   ]
  },
  {
   "cell_type": "code",
   "execution_count": null,
   "id": "bcd91913-5926-4bde-8e69-a022e5485bfd",
   "metadata": {
    "tags": []
   },
   "outputs": [],
   "source": [
    "fig, ax = plt.subplots(1, 2, figsize=(16,6))\n",
    "ax[0].semilogy(train_losses, label='train loss')\n",
    "ax[0].semilogy(val_losses, label='validation loss')\n",
    "ax[1].semilogy(train_losses[1000:], label='train loss')\n",
    "ax[1].semilogy(val_losses[1000:], label='validation loss')\n",
    "plt.legend()"
   ]
  },
  {
   "cell_type": "code",
   "execution_count": null,
   "id": "0fa3a8c3-e6d5-4f8f-8ac9-d2c3904cf06d",
   "metadata": {},
   "outputs": [],
   "source": []
  },
  {
   "cell_type": "code",
   "execution_count": null,
   "id": "cb36c297-44f6-4d45-8ddb-1e864e9ed066",
   "metadata": {
    "tags": []
   },
   "outputs": [],
   "source": [
    "filestr = '_'.join([MODEL_PREFIX, PRECISION_PREFIX, DATASET_PREFIX, NPOT_PREFIX])\n",
    "checkpoints.save_checkpoint(\n",
    "    ckpt_dir=f'checkpoints/finalfinal/{filestr}_params',  \n",
    "    target=params,  \n",
    "    overwrite=True,   \n",
    "    step=20000\n",
    ")"
   ]
  },
  {
   "cell_type": "code",
   "execution_count": null,
   "id": "2e47a03e-3b4f-4bc7-8cd0-e0c5fbc141b4",
   "metadata": {},
   "outputs": [],
   "source": [
    "checkpoints.save_checkpoint(\n",
    "    ckpt_dir=f'checkpoints/finalfinal/target={filestr}_bestparams_loss',  \n",
    "    target=best_params_loss,  \n",
    "    overwrite=True,   \n",
    "    step=20000\n",
    ")"
   ]
  },
  {
   "cell_type": "code",
   "execution_count": null,
   "id": "5734e769-955c-4587-8465-5bc6c4aa27bc",
   "metadata": {},
   "outputs": [],
   "source": [
    "checkpoints.save_checkpoint(\n",
    "    ckpt_dir=f'checkpoints/finalfinal/{filestr}_bestparams_mmd',  \n",
    "    target=best_params_mmd,  \n",
    "    overwrite=True,   \n",
    "    step=20000\n",
    ")"
   ]
  },
  {
   "cell_type": "code",
   "execution_count": null,
   "id": "fc3da8af-2787-4a5b-a97c-f14568f9a4bd",
   "metadata": {},
   "outputs": [],
   "source": []
  },
  {
   "cell_type": "markdown",
   "id": "abf39668-a6b6-43b7-ae05-5ad2d5c14bce",
   "metadata": {},
   "source": [
    "### 3 VF"
   ]
  },
  {
   "cell_type": "code",
   "execution_count": null,
   "id": "b935434e-6625-48ac-87bd-3b38d1f91fa2",
   "metadata": {
    "tags": []
   },
   "outputs": [],
   "source": [
    "NPOT_PREFIX = '3VF'"
   ]
  },
  {
   "cell_type": "code",
   "execution_count": null,
   "id": "382e03b2-9a80-4c24-be11-c65240f89d12",
   "metadata": {
    "tags": []
   },
   "outputs": [],
   "source": [
    "key = random.PRNGKey(42)\n",
    "data_key, key = random.split(key, 2)"
   ]
  },
  {
   "cell_type": "code",
   "execution_count": null,
   "id": "2d924ada-3699-40e4-b861-da35a6e0087d",
   "metadata": {
    "tags": []
   },
   "outputs": [],
   "source": [
    "EPOCHS = 20000\n",
    "MODEL = CNF.CNF(\n",
    "    input_dim=2,\n",
    "    hidden_dim=32,\n",
    "    out_dim=2,\n",
    "    depth=3,\n",
    "    num_blocks=3,\n",
    "    key=key,\n",
    "    f_theta_cls=CNF.f_theta,\n",
    "    exact_logp=True,     num_steps=20\n",
    ")\n",
    "LOSS_FUNC = jit(MODEL._loss)\n",
    "VAL_LOSS_FUNC = jit(MODEL.metrics)\n",
    "LOSS_KWARGS = {} \n",
    "VAL_LOSS_KWARGS = {'normal_batch': normal_sample}"
   ]
  },
  {
   "cell_type": "code",
   "execution_count": null,
   "id": "2627e0e3-e832-4599-aadc-8af9dd5306ec",
   "metadata": {
    "tags": []
   },
   "outputs": [],
   "source": [
    "# Exponential decay of the learning rate.\n",
    "scheduler = optax.exponential_decay(\n",
    "    init_value=2e-2, \n",
    "    transition_steps=1000,\n",
    "    transition_begin=0,\n",
    "    decay_rate=0.6)\n",
    "\n",
    "gradient_transform = optax.chain(\n",
    "    optax.scale_by_adam(),              # Use the updates from adam.\n",
    "    optax.scale_by_schedule(scheduler), # Adapt LR\n",
    "    optax.scale(-1.0)                   # Scale updates by -1 since optax.apply_updates \n",
    "                                        # is additive and we want to descend on the loss.\n",
    ")"
   ]
  },
  {
   "cell_type": "code",
   "execution_count": null,
   "id": "d2d93121-d6d6-4d68-a070-ea56a74954ae",
   "metadata": {
    "tags": []
   },
   "outputs": [],
   "source": [
    "params = MODEL.params\n",
    "opt_state = gradient_transform.init(params)"
   ]
  },
  {
   "cell_type": "code",
   "execution_count": null,
   "id": "879b9c59-ecaf-42b7-9498-684ba2cf6012",
   "metadata": {
    "tags": []
   },
   "outputs": [],
   "source": [
    "report_as_csv = True\n",
    "report_filename =  '_'.join([MODEL_PREFIX, PRECISION_PREFIX, DATASET_PREFIX, NPOT_PREFIX]) + '.csv'"
   ]
  },
  {
   "cell_type": "code",
   "execution_count": null,
   "id": "2c510a44-180c-436f-9b91-030a7451ddb7",
   "metadata": {
    "tags": []
   },
   "outputs": [],
   "source": [
    "ret = run(train, params, opt_state, data_key)\n",
    "(train_losses, val_losses, val_mmds, val_inv_errors, \n",
    " best_epoch_mmd, best_val_mmd, best_params_mmd, \n",
    " best_epoch_loss, best_val_loss, best_params_loss, params) = ret"
   ]
  },
  {
   "cell_type": "code",
   "execution_count": null,
   "id": "a9e0d4ad-24be-4df6-b4ad-3b8c434f942a",
   "metadata": {
    "tags": []
   },
   "outputs": [],
   "source": [
    "print(f'\\nBest Epoch MMD: {best_epoch_mmd} --- Val MMD: {best_val_mmd}')\n",
    "test_loss, test_inv_error, test_mmd = eval_val(test, best_params_mmd, EVAL_SOLVER_STEPS)\n",
    "print(f'Best Model MMD --- Test Loss: {test_loss}, Test Inv Error: {test_inv_error}, Test MMD: {test_mmd}')\n",
    "\n",
    "print(f'\\nBest Epoch Loss: {best_epoch_loss} --- Val Loss: {best_val_loss}')\n",
    "test_loss, test_inv_error, test_mmd = eval_val(test, best_params_loss, EVAL_SOLVER_STEPS)\n",
    "print(f'Best Model Loss --- Test Loss: {test_loss}, Test Inv Error: {test_inv_error}, Test MMD: {test_mmd}')"
   ]
  },
  {
   "cell_type": "code",
   "execution_count": null,
   "id": "9cb47b4b-8e4a-4fc9-acee-9f71c32ba65a",
   "metadata": {
    "tags": []
   },
   "outputs": [],
   "source": [
    "fig, ax = plt.subplots(1, 2, figsize=(16,6))\n",
    "ax[0].semilogy(train_losses, label='train loss')\n",
    "ax[0].semilogy(val_losses, label='validation loss')\n",
    "ax[1].semilogy(train_losses[1000:], label='train loss')\n",
    "ax[1].semilogy(val_losses[1000:], label='validation loss')\n",
    "plt.legend()"
   ]
  },
  {
   "cell_type": "code",
   "execution_count": null,
   "id": "28284e6e-4b98-4078-affc-43bda6a12a23",
   "metadata": {},
   "outputs": [],
   "source": []
  },
  {
   "cell_type": "code",
   "execution_count": null,
   "id": "c2d4c4db-ca6b-4340-8b10-1855cc4ed7d8",
   "metadata": {
    "tags": []
   },
   "outputs": [],
   "source": [
    "filestr = '_'.join([MODEL_PREFIX, PRECISION_PREFIX, DATASET_PREFIX, NPOT_PREFIX])\n",
    "checkpoints.save_checkpoint(\n",
    "    ckpt_dir=f'checkpoints/finalfinal/{filestr}_params',  \n",
    "    target=params,  \n",
    "    overwrite=True,   \n",
    "    step=20000\n",
    ")"
   ]
  },
  {
   "cell_type": "code",
   "execution_count": null,
   "id": "9a3e06f0-f513-4711-8739-8f99afb48ee1",
   "metadata": {
    "tags": []
   },
   "outputs": [],
   "source": [
    "checkpoints.save_checkpoint(\n",
    "    ckpt_dir=f'checkpoints/finalfinal/target={filestr}_bestparams_loss',  \n",
    "    target=best_params_loss,  \n",
    "    overwrite=True,   \n",
    "    step=20000\n",
    ")"
   ]
  },
  {
   "cell_type": "code",
   "execution_count": null,
   "id": "77f616b7-000e-4a84-960a-1a1978bd0c7c",
   "metadata": {},
   "outputs": [],
   "source": [
    "checkpoints.save_checkpoint(\n",
    "    ckpt_dir=f'checkpoints/finalfinal/{filestr}_bestparams_mmd',  \n",
    "    target=best_params_mmd,  \n",
    "    overwrite=True,   \n",
    "    step=20000\n",
    ")"
   ]
  },
  {
   "cell_type": "code",
   "execution_count": null,
   "id": "35900411-2c24-4c81-8ee5-ce1b5f833bfb",
   "metadata": {},
   "outputs": [],
   "source": []
  },
  {
   "cell_type": "markdown",
   "id": "0fd8c9b6-ef60-457f-a29b-0a0fa8b26ddd",
   "metadata": {},
   "source": [
    "### 5 VF"
   ]
  },
  {
   "cell_type": "code",
   "execution_count": null,
   "id": "66b3d318-0018-4372-8556-6921b711ea83",
   "metadata": {
    "tags": []
   },
   "outputs": [],
   "source": [
    "NPOT_PREFIX = '5VF'"
   ]
  },
  {
   "cell_type": "code",
   "execution_count": null,
   "id": "115d9724-d318-40a3-a463-14307f641d08",
   "metadata": {
    "tags": []
   },
   "outputs": [],
   "source": [
    "key = random.PRNGKey(42)\n",
    "data_key, key = random.split(key, 2)"
   ]
  },
  {
   "cell_type": "code",
   "execution_count": null,
   "id": "49696488-d927-45eb-8b9c-3bcdb6597d71",
   "metadata": {
    "tags": []
   },
   "outputs": [],
   "source": [
    "EPOCHS = 20000\n",
    "MODEL = CNF.CNF(\n",
    "    input_dim=2,\n",
    "    hidden_dim=32,\n",
    "    out_dim=2,\n",
    "    depth=3,\n",
    "    num_blocks=5,\n",
    "    key=key,\n",
    "    f_theta_cls=CNF.f_theta,\n",
    "    exact_logp=True,     num_steps=20\n",
    ")\n",
    "LOSS_FUNC = jit(MODEL._loss)\n",
    "VAL_LOSS_FUNC = jit(MODEL.metrics)\n",
    "LOSS_KWARGS = {} \n",
    "VAL_LOSS_KWARGS = {'normal_batch': normal_sample}"
   ]
  },
  {
   "cell_type": "code",
   "execution_count": null,
   "id": "1b8e6c29-177a-4ca2-8de4-74c1700c734a",
   "metadata": {
    "tags": []
   },
   "outputs": [],
   "source": [
    "# Exponential decay of the learning rate.\n",
    "scheduler = optax.exponential_decay(\n",
    "    init_value=2e-2, \n",
    "    transition_steps=1000,\n",
    "    transition_begin=0,\n",
    "    decay_rate=0.6)\n",
    "\n",
    "gradient_transform = optax.chain(\n",
    "    optax.scale_by_adam(),              # Use the updates from adam.\n",
    "    optax.scale_by_schedule(scheduler), # Adapt LR\n",
    "    optax.scale(-1.0)                   # Scale updates by -1 since optax.apply_updates \n",
    "                                        # is additive and we want to descend on the loss.\n",
    ")"
   ]
  },
  {
   "cell_type": "code",
   "execution_count": null,
   "id": "3b9d60b3-dbae-4b5d-8a03-8ec160b38200",
   "metadata": {
    "tags": []
   },
   "outputs": [],
   "source": [
    "params = MODEL.params\n",
    "opt_state = gradient_transform.init(params)"
   ]
  },
  {
   "cell_type": "code",
   "execution_count": null,
   "id": "527b22ac-e9ea-4eeb-9741-9d585fab53bc",
   "metadata": {
    "tags": []
   },
   "outputs": [],
   "source": [
    "report_as_csv = True\n",
    "report_filename =  '_'.join([MODEL_PREFIX, PRECISION_PREFIX, DATASET_PREFIX, NPOT_PREFIX]) + '.csv'"
   ]
  },
  {
   "cell_type": "code",
   "execution_count": null,
   "id": "3b5c6752-adf3-4a0d-b981-94ff7f434dbf",
   "metadata": {
    "tags": []
   },
   "outputs": [],
   "source": [
    "ret = run(train, params, opt_state, data_key)\n",
    "(train_losses, val_losses, val_mmds, val_inv_errors, \n",
    " best_epoch_mmd, best_val_mmd, best_params_mmd, \n",
    " best_epoch_loss, best_val_loss, best_params_loss, params) = ret"
   ]
  },
  {
   "cell_type": "code",
   "execution_count": null,
   "id": "b13121e2-eafd-4821-8d78-4dafa6adb5bb",
   "metadata": {
    "tags": []
   },
   "outputs": [],
   "source": [
    "print(f'\\nBest Epoch MMD: {best_epoch_mmd} --- Val MMD: {best_val_mmd}')\n",
    "test_loss, test_inv_error, test_mmd = eval_val(test, best_params_mmd, EVAL_SOLVER_STEPS)\n",
    "print(f'Best Model MMD --- Test Loss: {test_loss}, Test Inv Error: {test_inv_error}, Test MMD: {test_mmd}')\n",
    "\n",
    "print(f'\\nBest Epoch Loss: {best_epoch_loss} --- Val Loss: {best_val_loss}')\n",
    "test_loss, test_inv_error, test_mmd = eval_val(test, best_params_loss, EVAL_SOLVER_STEPS)\n",
    "print(f'Best Model Loss --- Test Loss: {test_loss}, Test Inv Error: {test_inv_error}, Test MMD: {test_mmd}')"
   ]
  },
  {
   "cell_type": "code",
   "execution_count": null,
   "id": "2e87aafc-0623-4201-9d32-017b81e27f1d",
   "metadata": {
    "tags": []
   },
   "outputs": [],
   "source": [
    "fig, ax = plt.subplots(1, 2, figsize=(16,6))\n",
    "ax[0].semilogy(train_losses, label='train loss')\n",
    "ax[0].semilogy(val_losses, label='validation loss')\n",
    "ax[1].semilogy(train_losses[1000:], label='train loss')\n",
    "ax[1].semilogy(val_losses[1000:], label='validation loss')\n",
    "plt.legend()"
   ]
  },
  {
   "cell_type": "code",
   "execution_count": null,
   "id": "c30d321c-53c0-4af4-a128-479a6f8afc98",
   "metadata": {},
   "outputs": [],
   "source": []
  },
  {
   "cell_type": "code",
   "execution_count": null,
   "id": "5f6ce8ba-a0cb-479b-9899-178651ca44ab",
   "metadata": {
    "tags": []
   },
   "outputs": [],
   "source": [
    "filestr = '_'.join([MODEL_PREFIX, PRECISION_PREFIX, DATASET_PREFIX, NPOT_PREFIX])\n",
    "checkpoints.save_checkpoint(\n",
    "    ckpt_dir=f'checkpoints/finalfinal/{filestr}_params',  \n",
    "    target=params,  \n",
    "    overwrite=True,   \n",
    "    step=20000\n",
    ")"
   ]
  },
  {
   "cell_type": "code",
   "execution_count": null,
   "id": "d3842bb2-d027-4b2c-9b1a-36600d66991d",
   "metadata": {
    "tags": []
   },
   "outputs": [],
   "source": [
    "checkpoints.save_checkpoint(\n",
    "    ckpt_dir=f'checkpoints/finalfinal/target={filestr}_bestparams_loss',  \n",
    "    target=best_params_loss,  \n",
    "    overwrite=True,   \n",
    "    step=20000\n",
    ")"
   ]
  },
  {
   "cell_type": "code",
   "execution_count": null,
   "id": "e7d2d8d7-67cc-400a-bdbf-02fe21309176",
   "metadata": {},
   "outputs": [],
   "source": [
    "checkpoints.save_checkpoint(\n",
    "    ckpt_dir=f'checkpoints/finalfinal/{filestr}_bestparams_mmd',  \n",
    "    target=best_params_mmd,  \n",
    "    overwrite=True,   \n",
    "    step=20000\n",
    ")"
   ]
  },
  {
   "cell_type": "markdown",
   "id": "9de2ad02-af89-4226-b20e-ea3359064773",
   "metadata": {},
   "source": [
    "## Checkerboard"
   ]
  },
  {
   "cell_type": "code",
   "execution_count": null,
   "id": "1eec4180-7267-4f25-83ea-dffd328183f4",
   "metadata": {
    "tags": []
   },
   "outputs": [],
   "source": [
    "key = random.PRNGKey(seed=42)"
   ]
  },
  {
   "cell_type": "code",
   "execution_count": null,
   "id": "97cb0ea0-dceb-491a-ac97-80c879ac1d4f",
   "metadata": {
    "tags": []
   },
   "outputs": [],
   "source": [
    "training_size = 10000\n",
    "validation_size = 10000\n",
    "test_size = 20000"
   ]
  },
  {
   "cell_type": "code",
   "execution_count": null,
   "id": "fc508ea9-1d64-4cf7-a5d7-601220a56a66",
   "metadata": {
    "tags": []
   },
   "outputs": [],
   "source": [
    "BATCH_SIZE_TR = training_size\n",
    "BATCH_SIZE_VAL_TE = validation_size"
   ]
  },
  {
   "cell_type": "code",
   "execution_count": null,
   "id": "37c8ccba-290d-470b-b806-e3ab0b39bf97",
   "metadata": {
    "tags": []
   },
   "outputs": [],
   "source": [
    "train, val, test = DatasetGenerator.make_checkerboard(\n",
    "    key, \n",
    "    training_size, \n",
    "    validation_size, \n",
    "    test_size, \n",
    "    dtype=PRECISION_PREFIX,\n",
    ")\n",
    "normal_sample = random.normal(random.fold_in(key, 42), shape=(validation_size, 2), dtype=PRECISION_PREFIX)"
   ]
  },
  {
   "cell_type": "code",
   "execution_count": null,
   "id": "b6296b09-242b-423a-8442-53f22290d696",
   "metadata": {},
   "outputs": [],
   "source": [
    "DATASET_PREFIX = 'checkerboards'"
   ]
  },
  {
   "cell_type": "code",
   "execution_count": null,
   "id": "a8888ea8-2940-482f-b108-72082f09c15f",
   "metadata": {},
   "outputs": [],
   "source": [
    "TRAIN_GENERATOR = DatasetGenerator.make_checkerboard_tr\n",
    "TRAIN_GEN_KWARGS = {}"
   ]
  },
  {
   "cell_type": "markdown",
   "id": "5aecba2b-4f08-4124-8866-221e7c7ba9ae",
   "metadata": {},
   "source": [
    "### 1 VF"
   ]
  },
  {
   "cell_type": "code",
   "execution_count": null,
   "id": "6e420ab1-3a53-4b22-89b0-9c57adcadcd2",
   "metadata": {
    "tags": []
   },
   "outputs": [],
   "source": [
    "NPOT_PREFIX = '1VF'"
   ]
  },
  {
   "cell_type": "code",
   "execution_count": null,
   "id": "45e618d4-6d17-4727-b646-5ccaef8a5fc4",
   "metadata": {
    "tags": []
   },
   "outputs": [],
   "source": [
    "key = random.PRNGKey(42)\n",
    "data_key, key = random.split(key, 2)"
   ]
  },
  {
   "cell_type": "code",
   "execution_count": null,
   "id": "467caa8b-117f-44ed-82e8-55d2bb38d3d4",
   "metadata": {
    "tags": []
   },
   "outputs": [],
   "source": [
    "EPOCHS = 20000\n",
    "MODEL = CNF.CNF(\n",
    "    input_dim=2,\n",
    "    hidden_dim=32,\n",
    "    out_dim=2,\n",
    "    depth=3,\n",
    "    num_blocks=1,\n",
    "    key=key,\n",
    "    f_theta_cls=CNF.f_theta,\n",
    "    exact_logp=True,     num_steps=20\n",
    ")\n",
    "LOSS_FUNC = jit(MODEL._loss)\n",
    "VAL_LOSS_FUNC = jit(MODEL.metrics)\n",
    "LOSS_KWARGS = {} \n",
    "VAL_LOSS_KWARGS = {'normal_batch': normal_sample}"
   ]
  },
  {
   "cell_type": "code",
   "execution_count": null,
   "id": "14b82019-652f-4e9d-8c49-393e8bb71237",
   "metadata": {
    "tags": []
   },
   "outputs": [],
   "source": [
    "# Exponential decay of the learning rate.\n",
    "scheduler = optax.exponential_decay(\n",
    "    init_value=2e-2, \n",
    "    transition_steps=1000,\n",
    "    transition_begin=0,\n",
    "    decay_rate=0.6)\n",
    "\n",
    "gradient_transform = optax.chain(\n",
    "    optax.scale_by_adam(),              # Use the updates from adam.\n",
    "    optax.scale_by_schedule(scheduler), # Adapt LR\n",
    "    optax.scale(-1.0)                   # Scale updates by -1 since optax.apply_updates \n",
    "                                        # is additive and we want to descend on the loss.\n",
    ")"
   ]
  },
  {
   "cell_type": "code",
   "execution_count": null,
   "id": "0bda1f6d-1596-41cd-a2d0-5116ce4eab70",
   "metadata": {
    "tags": []
   },
   "outputs": [],
   "source": [
    "params = MODEL.params\n",
    "opt_state = gradient_transform.init(params)"
   ]
  },
  {
   "cell_type": "code",
   "execution_count": null,
   "id": "00546287-b5f8-46a4-9d77-4c66085c0cd1",
   "metadata": {
    "tags": []
   },
   "outputs": [],
   "source": [
    "report_as_csv = True\n",
    "report_filename =  '_'.join([MODEL_PREFIX, PRECISION_PREFIX, DATASET_PREFIX, NPOT_PREFIX]) + '.csv'"
   ]
  },
  {
   "cell_type": "code",
   "execution_count": null,
   "id": "4b277202-880e-4b68-8ca3-c781291566f8",
   "metadata": {
    "tags": []
   },
   "outputs": [],
   "source": [
    "ret = run(train, params, opt_state, data_key)\n",
    "(train_losses, val_losses, val_mmds, val_inv_errors, \n",
    " best_epoch_mmd, best_val_mmd, best_params_mmd, \n",
    " best_epoch_loss, best_val_loss, best_params_loss, params) = ret"
   ]
  },
  {
   "cell_type": "code",
   "execution_count": null,
   "id": "4ecd4f64-8c96-4ea0-a4e0-18e89c2595a5",
   "metadata": {
    "tags": []
   },
   "outputs": [],
   "source": [
    "print(f'\\nBest Epoch MMD: {best_epoch_mmd} --- Val MMD: {best_val_mmd}')\n",
    "test_loss, test_inv_error, test_mmd = eval_val(test, best_params_mmd, EVAL_SOLVER_STEPS)\n",
    "print(f'Best Model MMD --- Test Loss: {test_loss}, Test Inv Error: {test_inv_error}, Test MMD: {test_mmd}')\n",
    "\n",
    "print(f'\\nBest Epoch Loss: {best_epoch_loss} --- Val Loss: {best_val_loss}')\n",
    "test_loss, test_inv_error, test_mmd = eval_val(test, best_params_loss, EVAL_SOLVER_STEPS)\n",
    "print(f'Best Model Loss --- Test Loss: {test_loss}, Test Inv Error: {test_inv_error}, Test MMD: {test_mmd}')"
   ]
  },
  {
   "cell_type": "code",
   "execution_count": null,
   "id": "4acfc25c-bdae-4395-b902-94edeeb1afdf",
   "metadata": {
    "tags": []
   },
   "outputs": [],
   "source": [
    "fig, ax = plt.subplots(1, 2, figsize=(16,6))\n",
    "ax[0].semilogy(train_losses, label='train loss')\n",
    "ax[0].semilogy(val_losses, label='validation loss')\n",
    "ax[1].semilogy(train_losses[1000:], label='train loss')\n",
    "ax[1].semilogy(val_losses[1000:], label='validation loss')\n",
    "plt.legend()"
   ]
  },
  {
   "cell_type": "code",
   "execution_count": null,
   "id": "c584ed22-fdd1-4af0-a80b-25091a1e3b4c",
   "metadata": {},
   "outputs": [],
   "source": []
  },
  {
   "cell_type": "code",
   "execution_count": null,
   "id": "010f2e1e-6130-4a58-badd-7dbd58c86167",
   "metadata": {
    "tags": []
   },
   "outputs": [],
   "source": [
    "filestr = '_'.join([MODEL_PREFIX, PRECISION_PREFIX, DATASET_PREFIX, NPOT_PREFIX])\n",
    "checkpoints.save_checkpoint(\n",
    "    ckpt_dir=f'checkpoints/finalfinal/{filestr}_params',  \n",
    "    target=params,  \n",
    "    overwrite=True,   \n",
    "    step=20000\n",
    ")"
   ]
  },
  {
   "cell_type": "code",
   "execution_count": null,
   "id": "2b064f40-9ba9-4a35-ad40-5b76d2033e64",
   "metadata": {},
   "outputs": [],
   "source": [
    "checkpoints.save_checkpoint(\n",
    "    ckpt_dir=f'checkpoints/finalfinal/target={filestr}_bestparams_loss',  \n",
    "    target=best_params_loss,  \n",
    "    overwrite=True,   \n",
    "    step=20000\n",
    ")"
   ]
  },
  {
   "cell_type": "code",
   "execution_count": null,
   "id": "596b677b-96bb-4816-a4bd-cfd3c4294326",
   "metadata": {},
   "outputs": [],
   "source": [
    "checkpoints.save_checkpoint(\n",
    "    ckpt_dir=f'checkpoints/finalfinal/{filestr}_bestparams_mmd',  \n",
    "    target=best_params_mmd,  \n",
    "    overwrite=True,   \n",
    "    step=20000\n",
    ")"
   ]
  },
  {
   "cell_type": "code",
   "execution_count": null,
   "id": "93e0209f-cad8-47a6-a4b8-506ab8603e11",
   "metadata": {},
   "outputs": [],
   "source": []
  },
  {
   "cell_type": "markdown",
   "id": "08a54769-b394-449e-a4d8-536e963ae9f4",
   "metadata": {},
   "source": [
    "### 3 VF"
   ]
  },
  {
   "cell_type": "code",
   "execution_count": null,
   "id": "4fd40252-d8ff-4c80-8189-34fcd5b36abd",
   "metadata": {
    "tags": []
   },
   "outputs": [],
   "source": [
    "NPOT_PREFIX = '3VF'"
   ]
  },
  {
   "cell_type": "code",
   "execution_count": null,
   "id": "ca314db1-a040-4acf-b44c-f7e48eaced30",
   "metadata": {
    "tags": []
   },
   "outputs": [],
   "source": [
    "key = random.PRNGKey(42)\n",
    "data_key, key = random.split(key, 2)"
   ]
  },
  {
   "cell_type": "code",
   "execution_count": null,
   "id": "33d72fcc-1909-40a3-96db-82defbb8d0c5",
   "metadata": {
    "tags": []
   },
   "outputs": [],
   "source": [
    "EPOCHS = 20000\n",
    "MODEL = CNF.CNF(\n",
    "    input_dim=2,\n",
    "    hidden_dim=32,\n",
    "    out_dim=2,\n",
    "    depth=3,\n",
    "    num_blocks=3,\n",
    "    key=key,\n",
    "    f_theta_cls=CNF.f_theta,\n",
    "    exact_logp=True,     num_steps=20\n",
    ")\n",
    "LOSS_FUNC = jit(MODEL._loss)\n",
    "VAL_LOSS_FUNC = jit(MODEL.metrics)\n",
    "LOSS_KWARGS = {} \n",
    "VAL_LOSS_KWARGS = {'normal_batch': normal_sample}"
   ]
  },
  {
   "cell_type": "code",
   "execution_count": null,
   "id": "c67c9bf3-ba91-4bb7-8ba9-450c7d30ae01",
   "metadata": {
    "tags": []
   },
   "outputs": [],
   "source": [
    "# Exponential decay of the learning rate.\n",
    "scheduler = optax.exponential_decay(\n",
    "    init_value=2e-2, \n",
    "    transition_steps=1000,\n",
    "    transition_begin=0,\n",
    "    decay_rate=0.6)\n",
    "\n",
    "gradient_transform = optax.chain(\n",
    "    optax.scale_by_adam(),              # Use the updates from adam.\n",
    "    optax.scale_by_schedule(scheduler), # Adapt LR\n",
    "    optax.scale(-1.0)                   # Scale updates by -1 since optax.apply_updates \n",
    "                                        # is additive and we want to descend on the loss.\n",
    ")"
   ]
  },
  {
   "cell_type": "code",
   "execution_count": null,
   "id": "603c772d-5a47-467a-abc9-d4b6356e4e0e",
   "metadata": {
    "tags": []
   },
   "outputs": [],
   "source": [
    "params = MODEL.params\n",
    "opt_state = gradient_transform.init(params)"
   ]
  },
  {
   "cell_type": "code",
   "execution_count": null,
   "id": "df877fa8-6134-44a8-88fe-5035db8892bf",
   "metadata": {
    "tags": []
   },
   "outputs": [],
   "source": [
    "report_as_csv = True\n",
    "report_filename =  '_'.join([MODEL_PREFIX, PRECISION_PREFIX, DATASET_PREFIX, NPOT_PREFIX]) + '.csv'"
   ]
  },
  {
   "cell_type": "code",
   "execution_count": null,
   "id": "fd8c20f3-633e-4306-a0f5-e6bd168b983e",
   "metadata": {
    "tags": []
   },
   "outputs": [],
   "source": [
    "ret = run(train, params, opt_state, data_key)\n",
    "(train_losses, val_losses, val_mmds, val_inv_errors, \n",
    " best_epoch_mmd, best_val_mmd, best_params_mmd, \n",
    " best_epoch_loss, best_val_loss, best_params_loss, params) = ret"
   ]
  },
  {
   "cell_type": "code",
   "execution_count": null,
   "id": "d52f7137-1b1d-4b1f-aeac-eadf5110f8fb",
   "metadata": {
    "tags": []
   },
   "outputs": [],
   "source": [
    "print(f'\\nBest Epoch MMD: {best_epoch_mmd} --- Val MMD: {best_val_mmd}')\n",
    "test_loss, test_inv_error, test_mmd = eval_val(test, best_params_mmd, EVAL_SOLVER_STEPS)\n",
    "print(f'Best Model MMD --- Test Loss: {test_loss}, Test Inv Error: {test_inv_error}, Test MMD: {test_mmd}')\n",
    "\n",
    "print(f'\\nBest Epoch Loss: {best_epoch_loss} --- Val Loss: {best_val_loss}')\n",
    "test_loss, test_inv_error, test_mmd = eval_val(test, best_params_loss, EVAL_SOLVER_STEPS)\n",
    "print(f'Best Model Loss --- Test Loss: {test_loss}, Test Inv Error: {test_inv_error}, Test MMD: {test_mmd}')"
   ]
  },
  {
   "cell_type": "code",
   "execution_count": null,
   "id": "392b0f55-86cf-4779-a717-f39057b9e642",
   "metadata": {
    "tags": []
   },
   "outputs": [],
   "source": [
    "fig, ax = plt.subplots(1, 2, figsize=(16,6))\n",
    "ax[0].semilogy(train_losses, label='train loss')\n",
    "ax[0].semilogy(val_losses, label='validation loss')\n",
    "ax[1].semilogy(train_losses[1000:], label='train loss')\n",
    "ax[1].semilogy(val_losses[1000:], label='validation loss')\n",
    "plt.legend()"
   ]
  },
  {
   "cell_type": "code",
   "execution_count": null,
   "id": "4e2cf274-6bea-4d2d-9860-7d0ea47d9a56",
   "metadata": {},
   "outputs": [],
   "source": []
  },
  {
   "cell_type": "code",
   "execution_count": null,
   "id": "487ab366-3695-44d6-80c0-d4aaf8c6ca67",
   "metadata": {
    "tags": []
   },
   "outputs": [],
   "source": [
    "filestr = '_'.join([MODEL_PREFIX, PRECISION_PREFIX, DATASET_PREFIX, NPOT_PREFIX])\n",
    "checkpoints.save_checkpoint(\n",
    "    ckpt_dir=f'checkpoints/finalfinal/{filestr}_params',  \n",
    "    target=params,  \n",
    "    overwrite=True,   \n",
    "    step=20000\n",
    ")"
   ]
  },
  {
   "cell_type": "code",
   "execution_count": null,
   "id": "d562a77e-61b4-449e-8a28-8b33e2d88152",
   "metadata": {
    "tags": []
   },
   "outputs": [],
   "source": [
    "checkpoints.save_checkpoint(\n",
    "    ckpt_dir=f'checkpoints/finalfinal/target={filestr}_bestparams_loss',  \n",
    "    target=best_params_loss,  \n",
    "    overwrite=True,   \n",
    "    step=20000\n",
    ")"
   ]
  },
  {
   "cell_type": "code",
   "execution_count": null,
   "id": "e45bfc0c-e796-4d10-a749-40a288a7db1d",
   "metadata": {},
   "outputs": [],
   "source": [
    "checkpoints.save_checkpoint(\n",
    "    ckpt_dir=f'checkpoints/finalfinal/{filestr}_bestparams_mmd',  \n",
    "    target=best_params_mmd,  \n",
    "    overwrite=True,   \n",
    "    step=20000\n",
    ")"
   ]
  },
  {
   "cell_type": "code",
   "execution_count": null,
   "id": "e18ec7de-1748-44ce-bb5d-e7ceb8389cc8",
   "metadata": {},
   "outputs": [],
   "source": []
  },
  {
   "cell_type": "markdown",
   "id": "b3c63d58-ee16-4cf4-8416-50be01aeb3fb",
   "metadata": {},
   "source": [
    "### 5 VF"
   ]
  },
  {
   "cell_type": "code",
   "execution_count": null,
   "id": "4e585183-571b-4522-9938-371fe6db60a0",
   "metadata": {
    "tags": []
   },
   "outputs": [],
   "source": [
    "NPOT_PREFIX = '5VF'"
   ]
  },
  {
   "cell_type": "code",
   "execution_count": null,
   "id": "b77d7875-2b01-4033-880a-5c8dd97b133c",
   "metadata": {
    "tags": []
   },
   "outputs": [],
   "source": [
    "key = random.PRNGKey(42)\n",
    "data_key, key = random.split(key, 2)"
   ]
  },
  {
   "cell_type": "code",
   "execution_count": null,
   "id": "2eba2fb2-6e63-421c-aa0d-f718e9799140",
   "metadata": {
    "tags": []
   },
   "outputs": [],
   "source": [
    "EPOCHS = 20000\n",
    "MODEL = CNF.CNF(\n",
    "    input_dim=2,\n",
    "    hidden_dim=32,\n",
    "    out_dim=2,\n",
    "    depth=3,\n",
    "    num_blocks=5,\n",
    "    key=key,\n",
    "    f_theta_cls=CNF.f_theta,\n",
    "    exact_logp=True,     num_steps=20\n",
    ")\n",
    "LOSS_FUNC = jit(MODEL._loss)\n",
    "VAL_LOSS_FUNC = jit(MODEL.metrics)\n",
    "LOSS_KWARGS = {} \n",
    "VAL_LOSS_KWARGS = {'normal_batch': normal_sample}"
   ]
  },
  {
   "cell_type": "code",
   "execution_count": null,
   "id": "c1fd0ed9-8fe0-47de-8cee-aaf718a0d9f8",
   "metadata": {
    "tags": []
   },
   "outputs": [],
   "source": [
    "# Exponential decay of the learning rate.\n",
    "scheduler = optax.exponential_decay(\n",
    "    init_value=2e-2, \n",
    "    transition_steps=1000,\n",
    "    transition_begin=0,\n",
    "    decay_rate=0.6)\n",
    "\n",
    "gradient_transform = optax.chain(\n",
    "    optax.scale_by_adam(),              # Use the updates from adam.\n",
    "    optax.scale_by_schedule(scheduler), # Adapt LR\n",
    "    optax.scale(-1.0)                   # Scale updates by -1 since optax.apply_updates \n",
    "                                        # is additive and we want to descend on the loss.\n",
    ")"
   ]
  },
  {
   "cell_type": "code",
   "execution_count": null,
   "id": "10c3c5aa-e305-44e0-97ad-db4a8ec10b81",
   "metadata": {
    "tags": []
   },
   "outputs": [],
   "source": [
    "params = MODEL.params\n",
    "opt_state = gradient_transform.init(params)"
   ]
  },
  {
   "cell_type": "code",
   "execution_count": null,
   "id": "8dcc9bd0-9e84-4dfb-ae7c-e38a7f82ca7d",
   "metadata": {
    "tags": []
   },
   "outputs": [],
   "source": [
    "report_as_csv = True\n",
    "report_filename =  '_'.join([MODEL_PREFIX, PRECISION_PREFIX, DATASET_PREFIX, NPOT_PREFIX]) + '.csv'"
   ]
  },
  {
   "cell_type": "code",
   "execution_count": null,
   "id": "027804ad-51ba-4c90-aaf5-b5efda49b0fd",
   "metadata": {
    "tags": []
   },
   "outputs": [],
   "source": [
    "ret = run(train, params, opt_state, data_key)\n",
    "(train_losses, val_losses, val_mmds, val_inv_errors, \n",
    " best_epoch_mmd, best_val_mmd, best_params_mmd, \n",
    " best_epoch_loss, best_val_loss, best_params_loss, params) = ret"
   ]
  },
  {
   "cell_type": "code",
   "execution_count": null,
   "id": "bac95ca3-ffc1-492f-91d4-fd35045cb548",
   "metadata": {
    "tags": []
   },
   "outputs": [],
   "source": [
    "print(f'\\nBest Epoch MMD: {best_epoch_mmd} --- Val MMD: {best_val_mmd}')\n",
    "test_loss, test_inv_error, test_mmd = eval_val(test, best_params_mmd, EVAL_SOLVER_STEPS)\n",
    "print(f'Best Model MMD --- Test Loss: {test_loss}, Test Inv Error: {test_inv_error}, Test MMD: {test_mmd}')\n",
    "\n",
    "print(f'\\nBest Epoch Loss: {best_epoch_loss} --- Val Loss: {best_val_loss}')\n",
    "test_loss, test_inv_error, test_mmd = eval_val(test, best_params_loss, EVAL_SOLVER_STEPS)\n",
    "print(f'Best Model Loss --- Test Loss: {test_loss}, Test Inv Error: {test_inv_error}, Test MMD: {test_mmd}')"
   ]
  },
  {
   "cell_type": "code",
   "execution_count": null,
   "id": "25341ce8-47e8-4f5e-89a2-4d6dbb224399",
   "metadata": {
    "tags": []
   },
   "outputs": [],
   "source": [
    "fig, ax = plt.subplots(1, 2, figsize=(16,6))\n",
    "ax[0].semilogy(train_losses, label='train loss')\n",
    "ax[0].semilogy(val_losses, label='validation loss')\n",
    "ax[1].semilogy(train_losses[1000:], label='train loss')\n",
    "ax[1].semilogy(val_losses[1000:], label='validation loss')\n",
    "plt.legend()"
   ]
  },
  {
   "cell_type": "code",
   "execution_count": null,
   "id": "f68f5978-6b9c-468e-b72f-37861e183154",
   "metadata": {},
   "outputs": [],
   "source": []
  },
  {
   "cell_type": "code",
   "execution_count": null,
   "id": "59f30bfd-506b-402d-b51d-635a830382a5",
   "metadata": {
    "tags": []
   },
   "outputs": [],
   "source": [
    "filestr = '_'.join([MODEL_PREFIX, PRECISION_PREFIX, DATASET_PREFIX, NPOT_PREFIX])\n",
    "checkpoints.save_checkpoint(\n",
    "    ckpt_dir=f'checkpoints/finalfinal/{filestr}_params',  \n",
    "    target=params,  \n",
    "    overwrite=True,   \n",
    "    step=20000\n",
    ")"
   ]
  },
  {
   "cell_type": "code",
   "execution_count": null,
   "id": "855b0245-d705-40b1-bd98-5c15c39d7ee8",
   "metadata": {
    "tags": []
   },
   "outputs": [],
   "source": [
    "checkpoints.save_checkpoint(\n",
    "    ckpt_dir=f'checkpoints/finalfinal/target={filestr}_bestparams_loss',  \n",
    "    target=best_params_loss,  \n",
    "    overwrite=True,   \n",
    "    step=20000\n",
    ")"
   ]
  },
  {
   "cell_type": "code",
   "execution_count": null,
   "id": "da997ada-c693-4c58-b9c9-643d4ae8e52d",
   "metadata": {},
   "outputs": [],
   "source": [
    "checkpoints.save_checkpoint(\n",
    "    ckpt_dir=f'checkpoints/finalfinal/{filestr}_bestparams_mmd',  \n",
    "    target=best_params_mmd,  \n",
    "    overwrite=True,   \n",
    "    step=20000\n",
    ")"
   ]
  },
  {
   "cell_type": "markdown",
   "id": "1e425887-ed16-4017-ae3a-c18d138793d2",
   "metadata": {
    "tags": []
   },
   "source": [
    "## TUC Logo"
   ]
  },
  {
   "cell_type": "code",
   "execution_count": null,
   "id": "910cd6e6-1ec1-4729-9eda-dece41310537",
   "metadata": {
    "tags": []
   },
   "outputs": [],
   "source": [
    "key = random.PRNGKey(seed=42)"
   ]
  },
  {
   "cell_type": "code",
   "execution_count": null,
   "id": "cbb79f56-3796-4128-b434-ca84a52dd613",
   "metadata": {
    "tags": []
   },
   "outputs": [],
   "source": [
    "training_size = 10000\n",
    "validation_size = 10000\n",
    "test_size = 20000\n",
    "spacing = 40"
   ]
  },
  {
   "cell_type": "code",
   "execution_count": null,
   "id": "e4176a97-fe69-4615-abe1-862aad20c622",
   "metadata": {
    "tags": []
   },
   "outputs": [],
   "source": [
    "BATCH_SIZE_TR = training_size\n",
    "BATCH_SIZE_VAL_TE = validation_size"
   ]
  },
  {
   "cell_type": "code",
   "execution_count": null,
   "id": "a30f5991-6d73-41fc-a4f0-71828802d204",
   "metadata": {
    "tags": []
   },
   "outputs": [],
   "source": [
    "train, val, test = DatasetGenerator.make_tuc_logo(\n",
    "    key, \n",
    "    training_size, \n",
    "    validation_size, \n",
    "    test_size, \n",
    "    dtype=PRECISION_PREFIX,\n",
    ")\n",
    "normal_sample = random.normal(random.fold_in(key, 42), shape=(validation_size, 2), dtype=PRECISION_PREFIX)"
   ]
  },
  {
   "cell_type": "code",
   "execution_count": null,
   "id": "903fd818-a66d-4ccc-af2b-d3b6ab4ce238",
   "metadata": {},
   "outputs": [],
   "source": [
    "DATASET_PREFIX = 'tuc-logo'"
   ]
  },
  {
   "cell_type": "code",
   "execution_count": null,
   "id": "55e7c7c7-d0c7-4319-a765-7985b1454941",
   "metadata": {},
   "outputs": [],
   "source": [
    "TRAIN_GENERATOR = DatasetGenerator.make_tuc_logo_tr\n",
    "TRAIN_GEN_KWARGS = {}"
   ]
  },
  {
   "cell_type": "markdown",
   "id": "ede3dfdc-683b-4087-b41c-481ac09d8177",
   "metadata": {},
   "source": [
    "### 1 VF"
   ]
  },
  {
   "cell_type": "code",
   "execution_count": null,
   "id": "ed75035b-94bc-4ffc-92b6-958ea6e7f4d4",
   "metadata": {
    "tags": []
   },
   "outputs": [],
   "source": [
    "NPOT_PREFIX = '1VF'"
   ]
  },
  {
   "cell_type": "code",
   "execution_count": null,
   "id": "59146220-1527-4dff-83ad-9b7f7a414705",
   "metadata": {
    "tags": []
   },
   "outputs": [],
   "source": [
    "key = random.PRNGKey(42)\n",
    "data_key, key = random.split(key, 2)"
   ]
  },
  {
   "cell_type": "code",
   "execution_count": null,
   "id": "b4c40192-7a14-47d7-aa38-eccae05cbd8a",
   "metadata": {
    "tags": []
   },
   "outputs": [],
   "source": [
    "EPOCHS = 20000\n",
    "MODEL = CNF.CNF(\n",
    "    input_dim=2,\n",
    "    hidden_dim=64,\n",
    "    out_dim=2,\n",
    "    depth=3,\n",
    "    num_blocks=1,\n",
    "    key=key,\n",
    "    f_theta_cls=CNF.f_theta,\n",
    "    exact_logp=True,     \n",
    "    num_steps=20\n",
    ")\n",
    "LOSS_FUNC = jit(MODEL._loss)\n",
    "VAL_LOSS_FUNC = jit(MODEL.metrics)\n",
    "LOSS_KWARGS = {} \n",
    "VAL_LOSS_KWARGS = {'normal_batch': normal_sample}"
   ]
  },
  {
   "cell_type": "code",
   "execution_count": null,
   "id": "04142c51-12a2-47d3-8817-7e73cdb7893c",
   "metadata": {
    "tags": []
   },
   "outputs": [],
   "source": [
    "# Exponential decay of the learning rate.\n",
    "scheduler = optax.exponential_decay(\n",
    "    init_value=2e-2, \n",
    "    transition_steps=1000,\n",
    "    transition_begin=0,\n",
    "    decay_rate=0.6)\n",
    "\n",
    "gradient_transform = optax.chain(\n",
    "    optax.scale_by_adam(),              # Use the updates from adam.\n",
    "    optax.scale_by_schedule(scheduler), # Adapt LR\n",
    "    optax.scale(-1.0)                   # Scale updates by -1 since optax.apply_updates \n",
    "                                        # is additive and we want to descend on the loss.\n",
    ")"
   ]
  },
  {
   "cell_type": "code",
   "execution_count": null,
   "id": "55d1f66c-3a2d-4a32-adbb-65eb2a487d50",
   "metadata": {
    "tags": []
   },
   "outputs": [],
   "source": [
    "params = MODEL.params\n",
    "opt_state = gradient_transform.init(params)"
   ]
  },
  {
   "cell_type": "code",
   "execution_count": null,
   "id": "509bcc0a-6a66-4bab-a2f2-de8abcc1a768",
   "metadata": {
    "tags": []
   },
   "outputs": [],
   "source": [
    "report_as_csv = True\n",
    "report_filename =  '_'.join([MODEL_PREFIX, PRECISION_PREFIX, DATASET_PREFIX, NPOT_PREFIX]) + '.csv'"
   ]
  },
  {
   "cell_type": "code",
   "execution_count": null,
   "id": "afc1cff7-78a5-4433-8390-7b603f5d199f",
   "metadata": {
    "tags": []
   },
   "outputs": [],
   "source": [
    "ret = run(train, params, opt_state, data_key)\n",
    "(train_losses, val_losses, val_mmds, val_inv_errors, \n",
    " best_epoch_mmd, best_val_mmd, best_params_mmd, \n",
    " best_epoch_loss, best_val_loss, best_params_loss, params) = ret"
   ]
  },
  {
   "cell_type": "code",
   "execution_count": null,
   "id": "8f7a9892-232f-4d8f-b5c9-818964998a27",
   "metadata": {
    "tags": []
   },
   "outputs": [],
   "source": [
    "print(f'\\nBest Epoch MMD: {best_epoch_mmd} --- Val MMD: {best_val_mmd}')\n",
    "test_loss, test_inv_error, test_mmd = eval_val(test, best_params_mmd, EVAL_SOLVER_STEPS)\n",
    "print(f'Best Model MMD --- Test Loss: {test_loss}, Test Inv Error: {test_inv_error}, Test MMD: {test_mmd}')\n",
    "\n",
    "print(f'\\nBest Epoch Loss: {best_epoch_loss} --- Val Loss: {best_val_loss}')\n",
    "test_loss, test_inv_error, test_mmd = eval_val(test, best_params_loss, EVAL_SOLVER_STEPS)\n",
    "print(f'Best Model Loss --- Test Loss: {test_loss}, Test Inv Error: {test_inv_error}, Test MMD: {test_mmd}')"
   ]
  },
  {
   "cell_type": "code",
   "execution_count": null,
   "id": "ff6a4152-d1f0-409e-91d0-b12fb8e7c856",
   "metadata": {
    "tags": []
   },
   "outputs": [],
   "source": [
    "fig, ax = plt.subplots(1, 2, figsize=(16,6))\n",
    "ax[0].semilogy(train_losses, label='train loss')\n",
    "ax[0].semilogy(val_losses, label='validation loss')\n",
    "ax[1].semilogy(train_losses[1000:], label='train loss')\n",
    "ax[1].semilogy(val_losses[1000:], label='validation loss')\n",
    "plt.legend()"
   ]
  },
  {
   "cell_type": "code",
   "execution_count": null,
   "id": "dea6b325-875c-4bd9-b413-e8891147722e",
   "metadata": {},
   "outputs": [],
   "source": []
  },
  {
   "cell_type": "code",
   "execution_count": null,
   "id": "8b70cc42-fd9b-4995-89b4-d49de2516e36",
   "metadata": {
    "tags": []
   },
   "outputs": [],
   "source": [
    "filestr = '_'.join([MODEL_PREFIX, PRECISION_PREFIX, DATASET_PREFIX, NPOT_PREFIX])\n",
    "checkpoints.save_checkpoint(\n",
    "    ckpt_dir=f'checkpoints/finalfinal/{filestr}_params',  \n",
    "    target=params,  \n",
    "    overwrite=True,   \n",
    "    step=20000\n",
    ")"
   ]
  },
  {
   "cell_type": "code",
   "execution_count": null,
   "id": "fdc424c2-4439-45d1-a3c8-bd578a69af3a",
   "metadata": {},
   "outputs": [],
   "source": [
    "checkpoints.save_checkpoint(\n",
    "    ckpt_dir=f'checkpoints/finalfinal/target={filestr}_bestparams_loss',  \n",
    "    target=best_params_loss,  \n",
    "    overwrite=True,   \n",
    "    step=20000\n",
    ")"
   ]
  },
  {
   "cell_type": "code",
   "execution_count": null,
   "id": "d03dcafd-e02f-4c03-b129-ef59839e5c68",
   "metadata": {},
   "outputs": [],
   "source": [
    "checkpoints.save_checkpoint(\n",
    "    ckpt_dir=f'checkpoints/finalfinal/{filestr}_bestparams_mmd',  \n",
    "    target=best_params_mmd,  \n",
    "    overwrite=True,   \n",
    "    step=20000\n",
    ")"
   ]
  },
  {
   "cell_type": "code",
   "execution_count": null,
   "id": "645bc04c-f48b-4e5c-a32e-794d831dedfa",
   "metadata": {},
   "outputs": [],
   "source": []
  },
  {
   "cell_type": "markdown",
   "id": "6f4ba4ef-aa63-410d-a2b0-0d2ccbe79f81",
   "metadata": {},
   "source": [
    "### 3 VF"
   ]
  },
  {
   "cell_type": "code",
   "execution_count": null,
   "id": "b52392ce-6d9e-4b9e-a4b4-1fe110302388",
   "metadata": {
    "tags": []
   },
   "outputs": [],
   "source": [
    "NPOT_PREFIX = '3VF'"
   ]
  },
  {
   "cell_type": "code",
   "execution_count": null,
   "id": "1970a1a7-bf52-407d-99b2-401789413bd2",
   "metadata": {
    "tags": []
   },
   "outputs": [],
   "source": [
    "key = random.PRNGKey(42)\n",
    "data_key, key = random.split(key, 2)"
   ]
  },
  {
   "cell_type": "code",
   "execution_count": null,
   "id": "10ce7a38-1a6a-4a3b-a6d1-385842de9ba9",
   "metadata": {
    "tags": []
   },
   "outputs": [],
   "source": [
    "EPOCHS = 20000\n",
    "MODEL = CNF.CNF(\n",
    "    input_dim=2,\n",
    "    hidden_dim=64,\n",
    "    out_dim=2,\n",
    "    depth=3,\n",
    "    num_blocks=3,\n",
    "    key=key,\n",
    "    f_theta_cls=CNF.f_theta,\n",
    "    exact_logp=True,     num_steps=20\n",
    ")\n",
    "LOSS_FUNC = jit(MODEL._loss)\n",
    "VAL_LOSS_FUNC = jit(MODEL.metrics)\n",
    "LOSS_KWARGS = {} \n",
    "VAL_LOSS_KWARGS = {'normal_batch': normal_sample}"
   ]
  },
  {
   "cell_type": "code",
   "execution_count": null,
   "id": "f3954f9f-3c11-47ba-a05c-ba8aa47930f8",
   "metadata": {
    "tags": []
   },
   "outputs": [],
   "source": [
    "# Exponential decay of the learning rate.\n",
    "scheduler = optax.exponential_decay(\n",
    "    init_value=2e-2, \n",
    "    transition_steps=1000,\n",
    "    transition_begin=0,\n",
    "    decay_rate=0.6)\n",
    "\n",
    "gradient_transform = optax.chain(\n",
    "    optax.scale_by_adam(),              # Use the updates from adam.\n",
    "    optax.scale_by_schedule(scheduler), # Adapt LR\n",
    "    optax.scale(-1.0)                   # Scale updates by -1 since optax.apply_updates \n",
    "                                        # is additive and we want to descend on the loss.\n",
    ")"
   ]
  },
  {
   "cell_type": "code",
   "execution_count": null,
   "id": "dd1f2a9b-b6a2-459f-8c16-ccfa83e37c16",
   "metadata": {
    "tags": []
   },
   "outputs": [],
   "source": [
    "params = MODEL.params\n",
    "opt_state = gradient_transform.init(params)"
   ]
  },
  {
   "cell_type": "code",
   "execution_count": null,
   "id": "3433fd2a-286b-4b24-af53-a8bef4d1efb9",
   "metadata": {
    "tags": []
   },
   "outputs": [],
   "source": [
    "report_as_csv = True\n",
    "report_filename =  '_'.join([MODEL_PREFIX, PRECISION_PREFIX, DATASET_PREFIX, NPOT_PREFIX]) + '.csv'"
   ]
  },
  {
   "cell_type": "code",
   "execution_count": null,
   "id": "0ae39042-9933-430b-bda3-1c024bb47cc0",
   "metadata": {
    "tags": []
   },
   "outputs": [],
   "source": [
    "ret = run(train, params, opt_state, data_key)\n",
    "(train_losses, val_losses, val_mmds, val_inv_errors, \n",
    " best_epoch_mmd, best_val_mmd, best_params_mmd, \n",
    " best_epoch_loss, best_val_loss, best_params_loss, params) = ret"
   ]
  },
  {
   "cell_type": "code",
   "execution_count": null,
   "id": "6499f4b8-7e7c-455b-b0d8-1b48ddf72f05",
   "metadata": {
    "tags": []
   },
   "outputs": [],
   "source": [
    "print(f'\\nBest Epoch MMD: {best_epoch_mmd} --- Val MMD: {best_val_mmd}')\n",
    "test_loss, test_inv_error, test_mmd = eval_val(test, best_params_mmd, EVAL_SOLVER_STEPS)\n",
    "print(f'Best Model MMD --- Test Loss: {test_loss}, Test Inv Error: {test_inv_error}, Test MMD: {test_mmd}')\n",
    "\n",
    "print(f'\\nBest Epoch Loss: {best_epoch_loss} --- Val Loss: {best_val_loss}')\n",
    "test_loss, test_inv_error, test_mmd = eval_val(test, best_params_loss, EVAL_SOLVER_STEPS)\n",
    "print(f'Best Model Loss --- Test Loss: {test_loss}, Test Inv Error: {test_inv_error}, Test MMD: {test_mmd}')"
   ]
  },
  {
   "cell_type": "code",
   "execution_count": null,
   "id": "c67d8a9e-f417-4207-b46b-dddb054f4890",
   "metadata": {
    "tags": []
   },
   "outputs": [],
   "source": [
    "fig, ax = plt.subplots(1, 2, figsize=(16,6))\n",
    "ax[0].semilogy(train_losses, label='train loss')\n",
    "ax[0].semilogy(val_losses, label='validation loss')\n",
    "ax[1].semilogy(train_losses[1000:], label='train loss')\n",
    "ax[1].semilogy(val_losses[1000:], label='validation loss')\n",
    "plt.legend()"
   ]
  },
  {
   "cell_type": "code",
   "execution_count": null,
   "id": "a0be2e84-5324-434b-afc5-422f6eac3860",
   "metadata": {},
   "outputs": [],
   "source": []
  },
  {
   "cell_type": "code",
   "execution_count": null,
   "id": "abd42641-cc89-47c2-9f27-d35a936ec8a0",
   "metadata": {
    "tags": []
   },
   "outputs": [],
   "source": [
    "filestr = '_'.join([MODEL_PREFIX, PRECISION_PREFIX, DATASET_PREFIX, NPOT_PREFIX])\n",
    "checkpoints.save_checkpoint(\n",
    "    ckpt_dir=f'checkpoints/finalfinal/{filestr}_params',  \n",
    "    target=params,  \n",
    "    overwrite=True,   \n",
    "    step=20000\n",
    ")"
   ]
  },
  {
   "cell_type": "code",
   "execution_count": null,
   "id": "c07938c9-06ab-4628-a2ed-02e3fa275b27",
   "metadata": {
    "tags": []
   },
   "outputs": [],
   "source": [
    "checkpoints.save_checkpoint(\n",
    "    ckpt_dir=f'checkpoints/finalfinal/target={filestr}_bestparams_loss',  \n",
    "    target=best_params_loss,  \n",
    "    overwrite=True,   \n",
    "    step=20000\n",
    ")"
   ]
  },
  {
   "cell_type": "code",
   "execution_count": null,
   "id": "fa2b984c-1dab-4113-a6a2-819a40ebf6ad",
   "metadata": {},
   "outputs": [],
   "source": [
    "checkpoints.save_checkpoint(\n",
    "    ckpt_dir=f'checkpoints/finalfinal/{filestr}_bestparams_mmd',  \n",
    "    target=best_params_mmd,  \n",
    "    overwrite=True,   \n",
    "    step=20000\n",
    ")"
   ]
  },
  {
   "cell_type": "code",
   "execution_count": null,
   "id": "2d3d3869-6aed-45b9-99bf-4b1d3182fb51",
   "metadata": {},
   "outputs": [],
   "source": []
  },
  {
   "cell_type": "markdown",
   "id": "2176b9bc-3e7d-41e2-89f7-c6b74da67b4e",
   "metadata": {},
   "source": [
    "### 5 VF"
   ]
  },
  {
   "cell_type": "code",
   "execution_count": null,
   "id": "e6cca901-b081-48fa-8552-986e9ebf92d3",
   "metadata": {
    "tags": []
   },
   "outputs": [],
   "source": [
    "NPOT_PREFIX = '5VF'"
   ]
  },
  {
   "cell_type": "code",
   "execution_count": null,
   "id": "ceb18e1a-1ffc-492c-b0d8-2315882d0579",
   "metadata": {
    "tags": []
   },
   "outputs": [],
   "source": [
    "key = random.PRNGKey(42)\n",
    "data_key, key = random.split(key, 2)"
   ]
  },
  {
   "cell_type": "code",
   "execution_count": null,
   "id": "7e447eca-72fa-4ab6-a8ac-4b21a9c4d308",
   "metadata": {
    "tags": []
   },
   "outputs": [],
   "source": [
    "EPOCHS = 20000\n",
    "MODEL = CNF.CNF(\n",
    "    input_dim=2,\n",
    "    hidden_dim=64,\n",
    "    out_dim=2,\n",
    "    depth=3,\n",
    "    num_blocks=5,\n",
    "    key=key,\n",
    "    f_theta_cls=CNF.f_theta,\n",
    "    exact_logp=True,     num_steps=20\n",
    ")\n",
    "LOSS_FUNC = jit(MODEL._loss)\n",
    "VAL_LOSS_FUNC = jit(MODEL.metrics)\n",
    "LOSS_KWARGS = {} \n",
    "VAL_LOSS_KWARGS = {'normal_batch': normal_sample}"
   ]
  },
  {
   "cell_type": "code",
   "execution_count": null,
   "id": "eda5390b-c7be-46c2-8384-fdf480fd2f3d",
   "metadata": {
    "tags": []
   },
   "outputs": [],
   "source": [
    "# Exponential decay of the learning rate.\n",
    "scheduler = optax.exponential_decay(\n",
    "    init_value=2e-2, \n",
    "    transition_steps=1000,\n",
    "    transition_begin=0,\n",
    "    decay_rate=0.6)\n",
    "\n",
    "gradient_transform = optax.chain(\n",
    "    optax.scale_by_adam(),              # Use the updates from adam.\n",
    "    optax.scale_by_schedule(scheduler), # Adapt LR\n",
    "    optax.scale(-1.0)                   # Scale updates by -1 since optax.apply_updates \n",
    "                                        # is additive and we want to descend on the loss.\n",
    ")"
   ]
  },
  {
   "cell_type": "code",
   "execution_count": null,
   "id": "fd8a0208-0acd-4b21-80b4-9ec275a60092",
   "metadata": {
    "tags": []
   },
   "outputs": [],
   "source": [
    "params = MODEL.params\n",
    "opt_state = gradient_transform.init(params)"
   ]
  },
  {
   "cell_type": "code",
   "execution_count": null,
   "id": "107e087f-c754-481b-bfbe-25a3bfdd903e",
   "metadata": {
    "tags": []
   },
   "outputs": [],
   "source": [
    "report_as_csv = True\n",
    "report_filename =  '_'.join([MODEL_PREFIX, PRECISION_PREFIX, DATASET_PREFIX, NPOT_PREFIX]) + '.csv'"
   ]
  },
  {
   "cell_type": "code",
   "execution_count": null,
   "id": "0e45186f-5a34-4b20-8d31-7a37992f89c1",
   "metadata": {
    "tags": []
   },
   "outputs": [],
   "source": [
    "ret = run(train, params, opt_state, data_key)\n",
    "(train_losses, val_losses, val_mmds, val_inv_errors, \n",
    " best_epoch_mmd, best_val_mmd, best_params_mmd, \n",
    " best_epoch_loss, best_val_loss, best_params_loss, params) = ret"
   ]
  },
  {
   "cell_type": "code",
   "execution_count": null,
   "id": "3c78c53e-de12-4d26-95c9-51af6a2cfe48",
   "metadata": {
    "tags": []
   },
   "outputs": [],
   "source": [
    "print(f'\\nBest Epoch MMD: {best_epoch_mmd} --- Val MMD: {best_val_mmd}')\n",
    "test_loss, test_inv_error, test_mmd = eval_val(test, best_params_mmd, EVAL_SOLVER_STEPS)\n",
    "print(f'Best Model MMD --- Test Loss: {test_loss}, Test Inv Error: {test_inv_error}, Test MMD: {test_mmd}')\n",
    "\n",
    "print(f'\\nBest Epoch Loss: {best_epoch_loss} --- Val Loss: {best_val_loss}')\n",
    "test_loss, test_inv_error, test_mmd = eval_val(test, best_params_loss, EVAL_SOLVER_STEPS)\n",
    "print(f'Best Model Loss --- Test Loss: {test_loss}, Test Inv Error: {test_inv_error}, Test MMD: {test_mmd}')"
   ]
  },
  {
   "cell_type": "code",
   "execution_count": null,
   "id": "983cb356-6503-4839-9c3c-1ba29c124356",
   "metadata": {
    "tags": []
   },
   "outputs": [],
   "source": [
    "fig, ax = plt.subplots(1, 2, figsize=(16,6))\n",
    "ax[0].semilogy(train_losses, label='train loss')\n",
    "ax[0].semilogy(val_losses, label='validation loss')\n",
    "ax[1].semilogy(train_losses[1000:], label='train loss')\n",
    "ax[1].semilogy(val_losses[1000:], label='validation loss')\n",
    "plt.legend()"
   ]
  },
  {
   "cell_type": "code",
   "execution_count": null,
   "id": "eadfbb15-bbcb-4e71-a305-f86dd47338dc",
   "metadata": {},
   "outputs": [],
   "source": []
  },
  {
   "cell_type": "code",
   "execution_count": null,
   "id": "315a2f47-60b8-4c80-84d4-070103644be1",
   "metadata": {
    "tags": []
   },
   "outputs": [],
   "source": [
    "filestr = '_'.join([MODEL_PREFIX, PRECISION_PREFIX, DATASET_PREFIX, NPOT_PREFIX])\n",
    "checkpoints.save_checkpoint(\n",
    "    ckpt_dir=f'checkpoints/finalfinal/{filestr}_params',  \n",
    "    target=params,  \n",
    "    overwrite=True,   \n",
    "    step=20000\n",
    ")"
   ]
  },
  {
   "cell_type": "code",
   "execution_count": null,
   "id": "3f1052af-0e79-4347-a9bc-503171fb46ce",
   "metadata": {
    "tags": []
   },
   "outputs": [],
   "source": [
    "checkpoints.save_checkpoint(\n",
    "    ckpt_dir=f'checkpoints/finalfinal/target={filestr}_bestparams_loss',  \n",
    "    target=best_params_loss,  \n",
    "    overwrite=True,   \n",
    "    step=20000\n",
    ")"
   ]
  },
  {
   "cell_type": "code",
   "execution_count": null,
   "id": "176dfb63-97b1-47ec-b4e9-f01d1d373bb8",
   "metadata": {},
   "outputs": [],
   "source": [
    "checkpoints.save_checkpoint(\n",
    "    ckpt_dir=f'checkpoints/finalfinal/{filestr}_bestparams_mmd',  \n",
    "    target=best_params_mmd,  \n",
    "    overwrite=True,   \n",
    "    step=20000\n",
    ")"
   ]
  },
  {
   "cell_type": "code",
   "execution_count": null,
   "id": "19de17ec-7f05-4357-a28f-b77a8ab8b5d0",
   "metadata": {},
   "outputs": [],
   "source": []
  },
  {
   "cell_type": "markdown",
   "id": "148f91a6-5a32-4338-8593-0f924aad5d4a",
   "metadata": {},
   "source": [
    "### 10 VF"
   ]
  },
  {
   "cell_type": "code",
   "execution_count": null,
   "id": "022225a3-fbe9-4efd-b6ed-08137a9bcb5d",
   "metadata": {
    "tags": []
   },
   "outputs": [],
   "source": [
    "NPOT_PREFIX = '10VF'"
   ]
  },
  {
   "cell_type": "code",
   "execution_count": null,
   "id": "2456f4cd-32cc-45a9-a945-6f09baabf3b8",
   "metadata": {
    "tags": []
   },
   "outputs": [],
   "source": [
    "key = random.PRNGKey(42)\n",
    "data_key, key = random.split(key, 2)"
   ]
  },
  {
   "cell_type": "code",
   "execution_count": null,
   "id": "c532b899-bffb-4e99-889e-20e348a087a4",
   "metadata": {
    "tags": []
   },
   "outputs": [],
   "source": [
    "EPOCHS = 20000\n",
    "MODEL = CNF.CNF(\n",
    "    input_dim=2,\n",
    "    hidden_dim=64,\n",
    "    out_dim=2,\n",
    "    depth=3,\n",
    "    num_blocks=10,\n",
    "    key=key,\n",
    "    f_theta_cls=CNF.f_theta,\n",
    "    exact_logp=True,     num_steps=20\n",
    ")\n",
    "LOSS_FUNC = jit(MODEL._loss)\n",
    "VAL_LOSS_FUNC = jit(MODEL.metrics)\n",
    "LOSS_KWARGS = {} \n",
    "VAL_LOSS_KWARGS = {'normal_batch': normal_sample}"
   ]
  },
  {
   "cell_type": "code",
   "execution_count": null,
   "id": "2e35f8a2-060b-4577-82de-71516e7030c0",
   "metadata": {
    "tags": []
   },
   "outputs": [],
   "source": [
    "# Exponential decay of the learning rate.\n",
    "scheduler = optax.exponential_decay(\n",
    "    init_value=2e-2, \n",
    "    transition_steps=1000,\n",
    "    transition_begin=0,\n",
    "    decay_rate=0.6)\n",
    "\n",
    "gradient_transform = optax.chain(\n",
    "    optax.scale_by_adam(),              # Use the updates from adam.\n",
    "    optax.scale_by_schedule(scheduler), # Adapt LR\n",
    "    optax.scale(-1.0)                   # Scale updates by -1 since optax.apply_updates \n",
    "                                        # is additive and we want to descend on the loss.\n",
    ")"
   ]
  },
  {
   "cell_type": "code",
   "execution_count": null,
   "id": "ff47ee97-e478-48b0-861b-e0e5778af089",
   "metadata": {
    "tags": []
   },
   "outputs": [],
   "source": [
    "params = MODEL.params\n",
    "opt_state = gradient_transform.init(params)"
   ]
  },
  {
   "cell_type": "code",
   "execution_count": null,
   "id": "fcd13357-c34c-4918-8452-b1a4608c4ccc",
   "metadata": {
    "tags": []
   },
   "outputs": [],
   "source": [
    "report_as_csv = True\n",
    "report_filename =  '_'.join([MODEL_PREFIX, PRECISION_PREFIX, DATASET_PREFIX, NPOT_PREFIX]) + '.csv'"
   ]
  },
  {
   "cell_type": "code",
   "execution_count": null,
   "id": "0cfd9f60-1576-4ef5-b268-1970ce2df1fc",
   "metadata": {
    "tags": []
   },
   "outputs": [],
   "source": [
    "ret = run(train, params, opt_state, data_key)\n",
    "(train_losses, val_losses, val_mmds, val_inv_errors, \n",
    " best_epoch_mmd, best_val_mmd, best_params_mmd, \n",
    " best_epoch_loss, best_val_loss, best_params_loss, params) = ret"
   ]
  },
  {
   "cell_type": "code",
   "execution_count": null,
   "id": "bb494e31-e305-4b05-999e-272e831ea4eb",
   "metadata": {
    "tags": []
   },
   "outputs": [],
   "source": [
    "print(f'\\nBest Epoch MMD: {best_epoch_mmd} --- Val MMD: {best_val_mmd}')\n",
    "test_loss, test_inv_error, test_mmd = eval_val(test, best_params_mmd, EVAL_SOLVER_STEPS)\n",
    "print(f'Best Model MMD --- Test Loss: {test_loss}, Test Inv Error: {test_inv_error}, Test MMD: {test_mmd}')\n",
    "\n",
    "print(f'\\nBest Epoch Loss: {best_epoch_loss} --- Val Loss: {best_val_loss}')\n",
    "test_loss, test_inv_error, test_mmd = eval_val(test, best_params_loss, EVAL_SOLVER_STEPS)\n",
    "print(f'Best Model Loss --- Test Loss: {test_loss}, Test Inv Error: {test_inv_error}, Test MMD: {test_mmd}')"
   ]
  },
  {
   "cell_type": "code",
   "execution_count": null,
   "id": "694bc0cd-cbd5-4f52-a540-c58ad12f9bbd",
   "metadata": {
    "tags": []
   },
   "outputs": [],
   "source": [
    "fig, ax = plt.subplots(1, 2, figsize=(16,6))\n",
    "ax[0].semilogy(train_losses, label='train loss')\n",
    "ax[0].semilogy(val_losses, label='validation loss')\n",
    "ax[1].semilogy(train_losses[1000:], label='train loss')\n",
    "ax[1].semilogy(val_losses[1000:], label='validation loss')\n",
    "plt.legend()"
   ]
  },
  {
   "cell_type": "code",
   "execution_count": null,
   "id": "ea1b29cf-18c6-4593-a73c-e3ae0e13fdb1",
   "metadata": {},
   "outputs": [],
   "source": []
  },
  {
   "cell_type": "code",
   "execution_count": null,
   "id": "ae0cd709-bd44-497f-a0ea-3140173cfcec",
   "metadata": {
    "tags": []
   },
   "outputs": [],
   "source": [
    "filestr = '_'.join([MODEL_PREFIX, PRECISION_PREFIX, DATASET_PREFIX, NPOT_PREFIX])\n",
    "checkpoints.save_checkpoint(\n",
    "    ckpt_dir=f'checkpoints/finalfinal/{filestr}_params',  \n",
    "    target=params,  \n",
    "    overwrite=True,   \n",
    "    step=20000\n",
    ")"
   ]
  },
  {
   "cell_type": "code",
   "execution_count": null,
   "id": "a946bdc9-519a-4c91-b525-0476b3aaa858",
   "metadata": {
    "tags": []
   },
   "outputs": [],
   "source": [
    "checkpoints.save_checkpoint(\n",
    "    ckpt_dir=f'checkpoints/finalfinal/target={filestr}_bestparams_loss',  \n",
    "    target=best_params_loss,  \n",
    "    overwrite=True,   \n",
    "    step=20000\n",
    ")"
   ]
  },
  {
   "cell_type": "code",
   "execution_count": null,
   "id": "3a02c1ad-bd00-400e-9809-e1fe211fb039",
   "metadata": {},
   "outputs": [],
   "source": [
    "checkpoints.save_checkpoint(\n",
    "    ckpt_dir=f'checkpoints/finalfinal/{filestr}_bestparams_mmd',  \n",
    "    target=best_params_mmd,  \n",
    "    overwrite=True,   \n",
    "    step=20000\n",
    ")"
   ]
  },
  {
   "cell_type": "markdown",
   "id": "546bc2ef-5322-4859-a20e-1c7c2755ce43",
   "metadata": {},
   "source": [
    "### 15 VF"
   ]
  },
  {
   "cell_type": "code",
   "execution_count": null,
   "id": "a4edfa25-78b2-4900-a8b1-44acef0d56b0",
   "metadata": {
    "tags": []
   },
   "outputs": [],
   "source": [
    "NPOT_PREFIX = '15VF'"
   ]
  },
  {
   "cell_type": "code",
   "execution_count": null,
   "id": "b0591f58-9418-423d-8308-fa9a85d73c14",
   "metadata": {
    "tags": []
   },
   "outputs": [],
   "source": [
    "key = random.PRNGKey(42)\n",
    "data_key, key = random.split(key, 2)"
   ]
  },
  {
   "cell_type": "code",
   "execution_count": null,
   "id": "671411ac-e04c-41ec-a94b-0b17fba48825",
   "metadata": {
    "tags": []
   },
   "outputs": [],
   "source": [
    "EPOCHS = 20000\n",
    "MODEL = CNF.CNF(\n",
    "    input_dim=2,\n",
    "    hidden_dim=64,\n",
    "    out_dim=2,\n",
    "    depth=3,\n",
    "    num_blocks=15,\n",
    "    key=key,\n",
    "    f_theta_cls=CNF.f_theta,\n",
    "    exact_logp=True,     \n",
    "    num_steps=20\n",
    ")\n",
    "LOSS_FUNC = jit(MODEL._loss)\n",
    "VAL_LOSS_FUNC = jit(MODEL.metrics)\n",
    "LOSS_KWARGS = {} \n",
    "VAL_LOSS_KWARGS = {'normal_batch': normal_sample}"
   ]
  },
  {
   "cell_type": "code",
   "execution_count": null,
   "id": "9636c84b-4483-4230-9de7-9de3d71d8e10",
   "metadata": {
    "tags": []
   },
   "outputs": [],
   "source": [
    "# Exponential decay of the learning rate.\n",
    "scheduler = optax.exponential_decay(\n",
    "    init_value=2e-2, \n",
    "    transition_steps=1000,\n",
    "    transition_begin=0,\n",
    "    decay_rate=0.6)\n",
    "\n",
    "gradient_transform = optax.chain(\n",
    "    optax.scale_by_adam(),              # Use the updates from adam.\n",
    "    optax.scale_by_schedule(scheduler), # Adapt LR\n",
    "    optax.scale(-1.0)                   # Scale updates by -1 since optax.apply_updates \n",
    "                                        # is additive and we want to descend on the loss.\n",
    ")"
   ]
  },
  {
   "cell_type": "code",
   "execution_count": null,
   "id": "f6679d1b-be79-4da1-8a24-60c1118c1722",
   "metadata": {
    "tags": []
   },
   "outputs": [],
   "source": [
    "params = MODEL.params\n",
    "opt_state = gradient_transform.init(params)"
   ]
  },
  {
   "cell_type": "code",
   "execution_count": null,
   "id": "c9ebe7bf-932a-4a64-a47e-349f0e8d7717",
   "metadata": {
    "tags": []
   },
   "outputs": [],
   "source": [
    "report_as_csv = True\n",
    "report_filename =  '_'.join([MODEL_PREFIX, PRECISION_PREFIX, DATASET_PREFIX, NPOT_PREFIX]) + '.csv'"
   ]
  },
  {
   "cell_type": "code",
   "execution_count": null,
   "id": "c903e9b5-8c68-4f11-a136-4514e0fcf9fd",
   "metadata": {
    "tags": []
   },
   "outputs": [],
   "source": [
    "ret = run(train, params, opt_state, data_key)\n",
    "(train_losses, val_losses, val_mmds, val_inv_errors, \n",
    " best_epoch_mmd, best_val_mmd, best_params_mmd, \n",
    " best_epoch_loss, best_val_loss, best_params_loss, params) = ret"
   ]
  },
  {
   "cell_type": "code",
   "execution_count": null,
   "id": "4363b7a1-3ab0-4636-8b3f-40ff2dd6463a",
   "metadata": {
    "tags": []
   },
   "outputs": [],
   "source": [
    "print(f'\\nBest Epoch MMD: {best_epoch_mmd} --- Val MMD: {best_val_mmd}')\n",
    "test_loss, test_inv_error, test_mmd = eval_val(test, best_params_mmd, EVAL_SOLVER_STEPS)\n",
    "print(f'Best Model MMD --- Test Loss: {test_loss}, Test Inv Error: {test_inv_error}, Test MMD: {test_mmd}')\n",
    "\n",
    "print(f'\\nBest Epoch Loss: {best_epoch_loss} --- Val Loss: {best_val_loss}')\n",
    "test_loss, test_inv_error, test_mmd = eval_val(test, best_params_loss, EVAL_SOLVER_STEPS)\n",
    "print(f'Best Model Loss --- Test Loss: {test_loss}, Test Inv Error: {test_inv_error}, Test MMD: {test_mmd}')"
   ]
  },
  {
   "cell_type": "code",
   "execution_count": null,
   "id": "968fce35-c95a-477b-a244-c246e3b4fcac",
   "metadata": {
    "tags": []
   },
   "outputs": [],
   "source": [
    "fig, ax = plt.subplots(1, 2, figsize=(16,6))\n",
    "ax[0].semilogy(train_losses, label='train loss')\n",
    "ax[0].semilogy(val_losses, label='validation loss')\n",
    "ax[1].semilogy(train_losses[1000:], label='train loss')\n",
    "ax[1].semilogy(val_losses[1000:], label='validation loss')\n",
    "plt.legend()"
   ]
  },
  {
   "cell_type": "code",
   "execution_count": null,
   "id": "21f5c5eb-9eac-43e5-b2b2-cbd40b7292b4",
   "metadata": {},
   "outputs": [],
   "source": []
  },
  {
   "cell_type": "code",
   "execution_count": null,
   "id": "0a953224-fd11-402e-9a9b-7024cc4df157",
   "metadata": {
    "tags": []
   },
   "outputs": [],
   "source": [
    "filestr = '_'.join([MODEL_PREFIX, PRECISION_PREFIX, DATASET_PREFIX, NPOT_PREFIX])\n",
    "checkpoints.save_checkpoint(\n",
    "    ckpt_dir=f'checkpoints/finalfinal/{filestr}_params',  \n",
    "    target=params,  \n",
    "    overwrite=True,   \n",
    "    step=20000\n",
    ")"
   ]
  },
  {
   "cell_type": "code",
   "execution_count": null,
   "id": "3ab8f416-5c40-49f6-ae30-b91cd9dff181",
   "metadata": {
    "tags": []
   },
   "outputs": [],
   "source": [
    "checkpoints.save_checkpoint(\n",
    "    ckpt_dir=f'checkpoints/finalfinal/target={filestr}_bestparams_loss',  \n",
    "    target=best_params_loss,  \n",
    "    overwrite=True,   \n",
    "    step=20000\n",
    ")"
   ]
  },
  {
   "cell_type": "code",
   "execution_count": null,
   "id": "93d4bfbd-ab6d-4d75-9224-25e68b0fd7ee",
   "metadata": {},
   "outputs": [],
   "source": [
    "checkpoints.save_checkpoint(\n",
    "    ckpt_dir=f'checkpoints/finalfinal/{filestr}_bestparams_mmd',  \n",
    "    target=best_params_mmd,  \n",
    "    overwrite=True,   \n",
    "    step=20000\n",
    ")"
   ]
  },
  {
   "cell_type": "code",
   "execution_count": null,
   "id": "f61ee23a-158d-40cb-9911-3196d96a1815",
   "metadata": {},
   "outputs": [],
   "source": []
  },
  {
   "cell_type": "markdown",
   "id": "95f5a26c-dcf7-4ad2-b58c-f252a59a3805",
   "metadata": {
    "tags": []
   },
   "source": [
    "# Double Precision"
   ]
  },
  {
   "cell_type": "code",
   "execution_count": null,
   "id": "792cb4ca-d7ac-4214-b81b-a8fb6563732b",
   "metadata": {
    "tags": []
   },
   "outputs": [],
   "source": [
    "import os\n",
    "os.environ['CUDA_VISIBLE_DEVICES'] = '2'\n",
    "\n",
    "from jax import config\n",
    "config.update(\"jax_enable_x64\", True)"
   ]
  },
  {
   "cell_type": "code",
   "execution_count": null,
   "id": "a4136ba1-71cc-4aeb-aa6b-9b54855ce887",
   "metadata": {
    "tags": []
   },
   "outputs": [],
   "source": [
    "import CNF, DatasetGenerator\n",
    "import numpy as np\n",
    "import pandas as pd\n",
    "import optax\n",
    "import matplotlib.pyplot as plt\n",
    "\n",
    "from jax import jit, grad, value_and_grad, random\n",
    "from flax.training import checkpoints\n",
    "\n",
    "# plotting, move this to seperate notebook\n",
    "from jax import vmap\n",
    "import jax.numpy as jnp\n",
    "from matplotlib import colormaps"
   ]
  },
  {
   "cell_type": "code",
   "execution_count": null,
   "id": "16a75d50-fc62-4ea8-934a-09a30af211fe",
   "metadata": {
    "tags": []
   },
   "outputs": [],
   "source": [
    "@jit\n",
    "def step(opt_state, params, batch):\n",
    "    # from optax doc: https://optax.readthedocs.io/en/latest/gradient_accumulation.html\n",
    "    loss, grads = value_and_grad(LOSS_FUNC)(params, batch, **LOSS_KWARGS)\n",
    "    updates, opt_state = gradient_transform.update(grads, opt_state, params=params) \n",
    "    params = optax.apply_updates(params, updates)\n",
    "    return opt_state, params, loss"
   ]
  },
  {
   "cell_type": "code",
   "execution_count": null,
   "id": "7d30cc89-78b0-47db-8617-545fa6371142",
   "metadata": {
    "tags": []
   },
   "outputs": [],
   "source": [
    "def eval_val(val_data, params):\n",
    "    return VAL_LOSS_FUNC(params=params, batch=val_data, **LOSS_KWARGS)"
   ]
  },
  {
   "cell_type": "code",
   "execution_count": null,
   "id": "0f088a66-b0e5-4915-bc47-370ad3ee8971",
   "metadata": {
    "tags": []
   },
   "outputs": [],
   "source": [
    "def train_step(train_data, opt_state, params):\n",
    "    opt_state, params, loss = step(opt_state, params, batch=train_data)\n",
    "    return opt_state, params, loss"
   ]
  },
  {
   "cell_type": "code",
   "execution_count": null,
   "id": "ebccf8c9-7bf9-4289-a13a-1fefad638044",
   "metadata": {
    "tags": []
   },
   "outputs": [],
   "source": [
    "MODEL_PREFIX = 'CNF_nol2'\n",
    "PRECISION_PREFIX = 'float64'"
   ]
  },
  {
   "cell_type": "code",
   "execution_count": null,
   "id": "7ea37deb-43f1-4c3e-837e-82574553cc9e",
   "metadata": {},
   "outputs": [],
   "source": []
  }
 ],
 "metadata": {
  "kernelspec": {
   "display_name": "Python 3 (ipykernel)",
   "language": "python",
   "name": "python3"
  },
  "language_info": {
   "codemirror_mode": {
    "name": "ipython",
    "version": 3
   },
   "file_extension": ".py",
   "mimetype": "text/x-python",
   "name": "python",
   "nbconvert_exporter": "python",
   "pygments_lexer": "ipython3",
   "version": "3.9.16"
  }
 },
 "nbformat": 4,
 "nbformat_minor": 5
}
