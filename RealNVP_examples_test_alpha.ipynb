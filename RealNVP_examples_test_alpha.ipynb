{
 "cells": [
  {
   "cell_type": "markdown",
   "id": "06700c83-b741-433c-8e43-96fdd23ed6df",
   "metadata": {},
   "source": [
    "# Single Precision"
   ]
  },
  {
   "cell_type": "code",
   "execution_count": null,
   "id": "15045d95-05a2-4e8d-ae6a-a2230ca019a6",
   "metadata": {
    "tags": []
   },
   "outputs": [],
   "source": [
    "import os\n",
    "os.environ['CUDA_VISIBLE_DEVICES'] = '1'\n",
    "\n",
    "from jax import config\n",
    "config.update(\"jax_enable_x64\", True)"
   ]
  },
  {
   "cell_type": "code",
   "execution_count": null,
   "id": "6e44c555-b6fd-47fc-a365-e6f318fb658d",
   "metadata": {
    "tags": []
   },
   "outputs": [],
   "source": [
    "import RealNVP, DatasetGenerator\n",
    "import numpy as np\n",
    "import pandas as pd\n",
    "import optax\n",
    "import matplotlib.pyplot as plt\n",
    "\n",
    "from jax import jit, grad, value_and_grad, random\n",
    "from flax.training import checkpoints\n",
    "\n",
    "# plotting, move this to seperate notebook\n",
    "from jax import vmap\n",
    "import jax.numpy as jnp\n",
    "from matplotlib import colormaps"
   ]
  },
  {
   "cell_type": "code",
   "execution_count": null,
   "id": "f43dc45f-301b-4fad-b4ee-abd3d0a179e0",
   "metadata": {
    "tags": []
   },
   "outputs": [],
   "source": [
    "@jit\n",
    "def step(opt_state, params, batch):\n",
    "    # from optax doc: https://optax.readthedocs.io/en/latest/gradient_accumulation.html\n",
    "    loss, grads = value_and_grad(LOSS_FUNC)(params, batch, **LOSS_KWARGS)\n",
    "    updates, opt_state = gradient_transform.update(grads, opt_state, params=params) \n",
    "    params = optax.apply_updates(params, updates)\n",
    "    return opt_state, params, loss"
   ]
  },
  {
   "cell_type": "code",
   "execution_count": null,
   "id": "7a0b0a65-eb73-448d-964f-a4dda8c52bf6",
   "metadata": {
    "tags": []
   },
   "outputs": [],
   "source": [
    "def eval_val(val_data, params):\n",
    "    return VAL_LOSS_FUNC(params=params, batch=val_data, **VAL_LOSS_KWARGS)"
   ]
  },
  {
   "cell_type": "code",
   "execution_count": null,
   "id": "d74906a2-6421-45cf-9bb0-46473c4988aa",
   "metadata": {
    "tags": []
   },
   "outputs": [],
   "source": [
    "def train_step(train_data, opt_state, params):\n",
    "    opt_state, params, loss = step(opt_state, params, batch=train_data)\n",
    "    return opt_state, params, loss"
   ]
  },
  {
   "cell_type": "code",
   "execution_count": null,
   "id": "1dc6009c-c654-4630-872d-73ef3343cd5c",
   "metadata": {
    "tags": []
   },
   "outputs": [],
   "source": [
    "MODEL_PREFIX = 'RealNVP_l2'\n",
    "PRECISION_PREFIX = 'float64'"
   ]
  },
  {
   "cell_type": "code",
   "execution_count": null,
   "id": "b5269566-181f-4e6b-befe-a556e11bc8ea",
   "metadata": {},
   "outputs": [],
   "source": []
  },
  {
   "cell_type": "code",
   "execution_count": null,
   "id": "a755afda-865c-4058-8f47-f9174b47525a",
   "metadata": {},
   "outputs": [],
   "source": [
    "def run(train_re, params, opt_state, data_key):\n",
    "    train_losses, val_losses = [], []\n",
    "    best_val_loss, best_epoch, best_params = np.inf, None, None\n",
    "    if report_as_csv:\n",
    "        report_df = pd.DataFrame({'Epoch': [], 'Training Loss': [], \n",
    "                                  'Validation Loss': [], 'Best Epoch': [], 'Best Validation Loss': [],})\n",
    "\n",
    "    for epoch in range(1, EPOCHS + 1):\n",
    "        opt_state, params, train_loss = train_step(train_re, opt_state, params)    \n",
    "        train_losses.append(train_loss)\n",
    "\n",
    "        val_loss = eval_val(val, params)\n",
    "        print(f'Epoch {epoch} --- Train Loss: {np.mean(train_loss)}, Val Loss: {val_loss}')\n",
    "        val_losses.append(val_loss)\n",
    "\n",
    "        if epoch >= 5:\n",
    "            val_loss_rolling = np.mean(val_losses[epoch-5:])    \n",
    "            if val_loss_rolling < best_val_loss:\n",
    "                best_epoch, best_params, best_val_loss = epoch, params, val_loss\n",
    "\n",
    "        # resample training data\n",
    "        if epoch % 25 == 0:    \n",
    "            data_key = random.fold_in(data_key, epoch)\n",
    "            train_re = TRAIN_GENERATOR(data_key, training_size, dtype=PRECISION_PREFIX, **TRAIN_GEN_KWARGS)      \n",
    "\n",
    "        if report_as_csv:    \n",
    "            report_df.loc[epoch - 1] = [epoch, train_loss, val_loss, best_epoch, best_val_loss]\n",
    "            if epoch % 10 == 0: \n",
    "                report_df.to_csv(report_filename)\n",
    "\n",
    "\n",
    "    print(f'\\nBest Epoch: {best_epoch} --- Val Loss: {best_val_loss}')\n",
    "    test_loss = eval_val(test, best_params)\n",
    "    print(f'Best Model --- Test Loss: {test_loss}')\n",
    "\n",
    "    return train_losses, val_losses, best_epoch, best_val_loss, params, best_params"
   ]
  },
  {
   "cell_type": "code",
   "execution_count": null,
   "id": "f982ade8-65dd-4ab0-83fa-0c9aa1deca4e",
   "metadata": {},
   "outputs": [],
   "source": []
  },
  {
   "cell_type": "markdown",
   "id": "5762245c-5925-4542-aa9d-491138754ee0",
   "metadata": {
    "tags": []
   },
   "source": [
    "## TUC Letters (no Spacing)"
   ]
  },
  {
   "cell_type": "code",
   "execution_count": null,
   "id": "26cabc80-3dea-48e7-a2c1-d39eb6de7928",
   "metadata": {
    "tags": []
   },
   "outputs": [],
   "source": [
    "key = random.PRNGKey(seed=42)"
   ]
  },
  {
   "cell_type": "code",
   "execution_count": null,
   "id": "4475c86d-98e2-4c4c-a323-85434475eab0",
   "metadata": {
    "tags": []
   },
   "outputs": [],
   "source": [
    "training_size = 10000\n",
    "validation_size = 10000\n",
    "test_size = 20000\n",
    "spacing = 0"
   ]
  },
  {
   "cell_type": "code",
   "execution_count": null,
   "id": "c6896d8f-0e6b-43f9-8465-cd6c13ac8e83",
   "metadata": {
    "tags": []
   },
   "outputs": [],
   "source": [
    "BATCH_SIZE_TR = training_size\n",
    "BATCH_SIZE_VAL_TE = validation_size"
   ]
  },
  {
   "cell_type": "code",
   "execution_count": null,
   "id": "5e0e7532-251c-4cba-b587-0b8d985fd585",
   "metadata": {
    "tags": []
   },
   "outputs": [],
   "source": [
    "train, val, test = DatasetGenerator.make_tuc_letters(\n",
    "    key, \n",
    "    training_size, \n",
    "    validation_size, \n",
    "    test_size, \n",
    "    dtype=PRECISION_PREFIX,\n",
    "    spacing=spacing\n",
    ")"
   ]
  },
  {
   "cell_type": "code",
   "execution_count": null,
   "id": "7021b36e-0295-443c-943d-5f8d37b4e06d",
   "metadata": {},
   "outputs": [],
   "source": [
    "DATASET_PREFIX = 'letters-nospacing'"
   ]
  },
  {
   "cell_type": "code",
   "execution_count": null,
   "id": "9872cd0c-25a3-49a8-a1cb-c6179b831d6f",
   "metadata": {},
   "outputs": [],
   "source": [
    "TRAIN_GENERATOR = DatasetGenerator.make_tuc_letters_tr\n",
    "TRAIN_GEN_KWARGS = {'spacing': spacing}"
   ]
  },
  {
   "cell_type": "markdown",
   "id": "aad5f1a3-df74-4c90-aede-569bbf6e0f13",
   "metadata": {},
   "source": [
    "### 1e-5"
   ]
  },
  {
   "cell_type": "code",
   "execution_count": null,
   "id": "e0461db8-56ff-4e1b-8070-b1b54f623078",
   "metadata": {
    "tags": []
   },
   "outputs": [],
   "source": [
    "NPOT_PREFIX = '1pot'"
   ]
  },
  {
   "cell_type": "code",
   "execution_count": null,
   "id": "585ce45b-2ed8-465a-96bd-1a751220a1db",
   "metadata": {
    "tags": []
   },
   "outputs": [],
   "source": [
    "key = random.PRNGKey(42)\n",
    "data_key, key = random.split(key, 2)"
   ]
  },
  {
   "cell_type": "code",
   "execution_count": null,
   "id": "3e51ab8a-b35c-4a30-91d6-d97b1a707706",
   "metadata": {
    "tags": []
   },
   "outputs": [],
   "source": [
    "EPOCHS = 20000\n",
    "MODEL = RealNVP.RealNVP(\n",
    "    NVP_net=RealNVP.NVP_l,\n",
    "    num_blocks=12,\n",
    "    key=key,\n",
    "    input_dim=2,\n",
    "    hidden_dim=32,\n",
    "    prior_type='gaussian',\n",
    "    prior_args=None,\n",
    "    use_dropout=False,\n",
    "    dropout_proba=None\n",
    ")\n",
    "LOSS_KWARGS = {'alpha': 1e-5}\n",
    "LOSS_FUNC = jit(MODEL._loss_l2)\n",
    "VAL_LOSS_FUNC = jit(MODEL._loss)\n",
    "VAL_LOSS_KWARGS = {}"
   ]
  },
  {
   "cell_type": "code",
   "execution_count": null,
   "id": "d1f05431-765d-4929-8662-0083776f6b44",
   "metadata": {},
   "outputs": [],
   "source": [
    "@jit\n",
    "def step(opt_state, params, batch):\n",
    "    # from optax doc: https://optax.readthedocs.io/en/latest/gradient_accumulation.html\n",
    "    loss, grads = value_and_grad(LOSS_FUNC)(params, batch, **LOSS_KWARGS)\n",
    "    updates, opt_state = gradient_transform.update(grads, opt_state, params=params) \n",
    "    params = optax.apply_updates(params, updates)\n",
    "    return opt_state, params, loss"
   ]
  },
  {
   "cell_type": "code",
   "execution_count": null,
   "id": "29032464-d847-4ac6-b68b-5b39fa0948aa",
   "metadata": {
    "tags": []
   },
   "outputs": [],
   "source": [
    "# Exponential decay of the learning rate.\n",
    "scheduler = optax.exponential_decay(\n",
    "    init_value=2e-3, \n",
    "    transition_steps=1000,\n",
    "    transition_begin=0,\n",
    "    decay_rate=0.6)\n",
    "\n",
    "gradient_transform = optax.chain(\n",
    "    optax.scale_by_adam(),              # Use the updates from adam.\n",
    "    optax.scale_by_schedule(scheduler), # Adapt LR\n",
    "    optax.scale(-1.0)                   # Scale updates by -1 since optax.apply_updates \n",
    "                                        # is additive and we want to descend on the loss.\n",
    ")"
   ]
  },
  {
   "cell_type": "code",
   "execution_count": null,
   "id": "2ea669aa-dbbd-4b72-a7f7-061c17cb6438",
   "metadata": {
    "tags": []
   },
   "outputs": [],
   "source": [
    "params = MODEL.params\n",
    "opt_state = gradient_transform.init(params)"
   ]
  },
  {
   "cell_type": "code",
   "execution_count": null,
   "id": "81f2dc1c-f41d-4326-a6bb-3c58d2c9f4f7",
   "metadata": {
    "tags": []
   },
   "outputs": [],
   "source": [
    "report_as_csv = False\n",
    "report_filename = filestr = '_'.join([MODEL_PREFIX, PRECISION_PREFIX, DATASET_PREFIX, NPOT_PREFIX]) + '.csv'"
   ]
  },
  {
   "cell_type": "code",
   "execution_count": null,
   "id": "1091ade8-7010-40b3-bf74-07e2a63258bb",
   "metadata": {
    "tags": []
   },
   "outputs": [],
   "source": [
    "train_losses, val_losses, best_epoch, best_val_loss, params, best_params = run(train, params, opt_state, data_key)"
   ]
  },
  {
   "cell_type": "code",
   "execution_count": null,
   "id": "d8b8ecf3-e5ac-45c5-b216-eef9b208c9a8",
   "metadata": {
    "tags": []
   },
   "outputs": [],
   "source": [
    "print(f'\\nBest Epoch: {best_epoch} --- Val Loss: {best_val_loss}')\n",
    "test_loss = eval_val(test, best_params)\n",
    "print(f'Best Model --- Test Loss: {test_loss}')"
   ]
  },
  {
   "cell_type": "code",
   "execution_count": null,
   "id": "09986596-dd06-46d7-bbbf-96577bfe4ec5",
   "metadata": {
    "tags": []
   },
   "outputs": [],
   "source": [
    "fig, ax = plt.subplots(1, 2, figsize=(16,6))\n",
    "ax[0].semilogy(train_losses, label='train loss')\n",
    "ax[0].semilogy(val_losses, label='validation loss')\n",
    "ax[1].semilogy(train_losses[1000:], label='train loss')\n",
    "ax[1].semilogy(val_losses[1000:], label='validation loss')\n",
    "plt.legend()"
   ]
  },
  {
   "cell_type": "code",
   "execution_count": null,
   "id": "804311e8-fd58-449d-a6a3-1ef7b0c955a3",
   "metadata": {
    "tags": []
   },
   "outputs": [],
   "source": [
    "MODEL.key = key"
   ]
  },
  {
   "cell_type": "code",
   "execution_count": null,
   "id": "6ae19777-1119-455c-9caa-87d1ef03c05d",
   "metadata": {
    "tags": []
   },
   "outputs": [],
   "source": [
    "TRAIN_DATA = train\n",
    "MODEL.params = params"
   ]
  },
  {
   "cell_type": "code",
   "execution_count": null,
   "id": "bfc52d1d-256d-425c-80bd-ced770bd73af",
   "metadata": {
    "tags": []
   },
   "outputs": [],
   "source": [
    "offset = 0.3\n",
    "plt_params = {\n",
    "    'X_MIN': np.floor(TRAIN_DATA[:, 0].min() * 10) / 10 - offset,\n",
    "    'X_MAX': np.ceil(TRAIN_DATA[:, 0].max() * 10) / 10 + offset,\n",
    "    'Y_MIN': np.floor(TRAIN_DATA[:, 1].min() * 10) / 10 - offset,\n",
    "    'Y_MAX': np.ceil(TRAIN_DATA[:, 1].max() * 10) / 10 + offset, \n",
    "}"
   ]
  },
  {
   "cell_type": "code",
   "execution_count": null,
   "id": "ddeb7367-f51c-4b15-86fe-3fb9a7809552",
   "metadata": {
    "tags": []
   },
   "outputs": [],
   "source": [
    "# 25L, 512Params, alpha=20\n",
    "y_final, y_best = MODEL.sample(1000), MODEL.sample(1000, params=best_params)\n",
    "\n",
    "res = 500\n",
    "xx, yy = np.meshgrid(np.linspace(plt_params['X_MIN'], plt_params['X_MAX'], res), \n",
    "                     np.linspace(plt_params['Y_MIN'], plt_params['Y_MAX'], res))\n",
    "xy = np.hstack([e.reshape(-1, 1) for e in [xx, yy]])\n",
    "probs_final = jnp.exp(MODEL.log_pdf(data=xy))\n",
    "probs_best = jnp.exp(MODEL.log_pdf(data=xy, params=best_params))\n",
    "\n",
    "fig, ax = plt.subplots(2,2, figsize=(16,12))\n",
    "ax[0,0].set_title('Best Model')\n",
    "ax[0,0].scatter(y_best[:, 0], y_best[:, 1], s=5, color='red', label='samples')\n",
    "ax[0,0].scatter(TRAIN_DATA[:, 0], TRAIN_DATA[:, 1], s=1, color='blue', label='training data')\n",
    "ax[0,0].set_xlim((plt_params['X_MIN'], plt_params['X_MAX']))\n",
    "ax[0,0].set_ylim((plt_params['Y_MIN'], plt_params['Y_MAX']))\n",
    "ax[0,0].legend()\n",
    "\n",
    "ax[0,1].set_title('Final Model')\n",
    "ax[0,1].scatter(y_final[:, 0], y_final[:, 1], s=5, color='red', label='samples')\n",
    "ax[0,1].scatter(TRAIN_DATA[:, 0], TRAIN_DATA[:, 1], s=1, color='blue', label='training data')\n",
    "ax[0,1].set_xlim((plt_params['X_MIN'], plt_params['X_MAX']))\n",
    "ax[0,1].set_ylim((plt_params['Y_MIN'], plt_params['Y_MAX']))\n",
    "ax[0,1].legend()\n",
    "\n",
    "ax[1,0].set_title('Best Model')\n",
    "ax[1,0].imshow(probs_best.reshape((res, res)),\n",
    "           origin='lower', extent=(plt_params['X_MIN'], plt_params['X_MAX'], \n",
    "                                   plt_params['Y_MIN'], plt_params['Y_MAX']), aspect='auto')\n",
    "ax[1,0].scatter(TRAIN_DATA[:, 0], TRAIN_DATA[:, 1], s=0.1, color='red', label='samples')\n",
    "ax[1,0].set_xlim((plt_params['X_MIN'], plt_params['X_MAX']))\n",
    "ax[1,0].set_ylim((plt_params['Y_MIN'], plt_params['Y_MAX']))\n",
    "ax[1,0].legend()\n",
    "\n",
    "ax[1,1].set_title('Final Model')\n",
    "ax[1,1].imshow(probs_final.reshape((res, res)),\n",
    "           origin='lower', extent=(plt_params['X_MIN'], plt_params['X_MAX'], \n",
    "                                   plt_params['Y_MIN'], plt_params['Y_MAX']), aspect='auto')\n",
    "ax[1,1].scatter(TRAIN_DATA[:, 0], TRAIN_DATA[:, 1], s=0.1, color='red', label='samples')\n",
    "ax[1,1].set_xlim((plt_params['X_MIN'], plt_params['X_MAX']))\n",
    "ax[1,1].set_ylim((plt_params['Y_MIN'], plt_params['Y_MAX']))\n",
    "ax[1,1].legend()"
   ]
  },
  {
   "cell_type": "code",
   "execution_count": null,
   "id": "50651713-2741-4590-8625-b1ab7de7206f",
   "metadata": {
    "tags": []
   },
   "outputs": [],
   "source": [
    "fig, ax = plt.subplots(1,2, figsize=(16,6))\n",
    "ax[0].scatter(*y_best.T, s=0.1)\n",
    "ax[1].imshow(probs_best.reshape((res, res)),\n",
    "           origin='lower', extent=(plt_params['X_MIN'], plt_params['X_MAX'], \n",
    "                                   plt_params['Y_MIN'], plt_params['Y_MAX']), aspect='auto')"
   ]
  },
  {
   "cell_type": "code",
   "execution_count": null,
   "id": "46ed90e3-6442-4c98-ae68-8d356485e700",
   "metadata": {},
   "outputs": [],
   "source": []
  },
  {
   "cell_type": "code",
   "execution_count": null,
   "id": "b4b747a3-6ccc-4625-a7ee-db1ce8066bdc",
   "metadata": {},
   "outputs": [],
   "source": []
  },
  {
   "cell_type": "markdown",
   "id": "db1ec029-6c16-492d-9f0e-c0369a685222",
   "metadata": {},
   "source": [
    "### 1e-4"
   ]
  },
  {
   "cell_type": "code",
   "execution_count": null,
   "id": "3fb5fe73-4cfd-42c7-be88-8c8871947f2c",
   "metadata": {
    "tags": []
   },
   "outputs": [],
   "source": [
    "NPOT_PREFIX = '1pot'"
   ]
  },
  {
   "cell_type": "code",
   "execution_count": null,
   "id": "c781cc15-1959-4931-983c-f9e635ae8e28",
   "metadata": {
    "tags": []
   },
   "outputs": [],
   "source": [
    "key = random.PRNGKey(42)\n",
    "data_key, key = random.split(key, 2)"
   ]
  },
  {
   "cell_type": "code",
   "execution_count": null,
   "id": "af3b7c9a-fcb0-40ea-935a-06eadea18c5f",
   "metadata": {
    "tags": []
   },
   "outputs": [],
   "source": [
    "EPOCHS = 20000\n",
    "MODEL = RealNVP.RealNVP(\n",
    "    NVP_net=RealNVP.NVP_l,\n",
    "    num_blocks=12,\n",
    "    key=key,\n",
    "    input_dim=2,\n",
    "    hidden_dim=32,\n",
    "    prior_type='gaussian',\n",
    "    prior_args=None,\n",
    "    use_dropout=False,\n",
    "    dropout_proba=None\n",
    ")\n",
    "\n",
    "LOSS_FUNC = jit(MODEL._loss_l2)\n",
    "LOSS_KWARGS = {'alpha': 1e-4}\n",
    "VAL_LOSS_FUNC = jit(MODEL._loss)\n",
    "VAL_LOSS_KWARGS = {}"
   ]
  },
  {
   "cell_type": "code",
   "execution_count": null,
   "id": "9339fb10-ebcb-4e16-b6cd-672e68e56078",
   "metadata": {
    "tags": []
   },
   "outputs": [],
   "source": [
    "@jit\n",
    "def step(opt_state, params, batch):\n",
    "    # from optax doc: https://optax.readthedocs.io/en/latest/gradient_accumulation.html\n",
    "    loss, grads = value_and_grad(LOSS_FUNC)(params, batch, **LOSS_KWARGS)\n",
    "    updates, opt_state = gradient_transform.update(grads, opt_state, params=params) \n",
    "    params = optax.apply_updates(params, updates)\n",
    "    return opt_state, params, loss"
   ]
  },
  {
   "cell_type": "code",
   "execution_count": null,
   "id": "13cff783-9639-4051-aaf6-87aa938a1d4b",
   "metadata": {
    "tags": []
   },
   "outputs": [],
   "source": [
    "# Exponential decay of the learning rate.\n",
    "scheduler = optax.exponential_decay(\n",
    "    init_value=2e-3, \n",
    "    transition_steps=1000,\n",
    "    transition_begin=0,\n",
    "    decay_rate=0.6)\n",
    "\n",
    "gradient_transform = optax.chain(\n",
    "    optax.scale_by_adam(),              # Use the updates from adam.\n",
    "    optax.scale_by_schedule(scheduler), # Adapt LR\n",
    "    optax.scale(-1.0)                   # Scale updates by -1 since optax.apply_updates \n",
    "                                        # is additive and we want to descend on the loss.\n",
    ")"
   ]
  },
  {
   "cell_type": "code",
   "execution_count": null,
   "id": "8e4477c3-87f0-4aca-bf9f-c7ac8371a62a",
   "metadata": {
    "tags": []
   },
   "outputs": [],
   "source": [
    "params = MODEL.params\n",
    "opt_state = gradient_transform.init(params)"
   ]
  },
  {
   "cell_type": "code",
   "execution_count": null,
   "id": "9766c22e-cb16-4cf8-a2c1-1f64fcfc772a",
   "metadata": {
    "tags": []
   },
   "outputs": [],
   "source": [
    "report_as_csv = False\n",
    "report_filename = filestr = '_'.join([MODEL_PREFIX, PRECISION_PREFIX, DATASET_PREFIX, NPOT_PREFIX]) + '.csv'"
   ]
  },
  {
   "cell_type": "code",
   "execution_count": null,
   "id": "99ed1477-193e-44d1-a9f0-3d0087d3bf7a",
   "metadata": {
    "tags": []
   },
   "outputs": [],
   "source": [
    "train_losses, val_losses, best_epoch, best_val_loss, params, best_params = run(train, params, opt_state, data_key)"
   ]
  },
  {
   "cell_type": "code",
   "execution_count": null,
   "id": "dfc6bcf5-50ca-495f-819b-0a9539aa3be9",
   "metadata": {
    "tags": []
   },
   "outputs": [],
   "source": [
    "print(f'\\nBest Epoch: {best_epoch} --- Val Loss: {best_val_loss}')\n",
    "test_loss = eval_val(test, best_params)\n",
    "print(f'Best Model --- Test Loss: {test_loss}')"
   ]
  },
  {
   "cell_type": "code",
   "execution_count": null,
   "id": "4311d66e-e024-44f7-90f8-facfbdd80203",
   "metadata": {
    "tags": []
   },
   "outputs": [],
   "source": [
    "fig, ax = plt.subplots(1, 2, figsize=(16,6))\n",
    "ax[0].semilogy(train_losses, label='train loss')\n",
    "ax[0].semilogy(val_losses, label='validation loss')\n",
    "ax[1].semilogy(train_losses[1000:], label='train loss')\n",
    "ax[1].semilogy(val_losses[1000:], label='validation loss')\n",
    "plt.legend()"
   ]
  },
  {
   "cell_type": "code",
   "execution_count": null,
   "id": "fc312297-076c-42ec-b993-4f46388b1f3c",
   "metadata": {
    "tags": []
   },
   "outputs": [],
   "source": [
    "MODEL.key = key"
   ]
  },
  {
   "cell_type": "code",
   "execution_count": null,
   "id": "dc50962a-f875-49c6-be34-cd60d5f10b24",
   "metadata": {
    "tags": []
   },
   "outputs": [],
   "source": [
    "TRAIN_DATA = train\n",
    "MODEL.params = params"
   ]
  },
  {
   "cell_type": "code",
   "execution_count": null,
   "id": "585c045a-3847-4f0c-b410-57a801b196a6",
   "metadata": {
    "tags": []
   },
   "outputs": [],
   "source": [
    "offset = 0.3\n",
    "plt_params = {\n",
    "    'X_MIN': np.floor(TRAIN_DATA[:, 0].min() * 10) / 10 - offset,\n",
    "    'X_MAX': np.ceil(TRAIN_DATA[:, 0].max() * 10) / 10 + offset,\n",
    "    'Y_MIN': np.floor(TRAIN_DATA[:, 1].min() * 10) / 10 - offset,\n",
    "    'Y_MAX': np.ceil(TRAIN_DATA[:, 1].max() * 10) / 10 + offset, \n",
    "}"
   ]
  },
  {
   "cell_type": "code",
   "execution_count": null,
   "id": "84c04d23-bc23-45a3-a401-1769879f1490",
   "metadata": {
    "tags": []
   },
   "outputs": [],
   "source": [
    "# 25L, 512Params, alpha=20\n",
    "y_final, y_best = MODEL.sample(1000), MODEL.sample(1000, params=best_params)\n",
    "\n",
    "res = 500\n",
    "xx, yy = np.meshgrid(np.linspace(plt_params['X_MIN'], plt_params['X_MAX'], res), \n",
    "                     np.linspace(plt_params['Y_MIN'], plt_params['Y_MAX'], res))\n",
    "xy = np.hstack([e.reshape(-1, 1) for e in [xx, yy]])\n",
    "probs_final = jnp.exp(MODEL.log_pdf(data=xy))\n",
    "probs_best = jnp.exp(MODEL.log_pdf(data=xy, params=best_params))\n",
    "\n",
    "fig, ax = plt.subplots(2,2, figsize=(16,12))\n",
    "ax[0,0].set_title('Best Model')\n",
    "ax[0,0].scatter(y_best[:, 0], y_best[:, 1], s=5, color='red', label='samples')\n",
    "ax[0,0].scatter(TRAIN_DATA[:, 0], TRAIN_DATA[:, 1], s=1, color='blue', label='training data')\n",
    "ax[0,0].set_xlim((plt_params['X_MIN'], plt_params['X_MAX']))\n",
    "ax[0,0].set_ylim((plt_params['Y_MIN'], plt_params['Y_MAX']))\n",
    "ax[0,0].legend()\n",
    "\n",
    "ax[0,1].set_title('Final Model')\n",
    "ax[0,1].scatter(y_final[:, 0], y_final[:, 1], s=5, color='red', label='samples')\n",
    "ax[0,1].scatter(TRAIN_DATA[:, 0], TRAIN_DATA[:, 1], s=1, color='blue', label='training data')\n",
    "ax[0,1].set_xlim((plt_params['X_MIN'], plt_params['X_MAX']))\n",
    "ax[0,1].set_ylim((plt_params['Y_MIN'], plt_params['Y_MAX']))\n",
    "ax[0,1].legend()\n",
    "\n",
    "ax[1,0].set_title('Best Model')\n",
    "ax[1,0].imshow(probs_best.reshape((res, res)),\n",
    "           origin='lower', extent=(plt_params['X_MIN'], plt_params['X_MAX'], \n",
    "                                   plt_params['Y_MIN'], plt_params['Y_MAX']), aspect='auto')\n",
    "ax[1,0].scatter(TRAIN_DATA[:, 0], TRAIN_DATA[:, 1], s=0.1, color='red', label='samples')\n",
    "ax[1,0].set_xlim((plt_params['X_MIN'], plt_params['X_MAX']))\n",
    "ax[1,0].set_ylim((plt_params['Y_MIN'], plt_params['Y_MAX']))\n",
    "ax[1,0].legend()\n",
    "\n",
    "ax[1,1].set_title('Final Model')\n",
    "ax[1,1].imshow(probs_final.reshape((res, res)),\n",
    "           origin='lower', extent=(plt_params['X_MIN'], plt_params['X_MAX'], \n",
    "                                   plt_params['Y_MIN'], plt_params['Y_MAX']), aspect='auto')\n",
    "ax[1,1].scatter(TRAIN_DATA[:, 0], TRAIN_DATA[:, 1], s=0.1, color='red', label='samples')\n",
    "ax[1,1].set_xlim((plt_params['X_MIN'], plt_params['X_MAX']))\n",
    "ax[1,1].set_ylim((plt_params['Y_MIN'], plt_params['Y_MAX']))\n",
    "ax[1,1].legend()"
   ]
  },
  {
   "cell_type": "code",
   "execution_count": null,
   "id": "171b125b-3b94-4ea7-bc13-f84b1408e0b9",
   "metadata": {
    "tags": []
   },
   "outputs": [],
   "source": [
    "fig, ax = plt.subplots(1,2, figsize=(16,6))\n",
    "ax[0].scatter(*y_best.T, s=0.1)\n",
    "ax[1].imshow(probs_best.reshape((res, res)),\n",
    "           origin='lower', extent=(plt_params['X_MIN'], plt_params['X_MAX'], \n",
    "                                   plt_params['Y_MIN'], plt_params['Y_MAX']), aspect='auto')"
   ]
  },
  {
   "cell_type": "code",
   "execution_count": null,
   "id": "ddd4c548-8195-4f65-af74-df44b298f8d2",
   "metadata": {},
   "outputs": [],
   "source": []
  },
  {
   "cell_type": "code",
   "execution_count": null,
   "id": "b1e684cd-b14e-419b-a0e1-a5dda36fb9ef",
   "metadata": {},
   "outputs": [],
   "source": []
  },
  {
   "cell_type": "markdown",
   "id": "bf6cd2db-78fc-4d9c-a999-47cd2b08aea8",
   "metadata": {},
   "source": [
    "### 1e-3"
   ]
  },
  {
   "cell_type": "code",
   "execution_count": null,
   "id": "9355ac6f-034a-4165-9db9-812428bbdc55",
   "metadata": {
    "tags": []
   },
   "outputs": [],
   "source": [
    "NPOT_PREFIX = '1pot'"
   ]
  },
  {
   "cell_type": "code",
   "execution_count": null,
   "id": "e01ed025-9c78-4800-ab38-29d3a63f3ac3",
   "metadata": {
    "tags": []
   },
   "outputs": [],
   "source": [
    "key = random.PRNGKey(42)\n",
    "data_key, key = random.split(key, 2)"
   ]
  },
  {
   "cell_type": "code",
   "execution_count": null,
   "id": "dd6a9829-6b93-4b54-b30f-83c74d966aac",
   "metadata": {
    "tags": []
   },
   "outputs": [],
   "source": [
    "EPOCHS = 20000\n",
    "MODEL = RealNVP.RealNVP(\n",
    "    NVP_net=RealNVP.NVP_l,\n",
    "    num_blocks=12,\n",
    "    key=key,\n",
    "    input_dim=2,\n",
    "    hidden_dim=32,\n",
    "    prior_type='gaussian',\n",
    "    prior_args=None,\n",
    "    use_dropout=False,\n",
    "    dropout_proba=None\n",
    ")\n",
    "LOSS_FUNC = jit(MODEL._loss_l2)\n",
    "VAL_LOSS_FUNC = jit(MODEL._loss)\n",
    "LOSS_KWARGS = {'alpha': 1e-3}\n",
    "VAL_LOSS_KWARGS = {}"
   ]
  },
  {
   "cell_type": "code",
   "execution_count": null,
   "id": "50b56fd3-12d4-424c-8b77-0c441083deb2",
   "metadata": {},
   "outputs": [],
   "source": [
    "@jit\n",
    "def step(opt_state, params, batch):\n",
    "    # from optax doc: https://optax.readthedocs.io/en/latest/gradient_accumulation.html\n",
    "    loss, grads = value_and_grad(LOSS_FUNC)(params, batch, **LOSS_KWARGS)\n",
    "    updates, opt_state = gradient_transform.update(grads, opt_state, params=params) \n",
    "    params = optax.apply_updates(params, updates)\n",
    "    return opt_state, params, loss"
   ]
  },
  {
   "cell_type": "code",
   "execution_count": null,
   "id": "21dada52-69f5-4e6c-9a92-86c647bbb717",
   "metadata": {
    "tags": []
   },
   "outputs": [],
   "source": [
    "# Exponential decay of the learning rate.\n",
    "scheduler = optax.exponential_decay(\n",
    "    init_value=2e-3, \n",
    "    transition_steps=1000,\n",
    "    transition_begin=0,\n",
    "    decay_rate=0.6)\n",
    "\n",
    "gradient_transform = optax.chain(\n",
    "    optax.scale_by_adam(),              # Use the updates from adam.\n",
    "    optax.scale_by_schedule(scheduler), # Adapt LR\n",
    "    optax.scale(-1.0)                   # Scale updates by -1 since optax.apply_updates \n",
    "                                        # is additive and we want to descend on the loss.\n",
    ")"
   ]
  },
  {
   "cell_type": "code",
   "execution_count": null,
   "id": "95f399ca-413c-4478-9c1a-ae6a7ce96e28",
   "metadata": {
    "tags": []
   },
   "outputs": [],
   "source": [
    "params = MODEL.params\n",
    "opt_state = gradient_transform.init(params)"
   ]
  },
  {
   "cell_type": "code",
   "execution_count": null,
   "id": "480fd1f9-416f-4d9b-9d1a-a27f3d046d13",
   "metadata": {
    "tags": []
   },
   "outputs": [],
   "source": [
    "report_as_csv = False\n",
    "report_filename = filestr = '_'.join([MODEL_PREFIX, PRECISION_PREFIX, DATASET_PREFIX, NPOT_PREFIX]) + '.csv'"
   ]
  },
  {
   "cell_type": "code",
   "execution_count": null,
   "id": "8eabfe50-e544-4ab5-8098-4c40af9d70cf",
   "metadata": {
    "tags": []
   },
   "outputs": [],
   "source": [
    "train_losses, val_losses, best_epoch, best_val_loss, params, best_params = run(train, params, opt_state, data_key)"
   ]
  },
  {
   "cell_type": "code",
   "execution_count": null,
   "id": "2f9c060a-da6d-4b0f-a425-3ad9769eddf0",
   "metadata": {
    "tags": []
   },
   "outputs": [],
   "source": [
    "print(f'\\nBest Epoch: {best_epoch} --- Val Loss: {best_val_loss}')\n",
    "test_loss = eval_val(test, best_params)\n",
    "print(f'Best Model --- Test Loss: {test_loss}')"
   ]
  },
  {
   "cell_type": "code",
   "execution_count": null,
   "id": "308c1586-035c-4209-9d3c-a021c5d2a282",
   "metadata": {
    "tags": []
   },
   "outputs": [],
   "source": [
    "fig, ax = plt.subplots(1, 2, figsize=(16,6))\n",
    "ax[0].semilogy(train_losses, label='train loss')\n",
    "ax[0].semilogy(val_losses, label='validation loss')\n",
    "ax[1].semilogy(train_losses[1000:], label='train loss')\n",
    "ax[1].semilogy(val_losses[1000:], label='validation loss')\n",
    "plt.legend()"
   ]
  },
  {
   "cell_type": "code",
   "execution_count": null,
   "id": "85cfa9a1-e292-4113-ae8d-d734d033103e",
   "metadata": {
    "tags": []
   },
   "outputs": [],
   "source": [
    "MODEL.key = key"
   ]
  },
  {
   "cell_type": "code",
   "execution_count": null,
   "id": "c5d8d9ab-998f-4495-927e-4106475dce41",
   "metadata": {
    "tags": []
   },
   "outputs": [],
   "source": [
    "TRAIN_DATA = train\n",
    "MODEL.params = params"
   ]
  },
  {
   "cell_type": "code",
   "execution_count": null,
   "id": "aa7ea1dc-9a5b-4566-88c0-6f61516ab54c",
   "metadata": {
    "tags": []
   },
   "outputs": [],
   "source": [
    "offset = 0.3\n",
    "plt_params = {\n",
    "    'X_MIN': np.floor(TRAIN_DATA[:, 0].min() * 10) / 10 - offset,\n",
    "    'X_MAX': np.ceil(TRAIN_DATA[:, 0].max() * 10) / 10 + offset,\n",
    "    'Y_MIN': np.floor(TRAIN_DATA[:, 1].min() * 10) / 10 - offset,\n",
    "    'Y_MAX': np.ceil(TRAIN_DATA[:, 1].max() * 10) / 10 + offset, \n",
    "}"
   ]
  },
  {
   "cell_type": "code",
   "execution_count": null,
   "id": "573a4153-3273-46f6-ac44-a1cf3f7ffa51",
   "metadata": {
    "tags": []
   },
   "outputs": [],
   "source": [
    "# 25L, 512Params, alpha=20\n",
    "y_final, y_best = MODEL.sample(1000), MODEL.sample(1000, params=best_params)\n",
    "\n",
    "res = 500\n",
    "xx, yy = np.meshgrid(np.linspace(plt_params['X_MIN'], plt_params['X_MAX'], res), \n",
    "                     np.linspace(plt_params['Y_MIN'], plt_params['Y_MAX'], res))\n",
    "xy = np.hstack([e.reshape(-1, 1) for e in [xx, yy]])\n",
    "probs_final = jnp.exp(MODEL.log_pdf(data=xy))\n",
    "probs_best = jnp.exp(MODEL.log_pdf(data=xy, params=best_params))\n",
    "\n",
    "fig, ax = plt.subplots(2,2, figsize=(16,12))\n",
    "ax[0,0].set_title('Best Model')\n",
    "ax[0,0].scatter(y_best[:, 0], y_best[:, 1], s=5, color='red', label='samples')\n",
    "ax[0,0].scatter(TRAIN_DATA[:, 0], TRAIN_DATA[:, 1], s=1, color='blue', label='training data')\n",
    "ax[0,0].set_xlim((plt_params['X_MIN'], plt_params['X_MAX']))\n",
    "ax[0,0].set_ylim((plt_params['Y_MIN'], plt_params['Y_MAX']))\n",
    "ax[0,0].legend()\n",
    "\n",
    "ax[0,1].set_title('Final Model')\n",
    "ax[0,1].scatter(y_final[:, 0], y_final[:, 1], s=5, color='red', label='samples')\n",
    "ax[0,1].scatter(TRAIN_DATA[:, 0], TRAIN_DATA[:, 1], s=1, color='blue', label='training data')\n",
    "ax[0,1].set_xlim((plt_params['X_MIN'], plt_params['X_MAX']))\n",
    "ax[0,1].set_ylim((plt_params['Y_MIN'], plt_params['Y_MAX']))\n",
    "ax[0,1].legend()\n",
    "\n",
    "ax[1,0].set_title('Best Model')\n",
    "ax[1,0].imshow(probs_best.reshape((res, res)),\n",
    "           origin='lower', extent=(plt_params['X_MIN'], plt_params['X_MAX'], \n",
    "                                   plt_params['Y_MIN'], plt_params['Y_MAX']), aspect='auto')\n",
    "ax[1,0].scatter(TRAIN_DATA[:, 0], TRAIN_DATA[:, 1], s=0.1, color='red', label='samples')\n",
    "ax[1,0].set_xlim((plt_params['X_MIN'], plt_params['X_MAX']))\n",
    "ax[1,0].set_ylim((plt_params['Y_MIN'], plt_params['Y_MAX']))\n",
    "ax[1,0].legend()\n",
    "\n",
    "ax[1,1].set_title('Final Model')\n",
    "ax[1,1].imshow(probs_final.reshape((res, res)),\n",
    "           origin='lower', extent=(plt_params['X_MIN'], plt_params['X_MAX'], \n",
    "                                   plt_params['Y_MIN'], plt_params['Y_MAX']), aspect='auto')\n",
    "ax[1,1].scatter(TRAIN_DATA[:, 0], TRAIN_DATA[:, 1], s=0.1, color='red', label='samples')\n",
    "ax[1,1].set_xlim((plt_params['X_MIN'], plt_params['X_MAX']))\n",
    "ax[1,1].set_ylim((plt_params['Y_MIN'], plt_params['Y_MAX']))\n",
    "ax[1,1].legend()"
   ]
  },
  {
   "cell_type": "code",
   "execution_count": null,
   "id": "a043c744-536f-449b-bbe3-4e43a5ce1e38",
   "metadata": {
    "tags": []
   },
   "outputs": [],
   "source": [
    "fig, ax = plt.subplots(1,2, figsize=(16,6))\n",
    "ax[0].scatter(*y_best.T, s=0.1)\n",
    "ax[1].imshow(probs_best.reshape((res, res)),\n",
    "           origin='lower', extent=(plt_params['X_MIN'], plt_params['X_MAX'], \n",
    "                                   plt_params['Y_MIN'], plt_params['Y_MAX']), aspect='auto')"
   ]
  },
  {
   "cell_type": "code",
   "execution_count": null,
   "id": "3f867625-1efb-4d10-99d4-881c3905632d",
   "metadata": {},
   "outputs": [],
   "source": []
  },
  {
   "cell_type": "code",
   "execution_count": null,
   "id": "4ce41702-4b52-4422-a324-7760397670ad",
   "metadata": {},
   "outputs": [],
   "source": []
  },
  {
   "cell_type": "markdown",
   "id": "33ea9834-8c8a-40ec-b767-697ced36a68a",
   "metadata": {},
   "source": [
    "### 1e-2"
   ]
  },
  {
   "cell_type": "code",
   "execution_count": null,
   "id": "4317c350-f1b0-4447-ba33-b6efcd247775",
   "metadata": {
    "tags": []
   },
   "outputs": [],
   "source": [
    "NPOT_PREFIX = '1pot'"
   ]
  },
  {
   "cell_type": "code",
   "execution_count": null,
   "id": "618e74ad-89f3-430c-b290-6c3c2f60b55b",
   "metadata": {
    "tags": []
   },
   "outputs": [],
   "source": [
    "key = random.PRNGKey(42)\n",
    "data_key, key = random.split(key, 2)"
   ]
  },
  {
   "cell_type": "code",
   "execution_count": null,
   "id": "a901861d-c103-4858-8ffd-3d5a3869c02b",
   "metadata": {
    "tags": []
   },
   "outputs": [],
   "source": [
    "EPOCHS = 20000\n",
    "MODEL = RealNVP.RealNVP(\n",
    "    NVP_net=RealNVP.NVP_l,\n",
    "    num_blocks=12,\n",
    "    key=key,\n",
    "    input_dim=2,\n",
    "    hidden_dim=32,\n",
    "    prior_type='gaussian',\n",
    "    prior_args=None,\n",
    "    use_dropout=False,\n",
    "    dropout_proba=None\n",
    ")\n",
    "LOSS_FUNC = jit(MODEL._loss_l2)\n",
    "VAL_LOSS_FUNC = jit(MODEL._loss)\n",
    "LOSS_KWARGS = {'alpha': 1e-2}\n",
    "VAL_LOSS_KWARGS = {}"
   ]
  },
  {
   "cell_type": "code",
   "execution_count": null,
   "id": "88162338-8344-435c-8384-cbb6ea714bf7",
   "metadata": {},
   "outputs": [],
   "source": [
    "@jit\n",
    "def step(opt_state, params, batch):\n",
    "    # from optax doc: https://optax.readthedocs.io/en/latest/gradient_accumulation.html\n",
    "    loss, grads = value_and_grad(LOSS_FUNC)(params, batch, **LOSS_KWARGS)\n",
    "    updates, opt_state = gradient_transform.update(grads, opt_state, params=params) \n",
    "    params = optax.apply_updates(params, updates)\n",
    "    return opt_state, params, loss"
   ]
  },
  {
   "cell_type": "code",
   "execution_count": null,
   "id": "90c206ef-a897-492f-8156-8f04ea4d6173",
   "metadata": {
    "tags": []
   },
   "outputs": [],
   "source": [
    "# Exponential decay of the learning rate.\n",
    "scheduler = optax.exponential_decay(\n",
    "    init_value=2e-3, \n",
    "    transition_steps=1000,\n",
    "    transition_begin=0,\n",
    "    decay_rate=0.6)\n",
    "\n",
    "gradient_transform = optax.chain(\n",
    "    optax.scale_by_adam(),              # Use the updates from adam.\n",
    "    optax.scale_by_schedule(scheduler), # Adapt LR\n",
    "    optax.scale(-1.0)                   # Scale updates by -1 since optax.apply_updates \n",
    "                                        # is additive and we want to descend on the loss.\n",
    ")"
   ]
  },
  {
   "cell_type": "code",
   "execution_count": null,
   "id": "87cec19f-dea8-4340-af16-c239ccb21bd0",
   "metadata": {
    "tags": []
   },
   "outputs": [],
   "source": [
    "params = MODEL.params\n",
    "opt_state = gradient_transform.init(params)"
   ]
  },
  {
   "cell_type": "code",
   "execution_count": null,
   "id": "35d00dfe-e914-41c7-973d-b7755d400556",
   "metadata": {
    "tags": []
   },
   "outputs": [],
   "source": [
    "report_as_csv = False\n",
    "report_filename = filestr = '_'.join([MODEL_PREFIX, PRECISION_PREFIX, DATASET_PREFIX, NPOT_PREFIX]) + '.csv'"
   ]
  },
  {
   "cell_type": "code",
   "execution_count": null,
   "id": "816671d9-863a-4e2e-a110-f46af733e310",
   "metadata": {
    "tags": []
   },
   "outputs": [],
   "source": [
    "train_losses, val_losses, best_epoch, best_val_loss, params, best_params = run(train, params, opt_state, data_key)"
   ]
  },
  {
   "cell_type": "code",
   "execution_count": null,
   "id": "38542e6e-450e-4757-ac58-51e6c9af1731",
   "metadata": {
    "tags": []
   },
   "outputs": [],
   "source": [
    "print(f'\\nBest Epoch: {best_epoch} --- Val Loss: {best_val_loss}')\n",
    "test_loss = eval_val(test, best_params)\n",
    "print(f'Best Model --- Test Loss: {test_loss}')"
   ]
  },
  {
   "cell_type": "code",
   "execution_count": null,
   "id": "b575b477-4514-4458-bcad-0f13344d2fac",
   "metadata": {
    "tags": []
   },
   "outputs": [],
   "source": [
    "fig, ax = plt.subplots(1, 2, figsize=(16,6))\n",
    "ax[0].semilogy(train_losses, label='train loss')\n",
    "ax[0].semilogy(val_losses, label='validation loss')\n",
    "ax[1].semilogy(train_losses[1000:], label='train loss')\n",
    "ax[1].semilogy(val_losses[1000:], label='validation loss')\n",
    "plt.legend()"
   ]
  },
  {
   "cell_type": "code",
   "execution_count": null,
   "id": "f8ab04d9-3c26-42fc-a756-f3b0e7418fe3",
   "metadata": {
    "tags": []
   },
   "outputs": [],
   "source": [
    "MODEL.key = key"
   ]
  },
  {
   "cell_type": "code",
   "execution_count": null,
   "id": "7b843413-ba14-4fda-8887-156a15a1cd0b",
   "metadata": {
    "tags": []
   },
   "outputs": [],
   "source": [
    "TRAIN_DATA = train\n",
    "MODEL.params = params"
   ]
  },
  {
   "cell_type": "code",
   "execution_count": null,
   "id": "fd9bce03-d559-4c45-8a5d-9bb67958b6eb",
   "metadata": {
    "tags": []
   },
   "outputs": [],
   "source": [
    "offset = 0.3\n",
    "plt_params = {\n",
    "    'X_MIN': np.floor(TRAIN_DATA[:, 0].min() * 10) / 10 - offset,\n",
    "    'X_MAX': np.ceil(TRAIN_DATA[:, 0].max() * 10) / 10 + offset,\n",
    "    'Y_MIN': np.floor(TRAIN_DATA[:, 1].min() * 10) / 10 - offset,\n",
    "    'Y_MAX': np.ceil(TRAIN_DATA[:, 1].max() * 10) / 10 + offset, \n",
    "}"
   ]
  },
  {
   "cell_type": "code",
   "execution_count": null,
   "id": "6c191a38-498e-4396-87ad-22cae002e4e3",
   "metadata": {
    "tags": []
   },
   "outputs": [],
   "source": [
    "# 25L, 512Params, alpha=20\n",
    "y_final, y_best = MODEL.sample(1000), MODEL.sample(1000, params=best_params)\n",
    "\n",
    "res = 500\n",
    "xx, yy = np.meshgrid(np.linspace(plt_params['X_MIN'], plt_params['X_MAX'], res), \n",
    "                     np.linspace(plt_params['Y_MIN'], plt_params['Y_MAX'], res))\n",
    "xy = np.hstack([e.reshape(-1, 1) for e in [xx, yy]])\n",
    "probs_final = jnp.exp(MODEL.log_pdf(data=xy))\n",
    "probs_best = jnp.exp(MODEL.log_pdf(data=xy, params=best_params))\n",
    "\n",
    "fig, ax = plt.subplots(2,2, figsize=(16,12))\n",
    "ax[0,0].set_title('Best Model')\n",
    "ax[0,0].scatter(y_best[:, 0], y_best[:, 1], s=5, color='red', label='samples')\n",
    "ax[0,0].scatter(TRAIN_DATA[:, 0], TRAIN_DATA[:, 1], s=1, color='blue', label='training data')\n",
    "ax[0,0].set_xlim((plt_params['X_MIN'], plt_params['X_MAX']))\n",
    "ax[0,0].set_ylim((plt_params['Y_MIN'], plt_params['Y_MAX']))\n",
    "ax[0,0].legend()\n",
    "\n",
    "ax[0,1].set_title('Final Model')\n",
    "ax[0,1].scatter(y_final[:, 0], y_final[:, 1], s=5, color='red', label='samples')\n",
    "ax[0,1].scatter(TRAIN_DATA[:, 0], TRAIN_DATA[:, 1], s=1, color='blue', label='training data')\n",
    "ax[0,1].set_xlim((plt_params['X_MIN'], plt_params['X_MAX']))\n",
    "ax[0,1].set_ylim((plt_params['Y_MIN'], plt_params['Y_MAX']))\n",
    "ax[0,1].legend()\n",
    "\n",
    "ax[1,0].set_title('Best Model')\n",
    "ax[1,0].imshow(probs_best.reshape((res, res)),\n",
    "           origin='lower', extent=(plt_params['X_MIN'], plt_params['X_MAX'], \n",
    "                                   plt_params['Y_MIN'], plt_params['Y_MAX']), aspect='auto')\n",
    "ax[1,0].scatter(TRAIN_DATA[:, 0], TRAIN_DATA[:, 1], s=0.1, color='red', label='samples')\n",
    "ax[1,0].set_xlim((plt_params['X_MIN'], plt_params['X_MAX']))\n",
    "ax[1,0].set_ylim((plt_params['Y_MIN'], plt_params['Y_MAX']))\n",
    "ax[1,0].legend()\n",
    "\n",
    "ax[1,1].set_title('Final Model')\n",
    "ax[1,1].imshow(probs_final.reshape((res, res)),\n",
    "           origin='lower', extent=(plt_params['X_MIN'], plt_params['X_MAX'], \n",
    "                                   plt_params['Y_MIN'], plt_params['Y_MAX']), aspect='auto')\n",
    "ax[1,1].scatter(TRAIN_DATA[:, 0], TRAIN_DATA[:, 1], s=0.1, color='red', label='samples')\n",
    "ax[1,1].set_xlim((plt_params['X_MIN'], plt_params['X_MAX']))\n",
    "ax[1,1].set_ylim((plt_params['Y_MIN'], plt_params['Y_MAX']))\n",
    "ax[1,1].legend()"
   ]
  },
  {
   "cell_type": "code",
   "execution_count": null,
   "id": "b634cca2-a433-4105-83c4-bc193c91c095",
   "metadata": {
    "tags": []
   },
   "outputs": [],
   "source": [
    "fig, ax = plt.subplots(1,2, figsize=(16,6))\n",
    "ax[0].scatter(*y_best.T, s=0.1)\n",
    "ax[1].imshow(probs_best.reshape((res, res)),\n",
    "           origin='lower', extent=(plt_params['X_MIN'], plt_params['X_MAX'], \n",
    "                                   plt_params['Y_MIN'], plt_params['Y_MAX']), aspect='auto')"
   ]
  },
  {
   "cell_type": "code",
   "execution_count": null,
   "id": "fd330a59-a47b-421b-bdaf-8ef0dd06bbe8",
   "metadata": {},
   "outputs": [],
   "source": []
  },
  {
   "cell_type": "code",
   "execution_count": null,
   "id": "4153d522-5c37-4595-92af-8be9c7014169",
   "metadata": {},
   "outputs": [],
   "source": []
  },
  {
   "cell_type": "markdown",
   "id": "da169f2a-59e9-4365-85a2-6fa31e31cd97",
   "metadata": {},
   "source": [
    "### 1e-1"
   ]
  },
  {
   "cell_type": "code",
   "execution_count": null,
   "id": "1b6547da-bffe-45cb-8aa5-ad293573eda7",
   "metadata": {
    "tags": []
   },
   "outputs": [],
   "source": [
    "NPOT_PREFIX = '1pot'"
   ]
  },
  {
   "cell_type": "code",
   "execution_count": null,
   "id": "6b5b3147-87c6-43ec-8ba9-a1a6f81458aa",
   "metadata": {
    "tags": []
   },
   "outputs": [],
   "source": [
    "key = random.PRNGKey(42)\n",
    "data_key, key = random.split(key, 2)"
   ]
  },
  {
   "cell_type": "code",
   "execution_count": null,
   "id": "b34f6101-eacd-463f-9778-375e8e5dcf01",
   "metadata": {
    "tags": []
   },
   "outputs": [],
   "source": [
    "EPOCHS = 20000\n",
    "MODEL = RealNVP.RealNVP(\n",
    "    NVP_net=RealNVP.NVP_l,\n",
    "    num_blocks=12,\n",
    "    key=key,\n",
    "    input_dim=2,\n",
    "    hidden_dim=32,\n",
    "    prior_type='gaussian',\n",
    "    prior_args=None,\n",
    "    use_dropout=False,\n",
    "    dropout_proba=None\n",
    ")\n",
    "LOSS_FUNC = jit(MODEL._loss_l2)\n",
    "VAL_LOSS_FUNC = jit(MODEL._loss)\n",
    "LOSS_KWARGS = {'alpha': 1e-1}\n",
    "VAL_LOSS_KWARGS = {}"
   ]
  },
  {
   "cell_type": "code",
   "execution_count": null,
   "id": "540a05c0-1b51-4ae1-9ee4-119a53bf98c7",
   "metadata": {},
   "outputs": [],
   "source": [
    "@jit\n",
    "def step(opt_state, params, batch):\n",
    "    # from optax doc: https://optax.readthedocs.io/en/latest/gradient_accumulation.html\n",
    "    loss, grads = value_and_grad(LOSS_FUNC)(params, batch, **LOSS_KWARGS)\n",
    "    updates, opt_state = gradient_transform.update(grads, opt_state, params=params) \n",
    "    params = optax.apply_updates(params, updates)\n",
    "    return opt_state, params, loss"
   ]
  },
  {
   "cell_type": "code",
   "execution_count": null,
   "id": "324e8a56-fbcd-4f9f-bd61-4b6f3b7a1938",
   "metadata": {
    "tags": []
   },
   "outputs": [],
   "source": [
    "# Exponential decay of the learning rate.\n",
    "scheduler = optax.exponential_decay(\n",
    "    init_value=2e-3, \n",
    "    transition_steps=1000,\n",
    "    transition_begin=0,\n",
    "    decay_rate=0.6)\n",
    "\n",
    "gradient_transform = optax.chain(\n",
    "    optax.scale_by_adam(),              # Use the updates from adam.\n",
    "    optax.scale_by_schedule(scheduler), # Adapt LR\n",
    "    optax.scale(-1.0)                   # Scale updates by -1 since optax.apply_updates \n",
    "                                        # is additive and we want to descend on the loss.\n",
    ")"
   ]
  },
  {
   "cell_type": "code",
   "execution_count": null,
   "id": "3533234b-e6bb-4e56-aee9-627bf1889c1a",
   "metadata": {
    "tags": []
   },
   "outputs": [],
   "source": [
    "params = MODEL.params\n",
    "opt_state = gradient_transform.init(params)"
   ]
  },
  {
   "cell_type": "code",
   "execution_count": null,
   "id": "684839ec-0fd2-4f61-beb3-088a23a32eb1",
   "metadata": {
    "tags": []
   },
   "outputs": [],
   "source": [
    "report_as_csv = False\n",
    "report_filename = filestr = '_'.join([MODEL_PREFIX, PRECISION_PREFIX, DATASET_PREFIX, NPOT_PREFIX]) + '.csv'"
   ]
  },
  {
   "cell_type": "code",
   "execution_count": null,
   "id": "781a0760-0450-4eca-bf84-838ece82eef8",
   "metadata": {
    "tags": []
   },
   "outputs": [],
   "source": [
    "train_losses, val_losses, best_epoch, best_val_loss, params, best_params = run(train, params, opt_state, data_key)"
   ]
  },
  {
   "cell_type": "code",
   "execution_count": null,
   "id": "95817876-c85a-43d7-9709-d79e96f35dc1",
   "metadata": {
    "tags": []
   },
   "outputs": [],
   "source": [
    "print(f'\\nBest Epoch: {best_epoch} --- Val Loss: {best_val_loss}')\n",
    "test_loss = eval_val(test, best_params)\n",
    "print(f'Best Model --- Test Loss: {test_loss}')"
   ]
  },
  {
   "cell_type": "code",
   "execution_count": null,
   "id": "3d05e504-df5e-48ac-b3eb-a083ef987c82",
   "metadata": {
    "tags": []
   },
   "outputs": [],
   "source": [
    "fig, ax = plt.subplots(1, 2, figsize=(16,6))\n",
    "ax[0].semilogy(train_losses, label='train loss')\n",
    "ax[0].semilogy(val_losses, label='validation loss')\n",
    "ax[1].semilogy(train_losses[1000:], label='train loss')\n",
    "ax[1].semilogy(val_losses[1000:], label='validation loss')\n",
    "plt.legend()"
   ]
  },
  {
   "cell_type": "code",
   "execution_count": null,
   "id": "5e0eeac3-7132-4325-a0d0-76f49ff396c4",
   "metadata": {
    "tags": []
   },
   "outputs": [],
   "source": [
    "MODEL.key = key"
   ]
  },
  {
   "cell_type": "code",
   "execution_count": null,
   "id": "3f6592cb-7cd3-49c4-a273-2a98cb5a8708",
   "metadata": {
    "tags": []
   },
   "outputs": [],
   "source": [
    "TRAIN_DATA = train\n",
    "MODEL.params = params"
   ]
  },
  {
   "cell_type": "code",
   "execution_count": null,
   "id": "c77bcc37-1b8f-4a67-8a78-3f8a1dc7ad89",
   "metadata": {
    "tags": []
   },
   "outputs": [],
   "source": [
    "offset = 0.3\n",
    "plt_params = {\n",
    "    'X_MIN': np.floor(TRAIN_DATA[:, 0].min() * 10) / 10 - offset,\n",
    "    'X_MAX': np.ceil(TRAIN_DATA[:, 0].max() * 10) / 10 + offset,\n",
    "    'Y_MIN': np.floor(TRAIN_DATA[:, 1].min() * 10) / 10 - offset,\n",
    "    'Y_MAX': np.ceil(TRAIN_DATA[:, 1].max() * 10) / 10 + offset, \n",
    "}"
   ]
  },
  {
   "cell_type": "code",
   "execution_count": null,
   "id": "f3d40cad-d021-4286-8b45-b5f1cce7259a",
   "metadata": {
    "tags": []
   },
   "outputs": [],
   "source": [
    "# 25L, 512Params, alpha=20\n",
    "y_final, y_best = MODEL.sample(1000), MODEL.sample(1000, params=best_params)\n",
    "\n",
    "res = 500\n",
    "xx, yy = np.meshgrid(np.linspace(plt_params['X_MIN'], plt_params['X_MAX'], res), \n",
    "                     np.linspace(plt_params['Y_MIN'], plt_params['Y_MAX'], res))\n",
    "xy = np.hstack([e.reshape(-1, 1) for e in [xx, yy]])\n",
    "probs_final = jnp.exp(MODEL.log_pdf(data=xy))\n",
    "probs_best = jnp.exp(MODEL.log_pdf(data=xy, params=best_params))\n",
    "\n",
    "fig, ax = plt.subplots(2,2, figsize=(16,12))\n",
    "ax[0,0].set_title('Best Model')\n",
    "ax[0,0].scatter(y_best[:, 0], y_best[:, 1], s=5, color='red', label='samples')\n",
    "ax[0,0].scatter(TRAIN_DATA[:, 0], TRAIN_DATA[:, 1], s=1, color='blue', label='training data')\n",
    "ax[0,0].set_xlim((plt_params['X_MIN'], plt_params['X_MAX']))\n",
    "ax[0,0].set_ylim((plt_params['Y_MIN'], plt_params['Y_MAX']))\n",
    "ax[0,0].legend()\n",
    "\n",
    "ax[0,1].set_title('Final Model')\n",
    "ax[0,1].scatter(y_final[:, 0], y_final[:, 1], s=5, color='red', label='samples')\n",
    "ax[0,1].scatter(TRAIN_DATA[:, 0], TRAIN_DATA[:, 1], s=1, color='blue', label='training data')\n",
    "ax[0,1].set_xlim((plt_params['X_MIN'], plt_params['X_MAX']))\n",
    "ax[0,1].set_ylim((plt_params['Y_MIN'], plt_params['Y_MAX']))\n",
    "ax[0,1].legend()\n",
    "\n",
    "ax[1,0].set_title('Best Model')\n",
    "ax[1,0].imshow(probs_best.reshape((res, res)),\n",
    "           origin='lower', extent=(plt_params['X_MIN'], plt_params['X_MAX'], \n",
    "                                   plt_params['Y_MIN'], plt_params['Y_MAX']), aspect='auto')\n",
    "ax[1,0].scatter(TRAIN_DATA[:, 0], TRAIN_DATA[:, 1], s=0.1, color='red', label='samples')\n",
    "ax[1,0].set_xlim((plt_params['X_MIN'], plt_params['X_MAX']))\n",
    "ax[1,0].set_ylim((plt_params['Y_MIN'], plt_params['Y_MAX']))\n",
    "ax[1,0].legend()\n",
    "\n",
    "ax[1,1].set_title('Final Model')\n",
    "ax[1,1].imshow(probs_final.reshape((res, res)),\n",
    "           origin='lower', extent=(plt_params['X_MIN'], plt_params['X_MAX'], \n",
    "                                   plt_params['Y_MIN'], plt_params['Y_MAX']), aspect='auto')\n",
    "ax[1,1].scatter(TRAIN_DATA[:, 0], TRAIN_DATA[:, 1], s=0.1, color='red', label='samples')\n",
    "ax[1,1].set_xlim((plt_params['X_MIN'], plt_params['X_MAX']))\n",
    "ax[1,1].set_ylim((plt_params['Y_MIN'], plt_params['Y_MAX']))\n",
    "ax[1,1].legend()"
   ]
  },
  {
   "cell_type": "code",
   "execution_count": null,
   "id": "645d67ae-dbda-4582-8901-2400675a3c56",
   "metadata": {
    "tags": []
   },
   "outputs": [],
   "source": [
    "fig, ax = plt.subplots(1,2, figsize=(16,6))\n",
    "ax[0].scatter(*y_best.T, s=0.1)\n",
    "ax[1].imshow(probs_best.reshape((res, res)),\n",
    "           origin='lower', extent=(plt_params['X_MIN'], plt_params['X_MAX'], \n",
    "                                   plt_params['Y_MIN'], plt_params['Y_MAX']), aspect='auto')"
   ]
  },
  {
   "cell_type": "code",
   "execution_count": null,
   "id": "eb8eedc6-6c40-4df4-93fb-2065e715a28b",
   "metadata": {},
   "outputs": [],
   "source": []
  },
  {
   "cell_type": "code",
   "execution_count": null,
   "id": "0b834141-8efd-4134-863b-513d553a5b6c",
   "metadata": {},
   "outputs": [],
   "source": []
  },
  {
   "cell_type": "markdown",
   "id": "e2de1fe5-fd8c-44f4-8e05-836a3ede7b40",
   "metadata": {},
   "source": [
    "### 1e-0"
   ]
  },
  {
   "cell_type": "code",
   "execution_count": null,
   "id": "3ace9b95-179d-431f-82d1-4d788a334a04",
   "metadata": {
    "tags": []
   },
   "outputs": [],
   "source": [
    "NPOT_PREFIX = '1pot'"
   ]
  },
  {
   "cell_type": "code",
   "execution_count": null,
   "id": "3045ce97-bd7d-4566-8cef-c862fe2e2691",
   "metadata": {
    "tags": []
   },
   "outputs": [],
   "source": [
    "key = random.PRNGKey(42)\n",
    "data_key, key = random.split(key, 2)"
   ]
  },
  {
   "cell_type": "code",
   "execution_count": null,
   "id": "fc6589ac-10fb-4929-a76b-54d4a7ee36e1",
   "metadata": {
    "tags": []
   },
   "outputs": [],
   "source": [
    "EPOCHS = 20000\n",
    "MODEL = RealNVP.RealNVP(\n",
    "    NVP_net=RealNVP.NVP_l,\n",
    "    num_blocks=12,\n",
    "    key=key,\n",
    "    input_dim=2,\n",
    "    hidden_dim=32,\n",
    "    prior_type='gaussian',\n",
    "    prior_args=None,\n",
    "    use_dropout=False,\n",
    "    dropout_proba=None\n",
    ")\n",
    "LOSS_FUNC = jit(MODEL._loss_l2)\n",
    "VAL_LOSS_FUNC = jit(MODEL._loss)\n",
    "LOSS_KWARGS = {'alpha': 1}\n",
    "VAL_LOSS_KWARGS = {}"
   ]
  },
  {
   "cell_type": "code",
   "execution_count": null,
   "id": "9f99501f-6eb8-4952-8462-b04a9c89c078",
   "metadata": {},
   "outputs": [],
   "source": [
    "@jit\n",
    "def step(opt_state, params, batch):\n",
    "    # from optax doc: https://optax.readthedocs.io/en/latest/gradient_accumulation.html\n",
    "    loss, grads = value_and_grad(LOSS_FUNC)(params, batch, **LOSS_KWARGS)\n",
    "    updates, opt_state = gradient_transform.update(grads, opt_state, params=params) \n",
    "    params = optax.apply_updates(params, updates)\n",
    "    return opt_state, params, loss"
   ]
  },
  {
   "cell_type": "code",
   "execution_count": null,
   "id": "25852c14-9661-426d-bb9c-fc8d16b8a7f7",
   "metadata": {
    "tags": []
   },
   "outputs": [],
   "source": [
    "# Exponential decay of the learning rate.\n",
    "scheduler = optax.exponential_decay(\n",
    "    init_value=2e-3, \n",
    "    transition_steps=1000,\n",
    "    transition_begin=0,\n",
    "    decay_rate=0.6)\n",
    "\n",
    "gradient_transform = optax.chain(\n",
    "    optax.scale_by_adam(),              # Use the updates from adam.\n",
    "    optax.scale_by_schedule(scheduler), # Adapt LR\n",
    "    optax.scale(-1.0)                   # Scale updates by -1 since optax.apply_updates \n",
    "                                        # is additive and we want to descend on the loss.\n",
    ")"
   ]
  },
  {
   "cell_type": "code",
   "execution_count": null,
   "id": "94806b06-08a6-4b39-86f7-cef9034ac1e1",
   "metadata": {
    "tags": []
   },
   "outputs": [],
   "source": [
    "params = MODEL.params\n",
    "opt_state = gradient_transform.init(params)"
   ]
  },
  {
   "cell_type": "code",
   "execution_count": null,
   "id": "73a03c33-89ba-4c09-b479-e53a191a8224",
   "metadata": {
    "tags": []
   },
   "outputs": [],
   "source": [
    "report_as_csv = False\n",
    "report_filename = filestr = '_'.join([MODEL_PREFIX, PRECISION_PREFIX, DATASET_PREFIX, NPOT_PREFIX]) + '.csv'"
   ]
  },
  {
   "cell_type": "code",
   "execution_count": null,
   "id": "4ef5a7ad-dd85-42e7-8b80-ca44366f5576",
   "metadata": {
    "tags": []
   },
   "outputs": [],
   "source": [
    "train_losses, val_losses, best_epoch, best_val_loss, params, best_params = run(train, params, opt_state, data_key)"
   ]
  },
  {
   "cell_type": "code",
   "execution_count": null,
   "id": "1e50bd67-67b9-4adf-93d7-28f1bdf78208",
   "metadata": {
    "tags": []
   },
   "outputs": [],
   "source": [
    "print(f'\\nBest Epoch: {best_epoch} --- Val Loss: {best_val_loss}')\n",
    "test_loss = eval_val(test, best_params)\n",
    "print(f'Best Model --- Test Loss: {test_loss}')"
   ]
  },
  {
   "cell_type": "code",
   "execution_count": null,
   "id": "042ed63d-f2a7-490d-8cea-d442c0af3395",
   "metadata": {
    "tags": []
   },
   "outputs": [],
   "source": [
    "fig, ax = plt.subplots(1, 2, figsize=(16,6))\n",
    "ax[0].semilogy(train_losses, label='train loss')\n",
    "ax[0].semilogy(val_losses, label='validation loss')\n",
    "ax[1].semilogy(train_losses[1000:], label='train loss')\n",
    "ax[1].semilogy(val_losses[1000:], label='validation loss')\n",
    "plt.legend()"
   ]
  },
  {
   "cell_type": "code",
   "execution_count": null,
   "id": "b780aeb0-694e-4b36-ac40-bc869c6244e9",
   "metadata": {
    "tags": []
   },
   "outputs": [],
   "source": [
    "MODEL.key = key"
   ]
  },
  {
   "cell_type": "code",
   "execution_count": null,
   "id": "050027cf-fe15-48fe-b15e-7d79ee7fdafe",
   "metadata": {
    "tags": []
   },
   "outputs": [],
   "source": [
    "TRAIN_DATA = train\n",
    "MODEL.params = params"
   ]
  },
  {
   "cell_type": "code",
   "execution_count": null,
   "id": "c7dff5ca-414f-45b8-99ba-4063a9bcaaf1",
   "metadata": {
    "tags": []
   },
   "outputs": [],
   "source": [
    "offset = 0.3\n",
    "plt_params = {\n",
    "    'X_MIN': np.floor(TRAIN_DATA[:, 0].min() * 10) / 10 - offset,\n",
    "    'X_MAX': np.ceil(TRAIN_DATA[:, 0].max() * 10) / 10 + offset,\n",
    "    'Y_MIN': np.floor(TRAIN_DATA[:, 1].min() * 10) / 10 - offset,\n",
    "    'Y_MAX': np.ceil(TRAIN_DATA[:, 1].max() * 10) / 10 + offset, \n",
    "}"
   ]
  },
  {
   "cell_type": "code",
   "execution_count": null,
   "id": "ed775dc3-6d5d-4577-909d-c806b57af452",
   "metadata": {
    "tags": []
   },
   "outputs": [],
   "source": [
    "# 25L, 512Params, alpha=20\n",
    "y_final, y_best = MODEL.sample(1000), MODEL.sample(1000, params=best_params)\n",
    "\n",
    "res = 500\n",
    "xx, yy = np.meshgrid(np.linspace(plt_params['X_MIN'], plt_params['X_MAX'], res), \n",
    "                     np.linspace(plt_params['Y_MIN'], plt_params['Y_MAX'], res))\n",
    "xy = np.hstack([e.reshape(-1, 1) for e in [xx, yy]])\n",
    "probs_final = jnp.exp(MODEL.log_pdf(data=xy))\n",
    "probs_best = jnp.exp(MODEL.log_pdf(data=xy, params=best_params))\n",
    "\n",
    "fig, ax = plt.subplots(2,2, figsize=(16,12))\n",
    "ax[0,0].set_title('Best Model')\n",
    "ax[0,0].scatter(y_best[:, 0], y_best[:, 1], s=5, color='red', label='samples')\n",
    "ax[0,0].scatter(TRAIN_DATA[:, 0], TRAIN_DATA[:, 1], s=1, color='blue', label='training data')\n",
    "ax[0,0].set_xlim((plt_params['X_MIN'], plt_params['X_MAX']))\n",
    "ax[0,0].set_ylim((plt_params['Y_MIN'], plt_params['Y_MAX']))\n",
    "ax[0,0].legend()\n",
    "\n",
    "ax[0,1].set_title('Final Model')\n",
    "ax[0,1].scatter(y_final[:, 0], y_final[:, 1], s=5, color='red', label='samples')\n",
    "ax[0,1].scatter(TRAIN_DATA[:, 0], TRAIN_DATA[:, 1], s=1, color='blue', label='training data')\n",
    "ax[0,1].set_xlim((plt_params['X_MIN'], plt_params['X_MAX']))\n",
    "ax[0,1].set_ylim((plt_params['Y_MIN'], plt_params['Y_MAX']))\n",
    "ax[0,1].legend()\n",
    "\n",
    "ax[1,0].set_title('Best Model')\n",
    "ax[1,0].imshow(probs_best.reshape((res, res)),\n",
    "           origin='lower', extent=(plt_params['X_MIN'], plt_params['X_MAX'], \n",
    "                                   plt_params['Y_MIN'], plt_params['Y_MAX']), aspect='auto')\n",
    "ax[1,0].scatter(TRAIN_DATA[:, 0], TRAIN_DATA[:, 1], s=0.1, color='red', label='samples')\n",
    "ax[1,0].set_xlim((plt_params['X_MIN'], plt_params['X_MAX']))\n",
    "ax[1,0].set_ylim((plt_params['Y_MIN'], plt_params['Y_MAX']))\n",
    "ax[1,0].legend()\n",
    "\n",
    "ax[1,1].set_title('Final Model')\n",
    "ax[1,1].imshow(probs_final.reshape((res, res)),\n",
    "           origin='lower', extent=(plt_params['X_MIN'], plt_params['X_MAX'], \n",
    "                                   plt_params['Y_MIN'], plt_params['Y_MAX']), aspect='auto')\n",
    "ax[1,1].scatter(TRAIN_DATA[:, 0], TRAIN_DATA[:, 1], s=0.1, color='red', label='samples')\n",
    "ax[1,1].set_xlim((plt_params['X_MIN'], plt_params['X_MAX']))\n",
    "ax[1,1].set_ylim((plt_params['Y_MIN'], plt_params['Y_MAX']))\n",
    "ax[1,1].legend()"
   ]
  },
  {
   "cell_type": "code",
   "execution_count": null,
   "id": "356021a8-8288-4883-b7bd-9d1b7250bd7e",
   "metadata": {
    "tags": []
   },
   "outputs": [],
   "source": [
    "fig, ax = plt.subplots(1,2, figsize=(16,6))\n",
    "ax[0].scatter(*y_best.T, s=0.1)\n",
    "ax[1].imshow(probs_best.reshape((res, res)),\n",
    "           origin='lower', extent=(plt_params['X_MIN'], plt_params['X_MAX'], \n",
    "                                   plt_params['Y_MIN'], plt_params['Y_MAX']), aspect='auto')"
   ]
  },
  {
   "cell_type": "code",
   "execution_count": null,
   "id": "a8d0c374-7321-4148-be3d-d6b06c49adec",
   "metadata": {},
   "outputs": [],
   "source": []
  },
  {
   "cell_type": "code",
   "execution_count": null,
   "id": "cfbbd78c-5083-4d2e-b7d6-cbf7bdaac612",
   "metadata": {},
   "outputs": [],
   "source": []
  },
  {
   "cell_type": "code",
   "execution_count": null,
   "id": "3c7a76e4-4b45-42e9-9710-0899903dd869",
   "metadata": {},
   "outputs": [],
   "source": []
  },
  {
   "cell_type": "markdown",
   "id": "ebd63bb2-5c66-4b2b-9fdc-2f9c93cae58e",
   "metadata": {},
   "source": [
    "### 1e+1"
   ]
  },
  {
   "cell_type": "code",
   "execution_count": null,
   "id": "c3347713-0881-4432-aeb6-90adcbc49a67",
   "metadata": {
    "tags": []
   },
   "outputs": [],
   "source": [
    "NPOT_PREFIX = '1pot'"
   ]
  },
  {
   "cell_type": "code",
   "execution_count": null,
   "id": "27875cf5-31fb-4b3d-83ff-3d799f36bca6",
   "metadata": {
    "tags": []
   },
   "outputs": [],
   "source": [
    "key = random.PRNGKey(42)\n",
    "data_key, key = random.split(key, 2)"
   ]
  },
  {
   "cell_type": "code",
   "execution_count": null,
   "id": "b1f07b4a-afe2-4f4f-8dc9-31257133334f",
   "metadata": {
    "tags": []
   },
   "outputs": [],
   "source": [
    "EPOCHS = 20000\n",
    "MODEL = RealNVP.RealNVP(\n",
    "    NVP_net=RealNVP.NVP_l,\n",
    "    num_blocks=12,\n",
    "    key=key,\n",
    "    input_dim=2,\n",
    "    hidden_dim=32,\n",
    "    prior_type='gaussian',\n",
    "    prior_args=None,\n",
    "    use_dropout=False,\n",
    "    dropout_proba=None\n",
    ")\n",
    "LOSS_FUNC = jit(MODEL._loss_l2)\n",
    "VAL_LOSS_FUNC = jit(MODEL._loss)\n",
    "LOSS_KWARGS = {'alpha': 10}\n",
    "VAL_LOSS_KWARGS = {}"
   ]
  },
  {
   "cell_type": "code",
   "execution_count": null,
   "id": "47e2ded1-2496-439d-aefa-c330a5914394",
   "metadata": {},
   "outputs": [],
   "source": [
    "@jit\n",
    "def step(opt_state, params, batch):\n",
    "    # from optax doc: https://optax.readthedocs.io/en/latest/gradient_accumulation.html\n",
    "    loss, grads = value_and_grad(LOSS_FUNC)(params, batch, **LOSS_KWARGS)\n",
    "    updates, opt_state = gradient_transform.update(grads, opt_state, params=params) \n",
    "    params = optax.apply_updates(params, updates)\n",
    "    return opt_state, params, loss"
   ]
  },
  {
   "cell_type": "code",
   "execution_count": null,
   "id": "834f337b-b44b-4a9e-8787-bc48b6fa56c0",
   "metadata": {
    "tags": []
   },
   "outputs": [],
   "source": [
    "# Exponential decay of the learning rate.\n",
    "scheduler = optax.exponential_decay(\n",
    "    init_value=2e-3, \n",
    "    transition_steps=1000,\n",
    "    transition_begin=0,\n",
    "    decay_rate=0.6)\n",
    "\n",
    "gradient_transform = optax.chain(\n",
    "    optax.scale_by_adam(),              # Use the updates from adam.\n",
    "    optax.scale_by_schedule(scheduler), # Adapt LR\n",
    "    optax.scale(-1.0)                   # Scale updates by -1 since optax.apply_updates \n",
    "                                        # is additive and we want to descend on the loss.\n",
    ")"
   ]
  },
  {
   "cell_type": "code",
   "execution_count": null,
   "id": "68a43321-c5f1-42c0-aebd-79af4a4b975f",
   "metadata": {
    "tags": []
   },
   "outputs": [],
   "source": [
    "params = MODEL.params\n",
    "opt_state = gradient_transform.init(params)"
   ]
  },
  {
   "cell_type": "code",
   "execution_count": null,
   "id": "99023126-7891-433d-96c4-e1a69fa85a12",
   "metadata": {
    "tags": []
   },
   "outputs": [],
   "source": [
    "report_as_csv = False\n",
    "report_filename = filestr = '_'.join([MODEL_PREFIX, PRECISION_PREFIX, DATASET_PREFIX, NPOT_PREFIX]) + '.csv'"
   ]
  },
  {
   "cell_type": "code",
   "execution_count": null,
   "id": "7e08753f-9ff1-4826-9059-eb459d2bef8a",
   "metadata": {
    "tags": []
   },
   "outputs": [],
   "source": [
    "train_losses, val_losses, best_epoch, best_val_loss, params, best_params = run(train, params, opt_state, data_key)"
   ]
  },
  {
   "cell_type": "code",
   "execution_count": null,
   "id": "8bf26ff2-7fd4-4cf9-89d3-2520a612d0f5",
   "metadata": {
    "tags": []
   },
   "outputs": [],
   "source": [
    "print(f'\\nBest Epoch: {best_epoch} --- Val Loss: {best_val_loss}')\n",
    "test_loss = eval_val(test, best_params)\n",
    "print(f'Best Model --- Test Loss: {test_loss}')"
   ]
  },
  {
   "cell_type": "code",
   "execution_count": null,
   "id": "8c56bb60-612b-4c5e-8a07-41155550c912",
   "metadata": {
    "tags": []
   },
   "outputs": [],
   "source": [
    "fig, ax = plt.subplots(1, 2, figsize=(16,6))\n",
    "ax[0].semilogy(train_losses, label='train loss')\n",
    "ax[0].semilogy(val_losses, label='validation loss')\n",
    "ax[1].semilogy(train_losses[1000:], label='train loss')\n",
    "ax[1].semilogy(val_losses[1000:], label='validation loss')\n",
    "plt.legend()"
   ]
  },
  {
   "cell_type": "code",
   "execution_count": null,
   "id": "83b44d9b-2d9c-49ee-89b8-436a698be21e",
   "metadata": {
    "tags": []
   },
   "outputs": [],
   "source": [
    "MODEL.key = key"
   ]
  },
  {
   "cell_type": "code",
   "execution_count": null,
   "id": "e6ad75bc-f8a6-4209-82c9-17a1aeb2ebf3",
   "metadata": {
    "tags": []
   },
   "outputs": [],
   "source": [
    "TRAIN_DATA = train\n",
    "MODEL.params = params"
   ]
  },
  {
   "cell_type": "code",
   "execution_count": null,
   "id": "8411ab73-6605-4c42-a896-7605e54f7acb",
   "metadata": {
    "tags": []
   },
   "outputs": [],
   "source": [
    "offset = 0.3\n",
    "plt_params = {\n",
    "    'X_MIN': np.floor(TRAIN_DATA[:, 0].min() * 10) / 10 - offset,\n",
    "    'X_MAX': np.ceil(TRAIN_DATA[:, 0].max() * 10) / 10 + offset,\n",
    "    'Y_MIN': np.floor(TRAIN_DATA[:, 1].min() * 10) / 10 - offset,\n",
    "    'Y_MAX': np.ceil(TRAIN_DATA[:, 1].max() * 10) / 10 + offset, \n",
    "}"
   ]
  },
  {
   "cell_type": "code",
   "execution_count": null,
   "id": "19673873-4df5-4861-8a0f-fea74d1389e2",
   "metadata": {
    "tags": []
   },
   "outputs": [],
   "source": [
    "# 25L, 512Params, alpha=20\n",
    "y_final, y_best = MODEL.sample(1000), MODEL.sample(1000, params=best_params)\n",
    "\n",
    "res = 500\n",
    "xx, yy = np.meshgrid(np.linspace(plt_params['X_MIN'], plt_params['X_MAX'], res), \n",
    "                     np.linspace(plt_params['Y_MIN'], plt_params['Y_MAX'], res))\n",
    "xy = np.hstack([e.reshape(-1, 1) for e in [xx, yy]])\n",
    "probs_final = jnp.exp(MODEL.log_pdf(data=xy))\n",
    "probs_best = jnp.exp(MODEL.log_pdf(data=xy, params=best_params))\n",
    "\n",
    "fig, ax = plt.subplots(2,2, figsize=(16,12))\n",
    "ax[0,0].set_title('Best Model')\n",
    "ax[0,0].scatter(y_best[:, 0], y_best[:, 1], s=5, color='red', label='samples')\n",
    "ax[0,0].scatter(TRAIN_DATA[:, 0], TRAIN_DATA[:, 1], s=1, color='blue', label='training data')\n",
    "ax[0,0].set_xlim((plt_params['X_MIN'], plt_params['X_MAX']))\n",
    "ax[0,0].set_ylim((plt_params['Y_MIN'], plt_params['Y_MAX']))\n",
    "ax[0,0].legend()\n",
    "\n",
    "ax[0,1].set_title('Final Model')\n",
    "ax[0,1].scatter(y_final[:, 0], y_final[:, 1], s=5, color='red', label='samples')\n",
    "ax[0,1].scatter(TRAIN_DATA[:, 0], TRAIN_DATA[:, 1], s=1, color='blue', label='training data')\n",
    "ax[0,1].set_xlim((plt_params['X_MIN'], plt_params['X_MAX']))\n",
    "ax[0,1].set_ylim((plt_params['Y_MIN'], plt_params['Y_MAX']))\n",
    "ax[0,1].legend()\n",
    "\n",
    "ax[1,0].set_title('Best Model')\n",
    "ax[1,0].imshow(probs_best.reshape((res, res)),\n",
    "           origin='lower', extent=(plt_params['X_MIN'], plt_params['X_MAX'], \n",
    "                                   plt_params['Y_MIN'], plt_params['Y_MAX']), aspect='auto')\n",
    "ax[1,0].scatter(TRAIN_DATA[:, 0], TRAIN_DATA[:, 1], s=0.1, color='red', label='samples')\n",
    "ax[1,0].set_xlim((plt_params['X_MIN'], plt_params['X_MAX']))\n",
    "ax[1,0].set_ylim((plt_params['Y_MIN'], plt_params['Y_MAX']))\n",
    "ax[1,0].legend()\n",
    "\n",
    "ax[1,1].set_title('Final Model')\n",
    "ax[1,1].imshow(probs_final.reshape((res, res)),\n",
    "           origin='lower', extent=(plt_params['X_MIN'], plt_params['X_MAX'], \n",
    "                                   plt_params['Y_MIN'], plt_params['Y_MAX']), aspect='auto')\n",
    "ax[1,1].scatter(TRAIN_DATA[:, 0], TRAIN_DATA[:, 1], s=0.1, color='red', label='samples')\n",
    "ax[1,1].set_xlim((plt_params['X_MIN'], plt_params['X_MAX']))\n",
    "ax[1,1].set_ylim((plt_params['Y_MIN'], plt_params['Y_MAX']))\n",
    "ax[1,1].legend()"
   ]
  },
  {
   "cell_type": "code",
   "execution_count": null,
   "id": "70718064-7314-4489-80ed-ebfad1c9a5c4",
   "metadata": {
    "tags": []
   },
   "outputs": [],
   "source": [
    "fig, ax = plt.subplots(1,2, figsize=(16,6))\n",
    "ax[0].scatter(*y_best.T, s=0.1)\n",
    "ax[1].imshow(probs_best.reshape((res, res)),\n",
    "           origin='lower', extent=(plt_params['X_MIN'], plt_params['X_MAX'], \n",
    "                                   plt_params['Y_MIN'], plt_params['Y_MAX']), aspect='auto')"
   ]
  },
  {
   "cell_type": "code",
   "execution_count": null,
   "id": "6d4e484a-0744-49d1-8b2f-1177eb7b95a8",
   "metadata": {},
   "outputs": [],
   "source": []
  },
  {
   "cell_type": "code",
   "execution_count": null,
   "id": "3afa7fb4-280a-4288-a794-8e14401e01bd",
   "metadata": {},
   "outputs": [],
   "source": []
  },
  {
   "cell_type": "code",
   "execution_count": null,
   "id": "e126dc6a-ecb7-4725-ba2f-7dcf90689bc6",
   "metadata": {},
   "outputs": [],
   "source": []
  }
 ],
 "metadata": {
  "kernelspec": {
   "display_name": "Python 3 (ipykernel)",
   "language": "python",
   "name": "python3"
  },
  "language_info": {
   "codemirror_mode": {
    "name": "ipython",
    "version": 3
   },
   "file_extension": ".py",
   "mimetype": "text/x-python",
   "name": "python",
   "nbconvert_exporter": "python",
   "pygments_lexer": "ipython3",
   "version": "3.9.16"
  }
 },
 "nbformat": 4,
 "nbformat_minor": 5
}
