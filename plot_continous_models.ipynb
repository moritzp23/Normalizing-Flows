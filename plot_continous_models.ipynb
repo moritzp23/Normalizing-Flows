{
 "cells": [
  {
   "cell_type": "code",
   "execution_count": null,
   "id": "281ee9c4-c7e5-46c2-82cc-893ac2e2f161",
   "metadata": {
    "tags": []
   },
   "outputs": [],
   "source": [
    "import os\n",
    "os.environ['CUDA_VISIBLE_DEVICES'] = '2'\n",
    "\n",
    "from jax import config\n",
    "config.update(\"jax_enable_x64\", False)"
   ]
  },
  {
   "cell_type": "code",
   "execution_count": null,
   "id": "2220dacc-5d84-4aff-ae40-d684fb3b0aac",
   "metadata": {
    "tags": []
   },
   "outputs": [],
   "source": [
    "import OTF, CNF, RealNVP, DatasetGenerator\n",
    "import numpy as np\n",
    "import pandas as pd\n",
    "import optax\n",
    "import matplotlib.pyplot as plt\n",
    "\n",
    "from jax import jit, grad, value_and_grad, random\n",
    "from flax.training import checkpoints\n",
    "\n",
    "from jax import vmap\n",
    "import jax.numpy as jnp\n",
    "from matplotlib import colormaps"
   ]
  },
  {
   "cell_type": "code",
   "execution_count": null,
   "id": "0ada58d5-1e21-4b60-ab63-f70261163db3",
   "metadata": {},
   "outputs": [],
   "source": []
  },
  {
   "cell_type": "code",
   "execution_count": null,
   "id": "46d652fd-9123-4c32-acbc-86be2c951707",
   "metadata": {},
   "outputs": [],
   "source": []
  },
  {
   "cell_type": "code",
   "execution_count": null,
   "id": "7d505e24-1803-4b1b-b945-c27a82c7a0cd",
   "metadata": {
    "tags": []
   },
   "outputs": [],
   "source": [
    "training_size = 10000\n",
    "validation_size = 10000\n",
    "test_size = 20000"
   ]
  },
  {
   "cell_type": "code",
   "execution_count": null,
   "id": "caa6add6-1aa8-4a61-8906-25fbcbbf4950",
   "metadata": {
    "tags": []
   },
   "outputs": [],
   "source": [
    "BATCH_SIZE_TR = training_size\n",
    "BATCH_SIZE_VAL_TE = validation_size\n",
    "EVAL_SOLVER_STEPS = 40"
   ]
  },
  {
   "cell_type": "code",
   "execution_count": null,
   "id": "dd23c2a3-dd50-4872-8628-c6e9511df55a",
   "metadata": {},
   "outputs": [],
   "source": []
  },
  {
   "cell_type": "code",
   "execution_count": null,
   "id": "d8921db8-3f13-46d5-8a24-15991912e58c",
   "metadata": {
    "tags": []
   },
   "outputs": [],
   "source": [
    "key = random.PRNGKey(seed=42) "
   ]
  },
  {
   "cell_type": "code",
   "execution_count": null,
   "id": "e4ced8c8-8e21-47b2-8e52-f476aace33bb",
   "metadata": {
    "tags": []
   },
   "outputs": [],
   "source": [
    "sample = random.normal(key, shape=(2000,2))\n",
    "sample_colors = random.normal(key, shape=(20,2))\n",
    "\n",
    "cmap = colormaps['tab20']  #('hsv') #('nipy_spectral')\n",
    "max_colors = 20\n",
    "colors = [cmap(color_number / max_colors) for color_number in range(max_colors)]"
   ]
  },
  {
   "cell_type": "markdown",
   "id": "2165770e-03de-47ae-aafd-bbd600cfb591",
   "metadata": {},
   "source": [
    "# CNF"
   ]
  },
  {
   "cell_type": "code",
   "execution_count": null,
   "id": "16e749e7-9ca7-455f-817a-152d02e63778",
   "metadata": {
    "tags": []
   },
   "outputs": [],
   "source": [
    "PRECISION_PREFIX = 'float32'\n",
    "key = random.PRNGKey(seed=42) \n",
    "\n",
    "best_params_loss_cnf = checkpoints.restore_checkpoint(\n",
    "    'checkpoints/finalfinal/CNF_nol2_float32_tuc-logo_3VF_bestparams_loss/checkpoint_20000/checkpoint',\n",
    "    None)\n",
    "\n",
    "MODEL = CNF.CNF(\n",
    "    input_dim=2,\n",
    "    hidden_dim=64,\n",
    "    out_dim=2,\n",
    "    depth=3,\n",
    "    num_blocks=3,\n",
    "    key=key,\n",
    "    f_theta_cls=CNF.f_theta,\n",
    "    exact_logp=True,     \n",
    "    num_steps=20\n",
    ")"
   ]
  },
  {
   "cell_type": "code",
   "execution_count": null,
   "id": "1c84c838-f684-4833-8895-ac31cf998766",
   "metadata": {
    "tags": []
   },
   "outputs": [],
   "source": [
    "stepwise_sample_cnf = MODEL.propagate_with_steps(sample, EVAL_SOLVER_STEPS, params=best_params_loss_cnf)\n",
    "stepwise_sample_interm_cnf = MODEL.propagate_with_steps(sample_colors, EVAL_SOLVER_STEPS, params=best_params_loss_cnf, intermed_y=True)"
   ]
  },
  {
   "cell_type": "code",
   "execution_count": null,
   "id": "e840c066-b821-45de-9c5f-6ff72b7f295e",
   "metadata": {},
   "outputs": [],
   "source": []
  },
  {
   "cell_type": "code",
   "execution_count": null,
   "id": "91ff19c6-73d9-467e-ad06-c9e585629b6f",
   "metadata": {},
   "outputs": [],
   "source": []
  },
  {
   "cell_type": "code",
   "execution_count": null,
   "id": "31386938-0d0d-49b9-81ea-431a85114f5d",
   "metadata": {},
   "outputs": [],
   "source": []
  },
  {
   "cell_type": "markdown",
   "id": "017aaeda-fdcf-417a-ba35-ab379bfb96a2",
   "metadata": {},
   "source": [
    "# OTF"
   ]
  },
  {
   "cell_type": "code",
   "execution_count": null,
   "id": "250ee733-1dd8-4a24-a00b-7033961dfb43",
   "metadata": {
    "tags": []
   },
   "outputs": [],
   "source": [
    "config.update(\"jax_enable_x64\", True)\n",
    "PRECISION_PREFIX = 'float64'\n",
    "key = random.PRNGKey(seed=42) \n",
    "\n",
    "best_params_loss_otf = checkpoints.restore_checkpoint(\n",
    "    'checkpoints/finalfinal/OFT_float64_tuc-logo_3pot_bestparams_loss/checkpoint_20000/checkpoint',\n",
    "    None)\n",
    "\n",
    "MODEL = OTF.OTF(\n",
    "        input_dim=2, \n",
    "        hidden_dim=64,\n",
    "        resnet_depth=2,\n",
    "        rank=20,\n",
    "        key=key, \n",
    "        phi=OTF.Phi,\n",
    "        alpha1=15.,\n",
    "        alpha2=2.,\n",
    "        num_blocks=3,\n",
    "        t0=0.,\n",
    "        t1=1.,\n",
    "        num_steps=20\n",
    ")"
   ]
  },
  {
   "cell_type": "code",
   "execution_count": null,
   "id": "a0f6c805-2768-41a5-a68a-6ffe26621bd6",
   "metadata": {
    "tags": []
   },
   "outputs": [],
   "source": [
    "stepwise_sample_otf = MODEL.propagate_with_steps(sample.astype(jnp.float64), EVAL_SOLVER_STEPS, params=best_params_loss_otf)\n",
    "stepwise_sample_interm_otf = MODEL.propagate_with_steps(sample_colors.astype(jnp.float64), EVAL_SOLVER_STEPS, params=best_params_loss_otf, intermed_y=True)"
   ]
  },
  {
   "cell_type": "code",
   "execution_count": null,
   "id": "8ba4cc02-6cae-40c8-b0c9-80543ca5cff5",
   "metadata": {},
   "outputs": [],
   "source": []
  },
  {
   "cell_type": "code",
   "execution_count": null,
   "id": "cdea65cf-6cf0-49d0-b7fd-5795b840704d",
   "metadata": {},
   "outputs": [],
   "source": []
  },
  {
   "cell_type": "markdown",
   "id": "32db826d-cc58-4f92-af78-3a45d124f2c3",
   "metadata": {},
   "source": [
    "# Plot"
   ]
  },
  {
   "cell_type": "code",
   "execution_count": null,
   "id": "a19b2f67-0570-44fc-ac59-f23e2334ebbc",
   "metadata": {
    "tags": []
   },
   "outputs": [],
   "source": [
    "plt.rcParams['axes.labelsize'] = 15\n",
    "plt.rcParams['axes.titlesize'] = 20\n",
    "plt.rcParams['xtick.labelsize']= 15\n",
    "plt.rcParams['ytick.labelsize']= 15"
   ]
  },
  {
   "cell_type": "code",
   "execution_count": null,
   "id": "e61191e4-2dbd-4750-86c3-ba1b30f2d73a",
   "metadata": {
    "tags": []
   },
   "outputs": [],
   "source": [
    "fig3, ax3 = plt.subplots(2,4,figsize=(32,12))\n",
    "for i in range(4):\n",
    "    ax3[0, i].scatter(*stepwise_sample_cnf[i].T, s=0.2)\n",
    "    ax3[1, i].scatter(*stepwise_sample_otf[i].T, s=0.2)\n",
    "\n",
    "    if i > 0:\n",
    "        ax3[0, i].set_title(f'Transformed by Vector Field {i}')\n",
    "        for j_sample in range(20):\n",
    "            x,y = stepwise_sample_interm_cnf[i][j_sample].T\n",
    "            ax3[0, i].quiver(x[:-1], y[:-1], x[1:]-x[:-1], y[1:]-y[:-1], \n",
    "                                scale_units='xy',\n",
    "                                angles='xy', \n",
    "                                scale=1., \n",
    "                                color=colors[j_sample])\n",
    "            x,y = stepwise_sample_interm_otf[i][j_sample].T\n",
    "            ax3[1, i].set_title(f'Transformed by Potential {i}')\n",
    "            ax3[1, i].quiver(x[:-1], y[:-1], x[1:]-x[:-1], y[1:]-y[:-1], \n",
    "                                scale_units='xy',\n",
    "                                angles='xy', \n",
    "                                scale=1., \n",
    "                                color=colors[j_sample])\n",
    "        \n",
    "ax3[0, 0].set_title(f'Base Distribution')\n",
    "ax3[0, 0].scatter(*sample_colors.T, c=colors)\n",
    "ax3[1, 0].set_title(f'Base Distribution')\n",
    "ax3[1, 0].scatter(*sample_colors.T, c=colors)\n",
    "plt.tight_layout(h_pad=3)\n",
    "plt.setp(ax3, xlim=(-3,3), ylim=(-3,3));"
   ]
  },
  {
   "cell_type": "code",
   "execution_count": null,
   "id": "765e8148-9b0f-4b80-907b-e0d964e93a24",
   "metadata": {
    "tags": []
   },
   "outputs": [],
   "source": [
    "fig3.savefig('continous_comparision.png', bbox_inches='tight')"
   ]
  },
  {
   "cell_type": "code",
   "execution_count": null,
   "id": "e552c53e-9d48-4b5e-b753-7c15b908fd29",
   "metadata": {},
   "outputs": [],
   "source": []
  },
  {
   "cell_type": "code",
   "execution_count": null,
   "id": "4be38388-4ce0-4eff-9eb3-e65b91439ef1",
   "metadata": {
    "tags": []
   },
   "outputs": [],
   "source": [
    "plt.rcParams['axes.labelsize'] = 15\n",
    "plt.rcParams['axes.titlesize'] = 18\n",
    "plt.rcParams['xtick.labelsize']= 15\n",
    "plt.rcParams['ytick.labelsize']= 15"
   ]
  },
  {
   "cell_type": "code",
   "execution_count": null,
   "id": "f678606c-421a-4174-b0b6-9b8d7b8234b6",
   "metadata": {
    "tags": []
   },
   "outputs": [],
   "source": [
    "fig3, ax3 = plt.subplots(2,2,figsize=(16,12))\n",
    "for i in range(4):\n",
    "    row = i // 2\n",
    "    col = i % 2\n",
    "    ax3[row, col].scatter(*stepwise_sample_otf[i].T, s=0.2)\n",
    "\n",
    "    if i > 0:\n",
    "        ax3[row, col].set_title(f'Transformed by Vector Field {i}')\n",
    "        for j_sample in range(20):\n",
    "            x,y = stepwise_sample_interm_cnf[i][j_sample].T\n",
    "            ax3[row, col].quiver(x[:-1], y[:-1], x[1:]-x[:-1], y[1:]-y[:-1], \n",
    "                                scale_units='xy',\n",
    "                                angles='xy', \n",
    "                                scale=1., \n",
    "                                color=colors[j_sample])\n",
    "        \n",
    "ax3[0, 0].set_title(f'Base Distribution')\n",
    "ax3[0, 0].scatter(*sample_colors.T, c=colors)\n",
    "plt.tight_layout(h_pad=2)\n",
    "plt.setp(ax3, xlim=(-3,3), ylim=(-3,3));"
   ]
  },
  {
   "cell_type": "code",
   "execution_count": null,
   "id": "44a8364e-bd30-41e8-8c61-f0e815aa42e0",
   "metadata": {
    "tags": []
   },
   "outputs": [],
   "source": [
    "fig3.savefig('continous_comparision_cnf.png', bbox_inches='tight')"
   ]
  },
  {
   "cell_type": "code",
   "execution_count": null,
   "id": "f65bd7de-a9f0-4c01-8f72-afeb8a90f842",
   "metadata": {
    "tags": []
   },
   "outputs": [],
   "source": [
    "fig3, ax3 = plt.subplots(2,2,figsize=(16,12))\n",
    "for i in range(4):\n",
    "    row = i // 2\n",
    "    col = i % 2\n",
    "    ax3[row, col].scatter(*stepwise_sample_otf[i].T, s=0.2)\n",
    "\n",
    "    if i > 0:\n",
    "        ax3[row, col].set_title(f'Transformed by Potential {i}')\n",
    "        for j_sample in range(20):\n",
    "            x,y = stepwise_sample_interm_otf[i][j_sample].T\n",
    "            ax3[row, col].quiver(x[:-1], y[:-1], x[1:]-x[:-1], y[1:]-y[:-1], \n",
    "                                scale_units='xy',\n",
    "                                angles='xy', \n",
    "                                scale=1., \n",
    "                                color=colors[j_sample])\n",
    "        \n",
    "ax3[0, 0].set_title(f'Base Distribution')\n",
    "ax3[0, 0].scatter(*sample_colors.T, c=colors)\n",
    "plt.tight_layout(h_pad=2)\n",
    "plt.setp(ax3, xlim=(-3,3), ylim=(-3,3));"
   ]
  },
  {
   "cell_type": "code",
   "execution_count": null,
   "id": "890e56af-b820-4835-bc9c-b6172c0cdc3a",
   "metadata": {
    "tags": []
   },
   "outputs": [],
   "source": [
    "fig3.savefig('continous_comparision_otf.png', bbox_inches='tight')"
   ]
  },
  {
   "cell_type": "code",
   "execution_count": null,
   "id": "b5669265-651a-4ccc-af4c-7b31b636d630",
   "metadata": {},
   "outputs": [],
   "source": []
  }
 ],
 "metadata": {
  "kernelspec": {
   "display_name": "Python 3 (ipykernel)",
   "language": "python",
   "name": "python3"
  },
  "language_info": {
   "codemirror_mode": {
    "name": "ipython",
    "version": 3
   },
   "file_extension": ".py",
   "mimetype": "text/x-python",
   "name": "python",
   "nbconvert_exporter": "python",
   "pygments_lexer": "ipython3",
   "version": "3.9.16"
  }
 },
 "nbformat": 4,
 "nbformat_minor": 5
}
