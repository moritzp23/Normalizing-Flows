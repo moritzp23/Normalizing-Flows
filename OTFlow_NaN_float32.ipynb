{
 "cells": [
  {
   "cell_type": "markdown",
   "id": "0cff2a3d-3474-4a20-b438-5a50fe9a08f1",
   "metadata": {
    "tags": []
   },
   "source": [
    "Single Precision"
   ]
  },
  {
   "cell_type": "code",
   "execution_count": null,
   "id": "579880db-e868-434d-a452-298e784817b3",
   "metadata": {
    "tags": []
   },
   "outputs": [],
   "source": [
    "import os\n",
    "os.environ['CUDA_VISIBLE_DEVICES'] = '0'\n",
    "\n",
    "from jax import config\n",
    "config.update(\"jax_enable_x64\", False)\n",
    "config.update(\"jax_debug_nans\", True)"
   ]
  },
  {
   "cell_type": "code",
   "execution_count": null,
   "id": "9c4fa495-3307-46d7-9414-68ed8b3a358d",
   "metadata": {},
   "outputs": [],
   "source": []
  },
  {
   "cell_type": "code",
   "execution_count": null,
   "id": "eaafbe9c-8263-48ef-838f-a1b3423b2183",
   "metadata": {
    "tags": []
   },
   "outputs": [],
   "source": [
    "import OTF, DatasetGenerator\n",
    "import numpy as np\n",
    "import pandas as pd\n",
    "import optax\n",
    "import matplotlib.pyplot as plt\n",
    "\n",
    "from jax import jit, grad, value_and_grad, random\n",
    "from flax.training import checkpoints\n",
    "\n",
    "# plotting, move this to seperate notebook\n",
    "from jax import vmap\n",
    "import jax.numpy as jnp\n",
    "from matplotlib import colormaps"
   ]
  },
  {
   "cell_type": "code",
   "execution_count": null,
   "id": "f8dd735f-ebbe-422f-b5d7-843eb9c6f68b",
   "metadata": {
    "tags": []
   },
   "outputs": [],
   "source": [
    "@jit\n",
    "def step(opt_state, params, batch, solver_steps):\n",
    "    # from optax doc: https://optax.readthedocs.io/en/latest/gradient_accumulation.html\n",
    "    loss, grads = value_and_grad(LOSS_FUNC)(params, batch, **LOSS_KWARGS, solver_steps=solver_steps)\n",
    "    updates, opt_state = gradient_transform.update(grads, opt_state, params=params) \n",
    "    params = optax.apply_updates(params, updates)\n",
    "    return opt_state, params, loss"
   ]
  },
  {
   "cell_type": "code",
   "execution_count": null,
   "id": "4672e577-bcd4-4721-b1aa-a0f44bb996c9",
   "metadata": {
    "tags": []
   },
   "outputs": [],
   "source": [
    "def eval_val(val_data, params, solver_steps):\n",
    "    return VAL_LOSS_FUNC(params=params, batch=val_data, **VAL_LOSS_KWARGS, solver_steps=solver_steps)"
   ]
  },
  {
   "cell_type": "code",
   "execution_count": null,
   "id": "5b5c4a5e-75b1-4045-b42d-2612e8e580ed",
   "metadata": {
    "tags": []
   },
   "outputs": [],
   "source": [
    "def train_step(train_data, opt_state, params, solver_steps):\n",
    "    opt_state, params, loss = step(opt_state, params, batch=train_data, solver_steps=solver_steps)\n",
    "    return opt_state, params, loss"
   ]
  },
  {
   "cell_type": "code",
   "execution_count": null,
   "id": "7866d3e5-f44a-453a-afcd-a5efee00a61c",
   "metadata": {
    "tags": []
   },
   "outputs": [],
   "source": [
    "MODEL_PREFIX = 'OFT'\n",
    "PRECISION_PREFIX = 'float32'"
   ]
  },
  {
   "cell_type": "code",
   "execution_count": null,
   "id": "533a2183-622c-43a8-84c6-df90b7a52451",
   "metadata": {},
   "outputs": [],
   "source": [
    "SOLVER_STEPS = 20\n",
    "EVAL_SOLVER_STEPS = 20"
   ]
  },
  {
   "cell_type": "code",
   "execution_count": null,
   "id": "c42637de-99af-4728-a1d7-8459b66710fd",
   "metadata": {},
   "outputs": [],
   "source": []
  },
  {
   "cell_type": "code",
   "execution_count": null,
   "id": "21de9151-b901-4ac5-a13f-0e105f212ffb",
   "metadata": {},
   "outputs": [],
   "source": [
    "def run(train_re, params, opt_state, data_key):\n",
    "    train_losses  = []\n",
    "    val_losses, val_inv_errors, val_mmds = [], [], []\n",
    "    best_val_mmd, best_epoch_mmd, best_params_mmd = np.inf, None, None\n",
    "    best_val_loss, best_epoch_loss, best_params_loss = np.inf, None, None\n",
    "    \n",
    "    if report_as_csv:\n",
    "        report_df = pd.DataFrame({'Epoch': [], \n",
    "                                  'Training Loss': [], \n",
    "                                  'Validation Loss': [], \n",
    "                                  'Validation Inverse Error': [],\n",
    "                                  'Validation MMD': [],\n",
    "                                  'Best Epoch Loss': [], \n",
    "                                  'Best Epoch MMD': [], \n",
    "                                  'Best Validation Loss': [],\n",
    "                                  'Best Validation MMD': [],})\n",
    "\n",
    "    for epoch in range(1, EPOCHS + 1):\n",
    "        opt_state, params, train_loss = train_step(train_re, opt_state, params, SOLVER_STEPS)    \n",
    "        train_losses.append(train_loss)\n",
    "\n",
    "        val_loss, val_inv_error, val_mmd  = eval_val(val, params, EVAL_SOLVER_STEPS)\n",
    "        print(f'Epoch {epoch} --- Train Loss: {np.mean(train_loss)}, Val Loss: {val_loss}, Val Inv Error: {val_inv_error}, Val MMD: {val_mmd}')\n",
    "        val_losses.append(val_loss)\n",
    "        val_inv_errors.append(val_inv_error)\n",
    "        val_mmds.append(val_mmd)\n",
    "\n",
    "        if epoch >= 5:\n",
    "            val_loss_rolling = np.mean(val_losses[epoch-5:])    \n",
    "            if val_loss_rolling < best_val_loss:\n",
    "                best_epoch_loss, best_params_loss, best_val_loss = epoch, params, val_loss\n",
    "                \n",
    "            val_mmd_rolling = np.mean(val_mmds[epoch-5:])    \n",
    "            if val_mmd_rolling < best_val_mmd:\n",
    "                best_epoch_mmd, best_params_mmd, best_val_mmd = epoch, params, val_mmd        \n",
    "        \n",
    "\n",
    "        # resample training data\n",
    "        if epoch % 25 == 0:    \n",
    "            data_key = random.fold_in(data_key, epoch)\n",
    "            train_re = TRAIN_GENERATOR(data_key, training_size, dtype=PRECISION_PREFIX, **TRAIN_GEN_KWARGS)      \n",
    "\n",
    "        if report_as_csv:    \n",
    "            report_df.loc[epoch - 1] = [epoch, train_loss,\n",
    "                                        val_loss, val_inv_error, val_mmd, \n",
    "                                        best_epoch_loss, best_epoch_mmd, best_val_loss, best_val_mmd]\n",
    "            if epoch % 10 == 0: \n",
    "                report_df.to_csv(report_filename)\n",
    "\n",
    "\n",
    "    print(f'\\nBest Epoch MMD: {best_epoch_mmd} --- Val MMD: {best_val_mmd}')\n",
    "    test_loss, test_inv_error, test_mmd = eval_val(test, best_params_mmd, EVAL_SOLVER_STEPS)\n",
    "    print(f'Best Model MMD --- Test Loss: {test_loss}, Test Inv Error: {test_inv_error}, Test MMD: {test_mmd}')\n",
    "    \n",
    "    print(f'\\nBest Epoch Loss: {best_epoch_loss} --- Val Loss: {best_val_loss}')\n",
    "    test_loss, test_inv_error, test_mmd = eval_val(test, best_params_loss, EVAL_SOLVER_STEPS)\n",
    "    print(f'Best Model Loss --- Test Loss: {test_loss}, Test Inv Error: {test_inv_error}, Test MMD: {test_mmd}')\n",
    "    \n",
    "    ret = (train_losses, val_losses, val_mmds, val_inv_errors, \n",
    "           best_epoch_mmd, best_val_mmd, best_params_mmd, \n",
    "           best_epoch_loss, best_val_loss, best_params_loss, params)\n",
    "\n",
    "    return ret"
   ]
  },
  {
   "cell_type": "markdown",
   "id": "ab76525a-316a-4991-8f33-6ffbb753ddc5",
   "metadata": {
    "tags": []
   },
   "source": [
    "# TUC Letters (no Spacing)"
   ]
  },
  {
   "cell_type": "code",
   "execution_count": null,
   "id": "cbedc769-2c51-40fa-b72a-495518c864c8",
   "metadata": {
    "tags": []
   },
   "outputs": [],
   "source": [
    "key = random.PRNGKey(seed=42)"
   ]
  },
  {
   "cell_type": "code",
   "execution_count": null,
   "id": "fd1d109f-799d-474b-82ad-117b3eec49e2",
   "metadata": {
    "tags": []
   },
   "outputs": [],
   "source": [
    "training_size = 10000\n",
    "validation_size = 10000\n",
    "test_size = 20000\n",
    "spacing = 0"
   ]
  },
  {
   "cell_type": "code",
   "execution_count": null,
   "id": "6b58e937-6a61-4a63-b876-a41b7e94eaa3",
   "metadata": {
    "tags": []
   },
   "outputs": [],
   "source": [
    "BATCH_SIZE_TR = training_size\n",
    "BATCH_SIZE_VAL_TE = validation_size"
   ]
  },
  {
   "cell_type": "code",
   "execution_count": null,
   "id": "84d49390-e0bf-42f1-ad2e-cb9711269098",
   "metadata": {
    "tags": []
   },
   "outputs": [],
   "source": [
    "train, val, test = DatasetGenerator.make_tuc_letters(\n",
    "    key, \n",
    "    training_size, \n",
    "    validation_size, \n",
    "    test_size, \n",
    "    dtype=PRECISION_PREFIX,\n",
    "    spacing=spacing\n",
    ")\n",
    "normal_sample = random.normal(random.fold_in(key, 42), shape=(validation_size, 2), dtype=PRECISION_PREFIX)"
   ]
  },
  {
   "cell_type": "code",
   "execution_count": null,
   "id": "a0b53ad7-21bf-443f-ad9d-b2c55ea9bf6b",
   "metadata": {},
   "outputs": [],
   "source": [
    "DATASET_PREFIX = 'letters-nospacing'"
   ]
  },
  {
   "cell_type": "code",
   "execution_count": null,
   "id": "ff1b624d-bbc8-4952-b849-5709bfb06f57",
   "metadata": {},
   "outputs": [],
   "source": [
    "TRAIN_GENERATOR = DatasetGenerator.make_tuc_letters_tr\n",
    "TRAIN_GEN_KWARGS = {'spacing': spacing}"
   ]
  },
  {
   "cell_type": "code",
   "execution_count": null,
   "id": "badb45f7-9846-46ba-a1e2-09aa90393dc3",
   "metadata": {},
   "outputs": [],
   "source": []
  },
  {
   "cell_type": "markdown",
   "id": "2f143edd-76cd-47de-84b2-ed9805e98440",
   "metadata": {},
   "source": [
    "## 5 Potential"
   ]
  },
  {
   "cell_type": "code",
   "execution_count": null,
   "id": "db337d62-c8f0-4219-bf5d-72ce9754fa1d",
   "metadata": {
    "tags": []
   },
   "outputs": [],
   "source": [
    "NPOT_PREFIX = '5pot'"
   ]
  },
  {
   "cell_type": "code",
   "execution_count": null,
   "id": "93eebc32-0fcf-4b2f-8f0b-4a6290c421c0",
   "metadata": {
    "tags": []
   },
   "outputs": [],
   "source": [
    "key = random.PRNGKey(42)\n",
    "data_key, key = random.split(key, 2)"
   ]
  },
  {
   "cell_type": "code",
   "execution_count": null,
   "id": "3c7a6166-2984-46eb-9a2a-7522fd033fc8",
   "metadata": {
    "tags": []
   },
   "outputs": [],
   "source": [
    "EPOCHS = 20000\n",
    "MODEL = OTF.OTF(\n",
    "        input_dim=2, \n",
    "        hidden_dim=32,\n",
    "        resnet_depth=2,\n",
    "        rank=10,\n",
    "        key=key, \n",
    "        phi=OTF.Phi,\n",
    "        alpha1=15.,\n",
    "        alpha2=2.,\n",
    "        num_blocks=5,\n",
    "        t0=0.,\n",
    "        t1=1.,\n",
    "        num_steps=20\n",
    ")\n",
    "LOSS_FUNC = jit(MODEL._loss)\n",
    "VAL_LOSS_FUNC = jit(MODEL.metrics)\n",
    "LOSS_KWARGS = {}\n",
    "VAL_LOSS_KWARGS = {'normal_batch': normal_sample}"
   ]
  },
  {
   "cell_type": "code",
   "execution_count": null,
   "id": "a0e4ccf6-630c-4df7-8838-8cb47b971208",
   "metadata": {
    "tags": []
   },
   "outputs": [],
   "source": [
    "# Exponential decay of the learning rate.\n",
    "scheduler = optax.exponential_decay(\n",
    "    init_value=5e-2, \n",
    "    transition_steps=1000,\n",
    "    transition_begin=0,\n",
    "    decay_rate=0.6)\n",
    "\n",
    "gradient_transform = optax.chain(\n",
    "    optax.scale_by_adam(),              # Use the updates from adam.\n",
    "    optax.scale_by_schedule(scheduler), # Adapt LR\n",
    "    optax.scale(-1.0)                   # Scale updates by -1 since optax.apply_updates \n",
    "                                        # is additive and we want to descend on the loss.\n",
    ")"
   ]
  },
  {
   "cell_type": "code",
   "execution_count": null,
   "id": "c004f25f-a1b6-4a38-a634-05a8f1a3785f",
   "metadata": {
    "tags": []
   },
   "outputs": [],
   "source": [
    "params = MODEL.params\n",
    "opt_state = gradient_transform.init(params)"
   ]
  },
  {
   "cell_type": "code",
   "execution_count": null,
   "id": "9e8199cf-c80e-4666-a175-6fa057d9c87d",
   "metadata": {
    "tags": []
   },
   "outputs": [],
   "source": [
    "report_as_csv = False\n",
    "report_filename = filestr = '_'.join([MODEL_PREFIX, PRECISION_PREFIX, DATASET_PREFIX, NPOT_PREFIX]) + '.csv'"
   ]
  },
  {
   "cell_type": "raw",
   "id": "54b4b475-cdf0-4eac-9eff-390a311d4a36",
   "metadata": {
    "jupyter": {
     "outputs_hidden": true
    },
    "tags": []
   },
   "source": [
    "ret = run(train, params, opt_state, data_key)\n",
    "(train_losses, val_losses, val_mmds, val_inv_errors, \n",
    " best_epoch_mmd, best_val_mmd, best_params_mmd, \n",
    " best_epoch_loss, best_val_loss, best_params_loss, params) = ret"
   ]
  },
  {
   "cell_type": "code",
   "execution_count": null,
   "id": "ea30d46a-0af1-44d1-b8a8-c18f98e9e5d2",
   "metadata": {
    "tags": []
   },
   "outputs": [],
   "source": [
    "train_re, params, opt_state, data_key = train, params, opt_state, data_key"
   ]
  },
  {
   "cell_type": "code",
   "execution_count": null,
   "id": "1395d3ea-9b9b-41f4-a27d-61af88393d5a",
   "metadata": {
    "tags": []
   },
   "outputs": [],
   "source": [
    "train_losses  = []\n",
    "val_losses, val_inv_errors, val_mmds = [], [], []\n",
    "best_val_mmd, best_epoch_mmd, best_params_mmd = np.inf, None, None\n",
    "best_val_loss, best_epoch_loss, best_params_loss = np.inf, None, None\n",
    "\n",
    "if report_as_csv:\n",
    "    report_df = pd.DataFrame({'Epoch': [], \n",
    "                              'Training Loss': [], \n",
    "                              'Validation Loss': [], \n",
    "                              'Validation Inverse Error': [],\n",
    "                              'Validation MMD': [],\n",
    "                              'Best Epoch Loss': [], \n",
    "                              'Best Epoch MMD': [], \n",
    "                              'Best Validation Loss': [],\n",
    "                              'Best Validation MMD': [],})\n",
    "\n",
    "for epoch in range(1, EPOCHS + 1):\n",
    "    opt_state, params, train_loss = train_step(train_re, opt_state, params, SOLVER_STEPS)    \n",
    "    train_losses.append(train_loss)\n",
    "\n",
    "    val_loss, val_inv_error, val_mmd  = eval_val(val, params, EVAL_SOLVER_STEPS)\n",
    "    print(f'Epoch {epoch} --- Train Loss: {np.mean(train_loss)}, Val Loss: {val_loss}, Val Inv Error: {val_inv_error}, Val MMD: {val_mmd}')\n",
    "    val_losses.append(val_loss)\n",
    "    val_inv_errors.append(val_inv_error)\n",
    "    val_mmds.append(val_mmd)\n",
    "\n",
    "    if epoch >= 5:\n",
    "        val_loss_rolling = np.mean(val_losses[epoch-5:])    \n",
    "        if val_loss_rolling < best_val_loss:\n",
    "            best_epoch_loss, best_params_loss, best_val_loss = epoch, params, val_loss\n",
    "\n",
    "        val_mmd_rolling = np.mean(val_mmds[epoch-5:])    \n",
    "        if val_mmd_rolling < best_val_mmd:\n",
    "            best_epoch_mmd, best_params_mmd, best_val_mmd = epoch, params, val_mmd        \n",
    "\n",
    "\n",
    "    # resample training data\n",
    "    if epoch % 25 == 0:    \n",
    "        data_key = random.fold_in(data_key, epoch)\n",
    "        train_re = TRAIN_GENERATOR(data_key, training_size, dtype=PRECISION_PREFIX, **TRAIN_GEN_KWARGS)      \n",
    "\n",
    "    if report_as_csv:    \n",
    "        report_df.loc[epoch - 1] = [epoch, train_loss,\n",
    "                                    val_loss, val_inv_error, val_mmd, \n",
    "                                    best_epoch_loss, best_epoch_mmd, best_val_loss, best_val_mmd]\n",
    "        if epoch % 10 == 0: \n",
    "            report_df.to_csv(report_filename)\n",
    "\n",
    "\n",
    "print(f'\\nBest Epoch MMD: {best_epoch_mmd} --- Val MMD: {best_val_mmd}')\n",
    "test_loss, test_inv_error, test_mmd = eval_val(test, best_params_mmd, EVAL_SOLVER_STEPS)\n",
    "print(f'Best Model MMD --- Test Loss: {test_loss}, Test Inv Error: {test_inv_error}, Test MMD: {test_mmd}')\n",
    "\n",
    "print(f'\\nBest Epoch Loss: {best_epoch_loss} --- Val Loss: {best_val_loss}')\n",
    "test_loss, test_inv_error, test_mmd = eval_val(test, best_params_loss, EVAL_SOLVER_STEPS)\n",
    "print(f'Best Model Loss --- Test Loss: {test_loss}, Test Inv Error: {test_inv_error}, Test MMD: {test_mmd}')"
   ]
  },
  {
   "cell_type": "code",
   "execution_count": null,
   "id": "69efad4c-26c8-40a9-b060-6e9621e09d20",
   "metadata": {},
   "outputs": [],
   "source": []
  },
  {
   "cell_type": "code",
   "execution_count": null,
   "id": "54befd22-6fbf-4921-bcf0-ede7419d89ec",
   "metadata": {
    "tags": []
   },
   "outputs": [],
   "source": [
    "CLR = vmap(MODEL.log_pdf_and_preimage,  (0, None, None, None), 0)(train_re, 20, params, False)"
   ]
  },
  {
   "cell_type": "code",
   "execution_count": null,
   "id": "1fe43fc7-2503-42fc-b863-0b89b467a78e",
   "metadata": {
    "tags": []
   },
   "outputs": [],
   "source": [
    "CLR[0].min()"
   ]
  },
  {
   "cell_type": "code",
   "execution_count": null,
   "id": "242491c9-6f9a-41e9-a836-9c71aaed961f",
   "metadata": {
    "tags": []
   },
   "outputs": [],
   "source": [
    "CLR[0].max()"
   ]
  },
  {
   "cell_type": "code",
   "execution_count": null,
   "id": "04ce9be9-c970-4712-8ac9-24ab1a488788",
   "metadata": {},
   "outputs": [],
   "source": []
  },
  {
   "cell_type": "code",
   "execution_count": null,
   "id": "b8a351c1-5c73-4fd8-b436-503b858814ef",
   "metadata": {
    "tags": []
   },
   "outputs": [],
   "source": [
    "CLR = vmap(MODEL.log_pdf_and_preimage,  (0, None, None, None), 0)(train_re, 100, params, False)"
   ]
  },
  {
   "cell_type": "code",
   "execution_count": null,
   "id": "8d85f6a5-9ef4-4f29-ac77-ff9aaa2bbef8",
   "metadata": {
    "tags": []
   },
   "outputs": [],
   "source": [
    "CLR[0].min()"
   ]
  },
  {
   "cell_type": "code",
   "execution_count": null,
   "id": "d93b27b3-9ac8-4b66-a41f-d499f6549c91",
   "metadata": {
    "tags": []
   },
   "outputs": [],
   "source": [
    "CLR[0].max()"
   ]
  },
  {
   "cell_type": "code",
   "execution_count": null,
   "id": "fe1c1436-180e-4b20-956a-c42e6ad0d274",
   "metadata": {
    "tags": []
   },
   "outputs": [],
   "source": [
    "CLR[0].argmax()"
   ]
  },
  {
   "cell_type": "code",
   "execution_count": null,
   "id": "81bf6e09-bba1-45ce-9ffa-700f7ad60a31",
   "metadata": {
    "tags": []
   },
   "outputs": [],
   "source": [
    "plt.hist(CLR[0], bins=50)"
   ]
  },
  {
   "cell_type": "code",
   "execution_count": null,
   "id": "a999c810-5c7a-42fc-a612-55f8f44488ef",
   "metadata": {
    "tags": []
   },
   "outputs": [],
   "source": [
    "loss = LOSS_FUNC(params, train_re, **LOSS_KWARGS, solver_steps=20)"
   ]
  },
  {
   "cell_type": "code",
   "execution_count": null,
   "id": "4dcb0840-3f56-4831-9aec-3a5512dde827",
   "metadata": {
    "tags": []
   },
   "outputs": [],
   "source": [
    "train_re.shape"
   ]
  },
  {
   "cell_type": "code",
   "execution_count": null,
   "id": "c463fbb0-32b7-420d-a59c-8c7c023d1d32",
   "metadata": {
    "tags": []
   },
   "outputs": [],
   "source": [
    "7500 + 1250"
   ]
  },
  {
   "cell_type": "code",
   "execution_count": null,
   "id": "686930d0-9434-4850-b819-509509eb449f",
   "metadata": {},
   "outputs": [],
   "source": [
    "train_re[9215:9216]"
   ]
  },
  {
   "cell_type": "code",
   "execution_count": null,
   "id": "7e449a33-ac4f-4029-b143-7684a2b694d3",
   "metadata": {
    "tags": []
   },
   "outputs": [],
   "source": [
    "grads = grad(LOSS_FUNC)(params, train_re[9215:9216], **LOSS_KWARGS, solver_steps=20)"
   ]
  },
  {
   "cell_type": "code",
   "execution_count": null,
   "id": "f2a583ba-ec61-468b-a2d8-d45f772820cd",
   "metadata": {
    "tags": []
   },
   "outputs": [],
   "source": [
    "grads = grad(LOSS_FUNC)(params, train_re[9216:9217, ], **LOSS_KWARGS, solver_steps=20)"
   ]
  },
  {
   "cell_type": "code",
   "execution_count": null,
   "id": "5f3099fe-8754-4aa9-bb03-13dabf4bd4cf",
   "metadata": {
    "tags": []
   },
   "outputs": [],
   "source": [
    "grads = grad(LOSS_FUNC)(params, train_re[9217:9218], **LOSS_KWARGS, solver_steps=20)"
   ]
  },
  {
   "cell_type": "code",
   "execution_count": null,
   "id": "950f4567-083c-4a62-85c8-91bf9c7fd424",
   "metadata": {
    "tags": []
   },
   "outputs": [],
   "source": [
    "grads = grad(LOSS_FUNC)(params, train_re[9218:9219], **LOSS_KWARGS, solver_steps=20)"
   ]
  },
  {
   "cell_type": "code",
   "execution_count": null,
   "id": "ea04f06f-5f86-487e-9e7e-05da33285721",
   "metadata": {
    "tags": []
   },
   "outputs": [],
   "source": [
    "grads = grad(LOSS_FUNC)(params, train_re[9219:9220], **LOSS_KWARGS, solver_steps=20)"
   ]
  },
  {
   "cell_type": "code",
   "execution_count": null,
   "id": "6bb9c3ea-9b8e-4bb6-9f45-58366f69f701",
   "metadata": {
    "tags": []
   },
   "outputs": [],
   "source": [
    "train_re[9219:9220]"
   ]
  },
  {
   "cell_type": "code",
   "execution_count": null,
   "id": "b9c5efe9-e2dc-4f4f-b14b-a11dfff54d27",
   "metadata": {
    "tags": []
   },
   "outputs": [],
   "source": [
    "LOSS_FUNC(params, train_re[9219:9220], **LOSS_KWARGS, solver_steps=20)"
   ]
  },
  {
   "cell_type": "code",
   "execution_count": null,
   "id": "a0315672-85ff-4b91-a4fc-b4ad8a5c6e79",
   "metadata": {
    "tags": []
   },
   "outputs": [],
   "source": [
    "grads = grad(MODEL._loss)(params, train_re, **LOSS_KWARGS, solver_steps=40) "
   ]
  },
  {
   "cell_type": "code",
   "execution_count": null,
   "id": "7878d021-a553-4c26-a425-13c7ca3f48bd",
   "metadata": {
    "tags": []
   },
   "outputs": [],
   "source": [
    "plt.scatter(*train_re.T, s=0.5)\n",
    "plt.scatter(*train_re[9219:9220].T, c='red', s=10.)\n",
    "plt.xlabel(r\"$x_1$ component\")\n",
    "plt.ylabel(r\"$x_2$ component\")\n",
    "plt.savefig('precision_scatter.png', bbox_inches='tight')"
   ]
  },
  {
   "cell_type": "code",
   "execution_count": null,
   "id": "5104f284-01e9-4630-b71b-b13e94074ca7",
   "metadata": {
    "tags": []
   },
   "outputs": [],
   "source": [
    "epoch"
   ]
  },
  {
   "cell_type": "code",
   "execution_count": null,
   "id": "3755723f-9cf1-4b25-adfc-384ff452aa2e",
   "metadata": {
    "tags": []
   },
   "outputs": [],
   "source": [
    "config.update(\"jax_enable_x64\", True)"
   ]
  },
  {
   "cell_type": "code",
   "execution_count": null,
   "id": "39b6ff0a-8f13-4f82-b3e5-a370fc599f7b",
   "metadata": {
    "tags": []
   },
   "outputs": [],
   "source": [
    "grads = grad(LOSS_FUNC)(params, train_re[9219:9220].astype(jnp.float64), **LOSS_KWARGS, solver_steps=20)"
   ]
  },
  {
   "cell_type": "code",
   "execution_count": null,
   "id": "c95d82cf-dd77-432a-9d9f-d26622ad9c74",
   "metadata": {
    "tags": []
   },
   "outputs": [],
   "source": [
    "from jax import tree_map"
   ]
  },
  {
   "cell_type": "code",
   "execution_count": null,
   "id": "d2a4c137-42d5-4221-a347-4e1db3478ccd",
   "metadata": {
    "tags": []
   },
   "outputs": [],
   "source": [
    "tree_map(lambda x: x.max(), grads)"
   ]
  },
  {
   "cell_type": "code",
   "execution_count": null,
   "id": "2073aec0-8c8d-43b3-9b93-851a0f5518e4",
   "metadata": {},
   "outputs": [],
   "source": []
  },
  {
   "cell_type": "code",
   "execution_count": null,
   "id": "38c9cdb2-4e0b-40a2-b393-75afe8814599",
   "metadata": {
    "tags": []
   },
   "outputs": [],
   "source": [
    "print(f'\\nBest Epoch MMD: {best_epoch_mmd} --- Val MMD: {best_val_mmd}')\n",
    "test_loss, test_inv_error, test_mmd = eval_val(test, best_params_mmd, EVAL_SOLVER_STEPS)\n",
    "print(f'Best Model MMD --- Test Loss: {test_loss}, Test Inv Error: {test_inv_error}, Test MMD: {test_mmd}')\n",
    "\n",
    "print(f'\\nBest Epoch Loss: {best_epoch_loss} --- Val Loss: {best_val_loss}')\n",
    "test_loss, test_inv_error, test_mmd = eval_val(test, best_params_loss, EVAL_SOLVER_STEPS)\n",
    "print(f'Best Model Loss --- Test Loss: {test_loss}, Test Inv Error: {test_inv_error}, Test MMD: {test_mmd}')"
   ]
  },
  {
   "cell_type": "code",
   "execution_count": null,
   "id": "35c41320-e337-47b7-abb4-2a52e35d28e7",
   "metadata": {
    "tags": []
   },
   "outputs": [],
   "source": [
    "fig, ax = plt.subplots(1, 2, figsize=(16,6))\n",
    "ax[0].semilogy(train_losses, label='train loss')\n",
    "ax[0].semilogy(val_losses, label='validation loss')\n",
    "ax[1].semilogy(train_losses[1000:], label='train loss')\n",
    "ax[1].semilogy(val_losses[1000:], label='validation loss')\n",
    "plt.legend()"
   ]
  },
  {
   "cell_type": "code",
   "execution_count": null,
   "id": "c418fc54-36f4-414d-89ee-1c1fe3fe38aa",
   "metadata": {},
   "outputs": [],
   "source": []
  },
  {
   "cell_type": "markdown",
   "id": "ca47f2d4-9cd6-42d4-bab7-54a1f02ff33e",
   "metadata": {},
   "source": []
  },
  {
   "cell_type": "code",
   "execution_count": null,
   "id": "a4b16c65-cf3a-44a7-af31-14a7ebdd1edd",
   "metadata": {},
   "outputs": [],
   "source": []
  }
 ],
 "metadata": {
  "kernelspec": {
   "display_name": "Python 3 (ipykernel)",
   "language": "python",
   "name": "python3"
  },
  "language_info": {
   "codemirror_mode": {
    "name": "ipython",
    "version": 3
   },
   "file_extension": ".py",
   "mimetype": "text/x-python",
   "name": "python",
   "nbconvert_exporter": "python",
   "pygments_lexer": "ipython3",
   "version": "3.9.16"
  },
  "toc-autonumbering": true
 },
 "nbformat": 4,
 "nbformat_minor": 5
}
