{
 "cells": [
  {
   "cell_type": "code",
   "execution_count": null,
   "id": "49591494-1d20-4299-8454-8f6b84cc1337",
   "metadata": {
    "tags": []
   },
   "outputs": [],
   "source": [
    "import os\n",
    "os.environ['CUDA_VISIBLE_DEVICES'] = ''\n",
    "\n",
    "from jax import config\n",
    "config.update(\"jax_enable_x64\", False)"
   ]
  },
  {
   "cell_type": "code",
   "execution_count": null,
   "id": "bf79a491-b94e-43d1-9590-a7484e5c6ee3",
   "metadata": {
    "tags": []
   },
   "outputs": [],
   "source": [
    "import OTF, CNF, RealNVP, DatasetGenerator\n",
    "import numpy as np\n",
    "import pandas as pd\n",
    "import optax\n",
    "import matplotlib.pyplot as plt\n",
    "\n",
    "from jax import jit, grad, value_and_grad, random\n",
    "from flax.training import checkpoints\n",
    "\n",
    "# plotting, move this to seperate notebook\n",
    "from jax import vmap\n",
    "import jax.numpy as jnp\n",
    "from matplotlib import colormaps"
   ]
  },
  {
   "cell_type": "code",
   "execution_count": null,
   "id": "d75abf73-d721-4f76-8020-47375d208ac1",
   "metadata": {},
   "outputs": [],
   "source": []
  },
  {
   "cell_type": "markdown",
   "id": "98ff56c2-2c52-449a-93de-05b514ec4501",
   "metadata": {},
   "source": [
    "# Gen Dataset"
   ]
  },
  {
   "cell_type": "code",
   "execution_count": null,
   "id": "93772dd6-0a9a-4f82-820a-c9f32221539c",
   "metadata": {
    "tags": []
   },
   "outputs": [],
   "source": [
    "PRECISION_PREFIX = 'float32'"
   ]
  },
  {
   "cell_type": "code",
   "execution_count": null,
   "id": "a35fb672-d907-4c60-90d7-adf99699fc4a",
   "metadata": {
    "tags": []
   },
   "outputs": [],
   "source": [
    "key = random.PRNGKey(seed=42)"
   ]
  },
  {
   "cell_type": "code",
   "execution_count": null,
   "id": "e9298eb7-150c-43c8-a663-c4825e90c945",
   "metadata": {
    "tags": []
   },
   "outputs": [],
   "source": [
    "training_size = 10000\n",
    "validation_size = 10000\n",
    "test_size = 20000"
   ]
  },
  {
   "cell_type": "code",
   "execution_count": null,
   "id": "1c745939-29b1-4eca-b9e8-72ee8ba01fc2",
   "metadata": {
    "tags": []
   },
   "outputs": [],
   "source": [
    "BATCH_SIZE_TR = training_size\n",
    "BATCH_SIZE_VAL_TE = validation_size"
   ]
  },
  {
   "cell_type": "code",
   "execution_count": null,
   "id": "7063fa5d-1d26-43fd-8eee-778f9e70092e",
   "metadata": {
    "tags": []
   },
   "outputs": [],
   "source": [
    "train, val, test = DatasetGenerator.make_tuc_logo(\n",
    "    key, \n",
    "    training_size, \n",
    "    validation_size, \n",
    "    test_size, \n",
    "    dtype=PRECISION_PREFIX,\n",
    ")\n",
    "normal_sample = random.normal(random.fold_in(key, 42), shape=(validation_size, 2), dtype=PRECISION_PREFIX)"
   ]
  },
  {
   "cell_type": "code",
   "execution_count": null,
   "id": "7d512a16-26fe-410c-b56d-48d11b472d38",
   "metadata": {},
   "outputs": [],
   "source": []
  },
  {
   "cell_type": "code",
   "execution_count": null,
   "id": "fa441ca1-1c9b-46d3-9ee5-d324f2339c96",
   "metadata": {
    "tags": []
   },
   "outputs": [],
   "source": [
    "offset = 0.3\n",
    "plt_params = {\n",
    "    'X_MIN': np.floor(train[:, 0].min() * 10) / 10 - offset,\n",
    "    'X_MAX': np.ceil(train[:, 0].max() * 10) / 10 + offset,\n",
    "    'Y_MIN': np.floor(train[:, 1].min() * 10) / 10 - offset,\n",
    "    'Y_MAX': np.ceil(train[:, 1].max() * 10) / 10 + offset, \n",
    "}"
   ]
  },
  {
   "cell_type": "markdown",
   "id": "da23df7a-4ddc-40d9-b532-2ba457881bf3",
   "metadata": {},
   "source": [
    "## Same MMD, different NLL"
   ]
  },
  {
   "cell_type": "code",
   "execution_count": null,
   "id": "7680ce5c-5260-460a-a7aa-11d1233b47f9",
   "metadata": {
    "tags": []
   },
   "outputs": [],
   "source": [
    "EVAL_SOLVER_STEPS = 40"
   ]
  },
  {
   "cell_type": "code",
   "execution_count": null,
   "id": "4c8280d0-42c3-4f96-b40b-11f432218303",
   "metadata": {
    "tags": []
   },
   "outputs": [],
   "source": [
    "def eval_val(val_data, params, solver_steps):\n",
    "    return VAL_LOSS_FUNC(params=params, batch=val_data, **VAL_LOSS_KWARGS, solver_steps=solver_steps)"
   ]
  },
  {
   "cell_type": "code",
   "execution_count": null,
   "id": "3d99fd80-ec76-4669-a343-49a53f7c807b",
   "metadata": {},
   "outputs": [],
   "source": []
  },
  {
   "cell_type": "code",
   "execution_count": null,
   "id": "4dddfe95-c6cc-4d48-bc07-e03190307012",
   "metadata": {
    "tags": []
   },
   "outputs": [],
   "source": [
    "middle_CNF = 'CNF_l2_float32_tuc-logo_5VF'"
   ]
  },
  {
   "cell_type": "code",
   "execution_count": null,
   "id": "c6506286-fbbf-48d9-8e6e-2d01df4f1d77",
   "metadata": {
    "tags": []
   },
   "outputs": [],
   "source": [
    "params_CNF = checkpoints.restore_checkpoint('checkpoints/finalfinal/' + middle_CNF + '_bestparams_mmd/checkpoint_20000/checkpoint', None)"
   ]
  },
  {
   "cell_type": "code",
   "execution_count": null,
   "id": "d1830295-fe6e-4dea-b8ee-616e4e681309",
   "metadata": {
    "tags": []
   },
   "outputs": [],
   "source": [
    "MODEL = CNF.CNF(\n",
    "    input_dim=2,\n",
    "    hidden_dim=64,\n",
    "    out_dim=2,\n",
    "    depth=3,\n",
    "    num_blocks=5,\n",
    "    key=key,\n",
    "    f_theta_cls=CNF.f_theta,\n",
    "    exact_logp=True,     \n",
    "    num_steps=20\n",
    ")"
   ]
  },
  {
   "cell_type": "code",
   "execution_count": null,
   "id": "db2700f0-6c4c-47b2-abe4-31272844bdf2",
   "metadata": {
    "tags": []
   },
   "outputs": [],
   "source": [
    "res = 500\n",
    "xx, yy = np.meshgrid(np.linspace(plt_params['X_MIN'], plt_params['X_MAX'], res), \n",
    "                     np.linspace(plt_params['Y_MIN'], plt_params['Y_MAX'], res))\n",
    "xy = np.hstack([e.reshape(-1, 1) for e in [xx, yy]])\n",
    "\n",
    "probs_cnf = jnp.exp(\n",
    "    vmap(MODEL.log_pdf_and_preimage, (0, None, None, None), 0)(xy, EVAL_SOLVER_STEPS, params_CNF, False)\n",
    ")"
   ]
  },
  {
   "cell_type": "code",
   "execution_count": null,
   "id": "98bee6de-71b1-4629-a93b-a3daff2faf91",
   "metadata": {},
   "outputs": [],
   "source": []
  },
  {
   "cell_type": "code",
   "execution_count": null,
   "id": "20a14dcd-9a96-439c-950d-bc7eb267131f",
   "metadata": {},
   "outputs": [],
   "source": []
  },
  {
   "cell_type": "code",
   "execution_count": null,
   "id": "4beba7ab-34d1-4a0c-827f-e30b92bb9dee",
   "metadata": {},
   "outputs": [],
   "source": []
  },
  {
   "cell_type": "code",
   "execution_count": null,
   "id": "add0163b-0c9e-45e3-b26f-97757f1bc5cf",
   "metadata": {
    "tags": []
   },
   "outputs": [],
   "source": [
    "config.update(\"jax_enable_x64\", True)"
   ]
  },
  {
   "cell_type": "code",
   "execution_count": null,
   "id": "6a593fe1-e6b3-486b-a2c3-99059c522301",
   "metadata": {
    "tags": []
   },
   "outputs": [],
   "source": [
    "PRECISION_PREFIX = 'float64'"
   ]
  },
  {
   "cell_type": "code",
   "execution_count": null,
   "id": "933df062-bf6d-4d38-b950-7995dc1f3718",
   "metadata": {
    "tags": []
   },
   "outputs": [],
   "source": [
    "key = random.PRNGKey(seed=42)"
   ]
  },
  {
   "cell_type": "code",
   "execution_count": null,
   "id": "98cc5ac7-0a0e-41f2-94da-0b4c0c6cd723",
   "metadata": {
    "tags": []
   },
   "outputs": [],
   "source": [
    "training_size = 10000\n",
    "validation_size = 10000\n",
    "test_size = 20000"
   ]
  },
  {
   "cell_type": "code",
   "execution_count": null,
   "id": "e0cc0c9d-8df0-4116-970e-37e2faa6fcb6",
   "metadata": {
    "tags": []
   },
   "outputs": [],
   "source": [
    "BATCH_SIZE_TR = training_size\n",
    "BATCH_SIZE_VAL_TE = validation_size"
   ]
  },
  {
   "cell_type": "code",
   "execution_count": null,
   "id": "c66d4c73-bbf8-48d9-ac45-bae5c7e4dfe1",
   "metadata": {
    "tags": []
   },
   "outputs": [],
   "source": [
    "train, val, test = DatasetGenerator.make_tuc_logo(\n",
    "    key, \n",
    "    training_size, \n",
    "    validation_size, \n",
    "    test_size, \n",
    "    dtype=PRECISION_PREFIX,\n",
    ")\n",
    "normal_sample = random.normal(random.fold_in(key, 42), shape=(validation_size, 2), dtype=PRECISION_PREFIX)"
   ]
  },
  {
   "cell_type": "code",
   "execution_count": null,
   "id": "e278bd17-d9e1-4ecb-9ff4-b6193a1c3692",
   "metadata": {},
   "outputs": [],
   "source": []
  },
  {
   "cell_type": "code",
   "execution_count": null,
   "id": "b84d1925-6c17-43e1-ad28-6630fc83a498",
   "metadata": {},
   "outputs": [],
   "source": []
  },
  {
   "cell_type": "code",
   "execution_count": null,
   "id": "f6a054c5-02f9-4c62-b4c3-437635f74427",
   "metadata": {
    "tags": []
   },
   "outputs": [],
   "source": [
    "middle_RealVP = 'RealNVP_nol2_float64_tuc-logo_16Bl'"
   ]
  },
  {
   "cell_type": "code",
   "execution_count": null,
   "id": "dc90dd89-7812-4f54-bb65-4198583b1fa1",
   "metadata": {
    "tags": []
   },
   "outputs": [],
   "source": [
    "params_RealVP = checkpoints.restore_checkpoint('checkpoints/finalfinal/' + middle_RealVP + '_bestparams_mmd/checkpoint_20000/checkpoint', None)"
   ]
  },
  {
   "cell_type": "code",
   "execution_count": null,
   "id": "a08a579e-72dc-4d6a-97a8-ac8d75207426",
   "metadata": {
    "tags": []
   },
   "outputs": [],
   "source": [
    "MODEL = RealNVP.RealNVP(\n",
    "    NVP_net=RealNVP.NVP_l,\n",
    "    num_blocks=16,\n",
    "    key=key,\n",
    "    input_dim=2,\n",
    "    hidden_dim=64,\n",
    "    prior_type='gaussian',\n",
    "    prior_args=None,\n",
    "    use_dropout=False,\n",
    "    dropout_proba=None\n",
    ")"
   ]
  },
  {
   "cell_type": "code",
   "execution_count": null,
   "id": "86d5a286-a62c-46bd-bb54-b7a43b6ea46e",
   "metadata": {
    "tags": []
   },
   "outputs": [],
   "source": [
    "VAL_LOSS_FUNC = jit(MODEL.metrics)\n",
    "LOSS_KWARGS = {}\n",
    "VAL_LOSS_KWARGS = {'normal_batch': normal_sample}"
   ]
  },
  {
   "cell_type": "code",
   "execution_count": null,
   "id": "264f063c-c526-48b0-95d4-6cc2f22658e2",
   "metadata": {
    "tags": []
   },
   "outputs": [],
   "source": [
    "def eval_val(val_data, params, solver_steps):\n",
    "    return VAL_LOSS_FUNC(params=params, batch=val_data, **VAL_LOSS_KWARGS)"
   ]
  },
  {
   "cell_type": "code",
   "execution_count": null,
   "id": "ffbaa9b7-f052-4971-8725-b701cbff094b",
   "metadata": {
    "tags": []
   },
   "outputs": [],
   "source": [
    "test_loss, test_inv_error, test_mmd = eval_val(test, params_RealVP, EVAL_SOLVER_STEPS)\n",
    "print(f'Best Model Loss --- Test Loss: {test_loss}, Test Inv Error: {test_inv_error}, Test MMD: {test_mmd}')"
   ]
  },
  {
   "cell_type": "code",
   "execution_count": null,
   "id": "06ea0df9-d308-4010-af35-060800382961",
   "metadata": {},
   "outputs": [],
   "source": []
  },
  {
   "cell_type": "code",
   "execution_count": null,
   "id": "02604fed-1cc0-4a4e-a455-3fe5f6e0f6fb",
   "metadata": {
    "tags": []
   },
   "outputs": [],
   "source": [
    "res = 500\n",
    "xx, yy = np.meshgrid(np.linspace(plt_params['X_MIN'], plt_params['X_MAX'], res), \n",
    "                     np.linspace(plt_params['Y_MIN'], plt_params['Y_MAX'], res))\n",
    "xy = np.hstack([e.reshape(-1, 1) for e in [xx, yy]])\n",
    "\n",
    "probs_realnvp = jnp.exp(MODEL.log_pdf_and_preimage(xy, params_RealVP, False))"
   ]
  },
  {
   "cell_type": "code",
   "execution_count": null,
   "id": "7cbeff46-6cb8-4dcc-a12f-bfe901f3d904",
   "metadata": {},
   "outputs": [],
   "source": []
  },
  {
   "cell_type": "code",
   "execution_count": null,
   "id": "05b0ddd2-0460-4a67-b61f-881e91612195",
   "metadata": {},
   "outputs": [],
   "source": []
  },
  {
   "cell_type": "code",
   "execution_count": null,
   "id": "c7e0a56c-197f-4a35-b6f5-f14117355238",
   "metadata": {
    "tags": []
   },
   "outputs": [],
   "source": [
    "middle_OTF = 'OFT_float64_tuc-logo_1pot'"
   ]
  },
  {
   "cell_type": "code",
   "execution_count": null,
   "id": "eac0e82e-7a7c-4481-bbf6-4d626a430e6d",
   "metadata": {
    "tags": []
   },
   "outputs": [],
   "source": [
    "params_OTF = checkpoints.restore_checkpoint('checkpoints/finalfinal/' + middle_OTF + '_bestparams_mmd/checkpoint_20000/checkpoint', None)"
   ]
  },
  {
   "cell_type": "code",
   "execution_count": null,
   "id": "016edebe-4c61-4659-a9de-84af226a2c7c",
   "metadata": {
    "tags": []
   },
   "outputs": [],
   "source": [
    "MODEL = OTF.OTF(\n",
    "        input_dim=2, \n",
    "        hidden_dim=64,\n",
    "        resnet_depth=2,\n",
    "        rank=20,\n",
    "        key=key, \n",
    "        phi=OTF.Phi,\n",
    "        alpha1=15.,\n",
    "        alpha2=2.,\n",
    "        num_blocks=1,\n",
    "        t0=0.,\n",
    "        t1=1.,\n",
    "        num_steps=20\n",
    ")"
   ]
  },
  {
   "cell_type": "code",
   "execution_count": null,
   "id": "e46b10f3-fc6e-4fa0-a70a-9aad4b04c093",
   "metadata": {
    "tags": []
   },
   "outputs": [],
   "source": [
    "probs_otf = jnp.exp(\n",
    "    -vmap(MODEL.log_pdf_and_preimage, (0, None, None, None), 0)(xy, EVAL_SOLVER_STEPS, params_OTF, False)[0]\n",
    ")"
   ]
  },
  {
   "cell_type": "code",
   "execution_count": null,
   "id": "add59fa5-7c76-438b-81e7-3287e105716d",
   "metadata": {},
   "outputs": [],
   "source": []
  },
  {
   "cell_type": "code",
   "execution_count": null,
   "id": "0f25467a-6dc5-4e51-98c6-524f3fbf2a42",
   "metadata": {},
   "outputs": [],
   "source": []
  },
  {
   "cell_type": "code",
   "execution_count": null,
   "id": "c9c3c33a-223d-403d-a38c-28ca2c127165",
   "metadata": {
    "tags": []
   },
   "outputs": [],
   "source": [
    "plt.rcParams['axes.labelsize'] = 15\n",
    "plt.rcParams['axes.titlesize'] = 18\n",
    "plt.rcParams['xtick.labelsize']= 15\n",
    "plt.rcParams['ytick.labelsize']= 15"
   ]
  },
  {
   "cell_type": "code",
   "execution_count": null,
   "id": "7d31142b-8b29-4362-8e2b-b40124c94ea3",
   "metadata": {
    "tags": []
   },
   "outputs": [],
   "source": [
    "fig, ax = plt.subplots(1,3,figsize=(24,6))\n",
    "ax[0].imshow((probs_realnvp).reshape((res, res)),\n",
    "           origin='lower', extent=(plt_params['X_MIN'], plt_params['X_MAX'], \n",
    "                                   plt_params['Y_MIN'], plt_params['Y_MAX']), aspect='auto')\n",
    "ax[0].set_title('RealNVP, 16 Coupling Layers \\nTest MMD$=0.095\\cdot 10^{-3}$, Test NLL$=2.400$')\n",
    "ax[1].imshow((probs_cnf).reshape((res, res)),\n",
    "           origin='lower', extent=(plt_params['X_MIN'], plt_params['X_MAX'], \n",
    "                                   plt_params['Y_MIN'], plt_params['Y_MAX']), aspect='auto')\n",
    "ax[1].set_title('Vanilla CNF + $L_2$, 3 Vector Fields \\nTest MMD$=0.106\\cdot 10^{-3}$, Test NLL$=2.121$')\n",
    "ax[2].imshow((probs_otf).reshape((res, res)),\n",
    "           origin='lower', extent=(plt_params['X_MIN'], plt_params['X_MAX'], \n",
    "                                   plt_params['Y_MIN'], plt_params['Y_MAX']), aspect='auto')\n",
    "ax[2].set_title('OTF, 1 Potential \\nTest MMD$=0.092\\cdot 10^{-3}$, Test NLL$=2.263$')\n",
    "plt.setp(ax, xlabel='$x_1$ component', ylabel='$x_2$ component');\n",
    "#plt.tight_layout()"
   ]
  },
  {
   "cell_type": "code",
   "execution_count": null,
   "id": "691c94b9-cdaf-4bbc-ac5b-e0c50fc0b2bc",
   "metadata": {
    "tags": []
   },
   "outputs": [],
   "source": [
    "fig.savefig('mmd_comparision_bigger.png', bbox_inches='tight')"
   ]
  },
  {
   "cell_type": "code",
   "execution_count": null,
   "id": "b15adf73-e0de-4216-aacc-652d6f30dcf3",
   "metadata": {},
   "outputs": [],
   "source": []
  },
  {
   "cell_type": "code",
   "execution_count": null,
   "id": "00abaa36-3c7b-4c99-ac7c-a287effd99c8",
   "metadata": {},
   "outputs": [],
   "source": []
  },
  {
   "cell_type": "markdown",
   "id": "797b8c8f-8c4c-4ad5-bd31-7b8b07ee6c77",
   "metadata": {},
   "source": [
    "# Same NLL, Different MMD"
   ]
  },
  {
   "cell_type": "code",
   "execution_count": null,
   "id": "0f9cb958-e105-4180-83e5-8d7be94dbfdf",
   "metadata": {
    "tags": []
   },
   "outputs": [],
   "source": [
    "middle_3 = 'CNF_nol2_float32_tuc-logo_3VF'\n",
    "middle_5 = 'CNF_nol2_float32_tuc-logo_5VF' \n",
    "middle_10 = 'CNF_nol2_float32_tuc-logo_10VF'"
   ]
  },
  {
   "cell_type": "code",
   "execution_count": null,
   "id": "69bfe682-9a4f-43d7-b81c-ad7784205305",
   "metadata": {
    "tags": []
   },
   "outputs": [],
   "source": [
    "params_3 = checkpoints.restore_checkpoint('checkpoints/finalfinal/' + middle_3 + '_bestparams_loss/checkpoint_20000/checkpoint', None)\n",
    "params_5 = checkpoints.restore_checkpoint('checkpoints/finalfinal/' + middle_5 + '_bestparams_loss/checkpoint_20000/checkpoint', None)\n",
    "params_10 = checkpoints.restore_checkpoint('checkpoints/finalfinal/' + middle_10 + '_bestparams_loss/checkpoint_20000/checkpoint', None)"
   ]
  },
  {
   "cell_type": "code",
   "execution_count": null,
   "id": "fc440d7a-66ac-49eb-a52a-3e6b77c48801",
   "metadata": {
    "tags": []
   },
   "outputs": [],
   "source": [
    "MODEL_3 = CNF.CNF(\n",
    "    input_dim=2,\n",
    "    hidden_dim=64,\n",
    "    out_dim=2,\n",
    "    depth=3,\n",
    "    num_blocks=3,\n",
    "    key=key,\n",
    "    f_theta_cls=CNF.f_theta,\n",
    "    exact_logp=True,     \n",
    "    num_steps=20\n",
    ") \n",
    "MODEL_5 = CNF.CNF(\n",
    "    input_dim=2,\n",
    "    hidden_dim=64,\n",
    "    out_dim=2,\n",
    "    depth=3,\n",
    "    num_blocks=5,\n",
    "    key=key,\n",
    "    f_theta_cls=CNF.f_theta,\n",
    "    exact_logp=True,     \n",
    "    num_steps=20\n",
    ")\n",
    "MODEL_10 = CNF.CNF(\n",
    "    input_dim=2,\n",
    "    hidden_dim=64,\n",
    "    out_dim=2,\n",
    "    depth=3,\n",
    "    num_blocks=10,\n",
    "    key=key,\n",
    "    f_theta_cls=CNF.f_theta,\n",
    "    exact_logp=True,     \n",
    "    num_steps=20\n",
    ")"
   ]
  },
  {
   "cell_type": "code",
   "execution_count": null,
   "id": "ac027628-31e8-4dd3-809f-6b244a5f6dd5",
   "metadata": {},
   "outputs": [],
   "source": [
    "LOSS_KWARGS = {}\n",
    "VAL_LOSS_KWARGS = {'normal_batch': normal_sample}"
   ]
  },
  {
   "cell_type": "code",
   "execution_count": null,
   "id": "2110569b-eccb-4e16-b8c2-619612376014",
   "metadata": {},
   "outputs": [],
   "source": [
    "EVAL_SOLVER_STEPS = 20"
   ]
  },
  {
   "cell_type": "code",
   "execution_count": null,
   "id": "9823ea0e-6bbf-4cea-9bab-6e0d09c0756d",
   "metadata": {},
   "outputs": [],
   "source": [
    "def eval_val(val_data, params, solver_steps):\n",
    "    return VAL_LOSS_FUNC(params=params, batch=val_data, **VAL_LOSS_KWARGS, solver_steps=solver_steps)"
   ]
  },
  {
   "cell_type": "code",
   "execution_count": null,
   "id": "70abeff3-9f6f-42b8-8d55-eac9f481e575",
   "metadata": {
    "tags": []
   },
   "outputs": [],
   "source": [
    "MODEL = MODEL_3\n",
    "LOSS_FUNC = jit(MODEL._loss)\n",
    "VAL_LOSS_FUNC = jit(MODEL.metrics)\n",
    "test_loss, test_inv_error, test_mmd = eval_val(test, params_3, EVAL_SOLVER_STEPS)\n",
    "print(f'Best Model Loss --- Test Loss: {test_loss}, Test Inv Error: {test_inv_error}, Test MMD: {test_mmd}')\n",
    "\n",
    "MODEL = MODEL_5\n",
    "LOSS_FUNC = jit(MODEL._loss)\n",
    "VAL_LOSS_FUNC = jit(MODEL.metrics)\n",
    "test_loss, test_inv_error, test_mmd = eval_val(test, params_5, EVAL_SOLVER_STEPS)\n",
    "print(f'Best Model Loss --- Test Loss: {test_loss}, Test Inv Error: {test_inv_error}, Test MMD: {test_mmd}')\n",
    "\n",
    "MODEL = MODEL_10\n",
    "LOSS_FUNC = jit(MODEL._loss)\n",
    "VAL_LOSS_FUNC = jit(MODEL.metrics)\n",
    "test_loss, test_inv_error, test_mmd = eval_val(test, params_10, EVAL_SOLVER_STEPS)\n",
    "print(f'Best Model Loss --- Test Loss: {test_loss}, Test Inv Error: {test_inv_error}, Test MMD: {test_mmd}')"
   ]
  },
  {
   "cell_type": "code",
   "execution_count": null,
   "id": "b096d384-9e5a-4424-a9f9-c9582539cd82",
   "metadata": {},
   "outputs": [],
   "source": []
  }
 ],
 "metadata": {
  "kernelspec": {
   "display_name": "Python 3 (ipykernel)",
   "language": "python",
   "name": "python3"
  },
  "language_info": {
   "codemirror_mode": {
    "name": "ipython",
    "version": 3
   },
   "file_extension": ".py",
   "mimetype": "text/x-python",
   "name": "python",
   "nbconvert_exporter": "python",
   "pygments_lexer": "ipython3",
   "version": "3.9.16"
  }
 },
 "nbformat": 4,
 "nbformat_minor": 5
}
