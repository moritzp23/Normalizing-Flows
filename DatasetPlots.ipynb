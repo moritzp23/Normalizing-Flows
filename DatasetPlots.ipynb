{
 "cells": [
  {
   "cell_type": "code",
   "execution_count": null,
   "id": "0ca26258-bb68-45d5-9dbc-0d8eec0fb186",
   "metadata": {
    "tags": []
   },
   "outputs": [],
   "source": [
    "import os\n",
    "os.environ['CUDA_VISIBLE_DEVICES'] = '2'\n",
    "\n",
    "from jax import config\n",
    "config.update(\"jax_enable_x64\", False)"
   ]
  },
  {
   "cell_type": "code",
   "execution_count": null,
   "id": "b0cb8bdb-1bfd-4339-a165-7952cd68bf73",
   "metadata": {
    "tags": []
   },
   "outputs": [],
   "source": [
    "import jax.numpy as jnp\n",
    "from jax.scipy import stats\n",
    "import DatasetGenerator\n",
    "import matplotlib.pyplot as plt"
   ]
  },
  {
   "cell_type": "code",
   "execution_count": null,
   "id": "98458262-5193-4954-982d-56ffbbf16cd6",
   "metadata": {
    "tags": []
   },
   "outputs": [],
   "source": [
    "from jax import random"
   ]
  },
  {
   "cell_type": "code",
   "execution_count": null,
   "id": "2dd7578f-04a7-481f-8d59-230cd1758f3a",
   "metadata": {},
   "outputs": [],
   "source": []
  },
  {
   "cell_type": "code",
   "execution_count": null,
   "id": "c889d2c0-6768-4bf2-9504-8957377157e8",
   "metadata": {},
   "outputs": [],
   "source": []
  },
  {
   "cell_type": "code",
   "execution_count": null,
   "id": "05a74497-de6e-46c4-80a7-0f3cd1ac9a88",
   "metadata": {
    "tags": []
   },
   "outputs": [],
   "source": [
    "key = random.PRNGKey(seed=42)"
   ]
  },
  {
   "cell_type": "code",
   "execution_count": null,
   "id": "3ed49526-b914-43d6-96a6-7778688c08f6",
   "metadata": {
    "tags": []
   },
   "outputs": [],
   "source": [
    "training_size = 20000\n",
    "spacing = 0"
   ]
  },
  {
   "cell_type": "code",
   "execution_count": null,
   "id": "76729502-0bc6-436b-a884-fb3bb9d23446",
   "metadata": {
    "tags": []
   },
   "outputs": [],
   "source": [
    "train_check = DatasetGenerator.make_checkerboard_tr(\n",
    "    key, \n",
    "    training_size, \n",
    "    dtype='float32',\n",
    "    #spacing=spacing\n",
    ")"
   ]
  },
  {
   "cell_type": "code",
   "execution_count": null,
   "id": "8f04dcad-3723-44b0-ace3-f5cc5fc9c5d0",
   "metadata": {
    "tags": []
   },
   "outputs": [],
   "source": [
    "train_letters0 = DatasetGenerator.make_tuc_letters_tr(\n",
    "    key, \n",
    "    training_size, \n",
    "    dtype='float32',\n",
    "    spacing=0\n",
    ")"
   ]
  },
  {
   "cell_type": "code",
   "execution_count": null,
   "id": "a264c0ca-2293-4b1a-9dd1-a2bfeebf55fa",
   "metadata": {
    "tags": []
   },
   "outputs": [],
   "source": [
    "train_letters40 = DatasetGenerator.make_tuc_letters_tr(\n",
    "    key, \n",
    "    training_size, \n",
    "    dtype='float32',\n",
    "    spacing=40\n",
    ")"
   ]
  },
  {
   "cell_type": "code",
   "execution_count": null,
   "id": "277ef089-22f0-4721-bc63-19513754a956",
   "metadata": {
    "tags": []
   },
   "outputs": [],
   "source": [
    "train_logo = DatasetGenerator.make_tuc_logo_tr(\n",
    "    key, \n",
    "    training_size, \n",
    "    dtype='float32',\n",
    ")"
   ]
  },
  {
   "cell_type": "code",
   "execution_count": null,
   "id": "2d950366-684e-49ea-87ab-21bb43ecd17c",
   "metadata": {
    "tags": []
   },
   "outputs": [],
   "source": [
    "train_letters0[:, 0].max() - train_letters0[:, 0].min()"
   ]
  },
  {
   "cell_type": "code",
   "execution_count": null,
   "id": "5e5e5f20-75cd-46c2-8ff8-91a94ad9907c",
   "metadata": {
    "tags": []
   },
   "outputs": [],
   "source": [
    "3.8548236 / 2.9172049 * 6"
   ]
  },
  {
   "cell_type": "code",
   "execution_count": null,
   "id": "e749c781-9b6e-4ebb-a2ac-64e6198f2e55",
   "metadata": {
    "tags": []
   },
   "outputs": [],
   "source": [
    "train_letters0[:, 1].max() - train_letters0[:, 1].min()"
   ]
  },
  {
   "cell_type": "code",
   "execution_count": null,
   "id": "8b45e589-56a5-4518-b36d-15dd3cbf2439",
   "metadata": {
    "tags": []
   },
   "outputs": [],
   "source": [
    "plt.scatter(*(train_letters0).T, s=2, alpha=0.7)"
   ]
  },
  {
   "cell_type": "code",
   "execution_count": null,
   "id": "69f1fdc8-59f4-4325-8cf1-82dd9a54a14e",
   "metadata": {
    "tags": []
   },
   "outputs": [],
   "source": [
    "plt.scatter(*train_check.T, s=2, alpha=0.7)"
   ]
  },
  {
   "cell_type": "code",
   "execution_count": null,
   "id": "7aa6b4ae-d5d7-43a4-b9e0-41f39c92df9c",
   "metadata": {},
   "outputs": [],
   "source": []
  },
  {
   "cell_type": "code",
   "execution_count": null,
   "id": "1911760a-c39a-45c3-822f-a20643d6f2b3",
   "metadata": {},
   "outputs": [],
   "source": []
  },
  {
   "cell_type": "code",
   "execution_count": null,
   "id": "1a3cdea7-deed-4ebf-b2ed-5c249d03fe13",
   "metadata": {
    "tags": []
   },
   "outputs": [],
   "source": [
    "fig, ax = plt.subplots(1,1,figsize=(11.7,6.7))\n",
    "#ax[0].scatter(*train_letters0.T, s=2, alpha=0.7)\n",
    "ax.scatter(*(train_letters40).T, s=2, alpha=0.7)\n",
    "ax.set_ylim((-243.1851905822754 / 117.68096, 229.61394729614258 / 117.68096))\n",
    "ax.set_ylim((-113.03182792663574 / 66.76416, 106.95705223083496 / 66.76416))\n",
    "plt.tight_layout()"
   ]
  },
  {
   "cell_type": "code",
   "execution_count": null,
   "id": "e34dfe7d-b640-4963-ba09-6c9af72501ce",
   "metadata": {},
   "outputs": [],
   "source": []
  },
  {
   "cell_type": "code",
   "execution_count": null,
   "id": "6a5bda76-01dc-4d63-9948-3cd760139d32",
   "metadata": {
    "tags": []
   },
   "outputs": [],
   "source": [
    "fig, ax = plt.subplots(1,1,figsize=(11.7,6.7))\n",
    "#ax[0].scatter(*train_letters0.T, s=2, alpha=0.7)\n",
    "ax.scatter(*(train_letters40 * jnp.array([117.68096, 66.76416])).T, s=2, alpha=0.7)\n",
    "ax.set_aspect('equal', adjustable='box')\n",
    "plt.tight_layout()"
   ]
  },
  {
   "cell_type": "code",
   "execution_count": null,
   "id": "5aaaae7b-9fec-485f-84b1-fb14277a9504",
   "metadata": {
    "tags": []
   },
   "outputs": [],
   "source": [
    "ax.get_xlim()"
   ]
  },
  {
   "cell_type": "code",
   "execution_count": null,
   "id": "f0babfee-e924-44e9-b232-a1116e283e92",
   "metadata": {
    "tags": []
   },
   "outputs": [],
   "source": [
    "ax.get_ylim()"
   ]
  },
  {
   "cell_type": "code",
   "execution_count": null,
   "id": "38346969-0653-4467-9325-ca983aa79c8c",
   "metadata": {},
   "outputs": [],
   "source": []
  },
  {
   "cell_type": "code",
   "execution_count": null,
   "id": "f73f8d5f-beaa-4b73-ab23-4e370b1931bf",
   "metadata": {
    "tags": []
   },
   "outputs": [],
   "source": [
    "fig, ax = plt.subplots(1,1,figsize=(8,6))\n",
    "ax.scatter(*train_logo.T, s=2, alpha=0.7)\n",
    "ax.set_xlabel(r\"$x_1$ component\")\n",
    "ax.set_ylabel(r\"$x_2$ component\")\n",
    "plt.tight_layout()"
   ]
  },
  {
   "cell_type": "code",
   "execution_count": null,
   "id": "5702bf20-b176-49bb-a66a-fb0f5f920ab7",
   "metadata": {},
   "outputs": [],
   "source": [
    "117.68096 / 66.76416"
   ]
  },
  {
   "cell_type": "code",
   "execution_count": null,
   "id": "b9f2db86-31c8-492d-a2b2-bd6d71dc2a78",
   "metadata": {
    "tags": []
   },
   "outputs": [],
   "source": [
    "plt.rcParams['axes.labelsize'] = 15\n",
    "plt.rcParams['axes.titlesize'] = 18\n",
    "plt.rcParams['xtick.labelsize']= 14\n",
    "plt.rcParams['ytick.labelsize']= 14"
   ]
  },
  {
   "cell_type": "code",
   "execution_count": null,
   "id": "5bd4c10f-a1bb-4a0e-b6be-93b6e6ca67cd",
   "metadata": {
    "tags": []
   },
   "outputs": [],
   "source": [
    "fig_s, ax_s = plt.subplots(2,2, figsize=(16,12))\n",
    "ax_s[0, 0].scatter(*train_check.T, s=2, alpha=0.7)\n",
    "ax_s[0, 1].scatter(*train_letters0.T, s=2, alpha=0.7)\n",
    "ax_s[1, 0].scatter(*train_logo.T, s=2, alpha=0.7)\n",
    "ax_s[1, 1].scatter(*train_letters40.T, s=2, alpha=0.7)\n",
    "\n",
    "ax_s[1, 1].set_ylim(jnp.array(ax_s[1,1].get_ylim()) * 1.7626367200605833)\n",
    "\n",
    "ax_s[0, 0].set_xlabel(r\"$x_1$ component\")\n",
    "ax_s[0, 0].set_ylabel(r\"$x_2$ component\")\n",
    "ax_s[0, 0].set_title(r\"Checkerboard\")\n",
    "\n",
    "ax_s[0, 1].set_xlabel(r\"$x_1$ component\")\n",
    "ax_s[0, 1].set_ylabel(r\"$x_2$ component\")\n",
    "ax_s[0, 1].set_title(r\"TUC Letters, $s=0$\")\n",
    "\n",
    "ax_s[1, 0].set_xlabel(r\"$x_1$ component\")\n",
    "ax_s[1, 0].set_ylabel(r\"$x_2$ component\")\n",
    "ax_s[1, 0].set_title(r\"TUC Logo\")\n",
    "\n",
    "ax_s[1, 1].set_xlabel(r\"$x_1$ component\")\n",
    "ax_s[1, 1].set_ylabel(r\"$x_2$ component\")\n",
    "ax_s[1, 1].set_title(r\"TUC Letters, $s=40$\")\n",
    "plt.tight_layout(h_pad=2, w_pad=2)"
   ]
  },
  {
   "cell_type": "code",
   "execution_count": null,
   "id": "dcea02ec-3cba-437e-bfbc-72cc5b826dbf",
   "metadata": {},
   "outputs": [],
   "source": [
    "fig_s"
   ]
  },
  {
   "cell_type": "code",
   "execution_count": null,
   "id": "916e3574-f16d-4fe1-bf5d-7f1dae03778b",
   "metadata": {
    "tags": []
   },
   "outputs": [],
   "source": [
    "fig_s.savefig('datasetplots.png', bbox_inches='tight')"
   ]
  },
  {
   "cell_type": "code",
   "execution_count": null,
   "id": "cf259aa2-5426-4f32-bb26-922b4ffaf5a6",
   "metadata": {},
   "outputs": [],
   "source": [
    "!pwd"
   ]
  },
  {
   "cell_type": "code",
   "execution_count": null,
   "id": "928394fb-290a-4296-b111-dbba611c2d20",
   "metadata": {},
   "outputs": [],
   "source": []
  },
  {
   "cell_type": "code",
   "execution_count": null,
   "id": "7e3ace31-a283-46de-8191-7ef21c317151",
   "metadata": {},
   "outputs": [],
   "source": []
  },
  {
   "cell_type": "code",
   "execution_count": null,
   "id": "27d9ad19-e765-4ad9-b95e-66b0cb99364a",
   "metadata": {},
   "outputs": [],
   "source": []
  },
  {
   "cell_type": "code",
   "execution_count": null,
   "id": "e2d02bd1-90c0-4c45-ba73-e8e815a84e9b",
   "metadata": {
    "tags": []
   },
   "outputs": [],
   "source": [
    "import numpy as np"
   ]
  },
  {
   "cell_type": "code",
   "execution_count": null,
   "id": "06bb212b-53f9-410e-8eca-5f9fe153c546",
   "metadata": {
    "tags": []
   },
   "outputs": [],
   "source": [
    "import matplotlib.pyplot as plt"
   ]
  },
  {
   "cell_type": "code",
   "execution_count": null,
   "id": "f5984f22-533d-412c-8095-91076322de6b",
   "metadata": {
    "tags": []
   },
   "outputs": [],
   "source": [
    "pic = plt.imread('tuc_logo.png')"
   ]
  },
  {
   "cell_type": "code",
   "execution_count": null,
   "id": "c160b4eb-0019-41b2-b70e-b4718d9b012c",
   "metadata": {
    "tags": []
   },
   "outputs": [],
   "source": [
    "plt.imshow(pic)"
   ]
  },
  {
   "cell_type": "code",
   "execution_count": null,
   "id": "7a1766b9-c2a5-43b0-ac1e-e1d2383c2d34",
   "metadata": {
    "tags": []
   },
   "outputs": [],
   "source": [
    "pic.shape"
   ]
  },
  {
   "cell_type": "code",
   "execution_count": null,
   "id": "5687275b-64e9-467f-80da-fd287e8d5d1c",
   "metadata": {
    "tags": []
   },
   "outputs": [],
   "source": [
    "pic[120, 200, :] * 255"
   ]
  },
  {
   "cell_type": "code",
   "execution_count": null,
   "id": "fab8f5d9-1446-42de-a6df-1e8d1b24fd3b",
   "metadata": {},
   "outputs": [],
   "source": []
  }
 ],
 "metadata": {
  "kernelspec": {
   "display_name": "Python 3 (ipykernel)",
   "language": "python",
   "name": "python3"
  },
  "language_info": {
   "codemirror_mode": {
    "name": "ipython",
    "version": 3
   },
   "file_extension": ".py",
   "mimetype": "text/x-python",
   "name": "python",
   "nbconvert_exporter": "python",
   "pygments_lexer": "ipython3",
   "version": "3.9.16"
  }
 },
 "nbformat": 4,
 "nbformat_minor": 5
}
