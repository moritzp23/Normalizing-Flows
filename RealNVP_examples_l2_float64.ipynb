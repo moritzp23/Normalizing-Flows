{
 "cells": [
  {
   "cell_type": "markdown",
   "id": "06700c83-b741-433c-8e43-96fdd23ed6df",
   "metadata": {},
   "source": [
    "# Double Precision"
   ]
  },
  {
   "cell_type": "code",
   "execution_count": null,
   "id": "15045d95-05a2-4e8d-ae6a-a2230ca019a6",
   "metadata": {
    "tags": []
   },
   "outputs": [],
   "source": [
    "import os\n",
    "os.environ['CUDA_VISIBLE_DEVICES'] = '1'\n",
    "\n",
    "from jax import config\n",
    "config.update(\"jax_enable_x64\", True)"
   ]
  },
  {
   "cell_type": "code",
   "execution_count": null,
   "id": "6e44c555-b6fd-47fc-a365-e6f318fb658d",
   "metadata": {
    "tags": []
   },
   "outputs": [],
   "source": [
    "import RealNVP, DatasetGenerator\n",
    "import numpy as np\n",
    "import pandas as pd\n",
    "import optax\n",
    "import matplotlib.pyplot as plt\n",
    "\n",
    "from jax import jit, grad, value_and_grad, random\n",
    "from flax.training import checkpoints\n",
    "\n",
    "# plotting, move this to seperate notebook\n",
    "from jax import vmap\n",
    "import jax.numpy as jnp\n",
    "from matplotlib import colormaps"
   ]
  },
  {
   "cell_type": "code",
   "execution_count": null,
   "id": "f43dc45f-301b-4fad-b4ee-abd3d0a179e0",
   "metadata": {
    "tags": []
   },
   "outputs": [],
   "source": [
    "@jit\n",
    "def step(opt_state, params, batch):\n",
    "    # from optax doc: https://optax.readthedocs.io/en/latest/gradient_accumulation.html\n",
    "    loss, grads = value_and_grad(LOSS_FUNC)(params, batch, **LOSS_KWARGS)\n",
    "    updates, opt_state = gradient_transform.update(grads, opt_state, params=params) \n",
    "    params = optax.apply_updates(params, updates)\n",
    "    return opt_state, params, loss"
   ]
  },
  {
   "cell_type": "code",
   "execution_count": null,
   "id": "7a0b0a65-eb73-448d-964f-a4dda8c52bf6",
   "metadata": {
    "tags": []
   },
   "outputs": [],
   "source": [
    "def eval_val(val_data, params):\n",
    "    return VAL_LOSS_FUNC(params=params, batch=val_data, **VAL_LOSS_KWARGS)"
   ]
  },
  {
   "cell_type": "code",
   "execution_count": null,
   "id": "d74906a2-6421-45cf-9bb0-46473c4988aa",
   "metadata": {
    "tags": []
   },
   "outputs": [],
   "source": [
    "def train_step(train_data, opt_state, params):\n",
    "    opt_state, params, loss = step(opt_state, params, batch=train_data)\n",
    "    return opt_state, params, loss"
   ]
  },
  {
   "cell_type": "code",
   "execution_count": null,
   "id": "1dc6009c-c654-4630-872d-73ef3343cd5c",
   "metadata": {
    "tags": []
   },
   "outputs": [],
   "source": [
    "MODEL_PREFIX = 'RealNVP_l2'\n",
    "PRECISION_PREFIX = 'float64'"
   ]
  },
  {
   "cell_type": "code",
   "execution_count": null,
   "id": "b5269566-181f-4e6b-befe-a556e11bc8ea",
   "metadata": {},
   "outputs": [],
   "source": []
  },
  {
   "cell_type": "code",
   "execution_count": null,
   "id": "a755afda-865c-4058-8f47-f9174b47525a",
   "metadata": {},
   "outputs": [],
   "source": [
    "def run(train_re, params, opt_state, data_key):\n",
    "    train_losses  = []\n",
    "    val_losses, val_inv_errors, val_mmds = [], [], []\n",
    "    best_val_mmd, best_epoch_mmd, best_params_loss_mmd = np.inf, None, None\n",
    "    best_val_loss, best_epoch_loss, best_params_loss_loss = np.inf, None, None\n",
    "    \n",
    "    if report_as_csv:\n",
    "        report_df = pd.DataFrame({'Epoch': [], \n",
    "                                  'Training Loss': [], \n",
    "                                  'Validation Loss': [], \n",
    "                                  'Validation Inverse Error': [],\n",
    "                                  'Validation MMD': [],\n",
    "                                  'Best Epoch Loss': [], \n",
    "                                  'Best Epoch MMD': [], \n",
    "                                  'Best Validation Loss': [],\n",
    "                                  'Best Validation MMD': [],})\n",
    "\n",
    "    for epoch in range(1, EPOCHS + 1):\n",
    "        opt_state, params, train_loss = train_step(train_re, opt_state, params)    \n",
    "        train_losses.append(train_loss)\n",
    "\n",
    "        val_loss, val_inv_error, val_mmd  = eval_val(val, params)\n",
    "        print(f'Epoch {epoch} --- Train Loss: {np.mean(train_loss)}, Val Loss: {val_loss}, Val Inv Error: {val_inv_error}, Val MMD: {val_mmd}')\n",
    "        val_losses.append(val_loss)\n",
    "        val_inv_errors.append(val_inv_error)\n",
    "        val_mmds.append(val_mmd)\n",
    "\n",
    "        if epoch >= 5:\n",
    "            val_loss_rolling = np.mean(val_losses[epoch-5:])    \n",
    "            if val_loss_rolling < best_val_loss:\n",
    "                best_epoch_loss, best_params_loss_loss, best_val_loss = epoch, params, val_loss\n",
    "                \n",
    "            val_mmd_rolling = np.mean(val_mmds[epoch-5:])    \n",
    "            if val_mmd_rolling < best_val_mmd:\n",
    "                best_epoch_mmd, best_params_loss_mmd, best_val_mmd = epoch, params, val_mmd        \n",
    "        \n",
    "\n",
    "        # resample training data\n",
    "        if epoch % 25 == 0:    \n",
    "            data_key = random.fold_in(data_key, epoch)\n",
    "            train_re = TRAIN_GENERATOR(data_key, training_size, dtype=PRECISION_PREFIX, **TRAIN_GEN_KWARGS)      \n",
    "\n",
    "        if report_as_csv:    \n",
    "            report_df.loc[epoch - 1] = [epoch, train_loss,\n",
    "                                        val_loss, val_inv_error, val_mmd, \n",
    "                                        best_epoch_loss, best_epoch_mmd, best_val_loss, best_val_mmd]\n",
    "            if epoch % 10 == 0: \n",
    "                report_df.to_csv(report_filename)\n",
    "\n",
    "\n",
    "    print(f'\\nBest Epoch MMD: {best_epoch_mmd} --- Val MMD: {best_val_mmd}')\n",
    "    test_loss, test_inv_error, test_mmd = eval_val(test, best_params_loss_mmd)\n",
    "    print(f'Best Model MMD --- Test Loss: {test_loss}, Test Inv Error: {test_inv_error}, Test MMD: {test_mmd}')\n",
    "    \n",
    "    print(f'\\nBest Epoch Loss: {best_epoch_loss} --- Val Loss: {best_val_loss}')\n",
    "    test_loss, test_inv_error, test_mmd = eval_val(test, best_params_loss_loss)\n",
    "    print(f'Best Model Loss --- Test Loss: {test_loss}, Test Inv Error: {test_inv_error}, Test MMD: {test_mmd}')\n",
    "    \n",
    "    ret = (train_losses, val_losses, val_mmds, val_inv_errors, \n",
    "           best_epoch_mmd, best_val_mmd, best_params_loss_mmd, \n",
    "           best_epoch_loss, best_val_loss, best_params_loss_loss, params)\n",
    "\n",
    "    return ret"
   ]
  },
  {
   "cell_type": "code",
   "execution_count": null,
   "id": "f982ade8-65dd-4ab0-83fa-0c9aa1deca4e",
   "metadata": {},
   "outputs": [],
   "source": []
  },
  {
   "cell_type": "markdown",
   "id": "5762245c-5925-4542-aa9d-491138754ee0",
   "metadata": {
    "tags": []
   },
   "source": [
    "## TUC Letters (no Spacing)"
   ]
  },
  {
   "cell_type": "code",
   "execution_count": null,
   "id": "26cabc80-3dea-48e7-a2c1-d39eb6de7928",
   "metadata": {
    "tags": []
   },
   "outputs": [],
   "source": [
    "key = random.PRNGKey(seed=42)"
   ]
  },
  {
   "cell_type": "code",
   "execution_count": null,
   "id": "4475c86d-98e2-4c4c-a323-85434475eab0",
   "metadata": {
    "tags": []
   },
   "outputs": [],
   "source": [
    "training_size = 10000\n",
    "validation_size = 10000\n",
    "test_size = 20000\n",
    "spacing = 0"
   ]
  },
  {
   "cell_type": "code",
   "execution_count": null,
   "id": "c6896d8f-0e6b-43f9-8465-cd6c13ac8e83",
   "metadata": {
    "tags": []
   },
   "outputs": [],
   "source": [
    "BATCH_SIZE_TR = training_size\n",
    "BATCH_SIZE_VAL_TE = validation_size"
   ]
  },
  {
   "cell_type": "code",
   "execution_count": null,
   "id": "5e0e7532-251c-4cba-b587-0b8d985fd585",
   "metadata": {
    "tags": []
   },
   "outputs": [],
   "source": [
    "train, val, test = DatasetGenerator.make_tuc_letters(\n",
    "    key, \n",
    "    training_size, \n",
    "    validation_size, \n",
    "    test_size, \n",
    "    dtype=PRECISION_PREFIX,\n",
    "    spacing=spacing\n",
    ")\n",
    "normal_sample = random.normal(random.fold_in(key, 42), shape=(validation_size, 2), dtype=PRECISION_PREFIX)"
   ]
  },
  {
   "cell_type": "code",
   "execution_count": null,
   "id": "7021b36e-0295-443c-943d-5f8d37b4e06d",
   "metadata": {},
   "outputs": [],
   "source": [
    "DATASET_PREFIX = 'letters-nospacing'"
   ]
  },
  {
   "cell_type": "code",
   "execution_count": null,
   "id": "9872cd0c-25a3-49a8-a1cb-c6179b831d6f",
   "metadata": {},
   "outputs": [],
   "source": [
    "TRAIN_GENERATOR = DatasetGenerator.make_tuc_letters_tr\n",
    "TRAIN_GEN_KWARGS = {'spacing': spacing}"
   ]
  },
  {
   "cell_type": "markdown",
   "id": "aad5f1a3-df74-4c90-aede-569bbf6e0f13",
   "metadata": {},
   "source": [
    "### 4 Blocks"
   ]
  },
  {
   "cell_type": "code",
   "execution_count": null,
   "id": "e0461db8-56ff-4e1b-8070-b1b54f623078",
   "metadata": {
    "tags": []
   },
   "outputs": [],
   "source": [
    "NPOT_PREFIX = '4Bl'"
   ]
  },
  {
   "cell_type": "code",
   "execution_count": null,
   "id": "585ce45b-2ed8-465a-96bd-1a751220a1db",
   "metadata": {
    "tags": []
   },
   "outputs": [],
   "source": [
    "key = random.PRNGKey(42)\n",
    "data_key, key = random.split(key, 2)"
   ]
  },
  {
   "cell_type": "code",
   "execution_count": null,
   "id": "3e51ab8a-b35c-4a30-91d6-d97b1a707706",
   "metadata": {
    "tags": []
   },
   "outputs": [],
   "source": [
    "EPOCHS = 20000\n",
    "MODEL = RealNVP.RealNVP(\n",
    "    NVP_net=RealNVP.NVP_l,\n",
    "    num_blocks=4,\n",
    "    key=key,\n",
    "    input_dim=2,\n",
    "    hidden_dim=32,\n",
    "    prior_type='gaussian',\n",
    "    prior_args=None,\n",
    "    use_dropout=False,\n",
    "    dropout_proba=None\n",
    ")\n",
    "LOSS_FUNC = jit(MODEL._loss_l2)\n",
    "VAL_LOSS_FUNC = jit(MODEL.metrics)\n",
    "LOSS_KWARGS = {'alpha': 1e-4}\n",
    "VAL_LOSS_KWARGS = {'normal_batch': normal_sample}"
   ]
  },
  {
   "cell_type": "code",
   "execution_count": null,
   "id": "29032464-d847-4ac6-b68b-5b39fa0948aa",
   "metadata": {
    "tags": []
   },
   "outputs": [],
   "source": [
    "# Exponential decay of the learning rate.\n",
    "scheduler = optax.exponential_decay(\n",
    "    init_value=2e-3, \n",
    "    transition_steps=1000,\n",
    "    transition_begin=0,\n",
    "    decay_rate=0.6)\n",
    "\n",
    "gradient_transform = optax.chain(\n",
    "    optax.scale_by_adam(),              # Use the updates from adam.\n",
    "    optax.scale_by_schedule(scheduler), # Adapt LR\n",
    "    optax.scale(-1.0)                   # Scale updates by -1 since optax.apply_updates \n",
    "                                        # is additive and we want to descend on the loss.\n",
    ")"
   ]
  },
  {
   "cell_type": "code",
   "execution_count": null,
   "id": "2ea669aa-dbbd-4b72-a7f7-061c17cb6438",
   "metadata": {
    "tags": []
   },
   "outputs": [],
   "source": [
    "params = MODEL.params\n",
    "opt_state = gradient_transform.init(params)"
   ]
  },
  {
   "cell_type": "code",
   "execution_count": null,
   "id": "81f2dc1c-f41d-4326-a6bb-3c58d2c9f4f7",
   "metadata": {
    "tags": []
   },
   "outputs": [],
   "source": [
    "report_as_csv = True\n",
    "report_filename = '_'.join([MODEL_PREFIX, PRECISION_PREFIX, DATASET_PREFIX, NPOT_PREFIX]) + '.csv'"
   ]
  },
  {
   "cell_type": "code",
   "execution_count": null,
   "id": "1091ade8-7010-40b3-bf74-07e2a63258bb",
   "metadata": {
    "tags": []
   },
   "outputs": [],
   "source": [
    "ret = run(train, params, opt_state, data_key)\n",
    "(train_losses, val_losses, val_mmds, val_inv_errors, \n",
    " best_epoch_mmd, best_val_mmd, best_params_mmd, \n",
    " best_epoch_loss, best_val_loss, best_params_loss, params) = ret"
   ]
  },
  {
   "cell_type": "code",
   "execution_count": null,
   "id": "d8b8ecf3-e5ac-45c5-b216-eef9b208c9a8",
   "metadata": {
    "tags": []
   },
   "outputs": [],
   "source": [
    "print(f'\\nBest Epoch MMD: {best_epoch_mmd} --- Val MMD: {best_val_mmd}')\n",
    "test_loss, test_inv_error, test_mmd = eval_val(test, best_params_mmd)\n",
    "print(f'Best Model MMD --- Test Loss: {test_loss}, Test Inv Error: {test_inv_error}, Test MMD: {test_mmd}')\n",
    "    \n",
    "print(f'\\nBest Epoch Loss: {best_epoch_loss} --- Val Loss: {best_val_loss}')\n",
    "test_loss, test_inv_error, test_mmd = eval_val(test, best_params_loss)\n",
    "print(f'Best Model Loss --- Test Loss: {test_loss}, Test Inv Error: {test_inv_error}, Test MMD: {test_mmd}')"
   ]
  },
  {
   "cell_type": "code",
   "execution_count": null,
   "id": "09986596-dd06-46d7-bbbf-96577bfe4ec5",
   "metadata": {
    "tags": []
   },
   "outputs": [],
   "source": [
    "fig, ax = plt.subplots(1, 2, figsize=(16,6))\n",
    "ax[0].semilogy(train_losses, label='train loss')\n",
    "ax[0].semilogy(val_losses, label='validation loss')\n",
    "ax[1].semilogy(train_losses[1000:], label='train loss')\n",
    "ax[1].semilogy(val_losses[1000:], label='validation loss')\n",
    "plt.legend()"
   ]
  },
  {
   "cell_type": "code",
   "execution_count": null,
   "id": "b1e684cd-b14e-419b-a0e1-a5dda36fb9ef",
   "metadata": {},
   "outputs": [],
   "source": []
  },
  {
   "cell_type": "code",
   "execution_count": null,
   "id": "3f867625-1efb-4d10-99d4-881c3905632d",
   "metadata": {},
   "outputs": [],
   "source": []
  },
  {
   "cell_type": "code",
   "execution_count": null,
   "id": "4ce41702-4b52-4422-a324-7760397670ad",
   "metadata": {},
   "outputs": [],
   "source": []
  },
  {
   "cell_type": "code",
   "execution_count": null,
   "id": "931b7cb6-5c27-4a16-80ec-b04896b8e687",
   "metadata": {
    "tags": []
   },
   "outputs": [],
   "source": [
    "filestr = '_'.join([MODEL_PREFIX, PRECISION_PREFIX, DATASET_PREFIX, NPOT_PREFIX])\n",
    "checkpoints.save_checkpoint(\n",
    "    ckpt_dir=f'checkpoints/finalfinal/{filestr}_params',  \n",
    "    target=params,  \n",
    "    overwrite=True,   \n",
    "    step=20000\n",
    ")"
   ]
  },
  {
   "cell_type": "code",
   "execution_count": null,
   "id": "c27d3034-8b07-4c87-ac54-0b8f8c170eea",
   "metadata": {},
   "outputs": [],
   "source": [
    "checkpoints.save_checkpoint(\n",
    "    ckpt_dir=f'checkpoints/finalfinal/{filestr}_bestparams_loss',  \n",
    "    target=best_params_loss,  \n",
    "    overwrite=True,   \n",
    "    step=20000\n",
    ")"
   ]
  },
  {
   "cell_type": "code",
   "execution_count": null,
   "id": "b1b46f04-5f04-45c9-a976-755b663c7612",
   "metadata": {},
   "outputs": [],
   "source": [
    "checkpoints.save_checkpoint(\n",
    "    ckpt_dir=f'checkpoints/finalfinal/{filestr}_bestparams_mmd',  \n",
    "    target=best_params_mmd,  \n",
    "    overwrite=True,   \n",
    "    step=20000\n",
    ")"
   ]
  },
  {
   "cell_type": "code",
   "execution_count": null,
   "id": "b0ef9969-e3d7-43fd-8d87-bd23fcc5074b",
   "metadata": {},
   "outputs": [],
   "source": []
  },
  {
   "cell_type": "markdown",
   "id": "cc08f230-2ef8-4cbb-99b1-e6ce9f55d6eb",
   "metadata": {},
   "source": [
    "### 8 Blocks"
   ]
  },
  {
   "cell_type": "code",
   "execution_count": null,
   "id": "e50e6358-f011-4fa0-94d0-4a21579bd0cb",
   "metadata": {
    "tags": []
   },
   "outputs": [],
   "source": [
    "NPOT_PREFIX = '8Bl'"
   ]
  },
  {
   "cell_type": "code",
   "execution_count": null,
   "id": "60c941af-7fe9-4479-87f9-ace4e9b5a5f8",
   "metadata": {
    "tags": []
   },
   "outputs": [],
   "source": [
    "key = random.PRNGKey(42)\n",
    "data_key, key = random.split(key, 2)"
   ]
  },
  {
   "cell_type": "code",
   "execution_count": null,
   "id": "0afe3eb2-159a-4b8f-8b30-3839890801c9",
   "metadata": {
    "tags": []
   },
   "outputs": [],
   "source": [
    "EPOCHS = 20000\n",
    "MODEL = RealNVP.RealNVP(\n",
    "    NVP_net=RealNVP.NVP_l,\n",
    "    num_blocks=8,\n",
    "    key=key,\n",
    "    input_dim=2,\n",
    "    hidden_dim=32,\n",
    "    prior_type='gaussian',\n",
    "    prior_args=None,\n",
    "    use_dropout=False,\n",
    "    dropout_proba=None\n",
    ")\n",
    "LOSS_FUNC = jit(MODEL._loss_l2)\n",
    "VAL_LOSS_FUNC = jit(MODEL.metrics)\n",
    "LOSS_KWARGS = {'alpha': 1e-4}\n",
    "VAL_LOSS_KWARGS = {'normal_batch': normal_sample}"
   ]
  },
  {
   "cell_type": "code",
   "execution_count": null,
   "id": "4ef57100-515b-4563-97bc-093eadc6ad30",
   "metadata": {
    "tags": []
   },
   "outputs": [],
   "source": [
    "# Exponential decay of the learning rate.\n",
    "scheduler = optax.exponential_decay(\n",
    "    init_value=2e-2, \n",
    "    transition_steps=1000,\n",
    "    transition_begin=0,\n",
    "    decay_rate=0.6)\n",
    "\n",
    "gradient_transform = optax.chain(\n",
    "    optax.scale_by_adam(),              # Use the updates from adam.\n",
    "    optax.scale_by_schedule(scheduler), # Adapt LR\n",
    "    optax.scale(-1.0)                   # Scale updates by -1 since optax.apply_updates \n",
    "                                        # is additive and we want to descend on the loss.\n",
    ")"
   ]
  },
  {
   "cell_type": "code",
   "execution_count": null,
   "id": "76fbb16c-6858-4c56-ae84-5100b9d24601",
   "metadata": {
    "tags": []
   },
   "outputs": [],
   "source": [
    "params = MODEL.params\n",
    "opt_state = gradient_transform.init(params)"
   ]
  },
  {
   "cell_type": "code",
   "execution_count": null,
   "id": "882db92a-9e40-4e5e-afbe-758f5c3b750f",
   "metadata": {
    "tags": []
   },
   "outputs": [],
   "source": [
    "report_as_csv = True\n",
    "report_filename = '_'.join([MODEL_PREFIX, PRECISION_PREFIX, DATASET_PREFIX, NPOT_PREFIX]) + '.csv'"
   ]
  },
  {
   "cell_type": "code",
   "execution_count": null,
   "id": "70e3dde6-7f77-49e4-9393-5cff17c3bd42",
   "metadata": {
    "tags": []
   },
   "outputs": [],
   "source": [
    "ret = run(train, params, opt_state, data_key)\n",
    "(train_losses, val_losses, val_mmds, val_inv_errors, \n",
    " best_epoch_mmd, best_val_mmd, best_params_mmd, \n",
    " best_epoch_loss, best_val_loss, best_params_loss, params) = ret"
   ]
  },
  {
   "cell_type": "code",
   "execution_count": null,
   "id": "acd895f1-d8fd-4fcd-aa54-ce7b52b7134a",
   "metadata": {
    "tags": []
   },
   "outputs": [],
   "source": [
    "print(f'\\nBest Epoch MMD: {best_epoch_mmd} --- Val MMD: {best_val_mmd}')\n",
    "test_loss, test_inv_error, test_mmd = eval_val(test, best_params_mmd)\n",
    "print(f'Best Model MMD --- Test Loss: {test_loss}, Test Inv Error: {test_inv_error}, Test MMD: {test_mmd}')\n",
    "    \n",
    "print(f'\\nBest Epoch Loss: {best_epoch_loss} --- Val Loss: {best_val_loss}')\n",
    "test_loss, test_inv_error, test_mmd = eval_val(test, best_params_loss)\n",
    "print(f'Best Model Loss --- Test Loss: {test_loss}, Test Inv Error: {test_inv_error}, Test MMD: {test_mmd}')"
   ]
  },
  {
   "cell_type": "code",
   "execution_count": null,
   "id": "e98ef123-6b58-4f2f-bbeb-082fd62ad079",
   "metadata": {
    "tags": []
   },
   "outputs": [],
   "source": [
    "fig, ax = plt.subplots(1, 2, figsize=(16,6))\n",
    "ax[0].semilogy(train_losses, label='train loss')\n",
    "ax[0].semilogy(val_losses, label='validation loss')\n",
    "ax[1].semilogy(train_losses[1000:], label='train loss')\n",
    "ax[1].semilogy(val_losses[1000:], label='validation loss')\n",
    "plt.legend()"
   ]
  },
  {
   "cell_type": "code",
   "execution_count": null,
   "id": "aa01b8d4-2b55-4542-9efc-6217f4ea4fd5",
   "metadata": {},
   "outputs": [],
   "source": []
  },
  {
   "cell_type": "code",
   "execution_count": null,
   "id": "201b333f-016c-47cd-ba39-8020b1018a99",
   "metadata": {
    "tags": []
   },
   "outputs": [],
   "source": [
    "filestr = '_'.join([MODEL_PREFIX, PRECISION_PREFIX, DATASET_PREFIX, NPOT_PREFIX])\n",
    "checkpoints.save_checkpoint(\n",
    "    ckpt_dir=f'checkpoints/finalfinal/{filestr}_params',  \n",
    "    target=params,  \n",
    "    overwrite=True,   \n",
    "    step=20000\n",
    ")"
   ]
  },
  {
   "cell_type": "code",
   "execution_count": null,
   "id": "b6c1ec7c-86d5-4470-8e36-d822fb1f914d",
   "metadata": {
    "tags": []
   },
   "outputs": [],
   "source": [
    "checkpoints.save_checkpoint(\n",
    "    ckpt_dir=f'checkpoints/finalfinal/{filestr}_bestparams_loss',  \n",
    "    target=best_params_loss,  \n",
    "    overwrite=True,   \n",
    "    step=20000\n",
    ")"
   ]
  },
  {
   "cell_type": "code",
   "execution_count": null,
   "id": "03f72f8c-812c-44b4-8798-4a4d0a9b6a0e",
   "metadata": {},
   "outputs": [],
   "source": [
    "checkpoints.save_checkpoint(\n",
    "    ckpt_dir=f'checkpoints/finalfinal/{filestr}_bestparams_mmd',  \n",
    "    target=best_params_mmd,  \n",
    "    overwrite=True,   \n",
    "    step=20000\n",
    ")"
   ]
  },
  {
   "cell_type": "code",
   "execution_count": null,
   "id": "4f011c38-14e9-4214-bc53-3b321639bdef",
   "metadata": {},
   "outputs": [],
   "source": []
  },
  {
   "cell_type": "markdown",
   "id": "0d9519d5-5620-4a1b-80ef-e781998621e4",
   "metadata": {},
   "source": [
    "### 12 Blocks"
   ]
  },
  {
   "cell_type": "code",
   "execution_count": null,
   "id": "b444b0c7-baff-48ff-bbe3-008ce7a7c87a",
   "metadata": {
    "tags": []
   },
   "outputs": [],
   "source": [
    "NPOT_PREFIX = '12Bl'"
   ]
  },
  {
   "cell_type": "code",
   "execution_count": null,
   "id": "ed24b430-1d1c-441f-888c-920abde23e0a",
   "metadata": {
    "tags": []
   },
   "outputs": [],
   "source": [
    "key = random.PRNGKey(42)\n",
    "data_key, key = random.split(key, 2)"
   ]
  },
  {
   "cell_type": "code",
   "execution_count": null,
   "id": "8be880f4-88dc-4b77-9c43-bf0e6ccba793",
   "metadata": {
    "tags": []
   },
   "outputs": [],
   "source": [
    "EPOCHS = 20000\n",
    "MODEL = RealNVP.RealNVP(\n",
    "    NVP_net=RealNVP.NVP_l,\n",
    "    num_blocks=12,\n",
    "    key=key,\n",
    "    input_dim=2,\n",
    "    hidden_dim=32,\n",
    "    prior_type='gaussian',\n",
    "    prior_args=None,\n",
    "    use_dropout=False,\n",
    "    dropout_proba=None\n",
    ")\n",
    "LOSS_FUNC = jit(MODEL._loss_l2)\n",
    "VAL_LOSS_FUNC = jit(MODEL.metrics)\n",
    "LOSS_KWARGS = {'alpha': 1e-4}\n",
    "VAL_LOSS_KWARGS = {'normal_batch': normal_sample}"
   ]
  },
  {
   "cell_type": "code",
   "execution_count": null,
   "id": "d8dcb016-5c22-4f6e-b1ac-00a5bbcfab64",
   "metadata": {
    "tags": []
   },
   "outputs": [],
   "source": [
    "# Exponential decay of the learning rate.\n",
    "scheduler = optax.exponential_decay(\n",
    "    init_value=2e-2, \n",
    "    transition_steps=1000,\n",
    "    transition_begin=0,\n",
    "    decay_rate=0.6)\n",
    "\n",
    "gradient_transform = optax.chain(\n",
    "    optax.scale_by_adam(),              # Use the updates from adam.\n",
    "    optax.scale_by_schedule(scheduler), # Adapt LR\n",
    "    optax.scale(-1.0)                   # Scale updates by -1 since optax.apply_updates \n",
    "                                        # is additive and we want to descend on the loss.\n",
    ")"
   ]
  },
  {
   "cell_type": "code",
   "execution_count": null,
   "id": "decd0f00-9ebd-4e48-a31f-8dc45deabe35",
   "metadata": {
    "tags": []
   },
   "outputs": [],
   "source": [
    "params = MODEL.params\n",
    "opt_state = gradient_transform.init(params)"
   ]
  },
  {
   "cell_type": "code",
   "execution_count": null,
   "id": "9a9cf800-4c19-4bb0-ae7e-522cf2518ea8",
   "metadata": {
    "tags": []
   },
   "outputs": [],
   "source": [
    "report_as_csv = True\n",
    "report_filename = '_'.join([MODEL_PREFIX, PRECISION_PREFIX, DATASET_PREFIX, NPOT_PREFIX]) + '.csv'"
   ]
  },
  {
   "cell_type": "code",
   "execution_count": null,
   "id": "f0215815-e4d7-49c6-934d-8650c424795b",
   "metadata": {
    "tags": []
   },
   "outputs": [],
   "source": [
    "ret = run(train, params, opt_state, data_key)\n",
    "(train_losses, val_losses, val_mmds, val_inv_errors, \n",
    " best_epoch_mmd, best_val_mmd, best_params_mmd, \n",
    " best_epoch_loss, best_val_loss, best_params_loss, params) = ret"
   ]
  },
  {
   "cell_type": "code",
   "execution_count": null,
   "id": "653f87f8-ea6d-4c65-a903-59723dc4b1da",
   "metadata": {
    "tags": []
   },
   "outputs": [],
   "source": [
    "print(f'\\nBest Epoch MMD: {best_epoch_mmd} --- Val MMD: {best_val_mmd}')\n",
    "test_loss, test_inv_error, test_mmd = eval_val(test, best_params_mmd)\n",
    "print(f'Best Model MMD --- Test Loss: {test_loss}, Test Inv Error: {test_inv_error}, Test MMD: {test_mmd}')\n",
    "    \n",
    "print(f'\\nBest Epoch Loss: {best_epoch_loss} --- Val Loss: {best_val_loss}')\n",
    "test_loss, test_inv_error, test_mmd = eval_val(test, best_params_loss)\n",
    "print(f'Best Model Loss --- Test Loss: {test_loss}, Test Inv Error: {test_inv_error}, Test MMD: {test_mmd}')"
   ]
  },
  {
   "cell_type": "code",
   "execution_count": null,
   "id": "2dbba7f4-18a7-437d-9b3f-0cdac9b59795",
   "metadata": {
    "tags": []
   },
   "outputs": [],
   "source": [
    "fig, ax = plt.subplots(1, 2, figsize=(16,6))\n",
    "ax[0].semilogy(train_losses, label='train loss')\n",
    "ax[0].semilogy(val_losses, label='validation loss')\n",
    "ax[1].semilogy(train_losses[1000:], label='train loss')\n",
    "ax[1].semilogy(val_losses[1000:], label='validation loss')\n",
    "plt.legend()"
   ]
  },
  {
   "cell_type": "code",
   "execution_count": null,
   "id": "584a7f25-0819-4cbc-b5e4-6e51e5fc7e1c",
   "metadata": {},
   "outputs": [],
   "source": []
  },
  {
   "cell_type": "code",
   "execution_count": null,
   "id": "f56b73f4-4325-4b18-b692-677f7d48b84f",
   "metadata": {
    "tags": []
   },
   "outputs": [],
   "source": [
    "filestr = '_'.join([MODEL_PREFIX, PRECISION_PREFIX, DATASET_PREFIX, NPOT_PREFIX])\n",
    "checkpoints.save_checkpoint(\n",
    "    ckpt_dir=f'checkpoints/finalfinal/{filestr}_params',  \n",
    "    target=params,  \n",
    "    overwrite=True,   \n",
    "    step=20000\n",
    ")"
   ]
  },
  {
   "cell_type": "code",
   "execution_count": null,
   "id": "cb6bc41b-48b7-4027-88f9-bc432a8f4eed",
   "metadata": {
    "tags": []
   },
   "outputs": [],
   "source": [
    "checkpoints.save_checkpoint(\n",
    "    ckpt_dir=f'checkpoints/finalfinal/{filestr}_bestparams_loss',  \n",
    "    target=best_params_loss,  \n",
    "    overwrite=True,   \n",
    "    step=20000\n",
    ")"
   ]
  },
  {
   "cell_type": "code",
   "execution_count": null,
   "id": "31f4ed8f-b606-4d62-9ed5-29e8f12cd222",
   "metadata": {},
   "outputs": [],
   "source": [
    "checkpoints.save_checkpoint(\n",
    "    ckpt_dir=f'checkpoints/finalfinal/{filestr}_bestparams_mmd',  \n",
    "    target=best_params_mmd,  \n",
    "    overwrite=True,   \n",
    "    step=20000\n",
    ")"
   ]
  },
  {
   "cell_type": "markdown",
   "id": "182825ee-f8c7-4e3c-a10e-721b9242e83d",
   "metadata": {},
   "source": [
    "### 16 Blocks"
   ]
  },
  {
   "cell_type": "code",
   "execution_count": null,
   "id": "16bd9fdf-be8c-4ee0-b669-8559be762d2c",
   "metadata": {
    "tags": []
   },
   "outputs": [],
   "source": [
    "NPOT_PREFIX = '16Bl'"
   ]
  },
  {
   "cell_type": "code",
   "execution_count": null,
   "id": "00f9305a-56cf-4697-8f08-94f01ca1f422",
   "metadata": {
    "tags": []
   },
   "outputs": [],
   "source": [
    "key = random.PRNGKey(42)\n",
    "data_key, key = random.split(key, 2)"
   ]
  },
  {
   "cell_type": "code",
   "execution_count": null,
   "id": "4f026547-4a69-4ae5-b22c-ebbf91009a39",
   "metadata": {
    "tags": []
   },
   "outputs": [],
   "source": [
    "EPOCHS = 20000\n",
    "MODEL = RealNVP.RealNVP(\n",
    "    NVP_net=RealNVP.NVP_l,\n",
    "    num_blocks=16,\n",
    "    key=key,\n",
    "    input_dim=2,\n",
    "    hidden_dim=32,\n",
    "    prior_type='gaussian',\n",
    "    prior_args=None,\n",
    "    use_dropout=False,\n",
    "    dropout_proba=None\n",
    ")\n",
    "LOSS_FUNC = jit(MODEL._loss_l2)\n",
    "VAL_LOSS_FUNC = jit(MODEL.metrics)\n",
    "LOSS_KWARGS = {'alpha': 1e-4}\n",
    "VAL_LOSS_KWARGS = {'normal_batch': normal_sample}"
   ]
  },
  {
   "cell_type": "code",
   "execution_count": null,
   "id": "ea0ffaa6-0b5b-4259-a687-06a8a9f2d080",
   "metadata": {
    "tags": []
   },
   "outputs": [],
   "source": [
    "# Exponential decay of the learning rate.\n",
    "scheduler = optax.exponential_decay(\n",
    "    init_value=2e-3, \n",
    "    transition_steps=1000,\n",
    "    transition_begin=0,\n",
    "    decay_rate=0.6)\n",
    "\n",
    "gradient_transform = optax.chain(\n",
    "    optax.scale_by_adam(),              # Use the updates from adam.\n",
    "    optax.scale_by_schedule(scheduler), # Adapt LR\n",
    "    optax.scale(-1.0)                   # Scale updates by -1 since optax.apply_updates \n",
    "                                        # is additive and we want to descend on the loss.\n",
    ")"
   ]
  },
  {
   "cell_type": "code",
   "execution_count": null,
   "id": "7f9252e2-cdf9-4753-8c28-b7c3c964e693",
   "metadata": {
    "tags": []
   },
   "outputs": [],
   "source": [
    "params = MODEL.params\n",
    "opt_state = gradient_transform.init(params)"
   ]
  },
  {
   "cell_type": "code",
   "execution_count": null,
   "id": "848d21bd-d64e-4127-b969-7f6344572365",
   "metadata": {
    "tags": []
   },
   "outputs": [],
   "source": [
    "report_as_csv = True\n",
    "report_filename = '_'.join([MODEL_PREFIX, PRECISION_PREFIX, DATASET_PREFIX, NPOT_PREFIX]) + '.csv'"
   ]
  },
  {
   "cell_type": "code",
   "execution_count": null,
   "id": "82226a90-8764-4c7b-b571-ba5d47dcb90f",
   "metadata": {
    "tags": []
   },
   "outputs": [],
   "source": [
    "ret = run(train, params, opt_state, data_key)\n",
    "(train_losses, val_losses, val_mmds, val_inv_errors, \n",
    " best_epoch_mmd, best_val_mmd, best_params_mmd, \n",
    " best_epoch_loss, best_val_loss, best_params_loss, params) = ret"
   ]
  },
  {
   "cell_type": "code",
   "execution_count": null,
   "id": "54989896-69a1-4d1a-8d18-06d581d17b1a",
   "metadata": {
    "tags": []
   },
   "outputs": [],
   "source": [
    "print(f'\\nBest Epoch MMD: {best_epoch_mmd} --- Val MMD: {best_val_mmd}')\n",
    "test_loss, test_inv_error, test_mmd = eval_val(test, best_params_mmd)\n",
    "print(f'Best Model MMD --- Test Loss: {test_loss}, Test Inv Error: {test_inv_error}, Test MMD: {test_mmd}')\n",
    "    \n",
    "print(f'\\nBest Epoch Loss: {best_epoch_loss} --- Val Loss: {best_val_loss}')\n",
    "test_loss, test_inv_error, test_mmd = eval_val(test, best_params_loss)\n",
    "print(f'Best Model Loss --- Test Loss: {test_loss}, Test Inv Error: {test_inv_error}, Test MMD: {test_mmd}')"
   ]
  },
  {
   "cell_type": "code",
   "execution_count": null,
   "id": "0526adad-a4b2-4ed6-a258-b3283de232b4",
   "metadata": {
    "tags": []
   },
   "outputs": [],
   "source": [
    "fig, ax = plt.subplots(1, 2, figsize=(16,6))\n",
    "ax[0].semilogy(train_losses, label='train loss')\n",
    "ax[0].semilogy(val_losses, label='validation loss')\n",
    "ax[1].semilogy(train_losses[1000:], label='train loss')\n",
    "ax[1].semilogy(val_losses[1000:], label='validation loss')\n",
    "plt.legend()"
   ]
  },
  {
   "cell_type": "code",
   "execution_count": null,
   "id": "ba7ea2d8-a38d-4bf4-ae60-8e6a67fb9df5",
   "metadata": {},
   "outputs": [],
   "source": []
  },
  {
   "cell_type": "code",
   "execution_count": null,
   "id": "5cbeacb1-9ca1-468e-94ab-99b2ce666526",
   "metadata": {},
   "outputs": [],
   "source": []
  },
  {
   "cell_type": "code",
   "execution_count": null,
   "id": "ad53cae1-7308-4b79-a062-e74b46c77443",
   "metadata": {},
   "outputs": [],
   "source": []
  },
  {
   "cell_type": "code",
   "execution_count": null,
   "id": "6ffa3a42-c9eb-41ac-aa52-3fb6454ff642",
   "metadata": {
    "tags": []
   },
   "outputs": [],
   "source": [
    "filestr = '_'.join([MODEL_PREFIX, PRECISION_PREFIX, DATASET_PREFIX, NPOT_PREFIX])\n",
    "checkpoints.save_checkpoint(\n",
    "    ckpt_dir=f'checkpoints/finalfinal/{filestr}_params',  \n",
    "    target=params,  \n",
    "    overwrite=True,   \n",
    "    step=20000\n",
    ")"
   ]
  },
  {
   "cell_type": "code",
   "execution_count": null,
   "id": "ea419854-89af-4063-8606-257c4be396ec",
   "metadata": {},
   "outputs": [],
   "source": [
    "checkpoints.save_checkpoint(\n",
    "    ckpt_dir=f'checkpoints/finalfinal/{filestr}_bestparams_loss',  \n",
    "    target=best_params_loss,  \n",
    "    overwrite=True,   \n",
    "    step=20000\n",
    ")"
   ]
  },
  {
   "cell_type": "code",
   "execution_count": null,
   "id": "e5a0f5d3-a060-4e82-b043-a3a8454d9ff3",
   "metadata": {},
   "outputs": [],
   "source": [
    "checkpoints.save_checkpoint(\n",
    "    ckpt_dir=f'checkpoints/finalfinal/{filestr}_bestparams_mmd',  \n",
    "    target=best_params_mmd,  \n",
    "    overwrite=True,   \n",
    "    step=20000\n",
    ")"
   ]
  },
  {
   "cell_type": "code",
   "execution_count": null,
   "id": "c778408c-3db1-426b-95cb-0e748935e1d8",
   "metadata": {},
   "outputs": [],
   "source": []
  },
  {
   "cell_type": "markdown",
   "id": "77d85976-e9ca-4e33-8447-638543464c91",
   "metadata": {},
   "source": [
    "### 24 Blocks"
   ]
  },
  {
   "cell_type": "code",
   "execution_count": null,
   "id": "db8b0bc2-cfab-4f69-b0bc-44d16dd2eb67",
   "metadata": {
    "tags": []
   },
   "outputs": [],
   "source": [
    "NPOT_PREFIX = '24Bl'"
   ]
  },
  {
   "cell_type": "code",
   "execution_count": null,
   "id": "4c842f35-fa64-43dc-aef6-6e8ccf315df3",
   "metadata": {
    "tags": []
   },
   "outputs": [],
   "source": [
    "key = random.PRNGKey(42)\n",
    "data_key, key = random.split(key, 2)"
   ]
  },
  {
   "cell_type": "code",
   "execution_count": null,
   "id": "e3129500-e73f-4097-a7d8-d4eb9b55600f",
   "metadata": {
    "tags": []
   },
   "outputs": [],
   "source": [
    "EPOCHS = 20000\n",
    "MODEL = RealNVP.RealNVP(\n",
    "    NVP_net=RealNVP.NVP_l,\n",
    "    num_blocks=24,\n",
    "    key=key,\n",
    "    input_dim=2,\n",
    "    hidden_dim=32,\n",
    "    prior_type='gaussian',\n",
    "    prior_args=None,\n",
    "    use_dropout=False,\n",
    "    dropout_proba=None\n",
    ")\n",
    "LOSS_FUNC = jit(MODEL._loss_l2)\n",
    "VAL_LOSS_FUNC = jit(MODEL.metrics)\n",
    "LOSS_KWARGS = {'alpha': 1e-4}\n",
    "VAL_LOSS_KWARGS = {'normal_batch': normal_sample}"
   ]
  },
  {
   "cell_type": "code",
   "execution_count": null,
   "id": "027d9f24-9f36-4b99-bf75-1b8fa7ce72ea",
   "metadata": {
    "tags": []
   },
   "outputs": [],
   "source": [
    "# Exponential decay of the learning rate.\n",
    "scheduler = optax.exponential_decay(\n",
    "    init_value=2e-2, \n",
    "    transition_steps=1000,\n",
    "    transition_begin=0,\n",
    "    decay_rate=0.6)\n",
    "\n",
    "gradient_transform = optax.chain(\n",
    "    optax.scale_by_adam(),              # Use the updates from adam.\n",
    "    optax.scale_by_schedule(scheduler), # Adapt LR\n",
    "    optax.scale(-1.0)                   # Scale updates by -1 since optax.apply_updates \n",
    "                                        # is additive and we want to descend on the loss.\n",
    ")"
   ]
  },
  {
   "cell_type": "code",
   "execution_count": null,
   "id": "2d050588-7532-4c6e-af4c-9207237e4821",
   "metadata": {
    "tags": []
   },
   "outputs": [],
   "source": [
    "params = MODEL.params\n",
    "opt_state = gradient_transform.init(params)"
   ]
  },
  {
   "cell_type": "code",
   "execution_count": null,
   "id": "f8fcb6f7-3dbf-4b75-8a2a-b669196cc758",
   "metadata": {
    "tags": []
   },
   "outputs": [],
   "source": [
    "report_as_csv = True\n",
    "report_filename = '_'.join([MODEL_PREFIX, PRECISION_PREFIX, DATASET_PREFIX, NPOT_PREFIX]) + '.csv'"
   ]
  },
  {
   "cell_type": "code",
   "execution_count": null,
   "id": "7d58f91c-de20-45a7-8df2-5f5e07aacd7f",
   "metadata": {
    "tags": []
   },
   "outputs": [],
   "source": [
    "ret = run(train, params, opt_state, data_key)\n",
    "(train_losses, val_losses, val_mmds, val_inv_errors, \n",
    " best_epoch_mmd, best_val_mmd, best_params_mmd, \n",
    " best_epoch_loss, best_val_loss, best_params_loss, params) = ret"
   ]
  },
  {
   "cell_type": "code",
   "execution_count": null,
   "id": "95c2c304-034e-4366-98d9-553232059e7c",
   "metadata": {
    "tags": []
   },
   "outputs": [],
   "source": [
    "print(f'\\nBest Epoch MMD: {best_epoch_mmd} --- Val MMD: {best_val_mmd}')\n",
    "test_loss, test_inv_error, test_mmd = eval_val(test, best_params_mmd)\n",
    "print(f'Best Model MMD --- Test Loss: {test_loss}, Test Inv Error: {test_inv_error}, Test MMD: {test_mmd}')\n",
    "    \n",
    "print(f'\\nBest Epoch Loss: {best_epoch_loss} --- Val Loss: {best_val_loss}')\n",
    "test_loss, test_inv_error, test_mmd = eval_val(test, best_params_loss)\n",
    "print(f'Best Model Loss --- Test Loss: {test_loss}, Test Inv Error: {test_inv_error}, Test MMD: {test_mmd}')"
   ]
  },
  {
   "cell_type": "code",
   "execution_count": null,
   "id": "3bf416b8-3845-4297-80d5-7a6e7ae166ec",
   "metadata": {
    "tags": []
   },
   "outputs": [],
   "source": [
    "fig, ax = plt.subplots(1, 2, figsize=(16,6))\n",
    "ax[0].semilogy(train_losses, label='train loss')\n",
    "ax[0].semilogy(val_losses, label='validation loss')\n",
    "ax[1].semilogy(train_losses[1000:], label='train loss')\n",
    "ax[1].semilogy(val_losses[1000:], label='validation loss')\n",
    "plt.legend()"
   ]
  },
  {
   "cell_type": "code",
   "execution_count": null,
   "id": "747e6b9b-d0b1-463d-aff3-703ba33c6677",
   "metadata": {},
   "outputs": [],
   "source": []
  },
  {
   "cell_type": "code",
   "execution_count": null,
   "id": "3aa8f7f4-be36-405a-a122-8c48b82ac65b",
   "metadata": {
    "tags": []
   },
   "outputs": [],
   "source": [
    "filestr = '_'.join([MODEL_PREFIX, PRECISION_PREFIX, DATASET_PREFIX, NPOT_PREFIX])\n",
    "checkpoints.save_checkpoint(\n",
    "    ckpt_dir=f'checkpoints/finalfinal/{filestr}_params',  \n",
    "    target=params,  \n",
    "    overwrite=True,   \n",
    "    step=20000\n",
    ")"
   ]
  },
  {
   "cell_type": "code",
   "execution_count": null,
   "id": "00ff4961-452b-40f1-8b2c-47e05377e91d",
   "metadata": {
    "tags": []
   },
   "outputs": [],
   "source": [
    "checkpoints.save_checkpoint(\n",
    "    ckpt_dir=f'checkpoints/finalfinal/{filestr}_bestparams_loss',  \n",
    "    target=best_params_loss,  \n",
    "    overwrite=True,   \n",
    "    step=20000\n",
    ")"
   ]
  },
  {
   "cell_type": "code",
   "execution_count": null,
   "id": "7a94eb6e-4ad1-4d57-8123-59efa275c82c",
   "metadata": {},
   "outputs": [],
   "source": [
    "checkpoints.save_checkpoint(\n",
    "    ckpt_dir=f'checkpoints/finalfinal/{filestr}_bestparams_mmd',  \n",
    "    target=best_params_mmd,  \n",
    "    overwrite=True,   \n",
    "    step=20000\n",
    ")"
   ]
  },
  {
   "cell_type": "code",
   "execution_count": null,
   "id": "26bbe136-3767-45f3-9738-e77de5a06bfb",
   "metadata": {},
   "outputs": [],
   "source": []
  },
  {
   "cell_type": "markdown",
   "id": "6f4f70a7-d818-4c98-972c-0dd3316665be",
   "metadata": {},
   "source": [
    "### 32 Blocks"
   ]
  },
  {
   "cell_type": "code",
   "execution_count": null,
   "id": "12abc4b6-bf75-4a55-8427-1216bd521aca",
   "metadata": {
    "tags": []
   },
   "outputs": [],
   "source": [
    "NPOT_PREFIX = '32Bl'"
   ]
  },
  {
   "cell_type": "code",
   "execution_count": null,
   "id": "f122a2cd-72a8-470d-a0e3-7dcc4fbcd6b4",
   "metadata": {
    "tags": []
   },
   "outputs": [],
   "source": [
    "key = random.PRNGKey(42)\n",
    "data_key, key = random.split(key, 2)"
   ]
  },
  {
   "cell_type": "code",
   "execution_count": null,
   "id": "a3c6114e-a2ce-4fbc-9340-46f82f1bfe80",
   "metadata": {
    "tags": []
   },
   "outputs": [],
   "source": [
    "EPOCHS = 20000\n",
    "MODEL = RealNVP.RealNVP(\n",
    "    NVP_net=RealNVP.NVP_l,\n",
    "    num_blocks=32,\n",
    "    key=key,\n",
    "    input_dim=2,\n",
    "    hidden_dim=32,\n",
    "    prior_type='gaussian',\n",
    "    prior_args=None,\n",
    "    use_dropout=False,\n",
    "    dropout_proba=None\n",
    ")\n",
    "LOSS_FUNC = jit(MODEL._loss_l2)\n",
    "VAL_LOSS_FUNC = jit(MODEL.metrics)\n",
    "LOSS_KWARGS = {'alpha': 1e-4}\n",
    "VAL_LOSS_KWARGS = {'normal_batch': normal_sample}"
   ]
  },
  {
   "cell_type": "code",
   "execution_count": null,
   "id": "aa6bafd1-2c6a-49f4-85f4-14044223e5fc",
   "metadata": {
    "tags": []
   },
   "outputs": [],
   "source": [
    "# Exponential decay of the learning rate.\n",
    "scheduler = optax.exponential_decay(\n",
    "    init_value=2e-2, \n",
    "    transition_steps=1000,\n",
    "    transition_begin=0,\n",
    "    decay_rate=0.6)\n",
    "\n",
    "gradient_transform = optax.chain(\n",
    "    optax.scale_by_adam(),              # Use the updates from adam.\n",
    "    optax.scale_by_schedule(scheduler), # Adapt LR\n",
    "    optax.scale(-1.0)                   # Scale updates by -1 since optax.apply_updates \n",
    "                                        # is additive and we want to descend on the loss.\n",
    ")"
   ]
  },
  {
   "cell_type": "code",
   "execution_count": null,
   "id": "6d49608e-ebfd-48b9-8123-b3205da1d897",
   "metadata": {
    "tags": []
   },
   "outputs": [],
   "source": [
    "params = MODEL.params\n",
    "opt_state = gradient_transform.init(params)"
   ]
  },
  {
   "cell_type": "code",
   "execution_count": null,
   "id": "2c79e296-87df-4340-af56-92b7adb9da04",
   "metadata": {
    "tags": []
   },
   "outputs": [],
   "source": [
    "report_as_csv = True\n",
    "report_filename = '_'.join([MODEL_PREFIX, PRECISION_PREFIX, DATASET_PREFIX, NPOT_PREFIX]) + '.csv'"
   ]
  },
  {
   "cell_type": "code",
   "execution_count": null,
   "id": "c801d9b5-7578-49bf-afb7-f4745ccd23f4",
   "metadata": {
    "tags": []
   },
   "outputs": [],
   "source": [
    "ret = run(train, params, opt_state, data_key)\n",
    "(train_losses, val_losses, val_mmds, val_inv_errors, \n",
    " best_epoch_mmd, best_val_mmd, best_params_mmd, \n",
    " best_epoch_loss, best_val_loss, best_params_loss, params) = ret"
   ]
  },
  {
   "cell_type": "code",
   "execution_count": null,
   "id": "68f6cd02-b661-460d-a66d-79d819275ff3",
   "metadata": {
    "tags": []
   },
   "outputs": [],
   "source": [
    "print(f'\\nBest Epoch MMD: {best_epoch_mmd} --- Val MMD: {best_val_mmd}')\n",
    "test_loss, test_inv_error, test_mmd = eval_val(test, best_params_mmd)\n",
    "print(f'Best Model MMD --- Test Loss: {test_loss}, Test Inv Error: {test_inv_error}, Test MMD: {test_mmd}')\n",
    "    \n",
    "print(f'\\nBest Epoch Loss: {best_epoch_loss} --- Val Loss: {best_val_loss}')\n",
    "test_loss, test_inv_error, test_mmd = eval_val(test, best_params_loss)\n",
    "print(f'Best Model Loss --- Test Loss: {test_loss}, Test Inv Error: {test_inv_error}, Test MMD: {test_mmd}')"
   ]
  },
  {
   "cell_type": "code",
   "execution_count": null,
   "id": "2a73eea6-c487-4665-aa62-bceab6564fd6",
   "metadata": {
    "tags": []
   },
   "outputs": [],
   "source": [
    "fig, ax = plt.subplots(1, 2, figsize=(16,6))\n",
    "ax[0].semilogy(train_losses, label='train loss')\n",
    "ax[0].semilogy(val_losses, label='validation loss')\n",
    "ax[1].semilogy(train_losses[1000:], label='train loss')\n",
    "ax[1].semilogy(val_losses[1000:], label='validation loss')\n",
    "plt.legend()"
   ]
  },
  {
   "cell_type": "code",
   "execution_count": null,
   "id": "5b1b6b03-b7f0-43e1-a350-15e52900efb4",
   "metadata": {},
   "outputs": [],
   "source": []
  },
  {
   "cell_type": "code",
   "execution_count": null,
   "id": "408e15c1-7e19-49f5-acc0-686298e1cb31",
   "metadata": {
    "tags": []
   },
   "outputs": [],
   "source": [
    "filestr = '_'.join([MODEL_PREFIX, PRECISION_PREFIX, DATASET_PREFIX, NPOT_PREFIX])\n",
    "checkpoints.save_checkpoint(\n",
    "    ckpt_dir=f'checkpoints/finalfinal/{filestr}_params',  \n",
    "    target=params,  \n",
    "    overwrite=True,   \n",
    "    step=20000\n",
    ")"
   ]
  },
  {
   "cell_type": "code",
   "execution_count": null,
   "id": "796010e0-1464-402e-8754-397176107139",
   "metadata": {
    "tags": []
   },
   "outputs": [],
   "source": [
    "checkpoints.save_checkpoint(\n",
    "    ckpt_dir=f'checkpoints/finalfinal/{filestr}_bestparams_loss',  \n",
    "    target=best_params_loss,  \n",
    "    overwrite=True,   \n",
    "    step=20000\n",
    ")"
   ]
  },
  {
   "cell_type": "code",
   "execution_count": null,
   "id": "4e4bc3c5-da58-4a2f-89b6-7fa4a0a46933",
   "metadata": {},
   "outputs": [],
   "source": [
    "checkpoints.save_checkpoint(\n",
    "    ckpt_dir=f'checkpoints/finalfinal/{filestr}_bestparams_mmd',  \n",
    "    target=best_params_mmd,  \n",
    "    overwrite=True,   \n",
    "    step=20000\n",
    ")"
   ]
  },
  {
   "cell_type": "markdown",
   "id": "6e866674-0702-4d71-88ac-4eed18a55daf",
   "metadata": {},
   "source": [
    "## TUC Letters (with Spacing)"
   ]
  },
  {
   "cell_type": "code",
   "execution_count": null,
   "id": "e3dd8bef-9a21-426d-8fd5-9cd57d150acc",
   "metadata": {
    "tags": []
   },
   "outputs": [],
   "source": [
    "key = random.PRNGKey(seed=42)"
   ]
  },
  {
   "cell_type": "code",
   "execution_count": null,
   "id": "33dd5891-f6c5-4502-ad29-39c3faa488f2",
   "metadata": {
    "tags": []
   },
   "outputs": [],
   "source": [
    "training_size = 10000\n",
    "validation_size = 10000\n",
    "test_size = 20000\n",
    "spacing = 40"
   ]
  },
  {
   "cell_type": "code",
   "execution_count": null,
   "id": "d3152388-d131-42d9-b34a-a5653b75aa83",
   "metadata": {
    "tags": []
   },
   "outputs": [],
   "source": [
    "BATCH_SIZE_TR = training_size\n",
    "BATCH_SIZE_VAL_TE = validation_size"
   ]
  },
  {
   "cell_type": "code",
   "execution_count": null,
   "id": "fd0edd5f-4f44-4d49-8b07-e5d4628b4277",
   "metadata": {
    "tags": []
   },
   "outputs": [],
   "source": [
    "train, val, test = DatasetGenerator.make_tuc_letters(\n",
    "    key, \n",
    "    training_size, \n",
    "    validation_size, \n",
    "    test_size, \n",
    "    dtype=PRECISION_PREFIX,\n",
    "    spacing=spacing\n",
    ")\n",
    "normal_sample = random.normal(random.fold_in(key, 42), shape=(validation_size, 2), dtype=PRECISION_PREFIX)"
   ]
  },
  {
   "cell_type": "code",
   "execution_count": null,
   "id": "4cc472e8-326a-471e-ae39-13ef14cddbc4",
   "metadata": {},
   "outputs": [],
   "source": [
    "DATASET_PREFIX = 'letters-spacing'"
   ]
  },
  {
   "cell_type": "code",
   "execution_count": null,
   "id": "6faec2bb-eaff-46d4-a985-371c6e005266",
   "metadata": {},
   "outputs": [],
   "source": [
    "TRAIN_GENERATOR = DatasetGenerator.make_tuc_letters_tr\n",
    "TRAIN_GEN_KWARGS = {'spacing': spacing}"
   ]
  },
  {
   "cell_type": "markdown",
   "id": "cd074d35-da62-47d8-9377-1aee8ad869c1",
   "metadata": {},
   "source": [
    "### 4 Blocks"
   ]
  },
  {
   "cell_type": "code",
   "execution_count": null,
   "id": "8d79c4c5-1450-4989-b81e-1c95112abd59",
   "metadata": {
    "tags": []
   },
   "outputs": [],
   "source": [
    "NPOT_PREFIX = '4Bl'"
   ]
  },
  {
   "cell_type": "code",
   "execution_count": null,
   "id": "186796b3-68b8-4605-916b-0067504dba32",
   "metadata": {
    "tags": []
   },
   "outputs": [],
   "source": [
    "key = random.PRNGKey(42)\n",
    "data_key, key = random.split(key, 2)"
   ]
  },
  {
   "cell_type": "code",
   "execution_count": null,
   "id": "b6c0c620-19cc-4c62-b2f7-379f31eccabd",
   "metadata": {
    "tags": []
   },
   "outputs": [],
   "source": [
    "EPOCHS = 20000\n",
    "MODEL = RealNVP.RealNVP(\n",
    "    NVP_net=RealNVP.NVP_l,\n",
    "    num_blocks=4,\n",
    "    key=key,\n",
    "    input_dim=2,\n",
    "    hidden_dim=32,\n",
    "    prior_type='gaussian',\n",
    "    prior_args=None,\n",
    "    use_dropout=False,\n",
    "    dropout_proba=None\n",
    ")\n",
    "LOSS_FUNC = jit(MODEL._loss_l2)\n",
    "VAL_LOSS_FUNC = jit(MODEL.metrics)\n",
    "LOSS_KWARGS = {'alpha': 1e-4}\n",
    "VAL_LOSS_KWARGS = {'normal_batch': normal_sample}"
   ]
  },
  {
   "cell_type": "code",
   "execution_count": null,
   "id": "5ddb87e4-4306-4a80-afa9-4f67b3f4b7a2",
   "metadata": {
    "tags": []
   },
   "outputs": [],
   "source": [
    "# Exponential decay of the learning rate.\n",
    "scheduler = optax.exponential_decay(\n",
    "    init_value=2e-2, \n",
    "    transition_steps=1000,\n",
    "    transition_begin=0,\n",
    "    decay_rate=0.6)\n",
    "\n",
    "gradient_transform = optax.chain(\n",
    "    optax.scale_by_adam(),              # Use the updates from adam.\n",
    "    optax.scale_by_schedule(scheduler), # Adapt LR\n",
    "    optax.scale(-1.0)                   # Scale updates by -1 since optax.apply_updates \n",
    "                                        # is additive and we want to descend on the loss.\n",
    ")"
   ]
  },
  {
   "cell_type": "code",
   "execution_count": null,
   "id": "54beb67b-2b75-488b-8ac1-ff3a0e32c877",
   "metadata": {
    "tags": []
   },
   "outputs": [],
   "source": [
    "params = MODEL.params\n",
    "opt_state = gradient_transform.init(params)"
   ]
  },
  {
   "cell_type": "code",
   "execution_count": null,
   "id": "f0423def-aeb8-4d95-8f1c-e6bd3124d02f",
   "metadata": {
    "tags": []
   },
   "outputs": [],
   "source": [
    "report_as_csv = True\n",
    "report_filename = '_'.join([MODEL_PREFIX, PRECISION_PREFIX, DATASET_PREFIX, NPOT_PREFIX]) + '.csv'"
   ]
  },
  {
   "cell_type": "code",
   "execution_count": null,
   "id": "5191e989-3a69-4c21-b28e-d197cea05cbc",
   "metadata": {
    "tags": []
   },
   "outputs": [],
   "source": [
    "ret = run(train, params, opt_state, data_key)\n",
    "(train_losses, val_losses, val_mmds, val_inv_errors, \n",
    " best_epoch_mmd, best_val_mmd, best_params_mmd, \n",
    " best_epoch_loss, best_val_loss, best_params_loss, params) = ret"
   ]
  },
  {
   "cell_type": "code",
   "execution_count": null,
   "id": "8742edf3-b30a-4dd1-8d5e-6a3c499972df",
   "metadata": {
    "tags": []
   },
   "outputs": [],
   "source": [
    "print(f'\\nBest Epoch MMD: {best_epoch_mmd} --- Val MMD: {best_val_mmd}')\n",
    "test_loss, test_inv_error, test_mmd = eval_val(test, best_params_mmd)\n",
    "print(f'Best Model MMD --- Test Loss: {test_loss}, Test Inv Error: {test_inv_error}, Test MMD: {test_mmd}')\n",
    "    \n",
    "print(f'\\nBest Epoch Loss: {best_epoch_loss} --- Val Loss: {best_val_loss}')\n",
    "test_loss, test_inv_error, test_mmd = eval_val(test, best_params_loss)\n",
    "print(f'Best Model Loss --- Test Loss: {test_loss}, Test Inv Error: {test_inv_error}, Test MMD: {test_mmd}')"
   ]
  },
  {
   "cell_type": "code",
   "execution_count": null,
   "id": "021fd25f-30b5-41a3-867b-875c2c0f3e07",
   "metadata": {
    "tags": []
   },
   "outputs": [],
   "source": [
    "fig, ax = plt.subplots(1, 2, figsize=(16,6))\n",
    "ax[0].semilogy(train_losses, label='train loss')\n",
    "ax[0].semilogy(val_losses, label='validation loss')\n",
    "ax[1].semilogy(train_losses[1000:], label='train loss')\n",
    "ax[1].semilogy(val_losses[1000:], label='validation loss')\n",
    "plt.legend()"
   ]
  },
  {
   "cell_type": "code",
   "execution_count": null,
   "id": "04f54b63-91a0-48ca-a7a8-d7bec0752584",
   "metadata": {},
   "outputs": [],
   "source": []
  },
  {
   "cell_type": "code",
   "execution_count": null,
   "id": "73c6dd5a-8f79-4184-a87f-87149a19ff9f",
   "metadata": {
    "tags": []
   },
   "outputs": [],
   "source": [
    "filestr = '_'.join([MODEL_PREFIX, PRECISION_PREFIX, DATASET_PREFIX, NPOT_PREFIX])\n",
    "checkpoints.save_checkpoint(\n",
    "    ckpt_dir=f'checkpoints/finalfinal/{filestr}_params',  \n",
    "    target=params,  \n",
    "    overwrite=True,   \n",
    "    step=20000\n",
    ")"
   ]
  },
  {
   "cell_type": "code",
   "execution_count": null,
   "id": "26b605ff-a255-45b0-a2cd-dea11fb58064",
   "metadata": {},
   "outputs": [],
   "source": [
    "checkpoints.save_checkpoint(\n",
    "    ckpt_dir=f'checkpoints/finalfinal/{filestr}_bestparams_loss',  \n",
    "    target=best_params_loss,  \n",
    "    overwrite=True,   \n",
    "    step=20000\n",
    ")"
   ]
  },
  {
   "cell_type": "code",
   "execution_count": null,
   "id": "65961b9b-a662-4d16-a9f8-e5716f6ced23",
   "metadata": {},
   "outputs": [],
   "source": [
    "checkpoints.save_checkpoint(\n",
    "    ckpt_dir=f'checkpoints/finalfinal/{filestr}_bestparams_mmd',  \n",
    "    target=best_params_mmd,  \n",
    "    overwrite=True,   \n",
    "    step=20000\n",
    ")"
   ]
  },
  {
   "cell_type": "code",
   "execution_count": null,
   "id": "992080d6-b4d1-4b92-8359-31418c2d6df4",
   "metadata": {},
   "outputs": [],
   "source": []
  },
  {
   "cell_type": "markdown",
   "id": "2817c1f8-127f-4ce2-ab63-bc061f35be79",
   "metadata": {},
   "source": [
    "### 8 Blocks"
   ]
  },
  {
   "cell_type": "code",
   "execution_count": null,
   "id": "89dc3ca0-20a5-4b65-ae0b-d4eb173c0bb1",
   "metadata": {
    "tags": []
   },
   "outputs": [],
   "source": [
    "NPOT_PREFIX = '8Bl'"
   ]
  },
  {
   "cell_type": "code",
   "execution_count": null,
   "id": "aaef6b3b-3ae6-49b8-8871-bed185bbcd04",
   "metadata": {
    "tags": []
   },
   "outputs": [],
   "source": [
    "key = random.PRNGKey(42)\n",
    "data_key, key = random.split(key, 2)"
   ]
  },
  {
   "cell_type": "code",
   "execution_count": null,
   "id": "d1747a04-c21a-418e-b55f-035e63036f32",
   "metadata": {
    "tags": []
   },
   "outputs": [],
   "source": [
    "EPOCHS = 20000\n",
    "MODEL = RealNVP.RealNVP(\n",
    "    NVP_net=RealNVP.NVP_l,\n",
    "    num_blocks=8,\n",
    "    key=key,\n",
    "    input_dim=2,\n",
    "    hidden_dim=32,\n",
    "    prior_type='gaussian',\n",
    "    prior_args=None,\n",
    "    use_dropout=False,\n",
    "    dropout_proba=None\n",
    ")\n",
    "LOSS_FUNC = jit(MODEL._loss_l2)\n",
    "VAL_LOSS_FUNC = jit(MODEL.metrics)\n",
    "LOSS_KWARGS = {'alpha': 1e-4}\n",
    "VAL_LOSS_KWARGS = {'normal_batch': normal_sample}"
   ]
  },
  {
   "cell_type": "code",
   "execution_count": null,
   "id": "78b71bd4-233e-411a-993f-415bee126a4a",
   "metadata": {
    "tags": []
   },
   "outputs": [],
   "source": [
    "# Exponential decay of the learning rate.\n",
    "scheduler = optax.exponential_decay(\n",
    "    init_value=2e-2, \n",
    "    transition_steps=1000,\n",
    "    transition_begin=0,\n",
    "    decay_rate=0.6)\n",
    "\n",
    "gradient_transform = optax.chain(\n",
    "    optax.scale_by_adam(),              # Use the updates from adam.\n",
    "    optax.scale_by_schedule(scheduler), # Adapt LR\n",
    "    optax.scale(-1.0)                   # Scale updates by -1 since optax.apply_updates \n",
    "                                        # is additive and we want to descend on the loss.\n",
    ")"
   ]
  },
  {
   "cell_type": "code",
   "execution_count": null,
   "id": "51f25914-edeb-4f59-b331-476096aed6bb",
   "metadata": {
    "tags": []
   },
   "outputs": [],
   "source": [
    "params = MODEL.params\n",
    "opt_state = gradient_transform.init(params)"
   ]
  },
  {
   "cell_type": "code",
   "execution_count": null,
   "id": "2a965995-2646-423b-ac96-6b27197402a6",
   "metadata": {
    "tags": []
   },
   "outputs": [],
   "source": [
    "report_as_csv = True\n",
    "report_filename = '_'.join([MODEL_PREFIX, PRECISION_PREFIX, DATASET_PREFIX, NPOT_PREFIX]) + '.csv'"
   ]
  },
  {
   "cell_type": "code",
   "execution_count": null,
   "id": "0604ed2a-1906-40a3-9b08-dc680eaa074d",
   "metadata": {
    "tags": []
   },
   "outputs": [],
   "source": [
    "ret = run(train, params, opt_state, data_key)\n",
    "(train_losses, val_losses, val_mmds, val_inv_errors, \n",
    " best_epoch_mmd, best_val_mmd, best_params_mmd, \n",
    " best_epoch_loss, best_val_loss, best_params_loss, params) = ret"
   ]
  },
  {
   "cell_type": "code",
   "execution_count": null,
   "id": "ada30e8a-ac9a-4fad-8642-043afde7e35d",
   "metadata": {
    "tags": []
   },
   "outputs": [],
   "source": [
    "print(f'\\nBest Epoch MMD: {best_epoch_mmd} --- Val MMD: {best_val_mmd}')\n",
    "test_loss, test_inv_error, test_mmd = eval_val(test, best_params_mmd)\n",
    "print(f'Best Model MMD --- Test Loss: {test_loss}, Test Inv Error: {test_inv_error}, Test MMD: {test_mmd}')\n",
    "    \n",
    "print(f'\\nBest Epoch Loss: {best_epoch_loss} --- Val Loss: {best_val_loss}')\n",
    "test_loss, test_inv_error, test_mmd = eval_val(test, best_params_loss)\n",
    "print(f'Best Model Loss --- Test Loss: {test_loss}, Test Inv Error: {test_inv_error}, Test MMD: {test_mmd}')"
   ]
  },
  {
   "cell_type": "code",
   "execution_count": null,
   "id": "f119209f-bc4f-4c57-a1be-209f9b4bbf14",
   "metadata": {
    "tags": []
   },
   "outputs": [],
   "source": [
    "fig, ax = plt.subplots(1, 2, figsize=(16,6))\n",
    "ax[0].semilogy(train_losses, label='train loss')\n",
    "ax[0].semilogy(val_losses, label='validation loss')\n",
    "ax[1].semilogy(train_losses[1000:], label='train loss')\n",
    "ax[1].semilogy(val_losses[1000:], label='validation loss')\n",
    "plt.legend()"
   ]
  },
  {
   "cell_type": "code",
   "execution_count": null,
   "id": "101d094a-a91d-422f-9305-7449513cea8c",
   "metadata": {},
   "outputs": [],
   "source": []
  },
  {
   "cell_type": "code",
   "execution_count": null,
   "id": "dd549ba6-70b8-433b-9fef-c57bd3729839",
   "metadata": {
    "tags": []
   },
   "outputs": [],
   "source": [
    "filestr = '_'.join([MODEL_PREFIX, PRECISION_PREFIX, DATASET_PREFIX, NPOT_PREFIX])\n",
    "checkpoints.save_checkpoint(\n",
    "    ckpt_dir=f'checkpoints/finalfinal/{filestr}_params',  \n",
    "    target=params,  \n",
    "    overwrite=True,   \n",
    "    step=20000\n",
    ")"
   ]
  },
  {
   "cell_type": "code",
   "execution_count": null,
   "id": "0c117aff-8831-4189-a064-4dbb077681fe",
   "metadata": {
    "tags": []
   },
   "outputs": [],
   "source": [
    "checkpoints.save_checkpoint(\n",
    "    ckpt_dir=f'checkpoints/finalfinal/{filestr}_bestparams_loss',  \n",
    "    target=best_params_loss,  \n",
    "    overwrite=True,   \n",
    "    step=20000\n",
    ")"
   ]
  },
  {
   "cell_type": "code",
   "execution_count": null,
   "id": "3f731df8-809d-427f-9a8e-4874b9f69a71",
   "metadata": {},
   "outputs": [],
   "source": [
    "checkpoints.save_checkpoint(\n",
    "    ckpt_dir=f'checkpoints/finalfinal/{filestr}_bestparams_mmd',  \n",
    "    target=best_params_mmd,  \n",
    "    overwrite=True,   \n",
    "    step=20000\n",
    ")"
   ]
  },
  {
   "cell_type": "code",
   "execution_count": null,
   "id": "f8413089-3e54-48d9-91ae-92cd83626864",
   "metadata": {},
   "outputs": [],
   "source": []
  },
  {
   "cell_type": "markdown",
   "id": "1bcbcd0a-e431-4811-aedd-d6c07c88071e",
   "metadata": {},
   "source": [
    "### 12 Blocks"
   ]
  },
  {
   "cell_type": "code",
   "execution_count": null,
   "id": "bc586136-6a57-4e3a-a0f3-374a5605b37e",
   "metadata": {
    "tags": []
   },
   "outputs": [],
   "source": [
    "NPOT_PREFIX = '12Bl'"
   ]
  },
  {
   "cell_type": "code",
   "execution_count": null,
   "id": "1ec969f7-6b3e-4474-886d-ca6809c22191",
   "metadata": {
    "tags": []
   },
   "outputs": [],
   "source": [
    "key = random.PRNGKey(42)\n",
    "data_key, key = random.split(key, 2)"
   ]
  },
  {
   "cell_type": "code",
   "execution_count": null,
   "id": "de4ab202-7770-4bcd-a205-d231df9c2e8c",
   "metadata": {
    "tags": []
   },
   "outputs": [],
   "source": [
    "EPOCHS = 20000\n",
    "MODEL = RealNVP.RealNVP(\n",
    "    NVP_net=RealNVP.NVP_l,\n",
    "    num_blocks=12,\n",
    "    key=key,\n",
    "    input_dim=2,\n",
    "    hidden_dim=32,\n",
    "    prior_type='gaussian',\n",
    "    prior_args=None,\n",
    "    use_dropout=False,\n",
    "    dropout_proba=None\n",
    ")\n",
    "LOSS_FUNC = jit(MODEL._loss_l2)\n",
    "VAL_LOSS_FUNC = jit(MODEL.metrics)\n",
    "LOSS_KWARGS = {'alpha': 1e-4}\n",
    "VAL_LOSS_KWARGS = {'normal_batch': normal_sample}"
   ]
  },
  {
   "cell_type": "code",
   "execution_count": null,
   "id": "05a5f6db-e02a-4ee3-bfc3-ac3d5e84b953",
   "metadata": {
    "tags": []
   },
   "outputs": [],
   "source": [
    "# Exponential decay of the learning rate.\n",
    "scheduler = optax.exponential_decay(\n",
    "    init_value=2e-2, \n",
    "    transition_steps=1000,\n",
    "    transition_begin=0,\n",
    "    decay_rate=0.6)\n",
    "\n",
    "gradient_transform = optax.chain(\n",
    "    optax.scale_by_adam(),              # Use the updates from adam.\n",
    "    optax.scale_by_schedule(scheduler), # Adapt LR\n",
    "    optax.scale(-1.0)                   # Scale updates by -1 since optax.apply_updates \n",
    "                                        # is additive and we want to descend on the loss.\n",
    ")"
   ]
  },
  {
   "cell_type": "code",
   "execution_count": null,
   "id": "dda4de4b-eafc-45ab-8032-09d316507688",
   "metadata": {
    "tags": []
   },
   "outputs": [],
   "source": [
    "params = MODEL.params\n",
    "opt_state = gradient_transform.init(params)"
   ]
  },
  {
   "cell_type": "code",
   "execution_count": null,
   "id": "f25e7e83-680d-4727-b919-6a3f82ad70a8",
   "metadata": {
    "tags": []
   },
   "outputs": [],
   "source": [
    "report_as_csv = True\n",
    "report_filename = '_'.join([MODEL_PREFIX, PRECISION_PREFIX, DATASET_PREFIX, NPOT_PREFIX]) + '.csv'"
   ]
  },
  {
   "cell_type": "code",
   "execution_count": null,
   "id": "d2d965e5-47fa-454e-bd83-531a83a7ac4e",
   "metadata": {
    "tags": []
   },
   "outputs": [],
   "source": [
    "ret = run(train, params, opt_state, data_key)\n",
    "(train_losses, val_losses, val_mmds, val_inv_errors, \n",
    " best_epoch_mmd, best_val_mmd, best_params_mmd, \n",
    " best_epoch_loss, best_val_loss, best_params_loss, params) = ret"
   ]
  },
  {
   "cell_type": "code",
   "execution_count": null,
   "id": "a9727177-9376-4570-aecb-5b75fed4ca9b",
   "metadata": {
    "tags": []
   },
   "outputs": [],
   "source": [
    "print(f'\\nBest Epoch MMD: {best_epoch_mmd} --- Val MMD: {best_val_mmd}')\n",
    "test_loss, test_inv_error, test_mmd = eval_val(test, best_params_mmd)\n",
    "print(f'Best Model MMD --- Test Loss: {test_loss}, Test Inv Error: {test_inv_error}, Test MMD: {test_mmd}')\n",
    "    \n",
    "print(f'\\nBest Epoch Loss: {best_epoch_loss} --- Val Loss: {best_val_loss}')\n",
    "test_loss, test_inv_error, test_mmd = eval_val(test, best_params_loss)\n",
    "print(f'Best Model Loss --- Test Loss: {test_loss}, Test Inv Error: {test_inv_error}, Test MMD: {test_mmd}')"
   ]
  },
  {
   "cell_type": "code",
   "execution_count": null,
   "id": "3b5ffa72-4f9f-4ece-9ce5-7d01a06f7614",
   "metadata": {
    "tags": []
   },
   "outputs": [],
   "source": [
    "fig, ax = plt.subplots(1, 2, figsize=(16,6))\n",
    "ax[0].semilogy(train_losses, label='train loss')\n",
    "ax[0].semilogy(val_losses, label='validation loss')\n",
    "ax[1].semilogy(train_losses[1000:], label='train loss')\n",
    "ax[1].semilogy(val_losses[1000:], label='validation loss')\n",
    "plt.legend()"
   ]
  },
  {
   "cell_type": "code",
   "execution_count": null,
   "id": "4b789f14-6562-4f36-8b1d-2ef0b9d8c495",
   "metadata": {},
   "outputs": [],
   "source": []
  },
  {
   "cell_type": "code",
   "execution_count": null,
   "id": "46c3b931-044e-4314-ab77-47927ef2765d",
   "metadata": {
    "tags": []
   },
   "outputs": [],
   "source": [
    "filestr = '_'.join([MODEL_PREFIX, PRECISION_PREFIX, DATASET_PREFIX, NPOT_PREFIX])\n",
    "checkpoints.save_checkpoint(\n",
    "    ckpt_dir=f'checkpoints/finalfinal/{filestr}_params',  \n",
    "    target=params,  \n",
    "    overwrite=True,   \n",
    "    step=20000\n",
    ")"
   ]
  },
  {
   "cell_type": "code",
   "execution_count": null,
   "id": "cfd97689-6022-46c8-a939-6c3f3bab95d5",
   "metadata": {
    "tags": []
   },
   "outputs": [],
   "source": [
    "checkpoints.save_checkpoint(\n",
    "    ckpt_dir=f'checkpoints/finalfinal/{filestr}_bestparams_loss',  \n",
    "    target=best_params_loss,  \n",
    "    overwrite=True,   \n",
    "    step=20000\n",
    ")"
   ]
  },
  {
   "cell_type": "code",
   "execution_count": null,
   "id": "3894ecb5-9a94-4149-aa71-de26e1409ebb",
   "metadata": {},
   "outputs": [],
   "source": [
    "checkpoints.save_checkpoint(\n",
    "    ckpt_dir=f'checkpoints/finalfinal/{filestr}_bestparams_mmd',  \n",
    "    target=best_params_mmd,  \n",
    "    overwrite=True,   \n",
    "    step=20000\n",
    ")"
   ]
  },
  {
   "cell_type": "code",
   "execution_count": null,
   "id": "22716d20-743a-417c-8ff4-0db1d48d1751",
   "metadata": {},
   "outputs": [],
   "source": []
  },
  {
   "cell_type": "markdown",
   "id": "979c6459-6c74-4d54-8c7a-57a4a9f61fe1",
   "metadata": {},
   "source": [
    "### 16 Blocks"
   ]
  },
  {
   "cell_type": "code",
   "execution_count": null,
   "id": "ad9ceddd-0d38-4018-8a36-e08e70b73420",
   "metadata": {
    "tags": []
   },
   "outputs": [],
   "source": [
    "NPOT_PREFIX = '16Bl'"
   ]
  },
  {
   "cell_type": "code",
   "execution_count": null,
   "id": "52125864-0765-482e-aca8-05201cd84745",
   "metadata": {
    "tags": []
   },
   "outputs": [],
   "source": [
    "key = random.PRNGKey(42)\n",
    "data_key, key = random.split(key, 2)"
   ]
  },
  {
   "cell_type": "code",
   "execution_count": null,
   "id": "7ac79090-7f7d-4075-9638-a310071079b3",
   "metadata": {
    "tags": []
   },
   "outputs": [],
   "source": [
    "EPOCHS = 20000\n",
    "MODEL = RealNVP.RealNVP(\n",
    "    NVP_net=RealNVP.NVP_l,\n",
    "    num_blocks=16,\n",
    "    key=key,\n",
    "    input_dim=2,\n",
    "    hidden_dim=32,\n",
    "    prior_type='gaussian',\n",
    "    prior_args=None,\n",
    "    use_dropout=False,\n",
    "    dropout_proba=None\n",
    ")\n",
    "LOSS_FUNC = jit(MODEL._loss_l2)\n",
    "VAL_LOSS_FUNC = jit(MODEL.metrics)\n",
    "LOSS_KWARGS = {'alpha': 1e-4}\n",
    "VAL_LOSS_KWARGS = {'normal_batch': normal_sample}"
   ]
  },
  {
   "cell_type": "code",
   "execution_count": null,
   "id": "e2965f6c-c1a4-4932-ba8e-ee52e6403d6a",
   "metadata": {
    "tags": []
   },
   "outputs": [],
   "source": [
    "# Exponential decay of the learning rate.\n",
    "scheduler = optax.exponential_decay(\n",
    "    init_value=2e-2, \n",
    "    transition_steps=1000,\n",
    "    transition_begin=0,\n",
    "    decay_rate=0.6)\n",
    "\n",
    "gradient_transform = optax.chain(\n",
    "    optax.scale_by_adam(),              # Use the updates from adam.\n",
    "    optax.scale_by_schedule(scheduler), # Adapt LR\n",
    "    optax.scale(-1.0)                   # Scale updates by -1 since optax.apply_updates \n",
    "                                        # is additive and we want to descend on the loss.\n",
    ")"
   ]
  },
  {
   "cell_type": "code",
   "execution_count": null,
   "id": "4e5ef2cd-b6c3-4e7d-a589-dc90985061a5",
   "metadata": {
    "tags": []
   },
   "outputs": [],
   "source": [
    "params = MODEL.params\n",
    "opt_state = gradient_transform.init(params)"
   ]
  },
  {
   "cell_type": "code",
   "execution_count": null,
   "id": "338a16fe-98da-4d7b-9d66-140ffe0bd03a",
   "metadata": {
    "tags": []
   },
   "outputs": [],
   "source": [
    "report_as_csv = True\n",
    "report_filename = '_'.join([MODEL_PREFIX, PRECISION_PREFIX, DATASET_PREFIX, NPOT_PREFIX]) + '.csv'"
   ]
  },
  {
   "cell_type": "code",
   "execution_count": null,
   "id": "96c735b3-d5e3-4ac8-8c30-b3c2ae3c1bfe",
   "metadata": {
    "tags": []
   },
   "outputs": [],
   "source": [
    "ret = run(train, params, opt_state, data_key)\n",
    "(train_losses, val_losses, val_mmds, val_inv_errors, \n",
    " best_epoch_mmd, best_val_mmd, best_params_mmd, \n",
    " best_epoch_loss, best_val_loss, best_params_loss, params) = ret"
   ]
  },
  {
   "cell_type": "code",
   "execution_count": null,
   "id": "9c485f5d-12db-4a83-8701-dc2de6d62c47",
   "metadata": {
    "tags": []
   },
   "outputs": [],
   "source": [
    "print(f'\\nBest Epoch MMD: {best_epoch_mmd} --- Val MMD: {best_val_mmd}')\n",
    "test_loss, test_inv_error, test_mmd = eval_val(test, best_params_mmd)\n",
    "print(f'Best Model MMD --- Test Loss: {test_loss}, Test Inv Error: {test_inv_error}, Test MMD: {test_mmd}')\n",
    "    \n",
    "print(f'\\nBest Epoch Loss: {best_epoch_loss} --- Val Loss: {best_val_loss}')\n",
    "test_loss, test_inv_error, test_mmd = eval_val(test, best_params_loss)\n",
    "print(f'Best Model Loss --- Test Loss: {test_loss}, Test Inv Error: {test_inv_error}, Test MMD: {test_mmd}')"
   ]
  },
  {
   "cell_type": "code",
   "execution_count": null,
   "id": "37d0ab31-0d03-4f81-8b8c-0a2962ad3bf1",
   "metadata": {
    "tags": []
   },
   "outputs": [],
   "source": [
    "fig, ax = plt.subplots(1, 2, figsize=(16,6))\n",
    "ax[0].semilogy(train_losses, label='train loss')\n",
    "ax[0].semilogy(val_losses, label='validation loss')\n",
    "ax[1].semilogy(train_losses[1000:], label='train loss')\n",
    "ax[1].semilogy(val_losses[1000:], label='validation loss')\n",
    "plt.legend()"
   ]
  },
  {
   "cell_type": "code",
   "execution_count": null,
   "id": "cd0e45f3-4cf3-461a-a018-12e3e98bb12d",
   "metadata": {},
   "outputs": [],
   "source": []
  },
  {
   "cell_type": "code",
   "execution_count": null,
   "id": "4d3138ca-a674-4c44-a69e-c565bcc75abd",
   "metadata": {
    "tags": []
   },
   "outputs": [],
   "source": [
    "filestr = '_'.join([MODEL_PREFIX, PRECISION_PREFIX, DATASET_PREFIX, NPOT_PREFIX])\n",
    "checkpoints.save_checkpoint(\n",
    "    ckpt_dir=f'checkpoints/finalfinal/{filestr}_params',  \n",
    "    target=params,  \n",
    "    overwrite=True,   \n",
    "    step=20000\n",
    ")"
   ]
  },
  {
   "cell_type": "code",
   "execution_count": null,
   "id": "60d4515e-ef5c-4dd5-8493-e11326b09eab",
   "metadata": {},
   "outputs": [],
   "source": [
    "checkpoints.save_checkpoint(\n",
    "    ckpt_dir=f'checkpoints/finalfinal/{filestr}_bestparams_loss',  \n",
    "    target=best_params_loss,  \n",
    "    overwrite=True,   \n",
    "    step=20000\n",
    ")"
   ]
  },
  {
   "cell_type": "code",
   "execution_count": null,
   "id": "02d74ef3-dfc9-46c3-8f9c-7e4dd246dda0",
   "metadata": {},
   "outputs": [],
   "source": [
    "checkpoints.save_checkpoint(\n",
    "    ckpt_dir=f'checkpoints/finalfinal/{filestr}_bestparams_mmd',  \n",
    "    target=best_params_mmd,  \n",
    "    overwrite=True,   \n",
    "    step=20000\n",
    ")"
   ]
  },
  {
   "cell_type": "code",
   "execution_count": null,
   "id": "44a49c2a-cbb4-4065-aff9-45250c6ca06c",
   "metadata": {},
   "outputs": [],
   "source": []
  },
  {
   "cell_type": "markdown",
   "id": "b14e1fb2-359f-402b-bc3e-2fc4daa4d6c4",
   "metadata": {},
   "source": [
    "### 24 Blocks"
   ]
  },
  {
   "cell_type": "code",
   "execution_count": null,
   "id": "561f4f79-98d8-4b21-b25a-5ca2e0593212",
   "metadata": {
    "tags": []
   },
   "outputs": [],
   "source": [
    "NPOT_PREFIX = '24Bl'"
   ]
  },
  {
   "cell_type": "code",
   "execution_count": null,
   "id": "3996f57f-7a4f-4916-920c-c33c7e45c049",
   "metadata": {
    "tags": []
   },
   "outputs": [],
   "source": [
    "key = random.PRNGKey(42)\n",
    "data_key, key = random.split(key, 2)"
   ]
  },
  {
   "cell_type": "code",
   "execution_count": null,
   "id": "ce5b0f98-98f7-4115-bd0c-0e11c72af3b3",
   "metadata": {
    "tags": []
   },
   "outputs": [],
   "source": [
    "EPOCHS = 20000\n",
    "MODEL = RealNVP.RealNVP(\n",
    "    NVP_net=RealNVP.NVP_l,\n",
    "    num_blocks=24,\n",
    "    key=key,\n",
    "    input_dim=2,\n",
    "    hidden_dim=32,\n",
    "    prior_type='gaussian',\n",
    "    prior_args=None,\n",
    "    use_dropout=False,\n",
    "    dropout_proba=None\n",
    ")\n",
    "LOSS_FUNC = jit(MODEL._loss_l2)\n",
    "VAL_LOSS_FUNC = jit(MODEL.metrics)\n",
    "LOSS_KWARGS = {'alpha': 1e-4}\n",
    "VAL_LOSS_KWARGS = {'normal_batch': normal_sample}"
   ]
  },
  {
   "cell_type": "code",
   "execution_count": null,
   "id": "7e926255-6ad6-42f7-ae05-c4af83b6473c",
   "metadata": {
    "tags": []
   },
   "outputs": [],
   "source": [
    "# Exponential decay of the learning rate.\n",
    "scheduler = optax.exponential_decay(\n",
    "    init_value=2e-2, \n",
    "    transition_steps=1000,\n",
    "    transition_begin=0,\n",
    "    decay_rate=0.6)\n",
    "\n",
    "gradient_transform = optax.chain(\n",
    "    optax.scale_by_adam(),              # Use the updates from adam.\n",
    "    optax.scale_by_schedule(scheduler), # Adapt LR\n",
    "    optax.scale(-1.0)                   # Scale updates by -1 since optax.apply_updates \n",
    "                                        # is additive and we want to descend on the loss.\n",
    ")"
   ]
  },
  {
   "cell_type": "code",
   "execution_count": null,
   "id": "b4640285-4f5f-4e14-9561-564763d55277",
   "metadata": {
    "tags": []
   },
   "outputs": [],
   "source": [
    "params = MODEL.params\n",
    "opt_state = gradient_transform.init(params)"
   ]
  },
  {
   "cell_type": "code",
   "execution_count": null,
   "id": "508a3bc7-48b4-486c-a5eb-abee97cf6b40",
   "metadata": {
    "tags": []
   },
   "outputs": [],
   "source": [
    "report_as_csv = True\n",
    "report_filename = '_'.join([MODEL_PREFIX, PRECISION_PREFIX, DATASET_PREFIX, NPOT_PREFIX]) + '.csv'"
   ]
  },
  {
   "cell_type": "code",
   "execution_count": null,
   "id": "a598b874-526d-4563-9209-cc2897304641",
   "metadata": {
    "tags": []
   },
   "outputs": [],
   "source": [
    "ret = run(train, params, opt_state, data_key)\n",
    "(train_losses, val_losses, val_mmds, val_inv_errors, \n",
    " best_epoch_mmd, best_val_mmd, best_params_mmd, \n",
    " best_epoch_loss, best_val_loss, best_params_loss, params) = ret"
   ]
  },
  {
   "cell_type": "code",
   "execution_count": null,
   "id": "6e40a62b-3a17-49ad-848d-4dd46a0e18b3",
   "metadata": {
    "tags": []
   },
   "outputs": [],
   "source": [
    "print(f'\\nBest Epoch MMD: {best_epoch_mmd} --- Val MMD: {best_val_mmd}')\n",
    "test_loss, test_inv_error, test_mmd = eval_val(test, best_params_mmd)\n",
    "print(f'Best Model MMD --- Test Loss: {test_loss}, Test Inv Error: {test_inv_error}, Test MMD: {test_mmd}')\n",
    "    \n",
    "print(f'\\nBest Epoch Loss: {best_epoch_loss} --- Val Loss: {best_val_loss}')\n",
    "test_loss, test_inv_error, test_mmd = eval_val(test, best_params_loss)\n",
    "print(f'Best Model Loss --- Test Loss: {test_loss}, Test Inv Error: {test_inv_error}, Test MMD: {test_mmd}')"
   ]
  },
  {
   "cell_type": "code",
   "execution_count": null,
   "id": "e749204a-612a-4541-8c06-a9ae36cef0b6",
   "metadata": {
    "tags": []
   },
   "outputs": [],
   "source": [
    "fig, ax = plt.subplots(1, 2, figsize=(16,6))\n",
    "ax[0].semilogy(train_losses, label='train loss')\n",
    "ax[0].semilogy(val_losses, label='validation loss')\n",
    "ax[1].semilogy(train_losses[1000:], label='train loss')\n",
    "ax[1].semilogy(val_losses[1000:], label='validation loss')\n",
    "plt.legend()"
   ]
  },
  {
   "cell_type": "code",
   "execution_count": null,
   "id": "1cd11e5b-1c6f-4fcb-95ed-64c1e22cfaf8",
   "metadata": {},
   "outputs": [],
   "source": []
  },
  {
   "cell_type": "code",
   "execution_count": null,
   "id": "3400ac8d-d88a-4bdd-9536-52e7fd7839e9",
   "metadata": {
    "tags": []
   },
   "outputs": [],
   "source": [
    "filestr = '_'.join([MODEL_PREFIX, PRECISION_PREFIX, DATASET_PREFIX, NPOT_PREFIX])\n",
    "checkpoints.save_checkpoint(\n",
    "    ckpt_dir=f'checkpoints/finalfinal/{filestr}_params',  \n",
    "    target=params,  \n",
    "    overwrite=True,   \n",
    "    step=20000\n",
    ")"
   ]
  },
  {
   "cell_type": "code",
   "execution_count": null,
   "id": "7c79b69f-8209-4698-892c-06e646fcc51e",
   "metadata": {
    "tags": []
   },
   "outputs": [],
   "source": [
    "checkpoints.save_checkpoint(\n",
    "    ckpt_dir=f'checkpoints/finalfinal/{filestr}_bestparams_loss',  \n",
    "    target=best_params_loss,  \n",
    "    overwrite=True,   \n",
    "    step=20000\n",
    ")"
   ]
  },
  {
   "cell_type": "code",
   "execution_count": null,
   "id": "7164edd1-2f84-4a07-9c14-87db7412d5d1",
   "metadata": {},
   "outputs": [],
   "source": [
    "checkpoints.save_checkpoint(\n",
    "    ckpt_dir=f'checkpoints/finalfinal/{filestr}_bestparams_mmd',  \n",
    "    target=best_params_mmd,  \n",
    "    overwrite=True,   \n",
    "    step=20000\n",
    ")"
   ]
  },
  {
   "cell_type": "code",
   "execution_count": null,
   "id": "8cb0eb38-e619-421e-a279-516279f57d9d",
   "metadata": {},
   "outputs": [],
   "source": []
  },
  {
   "cell_type": "markdown",
   "id": "572caa86-6d3c-4619-bffa-1fb0672ea565",
   "metadata": {},
   "source": [
    "### 32 Blocks"
   ]
  },
  {
   "cell_type": "code",
   "execution_count": null,
   "id": "b73bedbb-aef2-4487-be52-8b905d0a0b5d",
   "metadata": {
    "tags": []
   },
   "outputs": [],
   "source": [
    "NPOT_PREFIX = '32Bl'"
   ]
  },
  {
   "cell_type": "code",
   "execution_count": null,
   "id": "77799eb2-01f9-4efe-aac5-9823cf241421",
   "metadata": {
    "tags": []
   },
   "outputs": [],
   "source": [
    "key = random.PRNGKey(42)\n",
    "data_key, key = random.split(key, 2)"
   ]
  },
  {
   "cell_type": "code",
   "execution_count": null,
   "id": "c4a9a365-5643-42d8-833b-5754c49a1187",
   "metadata": {
    "tags": []
   },
   "outputs": [],
   "source": [
    "EPOCHS = 20000\n",
    "MODEL = RealNVP.RealNVP(\n",
    "    NVP_net=RealNVP.NVP_l,\n",
    "    num_blocks=32,\n",
    "    key=key,\n",
    "    input_dim=2,\n",
    "    hidden_dim=32,\n",
    "    prior_type='gaussian',\n",
    "    prior_args=None,\n",
    "    use_dropout=False,\n",
    "    dropout_proba=None\n",
    ")\n",
    "LOSS_FUNC = jit(MODEL._loss_l2)\n",
    "VAL_LOSS_FUNC = jit(MODEL.metrics)\n",
    "LOSS_KWARGS = {'alpha': 1e-4}\n",
    "VAL_LOSS_KWARGS = {'normal_batch': normal_sample}"
   ]
  },
  {
   "cell_type": "code",
   "execution_count": null,
   "id": "5f626664-1bff-4454-896d-97ced3ea8809",
   "metadata": {
    "tags": []
   },
   "outputs": [],
   "source": [
    "# Exponential decay of the learning rate.\n",
    "scheduler = optax.exponential_decay(\n",
    "    init_value=2e-2, \n",
    "    transition_steps=1000,\n",
    "    transition_begin=0,\n",
    "    decay_rate=0.6)\n",
    "\n",
    "gradient_transform = optax.chain(\n",
    "    optax.scale_by_adam(),              # Use the updates from adam.\n",
    "    optax.scale_by_schedule(scheduler), # Adapt LR\n",
    "    optax.scale(-1.0)                   # Scale updates by -1 since optax.apply_updates \n",
    "                                        # is additive and we want to descend on the loss.\n",
    ")"
   ]
  },
  {
   "cell_type": "code",
   "execution_count": null,
   "id": "ff3c8243-b99b-4af4-a589-f77737c3977a",
   "metadata": {
    "tags": []
   },
   "outputs": [],
   "source": [
    "params = MODEL.params\n",
    "opt_state = gradient_transform.init(params)"
   ]
  },
  {
   "cell_type": "code",
   "execution_count": null,
   "id": "52cd4d6e-513f-4fd6-b416-366a3b3cd352",
   "metadata": {
    "tags": []
   },
   "outputs": [],
   "source": [
    "report_as_csv = True\n",
    "report_filename = '_'.join([MODEL_PREFIX, PRECISION_PREFIX, DATASET_PREFIX, NPOT_PREFIX]) + '.csv'"
   ]
  },
  {
   "cell_type": "code",
   "execution_count": null,
   "id": "c4bfaf72-e3c9-4bab-9be2-0cd41e25feb8",
   "metadata": {
    "tags": []
   },
   "outputs": [],
   "source": [
    "ret = run(train, params, opt_state, data_key)\n",
    "(train_losses, val_losses, val_mmds, val_inv_errors, \n",
    " best_epoch_mmd, best_val_mmd, best_params_mmd, \n",
    " best_epoch_loss, best_val_loss, best_params_loss, params) = ret"
   ]
  },
  {
   "cell_type": "code",
   "execution_count": null,
   "id": "13804ab0-d684-4e55-8698-67b64a1782c3",
   "metadata": {
    "tags": []
   },
   "outputs": [],
   "source": [
    "print(f'\\nBest Epoch MMD: {best_epoch_mmd} --- Val MMD: {best_val_mmd}')\n",
    "test_loss, test_inv_error, test_mmd = eval_val(test, best_params_mmd)\n",
    "print(f'Best Model MMD --- Test Loss: {test_loss}, Test Inv Error: {test_inv_error}, Test MMD: {test_mmd}')\n",
    "    \n",
    "print(f'\\nBest Epoch Loss: {best_epoch_loss} --- Val Loss: {best_val_loss}')\n",
    "test_loss, test_inv_error, test_mmd = eval_val(test, best_params_loss)\n",
    "print(f'Best Model Loss --- Test Loss: {test_loss}, Test Inv Error: {test_inv_error}, Test MMD: {test_mmd}')"
   ]
  },
  {
   "cell_type": "code",
   "execution_count": null,
   "id": "6afa2833-bf20-4a58-afd0-4c938626ab4a",
   "metadata": {
    "tags": []
   },
   "outputs": [],
   "source": [
    "fig, ax = plt.subplots(1, 2, figsize=(16,6))\n",
    "ax[0].semilogy(train_losses, label='train loss')\n",
    "ax[0].semilogy(val_losses, label='validation loss')\n",
    "ax[1].semilogy(train_losses[1000:], label='train loss')\n",
    "ax[1].semilogy(val_losses[1000:], label='validation loss')\n",
    "plt.legend()"
   ]
  },
  {
   "cell_type": "code",
   "execution_count": null,
   "id": "05ff4997-e20e-4d5c-b8de-80a77eeba673",
   "metadata": {},
   "outputs": [],
   "source": []
  },
  {
   "cell_type": "code",
   "execution_count": null,
   "id": "f025f76f-de25-4ca6-9433-63600ad18779",
   "metadata": {
    "tags": []
   },
   "outputs": [],
   "source": [
    "filestr = '_'.join([MODEL_PREFIX, PRECISION_PREFIX, DATASET_PREFIX, NPOT_PREFIX])\n",
    "checkpoints.save_checkpoint(\n",
    "    ckpt_dir=f'checkpoints/finalfinal/{filestr}_params',  \n",
    "    target=params,  \n",
    "    overwrite=True,   \n",
    "    step=20000\n",
    ")"
   ]
  },
  {
   "cell_type": "code",
   "execution_count": null,
   "id": "8ac3f3ea-bec4-4c06-b7c8-f63cd4bb95cc",
   "metadata": {
    "tags": []
   },
   "outputs": [],
   "source": [
    "checkpoints.save_checkpoint(\n",
    "    ckpt_dir=f'checkpoints/finalfinal/{filestr}_bestparams_loss',  \n",
    "    target=best_params_loss,  \n",
    "    overwrite=True,   \n",
    "    step=20000\n",
    ")"
   ]
  },
  {
   "cell_type": "code",
   "execution_count": null,
   "id": "f45cc43a-3182-476e-aecb-205cdcbd8474",
   "metadata": {},
   "outputs": [],
   "source": [
    "checkpoints.save_checkpoint(\n",
    "    ckpt_dir=f'checkpoints/finalfinal/{filestr}_bestparams_mmd',  \n",
    "    target=best_params_mmd,  \n",
    "    overwrite=True,   \n",
    "    step=20000\n",
    ")"
   ]
  },
  {
   "cell_type": "markdown",
   "id": "62906f12-3c41-4b5f-9cd6-92bf45a0bf7f",
   "metadata": {},
   "source": [
    "## Checkerboard"
   ]
  },
  {
   "cell_type": "code",
   "execution_count": null,
   "id": "e6ab633c-eb54-43c1-85f8-7c2f8537f9d4",
   "metadata": {
    "tags": []
   },
   "outputs": [],
   "source": [
    "key = random.PRNGKey(seed=42)"
   ]
  },
  {
   "cell_type": "code",
   "execution_count": null,
   "id": "cdbace41-c3e7-4121-8829-0c74078b7372",
   "metadata": {
    "tags": []
   },
   "outputs": [],
   "source": [
    "training_size = 10000\n",
    "validation_size = 10000\n",
    "test_size = 20000"
   ]
  },
  {
   "cell_type": "code",
   "execution_count": null,
   "id": "5ecfb3c1-577b-4f0d-99ca-57d8184ca3e2",
   "metadata": {
    "tags": []
   },
   "outputs": [],
   "source": [
    "BATCH_SIZE_TR = training_size\n",
    "BATCH_SIZE_VAL_TE = validation_size"
   ]
  },
  {
   "cell_type": "code",
   "execution_count": null,
   "id": "588e3ceb-f167-4b1b-855a-7a65c754478b",
   "metadata": {
    "tags": []
   },
   "outputs": [],
   "source": [
    "train, val, test = DatasetGenerator.make_checkerboard(\n",
    "    key, \n",
    "    training_size, \n",
    "    validation_size, \n",
    "    test_size, \n",
    "    dtype=PRECISION_PREFIX,\n",
    ")\n",
    "normal_sample = random.normal(random.fold_in(key, 42), shape=(validation_size, 2), dtype=PRECISION_PREFIX)"
   ]
  },
  {
   "cell_type": "code",
   "execution_count": null,
   "id": "97fc3cf5-5225-46fe-9342-791b7aa9b903",
   "metadata": {},
   "outputs": [],
   "source": [
    "DATASET_PREFIX = 'checkerboards'"
   ]
  },
  {
   "cell_type": "code",
   "execution_count": null,
   "id": "1d63df4d-4539-4b39-817e-2554718f2de6",
   "metadata": {},
   "outputs": [],
   "source": [
    "TRAIN_GENERATOR = DatasetGenerator.make_checkerboard_tr\n",
    "TRAIN_GEN_KWARGS = {}"
   ]
  },
  {
   "cell_type": "markdown",
   "id": "11162909-c7e8-4099-9421-270f0d33de9e",
   "metadata": {},
   "source": [
    "### 4 Blocks"
   ]
  },
  {
   "cell_type": "code",
   "execution_count": null,
   "id": "e5013113-b6b9-4dc5-8bc3-010a41d2e8d6",
   "metadata": {
    "tags": []
   },
   "outputs": [],
   "source": [
    "NPOT_PREFIX = '4Bl'"
   ]
  },
  {
   "cell_type": "code",
   "execution_count": null,
   "id": "afd77862-9f96-439e-8123-e2730a67eda4",
   "metadata": {
    "tags": []
   },
   "outputs": [],
   "source": [
    "key = random.PRNGKey(42)\n",
    "data_key, key = random.split(key, 2)"
   ]
  },
  {
   "cell_type": "code",
   "execution_count": null,
   "id": "c706fdc1-d585-4ee9-90db-937af09f87d9",
   "metadata": {
    "tags": []
   },
   "outputs": [],
   "source": [
    "EPOCHS = 20000\n",
    "MODEL = RealNVP.RealNVP(\n",
    "    NVP_net=RealNVP.NVP_l,\n",
    "    num_blocks=4,\n",
    "    key=key,\n",
    "    input_dim=2,\n",
    "    hidden_dim=32,\n",
    "    prior_type='gaussian',\n",
    "    prior_args=None,\n",
    "    use_dropout=False,\n",
    "    dropout_proba=None\n",
    ")\n",
    "LOSS_FUNC = jit(MODEL._loss_l2)\n",
    "VAL_LOSS_FUNC = jit(MODEL.metrics)\n",
    "LOSS_KWARGS = {'alpha': 1e-4}\n",
    "VAL_LOSS_KWARGS = {'normal_batch': normal_sample}"
   ]
  },
  {
   "cell_type": "code",
   "execution_count": null,
   "id": "55afb93c-b519-4429-8756-51e5a53741a4",
   "metadata": {
    "tags": []
   },
   "outputs": [],
   "source": [
    "# Exponential decay of the learning rate.\n",
    "scheduler = optax.exponential_decay(\n",
    "    init_value=2e-2, \n",
    "    transition_steps=1000,\n",
    "    transition_begin=0,\n",
    "    decay_rate=0.6)\n",
    "\n",
    "gradient_transform = optax.chain(\n",
    "    optax.scale_by_adam(),              # Use the updates from adam.\n",
    "    optax.scale_by_schedule(scheduler), # Adapt LR\n",
    "    optax.scale(-1.0)                   # Scale updates by -1 since optax.apply_updates \n",
    "                                        # is additive and we want to descend on the loss.\n",
    ")"
   ]
  },
  {
   "cell_type": "code",
   "execution_count": null,
   "id": "6bb5efbb-5d41-47d4-ad94-b44d47c6748e",
   "metadata": {
    "tags": []
   },
   "outputs": [],
   "source": [
    "params = MODEL.params\n",
    "opt_state = gradient_transform.init(params)"
   ]
  },
  {
   "cell_type": "code",
   "execution_count": null,
   "id": "cc523fea-5607-4c60-8ad2-b76bd8dccbdc",
   "metadata": {
    "tags": []
   },
   "outputs": [],
   "source": [
    "report_as_csv = True\n",
    "report_filename = '_'.join([MODEL_PREFIX, PRECISION_PREFIX, DATASET_PREFIX, NPOT_PREFIX]) + '.csv'"
   ]
  },
  {
   "cell_type": "code",
   "execution_count": null,
   "id": "2fc13d7e-a5c6-4825-98c8-5a508069a5a5",
   "metadata": {
    "tags": []
   },
   "outputs": [],
   "source": [
    "ret = run(train, params, opt_state, data_key)\n",
    "(train_losses, val_losses, val_mmds, val_inv_errors, \n",
    " best_epoch_mmd, best_val_mmd, best_params_mmd, \n",
    " best_epoch_loss, best_val_loss, best_params_loss, params) = ret"
   ]
  },
  {
   "cell_type": "code",
   "execution_count": null,
   "id": "496100c3-8f9b-43e0-ab5a-75f4b94c10db",
   "metadata": {
    "tags": []
   },
   "outputs": [],
   "source": [
    "print(f'\\nBest Epoch MMD: {best_epoch_mmd} --- Val MMD: {best_val_mmd}')\n",
    "test_loss, test_inv_error, test_mmd = eval_val(test, best_params_mmd)\n",
    "print(f'Best Model MMD --- Test Loss: {test_loss}, Test Inv Error: {test_inv_error}, Test MMD: {test_mmd}')\n",
    "    \n",
    "print(f'\\nBest Epoch Loss: {best_epoch_loss} --- Val Loss: {best_val_loss}')\n",
    "test_loss, test_inv_error, test_mmd = eval_val(test, best_params_loss)\n",
    "print(f'Best Model Loss --- Test Loss: {test_loss}, Test Inv Error: {test_inv_error}, Test MMD: {test_mmd}')"
   ]
  },
  {
   "cell_type": "code",
   "execution_count": null,
   "id": "3a1b3d29-29b0-46fb-a318-a5e8cd3ddd78",
   "metadata": {
    "tags": []
   },
   "outputs": [],
   "source": [
    "fig, ax = plt.subplots(1, 2, figsize=(16,6))\n",
    "ax[0].semilogy(train_losses, label='train loss')\n",
    "ax[0].semilogy(val_losses, label='validation loss')\n",
    "ax[1].semilogy(train_losses[1000:], label='train loss')\n",
    "ax[1].semilogy(val_losses[1000:], label='validation loss')\n",
    "plt.legend()"
   ]
  },
  {
   "cell_type": "code",
   "execution_count": null,
   "id": "df46a895-333c-413b-8a7c-15e917bf4112",
   "metadata": {},
   "outputs": [],
   "source": []
  },
  {
   "cell_type": "code",
   "execution_count": null,
   "id": "5b706c0a-956c-40e7-828f-b7961e19f687",
   "metadata": {
    "tags": []
   },
   "outputs": [],
   "source": [
    "filestr = '_'.join([MODEL_PREFIX, PRECISION_PREFIX, DATASET_PREFIX, NPOT_PREFIX])\n",
    "checkpoints.save_checkpoint(\n",
    "    ckpt_dir=f'checkpoints/finalfinal/{filestr}_params',  \n",
    "    target=params,  \n",
    "    overwrite=True,   \n",
    "    step=20000\n",
    ")"
   ]
  },
  {
   "cell_type": "code",
   "execution_count": null,
   "id": "cd27f680-05b1-45e0-a4f0-114f1c029fcb",
   "metadata": {},
   "outputs": [],
   "source": [
    "checkpoints.save_checkpoint(\n",
    "    ckpt_dir=f'checkpoints/finalfinal/{filestr}_bestparams_loss',  \n",
    "    target=best_params_loss,  \n",
    "    overwrite=True,   \n",
    "    step=20000\n",
    ")"
   ]
  },
  {
   "cell_type": "code",
   "execution_count": null,
   "id": "6d1733fc-c27e-4c7c-b356-31131dd82a58",
   "metadata": {},
   "outputs": [],
   "source": [
    "checkpoints.save_checkpoint(\n",
    "    ckpt_dir=f'checkpoints/finalfinal/{filestr}_bestparams_mmd',  \n",
    "    target=best_params_mmd,  \n",
    "    overwrite=True,   \n",
    "    step=20000\n",
    ")"
   ]
  },
  {
   "cell_type": "code",
   "execution_count": null,
   "id": "3efe3e0e-fcb9-4f71-8846-160dffe0a388",
   "metadata": {},
   "outputs": [],
   "source": []
  },
  {
   "cell_type": "markdown",
   "id": "8d49c000-aec2-4a26-8bd3-b6d3439e2254",
   "metadata": {},
   "source": [
    "### 8 Blocks"
   ]
  },
  {
   "cell_type": "code",
   "execution_count": null,
   "id": "3fa6b347-857f-48b1-82ef-b558a2ae328d",
   "metadata": {
    "tags": []
   },
   "outputs": [],
   "source": [
    "NPOT_PREFIX = '8Bl'"
   ]
  },
  {
   "cell_type": "code",
   "execution_count": null,
   "id": "382f35e9-dbde-4a4f-85c0-22e7ae0b5b18",
   "metadata": {
    "tags": []
   },
   "outputs": [],
   "source": [
    "key = random.PRNGKey(42)\n",
    "data_key, key = random.split(key, 2)"
   ]
  },
  {
   "cell_type": "code",
   "execution_count": null,
   "id": "e2284e81-35f6-4fe6-af7a-2bcfddd5a2e5",
   "metadata": {
    "tags": []
   },
   "outputs": [],
   "source": [
    "EPOCHS = 20000\n",
    "MODEL = RealNVP.RealNVP(\n",
    "    NVP_net=RealNVP.NVP_l,\n",
    "    num_blocks=8,\n",
    "    key=key,\n",
    "    input_dim=2,\n",
    "    hidden_dim=32,\n",
    "    prior_type='gaussian',\n",
    "    prior_args=None,\n",
    "    use_dropout=False,\n",
    "    dropout_proba=None\n",
    ")\n",
    "LOSS_FUNC = jit(MODEL._loss_l2)\n",
    "VAL_LOSS_FUNC = jit(MODEL.metrics)\n",
    "LOSS_KWARGS = {'alpha': 1e-4}\n",
    "VAL_LOSS_KWARGS = {'normal_batch': normal_sample}"
   ]
  },
  {
   "cell_type": "code",
   "execution_count": null,
   "id": "759c73be-1553-46f3-91f0-bdb24ba335ff",
   "metadata": {
    "tags": []
   },
   "outputs": [],
   "source": [
    "# Exponential decay of the learning rate.\n",
    "scheduler = optax.exponential_decay(\n",
    "    init_value=2e-2, \n",
    "    transition_steps=1000,\n",
    "    transition_begin=0,\n",
    "    decay_rate=0.6)\n",
    "\n",
    "gradient_transform = optax.chain(\n",
    "    optax.scale_by_adam(),              # Use the updates from adam.\n",
    "    optax.scale_by_schedule(scheduler), # Adapt LR\n",
    "    optax.scale(-1.0)                   # Scale updates by -1 since optax.apply_updates \n",
    "                                        # is additive and we want to descend on the loss.\n",
    ")"
   ]
  },
  {
   "cell_type": "code",
   "execution_count": null,
   "id": "65c99fd2-eb57-4785-b346-b8677e6dfc82",
   "metadata": {
    "tags": []
   },
   "outputs": [],
   "source": [
    "params = MODEL.params\n",
    "opt_state = gradient_transform.init(params)"
   ]
  },
  {
   "cell_type": "code",
   "execution_count": null,
   "id": "10dd75cf-f143-484b-8c94-56770c402c87",
   "metadata": {
    "tags": []
   },
   "outputs": [],
   "source": [
    "report_as_csv = True\n",
    "report_filename = '_'.join([MODEL_PREFIX, PRECISION_PREFIX, DATASET_PREFIX, NPOT_PREFIX]) + '.csv'"
   ]
  },
  {
   "cell_type": "code",
   "execution_count": null,
   "id": "30dcaeb5-b739-40c2-9d24-e80c3f49dc82",
   "metadata": {
    "tags": []
   },
   "outputs": [],
   "source": [
    "ret = run(train, params, opt_state, data_key)\n",
    "(train_losses, val_losses, val_mmds, val_inv_errors, \n",
    " best_epoch_mmd, best_val_mmd, best_params_mmd, \n",
    " best_epoch_loss, best_val_loss, best_params_loss, params) = ret"
   ]
  },
  {
   "cell_type": "code",
   "execution_count": null,
   "id": "6c09b8c4-7865-4fdd-a464-527eff923a4d",
   "metadata": {
    "tags": []
   },
   "outputs": [],
   "source": [
    "print(f'\\nBest Epoch MMD: {best_epoch_mmd} --- Val MMD: {best_val_mmd}')\n",
    "test_loss, test_inv_error, test_mmd = eval_val(test, best_params_mmd)\n",
    "print(f'Best Model MMD --- Test Loss: {test_loss}, Test Inv Error: {test_inv_error}, Test MMD: {test_mmd}')\n",
    "    \n",
    "print(f'\\nBest Epoch Loss: {best_epoch_loss} --- Val Loss: {best_val_loss}')\n",
    "test_loss, test_inv_error, test_mmd = eval_val(test, best_params_loss)\n",
    "print(f'Best Model Loss --- Test Loss: {test_loss}, Test Inv Error: {test_inv_error}, Test MMD: {test_mmd}')"
   ]
  },
  {
   "cell_type": "code",
   "execution_count": null,
   "id": "e0c70b58-9341-493a-acf3-8062c8106562",
   "metadata": {
    "tags": []
   },
   "outputs": [],
   "source": [
    "fig, ax = plt.subplots(1, 2, figsize=(16,6))\n",
    "ax[0].semilogy(train_losses, label='train loss')\n",
    "ax[0].semilogy(val_losses, label='validation loss')\n",
    "ax[1].semilogy(train_losses[1000:], label='train loss')\n",
    "ax[1].semilogy(val_losses[1000:], label='validation loss')\n",
    "plt.legend()"
   ]
  },
  {
   "cell_type": "code",
   "execution_count": null,
   "id": "104f5077-5585-4df8-9f18-4dcbb360c85b",
   "metadata": {},
   "outputs": [],
   "source": []
  },
  {
   "cell_type": "code",
   "execution_count": null,
   "id": "74878510-7d42-4c1c-9aa4-e7a989d502c6",
   "metadata": {
    "tags": []
   },
   "outputs": [],
   "source": [
    "filestr = '_'.join([MODEL_PREFIX, PRECISION_PREFIX, DATASET_PREFIX, NPOT_PREFIX])\n",
    "checkpoints.save_checkpoint(\n",
    "    ckpt_dir=f'checkpoints/finalfinal/{filestr}_params',  \n",
    "    target=params,  \n",
    "    overwrite=True,   \n",
    "    step=20000\n",
    ")"
   ]
  },
  {
   "cell_type": "code",
   "execution_count": null,
   "id": "d342ec75-9d89-4a77-a2b1-41e8901b2353",
   "metadata": {
    "tags": []
   },
   "outputs": [],
   "source": [
    "checkpoints.save_checkpoint(\n",
    "    ckpt_dir=f'checkpoints/finalfinal/{filestr}_bestparams_loss',  \n",
    "    target=best_params_loss,  \n",
    "    overwrite=True,   \n",
    "    step=20000\n",
    ")"
   ]
  },
  {
   "cell_type": "code",
   "execution_count": null,
   "id": "cc81d662-9bdf-4f5e-aace-6a7956998e39",
   "metadata": {},
   "outputs": [],
   "source": [
    "checkpoints.save_checkpoint(\n",
    "    ckpt_dir=f'checkpoints/finalfinal/{filestr}_bestparams_mmd',  \n",
    "    target=best_params_mmd,  \n",
    "    overwrite=True,   \n",
    "    step=20000\n",
    ")"
   ]
  },
  {
   "cell_type": "code",
   "execution_count": null,
   "id": "c4298815-f36d-4c84-b48c-798446c01ba9",
   "metadata": {},
   "outputs": [],
   "source": []
  },
  {
   "cell_type": "markdown",
   "id": "705cb662-0b5a-4d21-bd7c-eab336efcfe4",
   "metadata": {},
   "source": [
    "### 12 Blocks"
   ]
  },
  {
   "cell_type": "code",
   "execution_count": null,
   "id": "638e15c5-f1f8-4008-9a2e-6ce9f3c43ac9",
   "metadata": {
    "tags": []
   },
   "outputs": [],
   "source": [
    "NPOT_PREFIX = '12Bl'"
   ]
  },
  {
   "cell_type": "code",
   "execution_count": null,
   "id": "720031d3-9a44-4d29-9fe9-b96f25d7b4b0",
   "metadata": {
    "tags": []
   },
   "outputs": [],
   "source": [
    "key = random.PRNGKey(42)\n",
    "data_key, key = random.split(key, 2)"
   ]
  },
  {
   "cell_type": "code",
   "execution_count": null,
   "id": "b0521ec0-20e8-4ee9-8452-472fd06f0ef9",
   "metadata": {
    "tags": []
   },
   "outputs": [],
   "source": [
    "EPOCHS = 20000\n",
    "MODEL = RealNVP.RealNVP(\n",
    "    NVP_net=RealNVP.NVP_l,\n",
    "    num_blocks=12,\n",
    "    key=key,\n",
    "    input_dim=2,\n",
    "    hidden_dim=32,\n",
    "    prior_type='gaussian',\n",
    "    prior_args=None,\n",
    "    use_dropout=False,\n",
    "    dropout_proba=None\n",
    ")\n",
    "LOSS_FUNC = jit(MODEL._loss_l2)\n",
    "VAL_LOSS_FUNC = jit(MODEL.metrics)\n",
    "LOSS_KWARGS = {'alpha': 1e-4}\n",
    "VAL_LOSS_KWARGS = {'normal_batch': normal_sample}"
   ]
  },
  {
   "cell_type": "code",
   "execution_count": null,
   "id": "a213d086-74a4-4cc8-86fd-75f569acfc64",
   "metadata": {
    "tags": []
   },
   "outputs": [],
   "source": [
    "# Exponential decay of the learning rate.\n",
    "scheduler = optax.exponential_decay(\n",
    "    init_value=2e-2, \n",
    "    transition_steps=1000,\n",
    "    transition_begin=0,\n",
    "    decay_rate=0.6)\n",
    "\n",
    "gradient_transform = optax.chain(\n",
    "    optax.scale_by_adam(),              # Use the updates from adam.\n",
    "    optax.scale_by_schedule(scheduler), # Adapt LR\n",
    "    optax.scale(-1.0)                   # Scale updates by -1 since optax.apply_updates \n",
    "                                        # is additive and we want to descend on the loss.\n",
    ")"
   ]
  },
  {
   "cell_type": "code",
   "execution_count": null,
   "id": "b4a7b920-bd9d-4777-870e-d373f87ce8a0",
   "metadata": {
    "tags": []
   },
   "outputs": [],
   "source": [
    "params = MODEL.params\n",
    "opt_state = gradient_transform.init(params)"
   ]
  },
  {
   "cell_type": "code",
   "execution_count": null,
   "id": "b0a2c358-268e-4244-89a3-70a0a6e69fde",
   "metadata": {
    "tags": []
   },
   "outputs": [],
   "source": [
    "report_as_csv = True\n",
    "report_filename = '_'.join([MODEL_PREFIX, PRECISION_PREFIX, DATASET_PREFIX, NPOT_PREFIX]) + '.csv'"
   ]
  },
  {
   "cell_type": "code",
   "execution_count": null,
   "id": "0a8c7331-fede-41c1-b960-84dc98804c25",
   "metadata": {
    "tags": []
   },
   "outputs": [],
   "source": [
    "ret = run(train, params, opt_state, data_key)\n",
    "(train_losses, val_losses, val_mmds, val_inv_errors, \n",
    " best_epoch_mmd, best_val_mmd, best_params_mmd, \n",
    " best_epoch_loss, best_val_loss, best_params_loss, params) = ret"
   ]
  },
  {
   "cell_type": "code",
   "execution_count": null,
   "id": "233ac02c-ccd4-43b5-b646-894bdde130a8",
   "metadata": {
    "tags": []
   },
   "outputs": [],
   "source": [
    "print(f'\\nBest Epoch MMD: {best_epoch_mmd} --- Val MMD: {best_val_mmd}')\n",
    "test_loss, test_inv_error, test_mmd = eval_val(test, best_params_mmd)\n",
    "print(f'Best Model MMD --- Test Loss: {test_loss}, Test Inv Error: {test_inv_error}, Test MMD: {test_mmd}')\n",
    "    \n",
    "print(f'\\nBest Epoch Loss: {best_epoch_loss} --- Val Loss: {best_val_loss}')\n",
    "test_loss, test_inv_error, test_mmd = eval_val(test, best_params_loss)\n",
    "print(f'Best Model Loss --- Test Loss: {test_loss}, Test Inv Error: {test_inv_error}, Test MMD: {test_mmd}')"
   ]
  },
  {
   "cell_type": "code",
   "execution_count": null,
   "id": "01dd1f88-94f2-44fe-9cde-0ba41699fc48",
   "metadata": {
    "tags": []
   },
   "outputs": [],
   "source": [
    "fig, ax = plt.subplots(1, 2, figsize=(16,6))\n",
    "ax[0].semilogy(train_losses, label='train loss')\n",
    "ax[0].semilogy(val_losses, label='validation loss')\n",
    "ax[1].semilogy(train_losses[1000:], label='train loss')\n",
    "ax[1].semilogy(val_losses[1000:], label='validation loss')\n",
    "plt.legend()"
   ]
  },
  {
   "cell_type": "code",
   "execution_count": null,
   "id": "2cf18598-0ac3-4d85-a373-688d7c5e2e72",
   "metadata": {},
   "outputs": [],
   "source": []
  },
  {
   "cell_type": "code",
   "execution_count": null,
   "id": "770b974b-6876-464d-ba4f-89c2a67a6d8f",
   "metadata": {
    "tags": []
   },
   "outputs": [],
   "source": [
    "filestr = '_'.join([MODEL_PREFIX, PRECISION_PREFIX, DATASET_PREFIX, NPOT_PREFIX])\n",
    "checkpoints.save_checkpoint(\n",
    "    ckpt_dir=f'checkpoints/finalfinal/{filestr}_params',  \n",
    "    target=params,  \n",
    "    overwrite=True,   \n",
    "    step=20000\n",
    ")"
   ]
  },
  {
   "cell_type": "code",
   "execution_count": null,
   "id": "8e568d24-aea5-4f24-9787-e2e40876209d",
   "metadata": {
    "tags": []
   },
   "outputs": [],
   "source": [
    "checkpoints.save_checkpoint(\n",
    "    ckpt_dir=f'checkpoints/finalfinal/{filestr}_bestparams_loss',  \n",
    "    target=best_params_loss,  \n",
    "    overwrite=True,   \n",
    "    step=20000\n",
    ")"
   ]
  },
  {
   "cell_type": "code",
   "execution_count": null,
   "id": "985a5635-ee8f-44ff-98d6-8390d8c82016",
   "metadata": {},
   "outputs": [],
   "source": [
    "checkpoints.save_checkpoint(\n",
    "    ckpt_dir=f'checkpoints/finalfinal/{filestr}_bestparams_mmd',  \n",
    "    target=best_params_mmd,  \n",
    "    overwrite=True,   \n",
    "    step=20000\n",
    ")"
   ]
  },
  {
   "cell_type": "code",
   "execution_count": null,
   "id": "c0d7dea8-e533-47a9-8bc3-9e0bc97c60b0",
   "metadata": {},
   "outputs": [],
   "source": []
  },
  {
   "cell_type": "markdown",
   "id": "5544ec41-0893-47d5-af45-192f253cedfc",
   "metadata": {},
   "source": [
    "### 16 Blocks"
   ]
  },
  {
   "cell_type": "code",
   "execution_count": null,
   "id": "a4075e6b-5e70-4cf6-8162-0f326a451ca2",
   "metadata": {
    "tags": []
   },
   "outputs": [],
   "source": [
    "NPOT_PREFIX = '16Bl'"
   ]
  },
  {
   "cell_type": "code",
   "execution_count": null,
   "id": "4b965aad-d9fa-4825-b99f-009168000a09",
   "metadata": {
    "tags": []
   },
   "outputs": [],
   "source": [
    "key = random.PRNGKey(42)\n",
    "data_key, key = random.split(key, 2)"
   ]
  },
  {
   "cell_type": "code",
   "execution_count": null,
   "id": "e3b02118-f1e6-4177-8af8-d2a516e2693f",
   "metadata": {
    "tags": []
   },
   "outputs": [],
   "source": [
    "EPOCHS = 20000\n",
    "MODEL = RealNVP.RealNVP(\n",
    "    NVP_net=RealNVP.NVP_l,\n",
    "    num_blocks=16,\n",
    "    key=key,\n",
    "    input_dim=2,\n",
    "    hidden_dim=32,\n",
    "    prior_type='gaussian',\n",
    "    prior_args=None,\n",
    "    use_dropout=False,\n",
    "    dropout_proba=None\n",
    ")\n",
    "LOSS_FUNC = jit(MODEL._loss_l2)\n",
    "VAL_LOSS_FUNC = jit(MODEL.metrics)\n",
    "LOSS_KWARGS = {'alpha': 1e-4}\n",
    "VAL_LOSS_KWARGS = {'normal_batch': normal_sample}"
   ]
  },
  {
   "cell_type": "code",
   "execution_count": null,
   "id": "3e1bbea2-60de-4def-a684-93a242e3a5df",
   "metadata": {
    "tags": []
   },
   "outputs": [],
   "source": [
    "# Exponential decay of the learning rate.\n",
    "scheduler = optax.exponential_decay(\n",
    "    init_value=2e-2, \n",
    "    transition_steps=1000,\n",
    "    transition_begin=0,\n",
    "    decay_rate=0.6)\n",
    "\n",
    "gradient_transform = optax.chain(\n",
    "    optax.scale_by_adam(),              # Use the updates from adam.\n",
    "    optax.scale_by_schedule(scheduler), # Adapt LR\n",
    "    optax.scale(-1.0)                   # Scale updates by -1 since optax.apply_updates \n",
    "                                        # is additive and we want to descend on the loss.\n",
    ")"
   ]
  },
  {
   "cell_type": "code",
   "execution_count": null,
   "id": "700f78d6-cc9d-4fe6-a8a3-f716fa839477",
   "metadata": {
    "tags": []
   },
   "outputs": [],
   "source": [
    "params = MODEL.params\n",
    "opt_state = gradient_transform.init(params)"
   ]
  },
  {
   "cell_type": "code",
   "execution_count": null,
   "id": "7970ed78-9475-4080-80de-a6eb5e04933f",
   "metadata": {
    "tags": []
   },
   "outputs": [],
   "source": [
    "report_as_csv = True\n",
    "report_filename = '_'.join([MODEL_PREFIX, PRECISION_PREFIX, DATASET_PREFIX, NPOT_PREFIX]) + '.csv'"
   ]
  },
  {
   "cell_type": "code",
   "execution_count": null,
   "id": "3a403a53-9a09-4fab-8562-eb9ac0413fef",
   "metadata": {
    "tags": []
   },
   "outputs": [],
   "source": [
    "ret = run(train, params, opt_state, data_key)\n",
    "(train_losses, val_losses, val_mmds, val_inv_errors, \n",
    " best_epoch_mmd, best_val_mmd, best_params_mmd, \n",
    " best_epoch_loss, best_val_loss, best_params_loss, params) = ret"
   ]
  },
  {
   "cell_type": "code",
   "execution_count": null,
   "id": "1ddf150d-ba91-4ea3-8829-7db97c3d38db",
   "metadata": {
    "tags": []
   },
   "outputs": [],
   "source": [
    "print(f'\\nBest Epoch MMD: {best_epoch_mmd} --- Val MMD: {best_val_mmd}')\n",
    "test_loss, test_inv_error, test_mmd = eval_val(test, best_params_mmd)\n",
    "print(f'Best Model MMD --- Test Loss: {test_loss}, Test Inv Error: {test_inv_error}, Test MMD: {test_mmd}')\n",
    "    \n",
    "print(f'\\nBest Epoch Loss: {best_epoch_loss} --- Val Loss: {best_val_loss}')\n",
    "test_loss, test_inv_error, test_mmd = eval_val(test, best_params_loss)\n",
    "print(f'Best Model Loss --- Test Loss: {test_loss}, Test Inv Error: {test_inv_error}, Test MMD: {test_mmd}')"
   ]
  },
  {
   "cell_type": "code",
   "execution_count": null,
   "id": "ee4b9796-9014-45de-8950-e855e1183e1e",
   "metadata": {
    "tags": []
   },
   "outputs": [],
   "source": [
    "fig, ax = plt.subplots(1, 2, figsize=(16,6))\n",
    "ax[0].semilogy(train_losses, label='train loss')\n",
    "ax[0].semilogy(val_losses, label='validation loss')\n",
    "ax[1].semilogy(train_losses[1000:], label='train loss')\n",
    "ax[1].semilogy(val_losses[1000:], label='validation loss')\n",
    "plt.legend()"
   ]
  },
  {
   "cell_type": "code",
   "execution_count": null,
   "id": "2d5a86ad-83e5-493c-81f8-8b1a7b50057a",
   "metadata": {},
   "outputs": [],
   "source": []
  },
  {
   "cell_type": "code",
   "execution_count": null,
   "id": "3fcfc56e-c0d4-4629-9200-76e56341ce94",
   "metadata": {
    "tags": []
   },
   "outputs": [],
   "source": [
    "filestr = '_'.join([MODEL_PREFIX, PRECISION_PREFIX, DATASET_PREFIX, NPOT_PREFIX])\n",
    "checkpoints.save_checkpoint(\n",
    "    ckpt_dir=f'checkpoints/finalfinal/{filestr}_params',  \n",
    "    target=params,  \n",
    "    overwrite=True,   \n",
    "    step=20000\n",
    ")"
   ]
  },
  {
   "cell_type": "code",
   "execution_count": null,
   "id": "235e8229-66c2-44c8-8ccd-b8bf5ea8a0c6",
   "metadata": {},
   "outputs": [],
   "source": [
    "checkpoints.save_checkpoint(\n",
    "    ckpt_dir=f'checkpoints/finalfinal/{filestr}_bestparams_loss',  \n",
    "    target=best_params_loss,  \n",
    "    overwrite=True,   \n",
    "    step=20000\n",
    ")"
   ]
  },
  {
   "cell_type": "code",
   "execution_count": null,
   "id": "a34d70cd-38bf-40bf-b4b3-52e1de1c1f46",
   "metadata": {},
   "outputs": [],
   "source": [
    "checkpoints.save_checkpoint(\n",
    "    ckpt_dir=f'checkpoints/finalfinal/{filestr}_bestparams_mmd',  \n",
    "    target=best_params_mmd,  \n",
    "    overwrite=True,   \n",
    "    step=20000\n",
    ")"
   ]
  },
  {
   "cell_type": "code",
   "execution_count": null,
   "id": "12a8c484-0c46-4f0c-8f9e-00ada9ff63f6",
   "metadata": {},
   "outputs": [],
   "source": []
  },
  {
   "cell_type": "markdown",
   "id": "07cf285f-5926-47bc-867a-ea55b2bd0832",
   "metadata": {},
   "source": [
    "### 24 Blocks"
   ]
  },
  {
   "cell_type": "code",
   "execution_count": null,
   "id": "b2da2335-f011-445f-8ab7-a416d1710ac9",
   "metadata": {
    "tags": []
   },
   "outputs": [],
   "source": [
    "NPOT_PREFIX = '24Bl'"
   ]
  },
  {
   "cell_type": "code",
   "execution_count": null,
   "id": "ba76291d-ec61-49d1-90f1-ba0636153440",
   "metadata": {
    "tags": []
   },
   "outputs": [],
   "source": [
    "key = random.PRNGKey(42)\n",
    "data_key, key = random.split(key, 2)"
   ]
  },
  {
   "cell_type": "code",
   "execution_count": null,
   "id": "7a8992e7-39cf-497a-85e2-8a750ee954cf",
   "metadata": {
    "tags": []
   },
   "outputs": [],
   "source": [
    "EPOCHS = 20000\n",
    "MODEL = RealNVP.RealNVP(\n",
    "    NVP_net=RealNVP.NVP_l,\n",
    "    num_blocks=24,\n",
    "    key=key,\n",
    "    input_dim=2,\n",
    "    hidden_dim=32,\n",
    "    prior_type='gaussian',\n",
    "    prior_args=None,\n",
    "    use_dropout=False,\n",
    "    dropout_proba=None\n",
    ")\n",
    "LOSS_FUNC = jit(MODEL._loss_l2)\n",
    "VAL_LOSS_FUNC = jit(MODEL.metrics)\n",
    "LOSS_KWARGS = {'alpha': 1e-4}\n",
    "VAL_LOSS_KWARGS = {'normal_batch': normal_sample}"
   ]
  },
  {
   "cell_type": "code",
   "execution_count": null,
   "id": "3c4bd939-e592-4d37-93b1-af543fd437f6",
   "metadata": {
    "tags": []
   },
   "outputs": [],
   "source": [
    "# Exponential decay of the learning rate.\n",
    "scheduler = optax.exponential_decay(\n",
    "    init_value=2e-2, \n",
    "    transition_steps=1000,\n",
    "    transition_begin=0,\n",
    "    decay_rate=0.6)\n",
    "\n",
    "gradient_transform = optax.chain(\n",
    "    optax.scale_by_adam(),              # Use the updates from adam.\n",
    "    optax.scale_by_schedule(scheduler), # Adapt LR\n",
    "    optax.scale(-1.0)                   # Scale updates by -1 since optax.apply_updates \n",
    "                                        # is additive and we want to descend on the loss.\n",
    ")"
   ]
  },
  {
   "cell_type": "code",
   "execution_count": null,
   "id": "6fb6f5b7-ad92-44d3-878f-70e6c4acf428",
   "metadata": {
    "tags": []
   },
   "outputs": [],
   "source": [
    "params = MODEL.params\n",
    "opt_state = gradient_transform.init(params)"
   ]
  },
  {
   "cell_type": "code",
   "execution_count": null,
   "id": "6372be4a-dc2c-44f3-8ee1-79e1bd11820d",
   "metadata": {
    "tags": []
   },
   "outputs": [],
   "source": [
    "report_as_csv = True\n",
    "report_filename = '_'.join([MODEL_PREFIX, PRECISION_PREFIX, DATASET_PREFIX, NPOT_PREFIX]) + '.csv'"
   ]
  },
  {
   "cell_type": "code",
   "execution_count": null,
   "id": "cf97f191-4012-4fb3-b37f-2b2bd6d6a78a",
   "metadata": {
    "tags": []
   },
   "outputs": [],
   "source": [
    "ret = run(train, params, opt_state, data_key)\n",
    "(train_losses, val_losses, val_mmds, val_inv_errors, \n",
    " best_epoch_mmd, best_val_mmd, best_params_mmd, \n",
    " best_epoch_loss, best_val_loss, best_params_loss, params) = ret"
   ]
  },
  {
   "cell_type": "code",
   "execution_count": null,
   "id": "3be8cea2-931a-452e-ae01-2c85ac265986",
   "metadata": {
    "tags": []
   },
   "outputs": [],
   "source": [
    "print(f'\\nBest Epoch MMD: {best_epoch_mmd} --- Val MMD: {best_val_mmd}')\n",
    "test_loss, test_inv_error, test_mmd = eval_val(test, best_params_mmd)\n",
    "print(f'Best Model MMD --- Test Loss: {test_loss}, Test Inv Error: {test_inv_error}, Test MMD: {test_mmd}')\n",
    "    \n",
    "print(f'\\nBest Epoch Loss: {best_epoch_loss} --- Val Loss: {best_val_loss}')\n",
    "test_loss, test_inv_error, test_mmd = eval_val(test, best_params_loss)\n",
    "print(f'Best Model Loss --- Test Loss: {test_loss}, Test Inv Error: {test_inv_error}, Test MMD: {test_mmd}')"
   ]
  },
  {
   "cell_type": "code",
   "execution_count": null,
   "id": "e9d0c08f-1adb-4672-aeab-c0b0003bec29",
   "metadata": {
    "tags": []
   },
   "outputs": [],
   "source": [
    "fig, ax = plt.subplots(1, 2, figsize=(16,6))\n",
    "ax[0].semilogy(train_losses, label='train loss')\n",
    "ax[0].semilogy(val_losses, label='validation loss')\n",
    "ax[1].semilogy(train_losses[1000:], label='train loss')\n",
    "ax[1].semilogy(val_losses[1000:], label='validation loss')\n",
    "plt.legend()"
   ]
  },
  {
   "cell_type": "code",
   "execution_count": null,
   "id": "3656f780-e2c8-418d-b14b-4ba21ba45b3d",
   "metadata": {},
   "outputs": [],
   "source": []
  },
  {
   "cell_type": "code",
   "execution_count": null,
   "id": "08c245a6-7d56-431b-91c4-fbe3a96b1d60",
   "metadata": {
    "tags": []
   },
   "outputs": [],
   "source": [
    "filestr = '_'.join([MODEL_PREFIX, PRECISION_PREFIX, DATASET_PREFIX, NPOT_PREFIX])\n",
    "checkpoints.save_checkpoint(\n",
    "    ckpt_dir=f'checkpoints/finalfinal/{filestr}_params',  \n",
    "    target=params,  \n",
    "    overwrite=True,   \n",
    "    step=20000\n",
    ")"
   ]
  },
  {
   "cell_type": "code",
   "execution_count": null,
   "id": "3e24ab2f-0c50-4fd4-bc4d-16a6fe29a7d0",
   "metadata": {
    "tags": []
   },
   "outputs": [],
   "source": [
    "checkpoints.save_checkpoint(\n",
    "    ckpt_dir=f'checkpoints/finalfinal/{filestr}_bestparams_loss',  \n",
    "    target=best_params_loss,  \n",
    "    overwrite=True,   \n",
    "    step=20000\n",
    ")"
   ]
  },
  {
   "cell_type": "code",
   "execution_count": null,
   "id": "af2c464f-7fd3-437f-9c7f-aecc7955569f",
   "metadata": {},
   "outputs": [],
   "source": [
    "checkpoints.save_checkpoint(\n",
    "    ckpt_dir=f'checkpoints/finalfinal/{filestr}_bestparams_mmd',  \n",
    "    target=best_params_mmd,  \n",
    "    overwrite=True,   \n",
    "    step=20000\n",
    ")"
   ]
  },
  {
   "cell_type": "code",
   "execution_count": null,
   "id": "e74be954-cada-4ce2-a59a-9fd41f97b099",
   "metadata": {},
   "outputs": [],
   "source": []
  },
  {
   "cell_type": "markdown",
   "id": "60c38094-cd77-4e57-8063-a6e4c31555d6",
   "metadata": {},
   "source": [
    "### 32 Blocks"
   ]
  },
  {
   "cell_type": "code",
   "execution_count": null,
   "id": "fb4543ba-4447-4b86-8769-a8cc4f2d438d",
   "metadata": {
    "tags": []
   },
   "outputs": [],
   "source": [
    "NPOT_PREFIX = '32Bl'"
   ]
  },
  {
   "cell_type": "code",
   "execution_count": null,
   "id": "8e31ff84-38ef-494e-8d35-ef9d18fcf2eb",
   "metadata": {
    "tags": []
   },
   "outputs": [],
   "source": [
    "key = random.PRNGKey(42)\n",
    "data_key, key = random.split(key, 2)"
   ]
  },
  {
   "cell_type": "code",
   "execution_count": null,
   "id": "07f3d251-598c-49c4-b629-fe42faa01d2c",
   "metadata": {
    "tags": []
   },
   "outputs": [],
   "source": [
    "EPOCHS = 20000\n",
    "MODEL = RealNVP.RealNVP(\n",
    "    NVP_net=RealNVP.NVP_l,\n",
    "    num_blocks=32,\n",
    "    key=key,\n",
    "    input_dim=2,\n",
    "    hidden_dim=32,\n",
    "    prior_type='gaussian',\n",
    "    prior_args=None,\n",
    "    use_dropout=False,\n",
    "    dropout_proba=None\n",
    ")\n",
    "LOSS_FUNC = jit(MODEL._loss_l2)\n",
    "VAL_LOSS_FUNC = jit(MODEL.metrics)\n",
    "LOSS_KWARGS = {'alpha': 1e-4}\n",
    "VAL_LOSS_KWARGS = {'normal_batch': normal_sample}"
   ]
  },
  {
   "cell_type": "code",
   "execution_count": null,
   "id": "9ea00b25-2f27-4b5b-8c3d-96e7ec4b91e7",
   "metadata": {
    "tags": []
   },
   "outputs": [],
   "source": [
    "# Exponential decay of the learning rate.\n",
    "scheduler = optax.exponential_decay(\n",
    "    init_value=2e-2, \n",
    "    transition_steps=1000,\n",
    "    transition_begin=0,\n",
    "    decay_rate=0.6)\n",
    "\n",
    "gradient_transform = optax.chain(\n",
    "    optax.scale_by_adam(),              # Use the updates from adam.\n",
    "    optax.scale_by_schedule(scheduler), # Adapt LR\n",
    "    optax.scale(-1.0)                   # Scale updates by -1 since optax.apply_updates \n",
    "                                        # is additive and we want to descend on the loss.\n",
    ")"
   ]
  },
  {
   "cell_type": "code",
   "execution_count": null,
   "id": "66087144-eb7d-4d83-90e2-6e320a5e3f85",
   "metadata": {
    "tags": []
   },
   "outputs": [],
   "source": [
    "params = MODEL.params\n",
    "opt_state = gradient_transform.init(params)"
   ]
  },
  {
   "cell_type": "code",
   "execution_count": null,
   "id": "b154897b-0756-439a-95ba-730c49381915",
   "metadata": {
    "tags": []
   },
   "outputs": [],
   "source": [
    "report_as_csv = True\n",
    "report_filename = '_'.join([MODEL_PREFIX, PRECISION_PREFIX, DATASET_PREFIX, NPOT_PREFIX]) + '.csv'"
   ]
  },
  {
   "cell_type": "code",
   "execution_count": null,
   "id": "9ba05361-e66e-4479-a40f-256e1df778c1",
   "metadata": {
    "tags": []
   },
   "outputs": [],
   "source": [
    "ret = run(train, params, opt_state, data_key)\n",
    "(train_losses, val_losses, val_mmds, val_inv_errors, \n",
    " best_epoch_mmd, best_val_mmd, best_params_mmd, \n",
    " best_epoch_loss, best_val_loss, best_params_loss, params) = ret"
   ]
  },
  {
   "cell_type": "code",
   "execution_count": null,
   "id": "af530a2e-fb2c-4a64-8538-4dd273676b08",
   "metadata": {
    "tags": []
   },
   "outputs": [],
   "source": [
    "print(f'\\nBest Epoch MMD: {best_epoch_mmd} --- Val MMD: {best_val_mmd}')\n",
    "test_loss, test_inv_error, test_mmd = eval_val(test, best_params_mmd)\n",
    "print(f'Best Model MMD --- Test Loss: {test_loss}, Test Inv Error: {test_inv_error}, Test MMD: {test_mmd}')\n",
    "    \n",
    "print(f'\\nBest Epoch Loss: {best_epoch_loss} --- Val Loss: {best_val_loss}')\n",
    "test_loss, test_inv_error, test_mmd = eval_val(test, best_params_loss)\n",
    "print(f'Best Model Loss --- Test Loss: {test_loss}, Test Inv Error: {test_inv_error}, Test MMD: {test_mmd}')"
   ]
  },
  {
   "cell_type": "code",
   "execution_count": null,
   "id": "7f212fc1-1e4e-41b4-8275-3abdfbb19a46",
   "metadata": {
    "tags": []
   },
   "outputs": [],
   "source": [
    "fig, ax = plt.subplots(1, 2, figsize=(16,6))\n",
    "ax[0].semilogy(train_losses, label='train loss')\n",
    "ax[0].semilogy(val_losses, label='validation loss')\n",
    "ax[1].semilogy(train_losses[1000:], label='train loss')\n",
    "ax[1].semilogy(val_losses[1000:], label='validation loss')\n",
    "plt.legend()"
   ]
  },
  {
   "cell_type": "code",
   "execution_count": null,
   "id": "6beb0522-3429-496f-9ad6-fac69add8bc5",
   "metadata": {},
   "outputs": [],
   "source": []
  },
  {
   "cell_type": "code",
   "execution_count": null,
   "id": "1a87819c-3697-4e42-bb6f-c1cd7a654c8d",
   "metadata": {
    "tags": []
   },
   "outputs": [],
   "source": [
    "filestr = '_'.join([MODEL_PREFIX, PRECISION_PREFIX, DATASET_PREFIX, NPOT_PREFIX])\n",
    "checkpoints.save_checkpoint(\n",
    "    ckpt_dir=f'checkpoints/finalfinal/{filestr}_params',  \n",
    "    target=params,  \n",
    "    overwrite=True,   \n",
    "    step=20000\n",
    ")"
   ]
  },
  {
   "cell_type": "code",
   "execution_count": null,
   "id": "34bea4a9-8ba6-40a4-bbc6-18102f54aa58",
   "metadata": {
    "tags": []
   },
   "outputs": [],
   "source": [
    "checkpoints.save_checkpoint(\n",
    "    ckpt_dir=f'checkpoints/finalfinal/{filestr}_bestparams_loss',  \n",
    "    target=best_params_loss,  \n",
    "    overwrite=True,   \n",
    "    step=20000\n",
    ")"
   ]
  },
  {
   "cell_type": "code",
   "execution_count": null,
   "id": "71d3881b-afed-4e7a-8e62-b052fc443276",
   "metadata": {},
   "outputs": [],
   "source": [
    "checkpoints.save_checkpoint(\n",
    "    ckpt_dir=f'checkpoints/finalfinal/{filestr}_bestparams_mmd',  \n",
    "    target=best_params_mmd,  \n",
    "    overwrite=True,   \n",
    "    step=20000\n",
    ")"
   ]
  },
  {
   "cell_type": "markdown",
   "id": "cbb49076-b64d-4eda-9e52-235e8f279f8e",
   "metadata": {
    "tags": []
   },
   "source": [
    "## TUC Logo"
   ]
  },
  {
   "cell_type": "code",
   "execution_count": null,
   "id": "a4be6dad-5401-4bb2-a2c5-1415514617ca",
   "metadata": {
    "tags": []
   },
   "outputs": [],
   "source": [
    "key = random.PRNGKey(seed=42)"
   ]
  },
  {
   "cell_type": "code",
   "execution_count": null,
   "id": "4e66353b-bc51-464b-ba05-58442b3afd8b",
   "metadata": {
    "tags": []
   },
   "outputs": [],
   "source": [
    "training_size = 10000\n",
    "validation_size = 10000\n",
    "test_size = 20000\n",
    "spacing = 40"
   ]
  },
  {
   "cell_type": "code",
   "execution_count": null,
   "id": "0fcf6a69-8f31-4f3e-839c-5b108099640f",
   "metadata": {
    "tags": []
   },
   "outputs": [],
   "source": [
    "BATCH_SIZE_TR = training_size\n",
    "BATCH_SIZE_VAL_TE = validation_size"
   ]
  },
  {
   "cell_type": "code",
   "execution_count": null,
   "id": "f2316dd1-6e12-46b5-b30f-d675bdf52f10",
   "metadata": {
    "tags": []
   },
   "outputs": [],
   "source": [
    "train, val, test = DatasetGenerator.make_tuc_logo(\n",
    "    key, \n",
    "    training_size, \n",
    "    validation_size, \n",
    "    test_size, \n",
    "    dtype=PRECISION_PREFIX,\n",
    ")\n",
    "normal_sample = random.normal(random.fold_in(key, 42), shape=(validation_size, 2), dtype=PRECISION_PREFIX)"
   ]
  },
  {
   "cell_type": "code",
   "execution_count": null,
   "id": "b4244c87-7ee6-4df5-95f9-7cdd519d5a32",
   "metadata": {},
   "outputs": [],
   "source": [
    "DATASET_PREFIX = 'tuc-logo'"
   ]
  },
  {
   "cell_type": "code",
   "execution_count": null,
   "id": "3baf319e-faee-4ff9-8a27-c8f6e8c699a6",
   "metadata": {},
   "outputs": [],
   "source": [
    "TRAIN_GENERATOR = DatasetGenerator.make_tuc_logo_tr\n",
    "TRAIN_GEN_KWARGS = {}"
   ]
  },
  {
   "cell_type": "markdown",
   "id": "90e86d77-fb6b-4b8f-978a-0e09cb729c4b",
   "metadata": {},
   "source": [
    "### 4 Blocks"
   ]
  },
  {
   "cell_type": "code",
   "execution_count": null,
   "id": "9efd29b5-e79e-41f6-8663-da00607eb750",
   "metadata": {
    "tags": []
   },
   "outputs": [],
   "source": [
    "NPOT_PREFIX = '4Bl'"
   ]
  },
  {
   "cell_type": "code",
   "execution_count": null,
   "id": "874d96ea-3b32-41db-8688-57ed6511d6db",
   "metadata": {
    "tags": []
   },
   "outputs": [],
   "source": [
    "key = random.PRNGKey(42)\n",
    "data_key, key = random.split(key, 2)"
   ]
  },
  {
   "cell_type": "code",
   "execution_count": null,
   "id": "fe040e02-d650-4683-968b-4f474cfd8987",
   "metadata": {
    "tags": []
   },
   "outputs": [],
   "source": [
    "EPOCHS = 20000\n",
    "MODEL = RealNVP.RealNVP(\n",
    "    NVP_net=RealNVP.NVP_l,\n",
    "    num_blocks=4,\n",
    "    key=key,\n",
    "    input_dim=2,\n",
    "    hidden_dim=64,\n",
    "    prior_type='gaussian',\n",
    "    prior_args=None,\n",
    "    use_dropout=False,\n",
    "    dropout_proba=None\n",
    ")\n",
    "LOSS_FUNC = jit(MODEL._loss_l2)\n",
    "VAL_LOSS_FUNC = jit(MODEL.metrics)\n",
    "LOSS_KWARGS = {'alpha': 1e-4}\n",
    "VAL_LOSS_KWARGS = {'normal_batch': normal_sample}"
   ]
  },
  {
   "cell_type": "code",
   "execution_count": null,
   "id": "106082ce-41ba-4c52-ab4e-e95bca48f383",
   "metadata": {
    "tags": []
   },
   "outputs": [],
   "source": [
    "# Exponential decay of the learning rate.\n",
    "scheduler = optax.exponential_decay(\n",
    "    init_value=2e-2, \n",
    "    transition_steps=1000,\n",
    "    transition_begin=0,\n",
    "    decay_rate=0.6)\n",
    "\n",
    "gradient_transform = optax.chain(\n",
    "    optax.scale_by_adam(),              # Use the updates from adam.\n",
    "    optax.scale_by_schedule(scheduler), # Adapt LR\n",
    "    optax.scale(-1.0)                   # Scale updates by -1 since optax.apply_updates \n",
    "                                        # is additive and we want to descend on the loss.\n",
    ")"
   ]
  },
  {
   "cell_type": "code",
   "execution_count": null,
   "id": "8de3b68c-c7b8-461d-a3ec-fcbe3e3b8c35",
   "metadata": {
    "tags": []
   },
   "outputs": [],
   "source": [
    "params = MODEL.params\n",
    "opt_state = gradient_transform.init(params)"
   ]
  },
  {
   "cell_type": "code",
   "execution_count": null,
   "id": "2112c4ee-969c-4886-8a35-518e687d5ccb",
   "metadata": {
    "tags": []
   },
   "outputs": [],
   "source": [
    "report_as_csv = True\n",
    "report_filename = '_'.join([MODEL_PREFIX, PRECISION_PREFIX, DATASET_PREFIX, NPOT_PREFIX]) + '.csv'"
   ]
  },
  {
   "cell_type": "code",
   "execution_count": null,
   "id": "1fa04116-88c4-4865-a3cb-7ace8eb9a997",
   "metadata": {
    "tags": []
   },
   "outputs": [],
   "source": [
    "ret = run(train, params, opt_state, data_key)\n",
    "(train_losses, val_losses, val_mmds, val_inv_errors, \n",
    " best_epoch_mmd, best_val_mmd, best_params_mmd, \n",
    " best_epoch_loss, best_val_loss, best_params_loss, params) = ret"
   ]
  },
  {
   "cell_type": "code",
   "execution_count": null,
   "id": "845e53b1-cd78-49f1-9745-aea0f399ae5e",
   "metadata": {
    "tags": []
   },
   "outputs": [],
   "source": [
    "print(f'\\nBest Epoch MMD: {best_epoch_mmd} --- Val MMD: {best_val_mmd}')\n",
    "test_loss, test_inv_error, test_mmd = eval_val(test, best_params_mmd)\n",
    "print(f'Best Model MMD --- Test Loss: {test_loss}, Test Inv Error: {test_inv_error}, Test MMD: {test_mmd}')\n",
    "    \n",
    "print(f'\\nBest Epoch Loss: {best_epoch_loss} --- Val Loss: {best_val_loss}')\n",
    "test_loss, test_inv_error, test_mmd = eval_val(test, best_params_loss)\n",
    "print(f'Best Model Loss --- Test Loss: {test_loss}, Test Inv Error: {test_inv_error}, Test MMD: {test_mmd}')"
   ]
  },
  {
   "cell_type": "code",
   "execution_count": null,
   "id": "e89962b4-18df-4fbd-bbce-c6cbc5801530",
   "metadata": {
    "tags": []
   },
   "outputs": [],
   "source": [
    "fig, ax = plt.subplots(1, 2, figsize=(16,6))\n",
    "ax[0].semilogy(train_losses, label='train loss')\n",
    "ax[0].semilogy(val_losses, label='validation loss')\n",
    "ax[1].semilogy(train_losses[1000:], label='train loss')\n",
    "ax[1].semilogy(val_losses[1000:], label='validation loss')\n",
    "plt.legend()"
   ]
  },
  {
   "cell_type": "code",
   "execution_count": null,
   "id": "20e5c1bd-e977-4cce-a74a-2d48d932a88d",
   "metadata": {},
   "outputs": [],
   "source": []
  },
  {
   "cell_type": "code",
   "execution_count": null,
   "id": "374483b9-1014-4e5b-959e-b7a26b7fa235",
   "metadata": {
    "tags": []
   },
   "outputs": [],
   "source": [
    "filestr = '_'.join([MODEL_PREFIX, PRECISION_PREFIX, DATASET_PREFIX, NPOT_PREFIX])\n",
    "checkpoints.save_checkpoint(\n",
    "    ckpt_dir=f'checkpoints/finalfinal/{filestr}_params',  \n",
    "    target=params,  \n",
    "    overwrite=True,   \n",
    "    step=20000\n",
    ")"
   ]
  },
  {
   "cell_type": "code",
   "execution_count": null,
   "id": "2bc38fa4-9d94-4965-87b5-90c7dbdc17bc",
   "metadata": {},
   "outputs": [],
   "source": [
    "checkpoints.save_checkpoint(\n",
    "    ckpt_dir=f'checkpoints/finalfinal/{filestr}_bestparams_loss',  \n",
    "    target=best_params_loss,  \n",
    "    overwrite=True,   \n",
    "    step=20000\n",
    ")"
   ]
  },
  {
   "cell_type": "code",
   "execution_count": null,
   "id": "d22af9a4-ddd1-414a-b23b-ba48acb98464",
   "metadata": {},
   "outputs": [],
   "source": [
    "checkpoints.save_checkpoint(\n",
    "    ckpt_dir=f'checkpoints/finalfinal/{filestr}_bestparams_mmd',  \n",
    "    target=best_params_mmd,  \n",
    "    overwrite=True,   \n",
    "    step=20000\n",
    ")"
   ]
  },
  {
   "cell_type": "code",
   "execution_count": null,
   "id": "38081c6b-e93e-41cc-9e15-c7bafeb3ce5a",
   "metadata": {},
   "outputs": [],
   "source": []
  },
  {
   "cell_type": "markdown",
   "id": "45905060-ee77-45b1-b585-1e93fc65258b",
   "metadata": {},
   "source": [
    "### 8 Blocks"
   ]
  },
  {
   "cell_type": "code",
   "execution_count": null,
   "id": "8be84ca8-1a93-4349-a45e-773cf368fe98",
   "metadata": {
    "tags": []
   },
   "outputs": [],
   "source": [
    "NPOT_PREFIX = '8Bl'"
   ]
  },
  {
   "cell_type": "code",
   "execution_count": null,
   "id": "a559f9d3-081c-4b67-a97a-3bb52dabb983",
   "metadata": {
    "tags": []
   },
   "outputs": [],
   "source": [
    "key = random.PRNGKey(42)\n",
    "data_key, key = random.split(key, 2)"
   ]
  },
  {
   "cell_type": "code",
   "execution_count": null,
   "id": "7deb8ee9-f72d-4b8b-badc-71a3ba787daa",
   "metadata": {
    "tags": []
   },
   "outputs": [],
   "source": [
    "EPOCHS = 20000\n",
    "MODEL = RealNVP.RealNVP(\n",
    "    NVP_net=RealNVP.NVP_l,\n",
    "    num_blocks=8,\n",
    "    key=key,\n",
    "    input_dim=2,\n",
    "    hidden_dim=64,\n",
    "    prior_type='gaussian',\n",
    "    prior_args=None,\n",
    "    use_dropout=False,\n",
    "    dropout_proba=None\n",
    ")\n",
    "LOSS_FUNC = jit(MODEL._loss_l2)\n",
    "VAL_LOSS_FUNC = jit(MODEL.metrics)\n",
    "LOSS_KWARGS = {'alpha': 1e-4}\n",
    "VAL_LOSS_KWARGS = {'normal_batch': normal_sample}"
   ]
  },
  {
   "cell_type": "code",
   "execution_count": null,
   "id": "08790396-e097-4e76-92e9-6a1ab6080c5c",
   "metadata": {
    "tags": []
   },
   "outputs": [],
   "source": [
    "# Exponential decay of the learning rate.\n",
    "scheduler = optax.exponential_decay(\n",
    "    init_value=2e-2, \n",
    "    transition_steps=1000,\n",
    "    transition_begin=0,\n",
    "    decay_rate=0.6)\n",
    "\n",
    "gradient_transform = optax.chain(\n",
    "    optax.scale_by_adam(),              # Use the updates from adam.\n",
    "    optax.scale_by_schedule(scheduler), # Adapt LR\n",
    "    optax.scale(-1.0)                   # Scale updates by -1 since optax.apply_updates \n",
    "                                        # is additive and we want to descend on the loss.\n",
    ")"
   ]
  },
  {
   "cell_type": "code",
   "execution_count": null,
   "id": "d807acd9-5678-4fa8-85eb-48e5a1940255",
   "metadata": {
    "tags": []
   },
   "outputs": [],
   "source": [
    "params = MODEL.params\n",
    "opt_state = gradient_transform.init(params)"
   ]
  },
  {
   "cell_type": "code",
   "execution_count": null,
   "id": "08080f10-c31c-44c6-aa41-ae5abd2f3ed1",
   "metadata": {
    "tags": []
   },
   "outputs": [],
   "source": [
    "report_as_csv = True\n",
    "report_filename = '_'.join([MODEL_PREFIX, PRECISION_PREFIX, DATASET_PREFIX, NPOT_PREFIX]) + '.csv'"
   ]
  },
  {
   "cell_type": "code",
   "execution_count": null,
   "id": "e8574f6c-d32d-4ec7-a68a-fd9db9fa49f3",
   "metadata": {
    "tags": []
   },
   "outputs": [],
   "source": [
    "ret = run(train, params, opt_state, data_key)\n",
    "(train_losses, val_losses, val_mmds, val_inv_errors, \n",
    " best_epoch_mmd, best_val_mmd, best_params_mmd, \n",
    " best_epoch_loss, best_val_loss, best_params_loss, params) = ret"
   ]
  },
  {
   "cell_type": "code",
   "execution_count": null,
   "id": "dd33b4b9-90c4-4c57-a0dd-d5078361b4ba",
   "metadata": {
    "tags": []
   },
   "outputs": [],
   "source": [
    "print(f'\\nBest Epoch MMD: {best_epoch_mmd} --- Val MMD: {best_val_mmd}')\n",
    "test_loss, test_inv_error, test_mmd = eval_val(test, best_params_mmd)\n",
    "print(f'Best Model MMD --- Test Loss: {test_loss}, Test Inv Error: {test_inv_error}, Test MMD: {test_mmd}')\n",
    "    \n",
    "print(f'\\nBest Epoch Loss: {best_epoch_loss} --- Val Loss: {best_val_loss}')\n",
    "test_loss, test_inv_error, test_mmd = eval_val(test, best_params_loss)\n",
    "print(f'Best Model Loss --- Test Loss: {test_loss}, Test Inv Error: {test_inv_error}, Test MMD: {test_mmd}')"
   ]
  },
  {
   "cell_type": "code",
   "execution_count": null,
   "id": "ffff42fe-3b14-48ef-8104-62322920c97f",
   "metadata": {
    "tags": []
   },
   "outputs": [],
   "source": [
    "fig, ax = plt.subplots(1, 2, figsize=(16,6))\n",
    "ax[0].semilogy(train_losses, label='train loss')\n",
    "ax[0].semilogy(val_losses, label='validation loss')\n",
    "ax[1].semilogy(train_losses[1000:], label='train loss')\n",
    "ax[1].semilogy(val_losses[1000:], label='validation loss')\n",
    "plt.legend()"
   ]
  },
  {
   "cell_type": "code",
   "execution_count": null,
   "id": "6070542d-38a5-47c5-9c72-c1f32707c6ca",
   "metadata": {},
   "outputs": [],
   "source": []
  },
  {
   "cell_type": "code",
   "execution_count": null,
   "id": "32f744b2-d67b-4114-8ebd-6a06b73f39ac",
   "metadata": {
    "tags": []
   },
   "outputs": [],
   "source": [
    "filestr = '_'.join([MODEL_PREFIX, PRECISION_PREFIX, DATASET_PREFIX, NPOT_PREFIX])\n",
    "checkpoints.save_checkpoint(\n",
    "    ckpt_dir=f'checkpoints/finalfinal/{filestr}_params',  \n",
    "    target=params,  \n",
    "    overwrite=True,   \n",
    "    step=20000\n",
    ")"
   ]
  },
  {
   "cell_type": "code",
   "execution_count": null,
   "id": "57c678fc-60b4-4add-8bd6-e75a9de8c187",
   "metadata": {
    "tags": []
   },
   "outputs": [],
   "source": [
    "checkpoints.save_checkpoint(\n",
    "    ckpt_dir=f'checkpoints/finalfinal/{filestr}_bestparams_loss',  \n",
    "    target=best_params_loss,  \n",
    "    overwrite=True,   \n",
    "    step=20000\n",
    ")"
   ]
  },
  {
   "cell_type": "code",
   "execution_count": null,
   "id": "6f99c5e3-c433-40e0-8ed5-52b5766d09ad",
   "metadata": {},
   "outputs": [],
   "source": [
    "checkpoints.save_checkpoint(\n",
    "    ckpt_dir=f'checkpoints/finalfinal/{filestr}_bestparams_mmd',  \n",
    "    target=best_params_mmd,  \n",
    "    overwrite=True,   \n",
    "    step=20000\n",
    ")"
   ]
  },
  {
   "cell_type": "code",
   "execution_count": null,
   "id": "5cd50834-f3e9-4cd1-ab34-dba00405a2fe",
   "metadata": {},
   "outputs": [],
   "source": []
  },
  {
   "cell_type": "markdown",
   "id": "2e776b6d-67cf-460c-8ecc-317f28193a71",
   "metadata": {},
   "source": [
    "### 12 Blocks"
   ]
  },
  {
   "cell_type": "code",
   "execution_count": null,
   "id": "5db22f9c-d193-459c-a8f3-a809077cfc34",
   "metadata": {
    "tags": []
   },
   "outputs": [],
   "source": [
    "NPOT_PREFIX = '12Bl'"
   ]
  },
  {
   "cell_type": "code",
   "execution_count": null,
   "id": "1d39aaa8-bc99-4c1b-9d9c-f52ab59cff23",
   "metadata": {
    "tags": []
   },
   "outputs": [],
   "source": [
    "key = random.PRNGKey(42)\n",
    "data_key, key = random.split(key, 2)"
   ]
  },
  {
   "cell_type": "code",
   "execution_count": null,
   "id": "3035b6dd-9704-4fb7-aa3f-ccadfa25ecca",
   "metadata": {
    "tags": []
   },
   "outputs": [],
   "source": [
    "EPOCHS = 20000\n",
    "MODEL = RealNVP.RealNVP(\n",
    "    NVP_net=RealNVP.NVP_l,\n",
    "    num_blocks=12,\n",
    "    key=key,\n",
    "    input_dim=2,\n",
    "    hidden_dim=64,\n",
    "    prior_type='gaussian',\n",
    "    prior_args=None,\n",
    "    use_dropout=False,\n",
    "    dropout_proba=None\n",
    ")\n",
    "LOSS_FUNC = jit(MODEL._loss_l2)\n",
    "VAL_LOSS_FUNC = jit(MODEL.metrics)\n",
    "LOSS_KWARGS = {'alpha': 1e-4}\n",
    "VAL_LOSS_KWARGS = {'normal_batch': normal_sample}"
   ]
  },
  {
   "cell_type": "code",
   "execution_count": null,
   "id": "bd41fd8b-83c7-4511-a4bd-98c519644abe",
   "metadata": {
    "tags": []
   },
   "outputs": [],
   "source": [
    "# Exponential decay of the learning rate.\n",
    "scheduler = optax.exponential_decay(\n",
    "    init_value=2e-2, \n",
    "    transition_steps=1000,\n",
    "    transition_begin=0,\n",
    "    decay_rate=0.6)\n",
    "\n",
    "gradient_transform = optax.chain(\n",
    "    optax.scale_by_adam(),              # Use the updates from adam.\n",
    "    optax.scale_by_schedule(scheduler), # Adapt LR\n",
    "    optax.scale(-1.0)                   # Scale updates by -1 since optax.apply_updates \n",
    "                                        # is additive and we want to descend on the loss.\n",
    ")"
   ]
  },
  {
   "cell_type": "code",
   "execution_count": null,
   "id": "52f3915b-438a-4817-b792-d065bdd2acc7",
   "metadata": {
    "tags": []
   },
   "outputs": [],
   "source": [
    "params = MODEL.params\n",
    "opt_state = gradient_transform.init(params)"
   ]
  },
  {
   "cell_type": "code",
   "execution_count": null,
   "id": "4cde0f25-4e2f-4d57-ad32-11181d1925a7",
   "metadata": {
    "tags": []
   },
   "outputs": [],
   "source": [
    "report_as_csv = True\n",
    "report_filename = '_'.join([MODEL_PREFIX, PRECISION_PREFIX, DATASET_PREFIX, NPOT_PREFIX]) + '.csv'"
   ]
  },
  {
   "cell_type": "code",
   "execution_count": null,
   "id": "40b3627d-c59c-474d-bd36-e9fd358a5eac",
   "metadata": {
    "tags": []
   },
   "outputs": [],
   "source": [
    "ret = run(train, params, opt_state, data_key)\n",
    "(train_losses, val_losses, val_mmds, val_inv_errors, \n",
    " best_epoch_mmd, best_val_mmd, best_params_mmd, \n",
    " best_epoch_loss, best_val_loss, best_params_loss, params) = ret"
   ]
  },
  {
   "cell_type": "code",
   "execution_count": null,
   "id": "d34afc2d-12dc-4a62-bba3-5b3da0d7925b",
   "metadata": {
    "tags": []
   },
   "outputs": [],
   "source": [
    "print(f'\\nBest Epoch MMD: {best_epoch_mmd} --- Val MMD: {best_val_mmd}')\n",
    "test_loss, test_inv_error, test_mmd = eval_val(test, best_params_mmd)\n",
    "print(f'Best Model MMD --- Test Loss: {test_loss}, Test Inv Error: {test_inv_error}, Test MMD: {test_mmd}')\n",
    "    \n",
    "print(f'\\nBest Epoch Loss: {best_epoch_loss} --- Val Loss: {best_val_loss}')\n",
    "test_loss, test_inv_error, test_mmd = eval_val(test, best_params_loss)\n",
    "print(f'Best Model Loss --- Test Loss: {test_loss}, Test Inv Error: {test_inv_error}, Test MMD: {test_mmd}')"
   ]
  },
  {
   "cell_type": "code",
   "execution_count": null,
   "id": "bf1e1118-eb3b-4903-b464-dbe51baa3886",
   "metadata": {
    "tags": []
   },
   "outputs": [],
   "source": [
    "fig, ax = plt.subplots(1, 2, figsize=(16,6))\n",
    "ax[0].semilogy(train_losses, label='train loss')\n",
    "ax[0].semilogy(val_losses, label='validation loss')\n",
    "ax[1].semilogy(train_losses[1000:], label='train loss')\n",
    "ax[1].semilogy(val_losses[1000:], label='validation loss')\n",
    "plt.legend()"
   ]
  },
  {
   "cell_type": "code",
   "execution_count": null,
   "id": "be0b89f3-923e-45ca-a1e2-47c8c7f0af82",
   "metadata": {},
   "outputs": [],
   "source": []
  },
  {
   "cell_type": "code",
   "execution_count": null,
   "id": "7c8f2d66-8e4b-4ebc-b2a3-8c48addc9566",
   "metadata": {
    "tags": []
   },
   "outputs": [],
   "source": [
    "filestr = '_'.join([MODEL_PREFIX, PRECISION_PREFIX, DATASET_PREFIX, NPOT_PREFIX])\n",
    "checkpoints.save_checkpoint(\n",
    "    ckpt_dir=f'checkpoints/finalfinal/{filestr}_params',  \n",
    "    target=params,  \n",
    "    overwrite=True,   \n",
    "    step=20000\n",
    ")"
   ]
  },
  {
   "cell_type": "code",
   "execution_count": null,
   "id": "28ca93d8-89a8-4fb0-ac77-26fe85b40e48",
   "metadata": {
    "tags": []
   },
   "outputs": [],
   "source": [
    "checkpoints.save_checkpoint(\n",
    "    ckpt_dir=f'checkpoints/finalfinal/{filestr}_bestparams_loss',  \n",
    "    target=best_params_loss,  \n",
    "    overwrite=True,   \n",
    "    step=20000\n",
    ")"
   ]
  },
  {
   "cell_type": "code",
   "execution_count": null,
   "id": "ac5d533e-83cb-483f-99c9-26b07e30e409",
   "metadata": {},
   "outputs": [],
   "source": [
    "checkpoints.save_checkpoint(\n",
    "    ckpt_dir=f'checkpoints/finalfinal/{filestr}_bestparams_mmd',  \n",
    "    target=best_params_mmd,  \n",
    "    overwrite=True,   \n",
    "    step=20000\n",
    ")"
   ]
  },
  {
   "cell_type": "code",
   "execution_count": null,
   "id": "d6826055-204b-4b21-8370-874527a0152b",
   "metadata": {},
   "outputs": [],
   "source": []
  },
  {
   "cell_type": "markdown",
   "id": "5e5f80c9-02eb-400f-a40b-9a7a6172e80b",
   "metadata": {},
   "source": [
    "### 16 Blocks"
   ]
  },
  {
   "cell_type": "code",
   "execution_count": null,
   "id": "4f763c03-87de-4c7b-9ddb-ade890f9e2c2",
   "metadata": {
    "tags": []
   },
   "outputs": [],
   "source": [
    "NPOT_PREFIX = '16Bl'"
   ]
  },
  {
   "cell_type": "code",
   "execution_count": null,
   "id": "db65c538-52ae-4b2c-ba08-2d3ce7988708",
   "metadata": {
    "tags": []
   },
   "outputs": [],
   "source": [
    "key = random.PRNGKey(42)\n",
    "data_key, key = random.split(key, 2)"
   ]
  },
  {
   "cell_type": "code",
   "execution_count": null,
   "id": "d93c1e6b-db13-4e49-85e0-012449b1d962",
   "metadata": {
    "tags": []
   },
   "outputs": [],
   "source": [
    "EPOCHS = 20000\n",
    "MODEL = RealNVP.RealNVP(\n",
    "    NVP_net=RealNVP.NVP_l,\n",
    "    num_blocks=16,\n",
    "    key=key,\n",
    "    input_dim=2,\n",
    "    hidden_dim=64,\n",
    "    prior_type='gaussian',\n",
    "    prior_args=None,\n",
    "    use_dropout=False,\n",
    "    dropout_proba=None\n",
    ")\n",
    "LOSS_FUNC = jit(MODEL._loss_l2)\n",
    "VAL_LOSS_FUNC = jit(MODEL.metrics)\n",
    "LOSS_KWARGS = {'alpha': 1e-4}\n",
    "VAL_LOSS_KWARGS = {'normal_batch': normal_sample}"
   ]
  },
  {
   "cell_type": "code",
   "execution_count": null,
   "id": "c363ca0c-5021-460c-9b8b-6964946f9ab8",
   "metadata": {
    "tags": []
   },
   "outputs": [],
   "source": [
    "# Exponential decay of the learning rate.\n",
    "scheduler = optax.exponential_decay(\n",
    "    init_value=2e-2, \n",
    "    transition_steps=1000,\n",
    "    transition_begin=0,\n",
    "    decay_rate=0.6)\n",
    "\n",
    "gradient_transform = optax.chain(\n",
    "    optax.scale_by_adam(),              # Use the updates from adam.\n",
    "    optax.scale_by_schedule(scheduler), # Adapt LR\n",
    "    optax.scale(-1.0)                   # Scale updates by -1 since optax.apply_updates \n",
    "                                        # is additive and we want to descend on the loss.\n",
    ")"
   ]
  },
  {
   "cell_type": "code",
   "execution_count": null,
   "id": "529e121e-e3af-4e71-b16e-b9d9e9926915",
   "metadata": {
    "tags": []
   },
   "outputs": [],
   "source": [
    "params = MODEL.params\n",
    "opt_state = gradient_transform.init(params)"
   ]
  },
  {
   "cell_type": "code",
   "execution_count": null,
   "id": "a1de14b2-abe1-4bb6-a2d6-a7885a260b50",
   "metadata": {
    "tags": []
   },
   "outputs": [],
   "source": [
    "report_as_csv = True\n",
    "report_filename = '_'.join([MODEL_PREFIX, PRECISION_PREFIX, DATASET_PREFIX, NPOT_PREFIX]) + '.csv'"
   ]
  },
  {
   "cell_type": "code",
   "execution_count": null,
   "id": "2afff34f-5b9f-4f6c-923e-0a126440a7ea",
   "metadata": {
    "tags": []
   },
   "outputs": [],
   "source": [
    "ret = run(train, params, opt_state, data_key)\n",
    "(train_losses, val_losses, val_mmds, val_inv_errors, \n",
    " best_epoch_mmd, best_val_mmd, best_params_mmd, \n",
    " best_epoch_loss, best_val_loss, best_params_loss, params) = ret"
   ]
  },
  {
   "cell_type": "code",
   "execution_count": null,
   "id": "51718579-a888-42e6-9702-0fc1b66ef3a5",
   "metadata": {
    "tags": []
   },
   "outputs": [],
   "source": [
    "print(f'\\nBest Epoch MMD: {best_epoch_mmd} --- Val MMD: {best_val_mmd}')\n",
    "test_loss, test_inv_error, test_mmd = eval_val(test, best_params_mmd)\n",
    "print(f'Best Model MMD --- Test Loss: {test_loss}, Test Inv Error: {test_inv_error}, Test MMD: {test_mmd}')\n",
    "    \n",
    "print(f'\\nBest Epoch Loss: {best_epoch_loss} --- Val Loss: {best_val_loss}')\n",
    "test_loss, test_inv_error, test_mmd = eval_val(test, best_params_loss)\n",
    "print(f'Best Model Loss --- Test Loss: {test_loss}, Test Inv Error: {test_inv_error}, Test MMD: {test_mmd}')"
   ]
  },
  {
   "cell_type": "code",
   "execution_count": null,
   "id": "b24d07bf-667b-49df-ab80-3228ff153e46",
   "metadata": {
    "tags": []
   },
   "outputs": [],
   "source": [
    "fig, ax = plt.subplots(1, 2, figsize=(16,6))\n",
    "ax[0].semilogy(train_losses, label='train loss')\n",
    "ax[0].semilogy(val_losses, label='validation loss')\n",
    "ax[1].semilogy(train_losses[1000:], label='train loss')\n",
    "ax[1].semilogy(val_losses[1000:], label='validation loss')\n",
    "plt.legend()"
   ]
  },
  {
   "cell_type": "code",
   "execution_count": null,
   "id": "25188dd9-360d-4b43-a270-f0e18aaa7c80",
   "metadata": {},
   "outputs": [],
   "source": []
  },
  {
   "cell_type": "code",
   "execution_count": null,
   "id": "63b295f0-37c1-47e0-bd41-27ecca162931",
   "metadata": {
    "tags": []
   },
   "outputs": [],
   "source": [
    "filestr = '_'.join([MODEL_PREFIX, PRECISION_PREFIX, DATASET_PREFIX, NPOT_PREFIX])\n",
    "checkpoints.save_checkpoint(\n",
    "    ckpt_dir=f'checkpoints/finalfinal/{filestr}_params',  \n",
    "    target=params,  \n",
    "    overwrite=True,   \n",
    "    step=20000\n",
    ")"
   ]
  },
  {
   "cell_type": "code",
   "execution_count": null,
   "id": "bbc5a719-aadd-4745-a15a-ca059bbece44",
   "metadata": {
    "tags": []
   },
   "outputs": [],
   "source": [
    "checkpoints.save_checkpoint(\n",
    "    ckpt_dir=f'checkpoints/finalfinal/{filestr}_bestparams_loss',  \n",
    "    target=best_params_loss,  \n",
    "    overwrite=True,   \n",
    "    step=20000\n",
    ")"
   ]
  },
  {
   "cell_type": "code",
   "execution_count": null,
   "id": "da3cc765-6dcb-4d4f-9a98-bbeef7af4fce",
   "metadata": {},
   "outputs": [],
   "source": [
    "checkpoints.save_checkpoint(\n",
    "    ckpt_dir=f'checkpoints/finalfinal/{filestr}_bestparams_mmd',  \n",
    "    target=best_params_mmd,  \n",
    "    overwrite=True,   \n",
    "    step=20000\n",
    ")"
   ]
  },
  {
   "cell_type": "markdown",
   "id": "28db4b1a-c4f9-4eeb-9edc-23b49634b1cf",
   "metadata": {},
   "source": [
    "### 24 Blocks"
   ]
  },
  {
   "cell_type": "code",
   "execution_count": null,
   "id": "3f22547d-852f-47e2-a05d-38155b01b5fc",
   "metadata": {
    "tags": []
   },
   "outputs": [],
   "source": [
    "NPOT_PREFIX = '24Bl'"
   ]
  },
  {
   "cell_type": "code",
   "execution_count": null,
   "id": "4c946bcb-1ab4-4d85-8dd3-da39fb8f8771",
   "metadata": {
    "tags": []
   },
   "outputs": [],
   "source": [
    "key = random.PRNGKey(42)\n",
    "data_key, key = random.split(key, 2)"
   ]
  },
  {
   "cell_type": "code",
   "execution_count": null,
   "id": "15c10a02-9299-40a4-b655-5ec6725269b4",
   "metadata": {
    "tags": []
   },
   "outputs": [],
   "source": [
    "EPOCHS = 20000\n",
    "MODEL = RealNVP.RealNVP(\n",
    "    NVP_net=RealNVP.NVP_l,\n",
    "    num_blocks=24,\n",
    "    key=key,\n",
    "    input_dim=2,\n",
    "    hidden_dim=64,\n",
    "    prior_type='gaussian',\n",
    "    prior_args=None,\n",
    "    use_dropout=False,\n",
    "    dropout_proba=None\n",
    ")\n",
    "LOSS_FUNC = jit(MODEL._loss_l2)\n",
    "VAL_LOSS_FUNC = jit(MODEL.metrics)\n",
    "LOSS_KWARGS = {'alpha': 1e-4}\n",
    "VAL_LOSS_KWARGS = {'normal_batch': normal_sample}"
   ]
  },
  {
   "cell_type": "code",
   "execution_count": null,
   "id": "63bfedcf-61bc-4e97-aac9-e6cb88a433cd",
   "metadata": {
    "tags": []
   },
   "outputs": [],
   "source": [
    "# Exponential decay of the learning rate.\n",
    "scheduler = optax.exponential_decay(\n",
    "    init_value=2e-2, \n",
    "    transition_steps=1000,\n",
    "    transition_begin=0,\n",
    "    decay_rate=0.6)\n",
    "\n",
    "gradient_transform = optax.chain(\n",
    "    optax.scale_by_adam(),              # Use the updates from adam.\n",
    "    optax.scale_by_schedule(scheduler), # Adapt LR\n",
    "    optax.scale(-1.0)                   # Scale updates by -1 since optax.apply_updates \n",
    "                                        # is additive and we want to descend on the loss.\n",
    ")"
   ]
  },
  {
   "cell_type": "code",
   "execution_count": null,
   "id": "f8b965db-7588-4480-8165-3e5ea4789433",
   "metadata": {
    "tags": []
   },
   "outputs": [],
   "source": [
    "params = MODEL.params\n",
    "opt_state = gradient_transform.init(params)"
   ]
  },
  {
   "cell_type": "code",
   "execution_count": null,
   "id": "5e729c76-33f5-41b2-a38a-b0cec24bb8e0",
   "metadata": {
    "tags": []
   },
   "outputs": [],
   "source": [
    "report_as_csv = True\n",
    "report_filename = '_'.join([MODEL_PREFIX, PRECISION_PREFIX, DATASET_PREFIX, NPOT_PREFIX]) + '.csv'"
   ]
  },
  {
   "cell_type": "code",
   "execution_count": null,
   "id": "9126ecf6-74f1-4feb-8c96-cfb6d145f0f4",
   "metadata": {
    "tags": []
   },
   "outputs": [],
   "source": [
    "ret = run(train, params, opt_state, data_key)\n",
    "(train_losses, val_losses, val_mmds, val_inv_errors, \n",
    " best_epoch_mmd, best_val_mmd, best_params_mmd, \n",
    " best_epoch_loss, best_val_loss, best_params_loss, params) = ret"
   ]
  },
  {
   "cell_type": "code",
   "execution_count": null,
   "id": "5058c37f-60fc-48da-9e6d-ce0a9f7e7373",
   "metadata": {
    "tags": []
   },
   "outputs": [],
   "source": [
    "print(f'\\nBest Epoch MMD: {best_epoch_mmd} --- Val MMD: {best_val_mmd}')\n",
    "test_loss, test_inv_error, test_mmd = eval_val(test, best_params_mmd)\n",
    "print(f'Best Model MMD --- Test Loss: {test_loss}, Test Inv Error: {test_inv_error}, Test MMD: {test_mmd}')\n",
    "    \n",
    "print(f'\\nBest Epoch Loss: {best_epoch_loss} --- Val Loss: {best_val_loss}')\n",
    "test_loss, test_inv_error, test_mmd = eval_val(test, best_params_loss)\n",
    "print(f'Best Model Loss --- Test Loss: {test_loss}, Test Inv Error: {test_inv_error}, Test MMD: {test_mmd}')"
   ]
  },
  {
   "cell_type": "code",
   "execution_count": null,
   "id": "056ac42e-5ec6-4d55-9a50-4b31bd0f2a58",
   "metadata": {
    "tags": []
   },
   "outputs": [],
   "source": [
    "fig, ax = plt.subplots(1, 2, figsize=(16,6))\n",
    "ax[0].semilogy(train_losses, label='train loss')\n",
    "ax[0].semilogy(val_losses, label='validation loss')\n",
    "ax[1].semilogy(train_losses[1000:], label='train loss')\n",
    "ax[1].semilogy(val_losses[1000:], label='validation loss')\n",
    "plt.legend()"
   ]
  },
  {
   "cell_type": "code",
   "execution_count": null,
   "id": "ef4f0a71-f0d8-49d4-9a89-94b4798bb2b9",
   "metadata": {},
   "outputs": [],
   "source": []
  },
  {
   "cell_type": "code",
   "execution_count": null,
   "id": "a53ff7a6-56e3-439b-8b5b-58b8782b4521",
   "metadata": {
    "tags": []
   },
   "outputs": [],
   "source": [
    "filestr = '_'.join([MODEL_PREFIX, PRECISION_PREFIX, DATASET_PREFIX, NPOT_PREFIX])\n",
    "checkpoints.save_checkpoint(\n",
    "    ckpt_dir=f'checkpoints/finalfinal/{filestr}_params',  \n",
    "    target=params,  \n",
    "    overwrite=True,   \n",
    "    step=20000\n",
    ")"
   ]
  },
  {
   "cell_type": "code",
   "execution_count": null,
   "id": "7259ec52-6f36-4f1b-a892-41d55ffffc62",
   "metadata": {
    "tags": []
   },
   "outputs": [],
   "source": [
    "checkpoints.save_checkpoint(\n",
    "    ckpt_dir=f'checkpoints/finalfinal/{filestr}_bestparams_loss',  \n",
    "    target=best_params_loss,  \n",
    "    overwrite=True,   \n",
    "    step=20000\n",
    ")"
   ]
  },
  {
   "cell_type": "code",
   "execution_count": null,
   "id": "d42a29e3-26c1-458f-92ba-e3a3132799ae",
   "metadata": {},
   "outputs": [],
   "source": [
    "checkpoints.save_checkpoint(\n",
    "    ckpt_dir=f'checkpoints/finalfinal/{filestr}_bestparams_mmd',  \n",
    "    target=best_params_mmd,  \n",
    "    overwrite=True,   \n",
    "    step=20000\n",
    ")"
   ]
  },
  {
   "cell_type": "code",
   "execution_count": null,
   "id": "a8e1b69b-750e-4993-97f4-1b6ac4f69fa7",
   "metadata": {},
   "outputs": [],
   "source": []
  },
  {
   "cell_type": "code",
   "execution_count": null,
   "id": "f83e40d7-7433-42c1-9286-67cc3d0b34bc",
   "metadata": {},
   "outputs": [],
   "source": []
  },
  {
   "cell_type": "markdown",
   "id": "75adc003-faac-48c3-88ac-bdf6855e853a",
   "metadata": {},
   "source": [
    "### 32 Blocks"
   ]
  },
  {
   "cell_type": "code",
   "execution_count": null,
   "id": "096a5794-0f4f-408a-8da1-285daac48066",
   "metadata": {
    "tags": []
   },
   "outputs": [],
   "source": [
    "NPOT_PREFIX = '32Bl'"
   ]
  },
  {
   "cell_type": "code",
   "execution_count": null,
   "id": "8fee0e6b-0017-4e2a-9bcd-24d8c1efea10",
   "metadata": {
    "tags": []
   },
   "outputs": [],
   "source": [
    "key = random.PRNGKey(42)\n",
    "data_key, key = random.split(key, 2)"
   ]
  },
  {
   "cell_type": "code",
   "execution_count": null,
   "id": "bda0089a-ce24-4079-882d-33639052c144",
   "metadata": {
    "tags": []
   },
   "outputs": [],
   "source": [
    "EPOCHS = 20000\n",
    "MODEL = RealNVP.RealNVP(\n",
    "    NVP_net=RealNVP.NVP_l,\n",
    "    num_blocks=32,\n",
    "    key=key,\n",
    "    input_dim=2,\n",
    "    hidden_dim=64,\n",
    "    prior_type='gaussian',\n",
    "    prior_args=None,\n",
    "    use_dropout=False,\n",
    "    dropout_proba=None\n",
    ")\n",
    "LOSS_FUNC = jit(MODEL._loss_l2)\n",
    "VAL_LOSS_FUNC = jit(MODEL.metrics)\n",
    "LOSS_KWARGS = {'alpha': 1e-4}\n",
    "VAL_LOSS_KWARGS = {'normal_batch': normal_sample}"
   ]
  },
  {
   "cell_type": "code",
   "execution_count": null,
   "id": "3a541af3-f0b4-4c69-9f91-6bec9a2cad3e",
   "metadata": {
    "tags": []
   },
   "outputs": [],
   "source": [
    "# Exponential decay of the learning rate.\n",
    "scheduler = optax.exponential_decay(\n",
    "    init_value=2e-2, \n",
    "    transition_steps=1000,\n",
    "    transition_begin=0,\n",
    "    decay_rate=0.6)\n",
    "\n",
    "gradient_transform = optax.chain(\n",
    "    optax.scale_by_adam(),              # Use the updates from adam.\n",
    "    optax.scale_by_schedule(scheduler), # Adapt LR\n",
    "    optax.scale(-1.0)                   # Scale updates by -1 since optax.apply_updates \n",
    "                                        # is additive and we want to descend on the loss.\n",
    ")"
   ]
  },
  {
   "cell_type": "code",
   "execution_count": null,
   "id": "2cb3f0c1-e43b-4cb1-a939-cba771b2c489",
   "metadata": {
    "tags": []
   },
   "outputs": [],
   "source": [
    "params = MODEL.params\n",
    "opt_state = gradient_transform.init(params)"
   ]
  },
  {
   "cell_type": "code",
   "execution_count": null,
   "id": "31bc0eda-d28a-4157-9da5-4e037e4b39e0",
   "metadata": {
    "tags": []
   },
   "outputs": [],
   "source": [
    "report_as_csv = True\n",
    "report_filename = '_'.join([MODEL_PREFIX, PRECISION_PREFIX, DATASET_PREFIX, NPOT_PREFIX]) + '.csv'"
   ]
  },
  {
   "cell_type": "code",
   "execution_count": null,
   "id": "91bc54c8-370c-4763-a5d5-8b0dfab2f390",
   "metadata": {
    "tags": []
   },
   "outputs": [],
   "source": [
    "ret = run(train, params, opt_state, data_key)\n",
    "(train_losses, val_losses, val_mmds, val_inv_errors, \n",
    " best_epoch_mmd, best_val_mmd, best_params_mmd, \n",
    " best_epoch_loss, best_val_loss, best_params_loss, params) = ret"
   ]
  },
  {
   "cell_type": "code",
   "execution_count": null,
   "id": "03ab3164-3ff3-4edf-9f97-c548d7455717",
   "metadata": {
    "tags": []
   },
   "outputs": [],
   "source": [
    "print(f'\\nBest Epoch MMD: {best_epoch_mmd} --- Val MMD: {best_val_mmd}')\n",
    "test_loss, test_inv_error, test_mmd = eval_val(test, best_params_mmd)\n",
    "print(f'Best Model MMD --- Test Loss: {test_loss}, Test Inv Error: {test_inv_error}, Test MMD: {test_mmd}')\n",
    "    \n",
    "print(f'\\nBest Epoch Loss: {best_epoch_loss} --- Val Loss: {best_val_loss}')\n",
    "test_loss, test_inv_error, test_mmd = eval_val(test, best_params_loss)\n",
    "print(f'Best Model Loss --- Test Loss: {test_loss}, Test Inv Error: {test_inv_error}, Test MMD: {test_mmd}')"
   ]
  },
  {
   "cell_type": "code",
   "execution_count": null,
   "id": "f9115499-7636-4c29-ba47-3a69d8a53cb4",
   "metadata": {
    "tags": []
   },
   "outputs": [],
   "source": [
    "fig, ax = plt.subplots(1, 2, figsize=(16,6))\n",
    "ax[0].semilogy(train_losses, label='train loss')\n",
    "ax[0].semilogy(val_losses, label='validation loss')\n",
    "ax[1].semilogy(train_losses[1000:], label='train loss')\n",
    "ax[1].semilogy(val_losses[1000:], label='validation loss')\n",
    "plt.legend()"
   ]
  },
  {
   "cell_type": "code",
   "execution_count": null,
   "id": "c832a749-23ba-46d5-aca9-4409f5868865",
   "metadata": {},
   "outputs": [],
   "source": []
  },
  {
   "cell_type": "code",
   "execution_count": null,
   "id": "b2a4c634-a714-4277-80e8-9c05f9295bee",
   "metadata": {
    "tags": []
   },
   "outputs": [],
   "source": [
    "filestr = '_'.join([MODEL_PREFIX, PRECISION_PREFIX, DATASET_PREFIX, NPOT_PREFIX])\n",
    "checkpoints.save_checkpoint(\n",
    "    ckpt_dir=f'checkpoints/finalfinal/{filestr}_params',  \n",
    "    target=params,  \n",
    "    overwrite=True,   \n",
    "    step=20000\n",
    ")"
   ]
  },
  {
   "cell_type": "code",
   "execution_count": null,
   "id": "e184ba5d-e15f-456d-971a-cdc9ba28075d",
   "metadata": {
    "tags": []
   },
   "outputs": [],
   "source": [
    "checkpoints.save_checkpoint(\n",
    "    ckpt_dir=f'checkpoints/finalfinal/{filestr}_bestparams_loss',  \n",
    "    target=best_params_loss,  \n",
    "    overwrite=True,   \n",
    "    step=20000\n",
    ")"
   ]
  },
  {
   "cell_type": "code",
   "execution_count": null,
   "id": "091ea3a0-ae8f-4f8c-8e6f-0c3fb92ca480",
   "metadata": {},
   "outputs": [],
   "source": [
    "checkpoints.save_checkpoint(\n",
    "    ckpt_dir=f'checkpoints/finalfinal/{filestr}_bestparams_mmd',  \n",
    "    target=best_params_mmd,  \n",
    "    overwrite=True,   \n",
    "    step=20000\n",
    ")"
   ]
  },
  {
   "cell_type": "code",
   "execution_count": null,
   "id": "9a9daabe-2c2a-4a1f-99d8-532fd48255a4",
   "metadata": {},
   "outputs": [],
   "source": []
  }
 ],
 "metadata": {
  "kernelspec": {
   "display_name": "Python 3 (ipykernel)",
   "language": "python",
   "name": "python3"
  },
  "language_info": {
   "codemirror_mode": {
    "name": "ipython",
    "version": 3
   },
   "file_extension": ".py",
   "mimetype": "text/x-python",
   "name": "python",
   "nbconvert_exporter": "python",
   "pygments_lexer": "ipython3",
   "version": "3.9.16"
  }
 },
 "nbformat": 4,
 "nbformat_minor": 5
}
