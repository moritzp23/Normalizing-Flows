{
 "cells": [
  {
   "cell_type": "code",
   "execution_count": null,
   "id": "67399eb4-c6f0-4695-af85-3de4d6e80028",
   "metadata": {
    "tags": []
   },
   "outputs": [],
   "source": [
    "import os\n",
    "os.environ['CUDA_VISIBLE_DEVICES'] = '0'\n",
    "\n",
    "from jax import config\n",
    "config.update(\"jax_enable_x64\", False)"
   ]
  },
  {
   "cell_type": "code",
   "execution_count": null,
   "id": "03664c2b-c2b7-4ba3-bf11-254b2a566bde",
   "metadata": {
    "tags": []
   },
   "outputs": [],
   "source": [
    "import OTF, CNF, RealNVP, DatasetGenerator\n",
    "import numpy as np\n",
    "import pandas as pd\n",
    "import optax\n",
    "import matplotlib.pyplot as plt\n",
    "\n",
    "from jax import jit, grad, value_and_grad, random\n",
    "from flax.training import checkpoints\n",
    "\n",
    "# plotting, move this to seperate notebook\n",
    "from jax import vmap\n",
    "import jax.numpy as jnp\n",
    "from matplotlib import colormaps"
   ]
  },
  {
   "cell_type": "code",
   "execution_count": null,
   "id": "e396b62b-cc32-4d9c-ab1d-b2be04487f04",
   "metadata": {},
   "outputs": [],
   "source": []
  },
  {
   "cell_type": "code",
   "execution_count": null,
   "id": "8122c802-50ab-4a14-aede-c7190b0e1013",
   "metadata": {},
   "outputs": [],
   "source": [
    "jnp.exp(17)"
   ]
  },
  {
   "cell_type": "code",
   "execution_count": null,
   "id": "97a8d749-fbd0-4d51-9b6a-de9d900bfade",
   "metadata": {},
   "outputs": [],
   "source": []
  },
  {
   "cell_type": "markdown",
   "id": "9dfa2fe0-1f9c-4559-a641-2b25296e61bd",
   "metadata": {},
   "source": [
    "# Gen Dataset"
   ]
  },
  {
   "cell_type": "code",
   "execution_count": null,
   "id": "c45068bb-42fe-46f6-b7ee-efe0d394d650",
   "metadata": {
    "tags": []
   },
   "outputs": [],
   "source": [
    "PRECISION_PREFIX = 'float32'"
   ]
  },
  {
   "cell_type": "code",
   "execution_count": null,
   "id": "91b91974-237f-4338-999b-febfff4dea2f",
   "metadata": {
    "tags": []
   },
   "outputs": [],
   "source": [
    "key = random.PRNGKey(seed=42)"
   ]
  },
  {
   "cell_type": "code",
   "execution_count": null,
   "id": "794dc4f9-7fcb-4cb8-88c5-e32e8e4c1ba3",
   "metadata": {
    "tags": []
   },
   "outputs": [],
   "source": [
    "training_size = 10000\n",
    "validation_size = 10000\n",
    "test_size = 20000"
   ]
  },
  {
   "cell_type": "code",
   "execution_count": null,
   "id": "53c34c4d-1756-41b1-8f3f-028714517fd1",
   "metadata": {
    "tags": []
   },
   "outputs": [],
   "source": [
    "BATCH_SIZE_TR = training_size\n",
    "BATCH_SIZE_VAL_TE = validation_size"
   ]
  },
  {
   "cell_type": "code",
   "execution_count": null,
   "id": "64341d0f-7091-4cae-a06e-22cae1e57a79",
   "metadata": {
    "tags": []
   },
   "outputs": [],
   "source": [
    "train, val, test = DatasetGenerator.make_tuc_logo(\n",
    "    key, \n",
    "    training_size, \n",
    "    validation_size, \n",
    "    test_size, \n",
    "    dtype=PRECISION_PREFIX,\n",
    ")\n",
    "normal_sample = random.normal(random.fold_in(key, 42), shape=(validation_size, 2), dtype=PRECISION_PREFIX)"
   ]
  },
  {
   "cell_type": "code",
   "execution_count": null,
   "id": "a79a63b7-bafa-4f18-adcf-c44debbe5835",
   "metadata": {},
   "outputs": [],
   "source": []
  },
  {
   "cell_type": "markdown",
   "id": "c10cce99-f7db-49c9-94fe-ad61cbba3b40",
   "metadata": {},
   "source": [
    "# Same NLL, Different MMD"
   ]
  },
  {
   "cell_type": "code",
   "execution_count": null,
   "id": "c2423c9e-c283-4df2-b67f-5a95282b42e3",
   "metadata": {
    "tags": []
   },
   "outputs": [],
   "source": [
    "middle = 'CNF_l2_float32_tuc-logo_1VF'"
   ]
  },
  {
   "cell_type": "code",
   "execution_count": null,
   "id": "7b23da8a-3b21-4d28-8814-ab5b27761302",
   "metadata": {
    "tags": []
   },
   "outputs": [],
   "source": [
    "params_best = checkpoints.restore_checkpoint('checkpoints/finalfinal/' + middle + '_bestparams_loss/checkpoint_20000/checkpoint', None)\n",
    "params_final = checkpoints.restore_checkpoint('checkpoints/finalfinal/' + middle + '_params/checkpoint_20000/checkpoint', None)"
   ]
  },
  {
   "cell_type": "code",
   "execution_count": null,
   "id": "2656c7ab-e0f3-4a46-8427-8f6bfddcab07",
   "metadata": {},
   "outputs": [],
   "source": [
    "MODEL = CNF.CNF(\n",
    "    input_dim=2,\n",
    "    hidden_dim=64,\n",
    "    out_dim=2,\n",
    "    depth=3,\n",
    "    num_blocks=1,\n",
    "    key=key,\n",
    "    f_theta_cls=CNF.f_theta,\n",
    "    exact_logp=True,     \n",
    "    num_steps=20\n",
    ")\n",
    "LOSS_FUNC = jit(MODEL._loss)\n",
    "VAL_LOSS_FUNC = jit(MODEL.metrics)\n",
    "LOSS_KWARGS = {} \n",
    "VAL_LOSS_KWARGS = {'normal_batch': normal_sample}"
   ]
  },
  {
   "cell_type": "code",
   "execution_count": null,
   "id": "addfa7c9-edf7-4f3a-80b1-8448d92d2bce",
   "metadata": {},
   "outputs": [],
   "source": [
    "EVAL_SOLVER_STEPS = 20"
   ]
  },
  {
   "cell_type": "code",
   "execution_count": null,
   "id": "8d622ae1-9228-48ae-8ad4-fb1bd35fdc12",
   "metadata": {},
   "outputs": [],
   "source": [
    "def eval_val(val_data, params, solver_steps):\n",
    "    return VAL_LOSS_FUNC(params=params, batch=val_data, **VAL_LOSS_KWARGS, solver_steps=solver_steps)"
   ]
  },
  {
   "cell_type": "code",
   "execution_count": null,
   "id": "c67d983b-4b8a-4c0f-b552-f67251c45ef4",
   "metadata": {},
   "outputs": [],
   "source": []
  },
  {
   "cell_type": "code",
   "execution_count": null,
   "id": "41975886-a078-4fc8-a145-972c292caa53",
   "metadata": {
    "tags": []
   },
   "outputs": [],
   "source": [
    "train_history = pd.read_csv('CNF_l2_float32_tuc-logo_1VF.csv', sep=',', index_col=0)"
   ]
  },
  {
   "cell_type": "code",
   "execution_count": null,
   "id": "b3b52e19-7d6d-4d9f-8467-2992cc7d4abd",
   "metadata": {
    "tags": []
   },
   "outputs": [],
   "source": [
    "plt.rcParams['axes.labelsize'] = 15\n",
    "plt.rcParams['axes.titlesize'] = 18\n",
    "plt.rcParams['xtick.labelsize']= 15\n",
    "plt.rcParams['ytick.labelsize']= 15"
   ]
  },
  {
   "cell_type": "code",
   "execution_count": null,
   "id": "09d4eeea-8e7f-436a-bcad-ee3ab4175222",
   "metadata": {
    "tags": []
   },
   "outputs": [],
   "source": [
    "fig, ax = plt.subplots(1,2,figsize=(16,6))\n",
    "ax[0].plot(train_history['Epoch'][0:] / 1000, train_history['Training Loss'][0:], label='Training')\n",
    "ax[0].plot(train_history['Epoch'][0:] / 1000, train_history['Validation Loss'][0:], label='Validation')\n",
    "ax[0].set_xlabel('Epoch / 1000')\n",
    "ax[0].set_ylabel('NLL')\n",
    "ax[0].legend()\n",
    "\n",
    "ax[1].semilogy(train_history['Epoch']/ 1000, train_history['Validation MMD'])\n",
    "ax[1].set_xlabel('Epoch / 1000')\n",
    "ax[1].set_ylabel('Validation MMD');"
   ]
  },
  {
   "cell_type": "code",
   "execution_count": null,
   "id": "25e4fb2f-886b-4111-a7b9-5c06ffd749e9",
   "metadata": {
    "tags": []
   },
   "outputs": [],
   "source": [
    "fig.savefig('discretization_metrics.png', bbox_inches='tight')"
   ]
  },
  {
   "cell_type": "code",
   "execution_count": null,
   "id": "363ef9a5-0440-4b64-b85e-3c689b193917",
   "metadata": {},
   "outputs": [],
   "source": []
  },
  {
   "cell_type": "code",
   "execution_count": null,
   "id": "00565c23-1fac-4257-be05-7a8a99c68b75",
   "metadata": {
    "tags": []
   },
   "outputs": [],
   "source": [
    "test_loss, test_inv_error, test_mmd = eval_val(test, params_best, EVAL_SOLVER_STEPS)\n",
    "print(f'Best Model Loss --- Test Loss: {test_loss}, Test Inv Error: {test_inv_error}, Test MMD: {test_mmd}')"
   ]
  },
  {
   "cell_type": "code",
   "execution_count": null,
   "id": "2ae1ea70-d321-4f84-8104-2746bebc225f",
   "metadata": {
    "tags": []
   },
   "outputs": [],
   "source": [
    "test_loss, test_inv_error, test_mmd = eval_val(test, params_best, 40)\n",
    "print(f'Best Model Loss --- Test Loss: {test_loss}, Test Inv Error: {test_inv_error}, Test MMD: {test_mmd}')"
   ]
  },
  {
   "cell_type": "code",
   "execution_count": null,
   "id": "77173b1c-225e-4321-a3f5-c3a665fdbec4",
   "metadata": {},
   "outputs": [],
   "source": []
  },
  {
   "cell_type": "code",
   "execution_count": null,
   "id": "77269464-4065-4882-8859-f11b211acb5a",
   "metadata": {
    "tags": []
   },
   "outputs": [],
   "source": [
    "ll, preimage = vmap(MODEL.log_pdf_and_preimage,  (0, None, None, None), 0)(test, EVAL_SOLVER_STEPS, params_best, True)"
   ]
  },
  {
   "cell_type": "code",
   "execution_count": null,
   "id": "3d1b18d4-4889-4e90-95e6-73ca4413816f",
   "metadata": {
    "tags": []
   },
   "outputs": [],
   "source": [
    "nll = -ll"
   ]
  },
  {
   "cell_type": "code",
   "execution_count": null,
   "id": "72e9c3ae-3956-4c42-ad5a-6259e6a1a8b3",
   "metadata": {
    "tags": []
   },
   "outputs": [],
   "source": [
    "fig, ax = plt.subplots(1,1)\n",
    "ax.hist(nll, bins=50, alpha=0.8, edgecolor = \"black\",)\n",
    "ax.set_xlabel(\"Test NLL\")\n",
    "ax.set_ylabel(\"Count\");"
   ]
  },
  {
   "cell_type": "code",
   "execution_count": null,
   "id": "75742021-5d4e-4c67-8068-548485703d19",
   "metadata": {
    "tags": []
   },
   "outputs": [],
   "source": [
    "ll, preimage = vmap(MODEL.log_pdf_and_preimage,  (0, None, None, None), 0)(test, 2 * EVAL_SOLVER_STEPS, params_best, True)"
   ]
  },
  {
   "cell_type": "code",
   "execution_count": null,
   "id": "8f6eb95e-aa01-4857-b2ad-cc616b66d69d",
   "metadata": {
    "tags": []
   },
   "outputs": [],
   "source": [
    "nll = -ll"
   ]
  },
  {
   "cell_type": "code",
   "execution_count": null,
   "id": "aa41da61-feb8-4d31-9500-c094dc41609e",
   "metadata": {
    "tags": []
   },
   "outputs": [],
   "source": [
    "fig, ax = plt.subplots(1,1)\n",
    "ax.hist(nll, bins=50, alpha=0.8, edgecolor = \"black\",)\n",
    "ax.set_xlabel(\"Test NLL\")\n",
    "ax.set_ylabel(\"Count\");"
   ]
  },
  {
   "cell_type": "code",
   "execution_count": null,
   "id": "0103af71-92d4-4fcf-a551-766922212240",
   "metadata": {},
   "outputs": [],
   "source": []
  },
  {
   "cell_type": "code",
   "execution_count": null,
   "id": "b2aac4c8-198d-4fb2-9731-422cd0aa7114",
   "metadata": {
    "tags": []
   },
   "outputs": [],
   "source": [
    "ll, preimage = vmap(MODEL.log_pdf_and_preimage,  \n",
    "                    (0, None, None, None), 0)(test, EVAL_SOLVER_STEPS, params_best, True)\n",
    "nll = -ll"
   ]
  },
  {
   "cell_type": "code",
   "execution_count": null,
   "id": "b0c6b518-34f3-4cfe-a2ac-632453d6236c",
   "metadata": {},
   "outputs": [],
   "source": [
    "fig, ax = plt.subplots(1,2, figsize=(16,6))\n",
    "ax[0].hist(nll, bins=50, alpha=0.8, edgecolor = \"black\",)\n",
    "ax[0].set_xlabel(\"Test NLL\")\n",
    "ax[0].set_ylabel(\"Count\");\n",
    "ax[0].set_title(r\"Mean Test NLL$=0.419$\")\n",
    "\n",
    "ll, preimage = vmap(MODEL.log_pdf_and_preimage,  \n",
    "                    (0, None, None, None), 0)(test, 2 * EVAL_SOLVER_STEPS, params_best, True)\n",
    "nll = -ll\n",
    "ax[1].hist(nll, bins=50, alpha=0.8, edgecolor = \"black\",)\n",
    "ax[1].set_xlabel(\"Test NLL\")\n",
    "ax[1].set_ylabel(\"Count\");\n",
    "ax[1].set_title(r\"Mean Test NLL$=2.977$\")"
   ]
  },
  {
   "cell_type": "code",
   "execution_count": null,
   "id": "77505c89-1141-4954-ba3a-5daec33d7c29",
   "metadata": {},
   "outputs": [],
   "source": [
    "fig.savefig('discretization_hist_bigger.png', bbox_inches='tight')"
   ]
  },
  {
   "cell_type": "code",
   "execution_count": null,
   "id": "e556ac20-2795-43f8-9664-868fc01ab9c6",
   "metadata": {},
   "outputs": [],
   "source": []
  },
  {
   "cell_type": "code",
   "execution_count": null,
   "id": "f6e13327-8e21-4941-a9f3-2468fafdeb13",
   "metadata": {
    "tags": []
   },
   "outputs": [],
   "source": []
  },
  {
   "cell_type": "code",
   "execution_count": null,
   "id": "28ccdde6-3f55-4b50-b25b-6eafb5b038ee",
   "metadata": {},
   "outputs": [],
   "source": []
  },
  {
   "cell_type": "code",
   "execution_count": null,
   "id": "88f92df5-ae9c-4b1d-9782-c55e0993ba7a",
   "metadata": {},
   "outputs": [],
   "source": []
  },
  {
   "cell_type": "code",
   "execution_count": null,
   "id": "16a62138-d96b-4254-b5ee-175b1cadcd01",
   "metadata": {},
   "outputs": [],
   "source": []
  },
  {
   "cell_type": "code",
   "execution_count": null,
   "id": "0ccc5d07-4455-4102-84fd-882ce76a270a",
   "metadata": {
    "tags": []
   },
   "outputs": [],
   "source": [
    "ll, preimage = vmap(MODEL.log_pdf_and_preimage,  (0, None, None, None), 0)(test, EVAL_SOLVER_STEPS, params_best, True)"
   ]
  },
  {
   "cell_type": "code",
   "execution_count": null,
   "id": "be7b64e2-22d5-4456-b6af-1aa83b57d488",
   "metadata": {
    "tags": []
   },
   "outputs": [],
   "source": [
    "nll = -ll"
   ]
  },
  {
   "cell_type": "code",
   "execution_count": null,
   "id": "5ce616ba-67eb-4496-892d-3efd4ea90ecc",
   "metadata": {
    "tags": []
   },
   "outputs": [],
   "source": [
    "faulty = test[nll < -7]\n",
    "not_faulty = test[nll >= -7]"
   ]
  },
  {
   "cell_type": "code",
   "execution_count": null,
   "id": "f43204c8-96aa-43e3-b58a-e44749dcf681",
   "metadata": {
    "tags": []
   },
   "outputs": [],
   "source": [
    "nll[nll >= -7].mean()"
   ]
  },
  {
   "cell_type": "code",
   "execution_count": null,
   "id": "cb20bca5-3e80-49b0-89e3-a2f8c521d61c",
   "metadata": {},
   "outputs": [],
   "source": [
    "faulty_pre = preimage[nll < -7]\n",
    "not_faulty_pre = preimage[nll >= -7]"
   ]
  },
  {
   "cell_type": "code",
   "execution_count": null,
   "id": "3320c091-ca4c-4042-8296-64aa6fcf87bf",
   "metadata": {
    "tags": []
   },
   "outputs": [],
   "source": [
    "plt.rcParams['axes.labelsize'] = 15\n",
    "plt.rcParams['axes.titlesize'] = 18\n",
    "plt.rcParams['xtick.labelsize']= 15\n",
    "plt.rcParams['ytick.labelsize']= 15"
   ]
  },
  {
   "cell_type": "code",
   "execution_count": null,
   "id": "616165ce-36d7-43a0-ad7c-83fa5e643629",
   "metadata": {
    "tags": []
   },
   "outputs": [],
   "source": [
    "fig, ax = plt.subplots(1,2,figsize=(16,6))\n",
    "\n",
    "ax[0].scatter(*not_faulty.T, s=1.)\n",
    "ax[0].scatter(*faulty.T, c='red', s=1.)\n",
    "\n",
    "ax[1].scatter(*not_faulty_pre.T, s=1.)\n",
    "ax[1].scatter(*faulty_pre.T, s=1., c='red')\n",
    "\n",
    "plt.setp(ax, xlabel='$x_1$ component', ylabel='$x_2$ component')"
   ]
  },
  {
   "cell_type": "code",
   "execution_count": null,
   "id": "86dda6f0-7bf1-467c-95ff-ae4d7cd57c4c",
   "metadata": {},
   "outputs": [],
   "source": [
    "fig.savefig('discretization_scatter.png', bbox_inches='tight')"
   ]
  },
  {
   "cell_type": "code",
   "execution_count": null,
   "id": "46ce003e-3f3f-457a-b4e6-d00e9bad5c4d",
   "metadata": {},
   "outputs": [],
   "source": []
  },
  {
   "cell_type": "code",
   "execution_count": null,
   "id": "c8effccd-7094-4e09-8ac2-8a4cbc7b33ac",
   "metadata": {
    "tags": []
   },
   "outputs": [],
   "source": [
    "offset = 0.3\n",
    "plt_params = {\n",
    "    'X_MIN': np.floor(train[:, 0].min() * 10) / 10 - offset,\n",
    "    'X_MAX': np.ceil(train[:, 0].max() * 10) / 10 + offset,\n",
    "    'Y_MIN': np.floor(train[:, 1].min() * 10) / 10 - offset,\n",
    "    'Y_MAX': np.ceil(train[:, 1].max() * 10) / 10 + offset, \n",
    "}"
   ]
  },
  {
   "cell_type": "code",
   "execution_count": null,
   "id": "8011e8d6-60d2-493c-9334-5244aa847f05",
   "metadata": {
    "tags": []
   },
   "outputs": [],
   "source": [
    "y_best = MODEL.sample(5000, params=params_best)\n",
    "y_final = MODEL.sample(5000, params=params_final)"
   ]
  },
  {
   "cell_type": "code",
   "execution_count": null,
   "id": "a85b60bf-e8f7-4ad9-b3b4-72fbf170419a",
   "metadata": {
    "tags": []
   },
   "outputs": [],
   "source": [
    "res = 423\n",
    "xx, yy = np.meshgrid(np.linspace(plt_params['X_MIN'], plt_params['X_MAX'], res), \n",
    "                     np.linspace(plt_params['Y_MIN'], plt_params['Y_MAX'], res))\n",
    "xy = np.hstack([e.reshape(-1, 1) for e in [xx, yy]])\n",
    "\n",
    "probs_best = (\n",
    "    vmap(MODEL.log_pdf_and_preimage, (0, None, None, None), 0)(xy, 20, params_best, False)\n",
    ")"
   ]
  },
  {
   "cell_type": "code",
   "execution_count": null,
   "id": "4a63242f-6165-460a-8fdc-713f34dda737",
   "metadata": {
    "tags": []
   },
   "outputs": [],
   "source": [
    "fig, ax = plt.subplots(1,1, figsize=(10,6))\n",
    "density_best = ax.imshow((probs_best).reshape((res, res)),\n",
    "           origin='lower', extent=(plt_params['X_MIN'], plt_params['X_MAX'], \n",
    "                                   plt_params['Y_MIN'], plt_params['Y_MAX']), aspect='auto')\n",
    "fig.colorbar(mappable=density_best)\n",
    "plt.tight_layout();\n",
    "plt.setp(ax, xlabel='$x_1$ component', ylabel='$x_2$ component')"
   ]
  },
  {
   "cell_type": "code",
   "execution_count": null,
   "id": "d5ad38ff-349b-4dca-8975-257c281f33e9",
   "metadata": {
    "tags": []
   },
   "outputs": [],
   "source": [
    "fig.savefig('discretization_logpdf.png', bbox_inches='tight')"
   ]
  },
  {
   "cell_type": "code",
   "execution_count": null,
   "id": "5ad5c703-9794-4dbc-b6cc-fef1dfec4ae5",
   "metadata": {},
   "outputs": [],
   "source": []
  },
  {
   "cell_type": "code",
   "execution_count": null,
   "id": "19cb9406-8a0a-4ff5-bf23-55cc00a95e5c",
   "metadata": {},
   "outputs": [],
   "source": [
    "cmap = colormaps['tab20']  #('hsv') #('nipy_spectral')\n",
    "max_colors = 20\n",
    "colors = [cmap(color_number / max_colors) for color_number in range(max_colors)]"
   ]
  },
  {
   "cell_type": "code",
   "execution_count": null,
   "id": "e78491ec-b7af-428d-acdf-6970f177cf3b",
   "metadata": {
    "tags": []
   },
   "outputs": [],
   "source": [
    "stepwise_sample = MODEL.sample_with_steps(1000, params=params_best)\n",
    "stepwise_sample_interm = MODEL.sample_with_steps(20, params=params_best, intermed_y=True)\n",
    "\n",
    "res = 30\n",
    "xx, yy = np.meshgrid(np.linspace(-3, 3, res), \n",
    "                     np.linspace(-3, 3, res))\n",
    "xy = np.hstack([e.reshape(-1, 1) for e in [xx, yy]])\n",
    "\n",
    "n_vf = len(MODEL.funcs)\n",
    "\n",
    "dxdy = [MODEL.dt0 * MODEL.funcs[i].apply(params_best[i], t=MODEL.t0 + (MODEL.t1 - MODEL.t0)/ n_vf * i, y=xy) \n",
    "        for i in range(n_vf)]"
   ]
  },
  {
   "cell_type": "code",
   "execution_count": null,
   "id": "bdeace0f-0637-4f31-8e92-3dfff7dfd1f2",
   "metadata": {
    "tags": []
   },
   "outputs": [],
   "source": [
    "fig3, ax3 = plt.subplots(1,3,figsize=(24,6))\n",
    "ax3[0].set_title(f'Base Distribution')\n",
    "ax3[0].scatter(*stepwise_sample_interm[0].T, c=colors)\n",
    "ax3[0].scatter(*stepwise_sample[0].T, s=0.2)\n",
    "ax3[1].scatter(*stepwise_sample[1].T, s=0.2)\n",
    "\n",
    "ax3[1].set_title(f'Transformed by VF {1}')\n",
    "for j_sample in range(20):\n",
    "    x,y = stepwise_sample_interm[1][j_sample].T\n",
    "    ax3[1].quiver(x[:-1], y[:-1], x[1:]-x[:-1], y[1:]-y[:-1], \n",
    "                        scale_units='xy',\n",
    "                        angles='xy', \n",
    "                        scale=1., \n",
    "                        color=colors[j_sample])\n",
    "\n",
    "#ax3[2].quiver(*xy.T,*dxdy[0].T)\n",
    "ax3[2].set_title(f' Vector Field')\n",
    "plt.tight_layout()\n",
    "plt.setp(ax3, xlim=(-2.5, 2.5), ylim=(-2.5,2.5));"
   ]
  },
  {
   "cell_type": "code",
   "execution_count": null,
   "id": "aa8659cf-95c4-43f3-9403-fa86464c0a36",
   "metadata": {},
   "outputs": [],
   "source": []
  },
  {
   "cell_type": "code",
   "execution_count": null,
   "id": "484d8c20-d64d-4d93-a760-3363b75856ad",
   "metadata": {},
   "outputs": [],
   "source": []
  },
  {
   "cell_type": "code",
   "execution_count": null,
   "id": "fb41c455-9b54-4a97-bb26-533ea6e75fa1",
   "metadata": {},
   "outputs": [],
   "source": []
  }
 ],
 "metadata": {
  "kernelspec": {
   "display_name": "Python 3 (ipykernel)",
   "language": "python",
   "name": "python3"
  },
  "language_info": {
   "codemirror_mode": {
    "name": "ipython",
    "version": 3
   },
   "file_extension": ".py",
   "mimetype": "text/x-python",
   "name": "python",
   "nbconvert_exporter": "python",
   "pygments_lexer": "ipython3",
   "version": "3.9.16"
  }
 },
 "nbformat": 4,
 "nbformat_minor": 5
}
